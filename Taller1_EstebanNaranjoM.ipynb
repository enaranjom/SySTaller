{
  "nbformat": 4,
  "nbformat_minor": 0,
  "metadata": {
    "kernelspec": {
      "display_name": "Python 3",
      "language": "python",
      "name": "python3"
    },
    "language_info": {
      "codemirror_mode": {
        "name": "ipython",
        "version": 3
      },
      "file_extension": ".py",
      "mimetype": "text/x-python",
      "name": "python",
      "nbconvert_exporter": "python",
      "pygments_lexer": "ipython3",
      "version": "3.7.4"
    },
    "colab": {
      "name": "Taller1_EstebanNaranjoM.ipynb",
      "provenance": [],
      "collapsed_sections": [
        "pZmxKw1CXGz9",
        "FPvWxhlMXG0r",
        "KKhnThBsXG05",
        "tILGSL42XG1I",
        "B_yW3N9uXG1a",
        "FDt3LkNkXG1e",
        "MJtpMPZ2XG17",
        "Ndk0KZzaXG2u",
        "Drf6Fd7PXG3M",
        "K3VC6E-xXG3g",
        "mvzXMzFUXG3q",
        "BVO0yd0rXG4D"
      ],
      "include_colab_link": true
    }
  },
  "cells": [
    {
      "cell_type": "markdown",
      "metadata": {
        "id": "view-in-github",
        "colab_type": "text"
      },
      "source": [
        "<a href=\"https://colab.research.google.com/github/enaranjom/SySTaller/blob/master/Taller1_EstebanNaranjoM.ipynb\" target=\"_parent\"><img src=\"https://colab.research.google.com/assets/colab-badge.svg\" alt=\"Open In Colab\"/></a>"
      ]
    },
    {
      "cell_type": "markdown",
      "metadata": {
        "id": "zQa-Gs65XGy6",
        "colab_type": "text"
      },
      "source": [
        "# TALLER 1: Esteban Naranjo Morales\n",
        "\n",
        "\n",
        "\n"
      ]
    },
    {
      "cell_type": "markdown",
      "metadata": {
        "id": "ttMIcGuBXGy8",
        "colab_type": "text"
      },
      "source": [
        "## 2.Conceptos básicos de señales\n",
        "\n",
        "- Evaluar la expresión \\begin{equation} \\int_{-\\infty }^{\\infty }t^{2}e^{-sen(t)}cos(2t) \\delta (2t-2\\pi) dt \\end{equation}  Nota: Consultar las propiedas de selectividad y escala en el tiempo de la función impulso unitario.\n"
      ]
    },
    {
      "cell_type": "markdown",
      "metadata": {
        "id": "4AUfNujLXGzC",
        "colab_type": "text"
      },
      "source": [
        "\\begin{equation}    \\int_{-\\infty }^{\\infty }t^{2}e^{-sen(t)}cos(2t) \\delta (2(t-\\pi)) dt \\end{equation}  \n"
      ]
    },
    {
      "cell_type": "markdown",
      "metadata": {
        "id": "2mvxpvrvXGzF",
        "colab_type": "text"
      },
      "source": [
        "\\begin{equation}     \\frac{1}{2} \\int_{-\\infty }^{\\infty }t^{2}e^{-sen(t)}cos(2t) \\delta (t-\\pi) dt \\end{equation}  "
      ]
    },
    {
      "cell_type": "markdown",
      "metadata": {
        "id": "-63Er5yKXGzH",
        "colab_type": "text"
      },
      "source": [
        "\\begin{equation}     \\left | \\frac{1}{2} t^{2}e^{-sen(t)}cos(2t) \\right |_{t=\\pi}\\end{equation} \n"
      ]
    },
    {
      "cell_type": "markdown",
      "metadata": {
        "id": "ci5SqGhnXGzI",
        "colab_type": "text"
      },
      "source": [
        "\\begin{equation}     \\frac{1}{2} \\pi^{2}e^{-sen(\\pi)}cos(2\\pi) =4.93 \\end{equation} "
      ]
    },
    {
      "cell_type": "markdown",
      "metadata": {
        "id": "43XZ2FTaXGzK",
        "colab_type": "text"
      },
      "source": [
        "\\begin{equation} \\end{equation}"
      ]
    },
    {
      "cell_type": "markdown",
      "metadata": {
        "id": "iaHXW_eQXGzL",
        "colab_type": "text"
      },
      "source": [
        "- Sea \\begin{equation}     x(t) = u(t-t_{o})-u(t-nt_{o})-k\\delta(t-mt_{o})\\end{equation}  Determine el valor de k para el cual \\begin{equation} \\int_{-\\infty }^{\\infty }x(t)dt=0 \\end{equation}  "
      ]
    },
    {
      "cell_type": "markdown",
      "metadata": {
        "id": "tRdhLqpZXGzN",
        "colab_type": "text"
      },
      "source": [
        "\\begin{equation} \\int_{-\\infty }^{\\infty }u(t-t_{o})-u(t-nt_{o})-k\\delta(t-mt_{o})dt=0 \\end{equation}  "
      ]
    },
    {
      "cell_type": "markdown",
      "metadata": {
        "id": "pNgUD97zXGzS",
        "colab_type": "text"
      },
      "source": [
        "\\begin{equation} \\int_{-\\infty }^{\\infty }u(t-t_{o})-u(t-nt_{o})dt - \\int_{-\\infty }^{\\infty }k\\delta(t-mt_{o})dt=0 \\end{equation}  "
      ]
    },
    {
      "cell_type": "markdown",
      "metadata": {
        "id": "gmBWYVX1XGzU",
        "colab_type": "text"
      },
      "source": [
        "\\begin{equation} \\int_{ t_{o}}^{nt_{o}}dt - \\int_{-\\infty }^{\\infty }k\\delta(t-mt_{o})dt=0 \\end{equation}  "
      ]
    },
    {
      "cell_type": "markdown",
      "metadata": {
        "id": "HcUop327XGzW",
        "colab_type": "text"
      },
      "source": [
        "\\begin{equation}  x |_{t_{o}}^{nt_{o}} - k =0 \\end{equation}  "
      ]
    },
    {
      "cell_type": "markdown",
      "metadata": {
        "id": "yco9TyX0XGzY",
        "colab_type": "text"
      },
      "source": [
        "\\begin{equation} k=  nt_{o}-t_{o}    ~~~~~~~~  k=t_{o}(n-1)\\end{equation}"
      ]
    },
    {
      "cell_type": "markdown",
      "metadata": {
        "id": "VZftZvcnXGzZ",
        "colab_type": "text"
      },
      "source": [
        "\\begin{equation} \\end{equation}"
      ]
    },
    {
      "cell_type": "markdown",
      "metadata": {
        "id": "MAAE0XOEXGzb",
        "colab_type": "text"
      },
      "source": [
        "- Consulte en qué consisten las señales cuasiperiódicas. Luego,demuestre la periodicidad o no de las siguientes señales:"
      ]
    },
    {
      "cell_type": "markdown",
      "metadata": {
        "id": "FkFe0TX7XGzd",
        "colab_type": "text"
      },
      "source": [
        " #### 1-     \n",
        "  \\begin{equation} x(t)=3cos(\\omega t) \\end{equation} "
      ]
    },
    {
      "cell_type": "markdown",
      "metadata": {
        "id": "h8s0KZy6XGzg",
        "colab_type": "text"
      },
      "source": [
        "\\begin{equation} x(t \\pm T)=3cos(\\omega (t \\pm T)) \\end{equation}  \\begin{equation} \\omega =\\frac{ 2\\pi}{T} \\end{equation} \n"
      ]
    },
    {
      "cell_type": "markdown",
      "metadata": {
        "id": "eYiOwplUXGzj",
        "colab_type": "text"
      },
      "source": [
        "  \\begin{equation} x(t \\pm T)=3cos(\\omega t\\pm 2\\pi ) \\end{equation} \n",
        "\n",
        "    "
      ]
    },
    {
      "cell_type": "markdown",
      "metadata": {
        "id": "sFrTCB_2XGzl",
        "colab_type": "text"
      },
      "source": [
        "  \\begin{equation} x(t \\pm T)=3[cos(\\omega t  )cos( 2\\pi )\\mp sen(\\omega t)sen( 2\\pi )] \\end{equation} \n"
      ]
    },
    {
      "cell_type": "markdown",
      "metadata": {
        "id": "XKMf6CfKXGzn",
        "colab_type": "text"
      },
      "source": [
        "  \\begin{equation} x(t\\pm T)=3cos(\\omega t) \\end{equation} \n",
        " "
      ]
    },
    {
      "cell_type": "markdown",
      "metadata": {
        "id": "o1T6ngTiXGzo",
        "colab_type": "text"
      },
      "source": [
        " \\begin{equation} x(t)=x(t\\pm T) \\end{equation} "
      ]
    },
    {
      "cell_type": "markdown",
      "metadata": {
        "id": "sHWCOPAqXGzq",
        "colab_type": "text"
      },
      "source": [
        "La señal es periodica "
      ]
    },
    {
      "cell_type": "code",
      "metadata": {
        "id": "KRgMCPhgXGzs",
        "colab_type": "code",
        "outputId": "8a4c4a8c-1108-4790-a2b8-c7f0f9b75e23",
        "colab": {}
      },
      "source": [
        "%matplotlib inline \n",
        "import sympy as sym\n",
        "sym.init_printing() \n",
        "t, omega = sym.symbols('t  omega', real=True)\n",
        "x1= 3*sym.cos(3*t)\n",
        "sym.plot(x1)\n",
        "\n",
        "x1= 3*sym.cos(3*(t+2*sym.pi))\n",
        "sym.plot(x1)"
      ],
      "execution_count": 0,
      "outputs": [
        {
          "output_type": "display_data",
          "data": {
            "image/png": "[encoded data removed]",
            "text/plain": [
              "<Figure size 432x288 with 1 Axes>"
            ]
          },
          "metadata": {
            "tags": [],
            "needs_background": "light"
          }
        },
        {
          "output_type": "display_data",
          "data": {
            "image/png": "[encoded data removed]",
            "text/plain": [
              "<Figure size 432x288 with 1 Axes>"
            ]
          },
          "metadata": {
            "tags": [],
            "needs_background": "light"
          }
        },
        {
          "output_type": "execute_result",
          "data": {
            "text/plain": [
              "<sympy.plotting.plot.Plot at 0x26231d23518>"
            ]
          },
          "metadata": {
            "tags": []
          },
          "execution_count": 21
        }
      ]
    },
    {
      "cell_type": "markdown",
      "metadata": {
        "id": "pZmxKw1CXGz9",
        "colab_type": "text"
      },
      "source": [
        "   #### 2-   \n",
        "   \\begin{equation} x(t)=2sen(\\omega t + \\pi ) \\end{equation} \n",
        "   "
      ]
    },
    {
      "cell_type": "markdown",
      "metadata": {
        "id": "ouyNpaclXG0C",
        "colab_type": "text"
      },
      "source": [
        "\\begin{equation} x(t \\pm T)=2sen(\\omega(t \\pm T) +\\pi ) \\end{equation} "
      ]
    },
    {
      "cell_type": "markdown",
      "metadata": {
        "id": "csyNfmpUXG0F",
        "colab_type": "text"
      },
      "source": [
        " \\begin{equation} \\omega =\\frac{ 2\\pi}{T} \\end{equation} "
      ]
    },
    {
      "cell_type": "markdown",
      "metadata": {
        "id": "pu8TKoM3XG0H",
        "colab_type": "text"
      },
      "source": [
        " \\begin{equation} x(t \\pm T)=2sen(\\omega t \\pm 2\\pi +\\pi ) \\end{equation} \n",
        "  "
      ]
    },
    {
      "cell_type": "markdown",
      "metadata": {
        "id": "apfVY9XFXG0J",
        "colab_type": "text"
      },
      "source": [
        " \\begin{equation} x(t \\pm T)=2[sen(\\omega t +\\pi )cos( 2\\pi ) \\pm cos(\\omega +\\pi)sen( 2\\pi )] \\end{equation} \n",
        "  "
      ]
    },
    {
      "cell_type": "markdown",
      "metadata": {
        "id": "kijYm5U7XG0L",
        "colab_type": "text"
      },
      "source": [
        " \\begin{equation} x(t \\pm T)=2sen(\\omega t + \\pi ) \\end{equation} \n",
        " "
      ]
    },
    {
      "cell_type": "markdown",
      "metadata": {
        "id": "YIvkoUtAXG0N",
        "colab_type": "text"
      },
      "source": [
        "  \\begin{equation} x(t)=x(t\\pm T) \\end{equation} "
      ]
    },
    {
      "cell_type": "markdown",
      "metadata": {
        "id": "tyvtPtYzXG0Q",
        "colab_type": "text"
      },
      "source": [
        "La señal es periodica "
      ]
    },
    {
      "cell_type": "code",
      "metadata": {
        "id": "UFOMFRgfXG0W",
        "colab_type": "code",
        "outputId": "bf067e3a-90c7-4d07-93bf-51e411959273",
        "colab": {}
      },
      "source": [
        "x2= 2*sym.sin(3*t +sym.pi)\n",
        "sym.plot(x2)\n"
      ],
      "execution_count": 0,
      "outputs": [
        {
          "output_type": "display_data",
          "data": {
            "image/png": "[encoded data removed]",
            "text/plain": [
              "<Figure size 432x288 with 1 Axes>"
            ]
          },
          "metadata": {
            "tags": [],
            "needs_background": "light"
          }
        },
        {
          "output_type": "execute_result",
          "data": {
            "text/plain": [
              "<sympy.plotting.plot.Plot at 0x1fb81a19cf8>"
            ]
          },
          "metadata": {
            "tags": []
          },
          "execution_count": 32
        }
      ]
    },
    {
      "cell_type": "markdown",
      "metadata": {
        "id": "FPvWxhlMXG0r",
        "colab_type": "text"
      },
      "source": [
        "  #### 3-   \n",
        "  \\begin{equation} x(t)=3sen(\\sqrt{3}t)+3sen(5t)-2cos(\\frac{t}{\\sqrt{3}} ) \\end{equation} \n",
        "  "
      ]
    },
    {
      "cell_type": "markdown",
      "metadata": {
        "id": "Olwy6JK6XG0s",
        "colab_type": "text"
      },
      "source": [
        "La señal es no periodica ya que la relacion entre sus wo no son números racionales   "
      ]
    },
    {
      "cell_type": "code",
      "metadata": {
        "id": "mguT7ifOXG0u",
        "colab_type": "code",
        "outputId": "43d7fa8f-8529-45c1-9d9f-4ae74868b21a",
        "colab": {}
      },
      "source": [
        "x3=3*sym.sin(sym.sqrt(3)*t)+3*sym.sin(5*t)-2*sym.cos(t/sym.sqrt(3))\n",
        "sym.plot(x3)\n"
      ],
      "execution_count": 0,
      "outputs": [
        {
          "output_type": "display_data",
          "data": {
            "image/png": "[encoded data removed]",
            "text/plain": [
              "<Figure size 432x288 with 1 Axes>"
            ]
          },
          "metadata": {
            "tags": [],
            "needs_background": "light"
          }
        },
        {
          "output_type": "execute_result",
          "data": {
            "text/plain": [
              "<sympy.plotting.plot.Plot at 0x1bf296ac278>"
            ]
          },
          "metadata": {
            "tags": []
          },
          "execution_count": 5
        }
      ]
    },
    {
      "cell_type": "markdown",
      "metadata": {
        "id": "KKhnThBsXG05",
        "colab_type": "text"
      },
      "source": [
        "  #### 4-   \n",
        "  \\begin{equation} x(t)=3sen(4t)-3cos(50t)+2cos(10t) \\end{equation}"
      ]
    },
    {
      "cell_type": "markdown",
      "metadata": {
        "id": "34JpelN2XG07",
        "colab_type": "text"
      },
      "source": [
        "La señal es  periodica ya que la relacion entre sus wo  son números racionales   "
      ]
    },
    {
      "cell_type": "code",
      "metadata": {
        "id": "bdjH_DyWXG09",
        "colab_type": "code",
        "outputId": "1a3e16d9-450d-4291-f162-f2f47a19124d",
        "colab": {}
      },
      "source": [
        "x4=3*sym.sin(4*t)-3*sym.sin(50*t)+2*sym.cos(10*t)\n",
        "sym.plot(x4, (t, -1*sym.pi, 1*sym.pi));\n"
      ],
      "execution_count": 0,
      "outputs": [
        {
          "output_type": "display_data",
          "data": {
            "image/png": "[encoded data removed]",
            "text/plain": [
              "<Figure size 432x288 with 1 Axes>"
            ]
          },
          "metadata": {
            "tags": [],
            "needs_background": "light"
          }
        }
      ]
    },
    {
      "cell_type": "markdown",
      "metadata": {
        "id": "tILGSL42XG1I",
        "colab_type": "text"
      },
      "source": [
        "  #### 5-   \n",
        "   \\begin{equation} x(t)=e^{j\\omega t} \\end{equation} "
      ]
    },
    {
      "cell_type": "markdown",
      "metadata": {
        "id": "W6d56piBXG1K",
        "colab_type": "text"
      },
      "source": [
        "\\begin{equation}  x(t) =cos(\\omega t) + jsen(\\omega t)\\end{equation}  "
      ]
    },
    {
      "cell_type": "markdown",
      "metadata": {
        "id": "jME2zABGXG1L",
        "colab_type": "text"
      },
      "source": [
        "\\begin{equation} x(t \\pm T)=cos(\\omega (t \\pm T)) + j sen(\\omega (t \\pm T))\\end{equation}  "
      ]
    },
    {
      "cell_type": "markdown",
      "metadata": {
        "id": "wf0ltNCaXG1M",
        "colab_type": "text"
      },
      "source": [
        "\\begin{equation} x(t \\pm T)=cos(\\omega t \\pm 2 \\pi)) + j sen(\\omega t \\pm 2\\pi)\\end{equation}  "
      ]
    },
    {
      "cell_type": "markdown",
      "metadata": {
        "id": "d5uP9_BbXG1N",
        "colab_type": "text"
      },
      "source": [
        "\\begin{equation}  x(t\\pm T) =cos(\\omega t) + jsen(\\omega t)\\end{equation}  "
      ]
    },
    {
      "cell_type": "markdown",
      "metadata": {
        "id": "dg85URCxXG1O",
        "colab_type": "text"
      },
      "source": [
        " \\begin{equation} x(t)=x(t\\pm T) \\end{equation} "
      ]
    },
    {
      "cell_type": "markdown",
      "metadata": {
        "id": "Lf78CMI9XG1P",
        "colab_type": "text"
      },
      "source": [
        "La señal es periodica "
      ]
    },
    {
      "cell_type": "code",
      "metadata": {
        "id": "C9ngXEyWXG1Q",
        "colab_type": "code",
        "outputId": "aedf5d85-cbb2-4226-deb3-f85252862005",
        "colab": {}
      },
      "source": [
        "s = 1j*omega\n",
        "x = sym.exp(s*t)\n",
        "x\n",
        "y = x.subs({omega: 3})\n",
        "print(r'x(t)=',y) \n",
        "\n",
        "sym.plot(sym.re(y), (t, 0, 2*sym.pi), ylabel=r'Re{$e^{st}$}');\n",
        "sym.plot(sym.im(y), (t, 0, 2*sym.pi), ylabel=r'Im{$e^{st}$}');"
      ],
      "execution_count": 0,
      "outputs": [
        {
          "output_type": "stream",
          "text": [
            "x(t)= exp(3.0*I*t)\n"
          ],
          "name": "stdout"
        },
        {
          "output_type": "display_data",
          "data": {
            "image/png": "[encoded data removed]",
            "text/plain": [
              "<Figure size 432x288 with 1 Axes>"
            ]
          },
          "metadata": {
            "tags": [],
            "needs_background": "light"
          }
        },
        {
          "output_type": "display_data",
          "data": {
            "image/png": "[encoded data removed]",
            "text/plain": [
              "<Figure size 432x288 with 1 Axes>"
            ]
          },
          "metadata": {
            "tags": [],
            "needs_background": "light"
          }
        }
      ]
    },
    {
      "cell_type": "markdown",
      "metadata": {
        "id": "kRD0K2lxXG1Z",
        "colab_type": "text"
      },
      "source": [
        "\\begin{equation} \\end{equation}"
      ]
    },
    {
      "cell_type": "markdown",
      "metadata": {
        "id": "B_yW3N9uXG1a",
        "colab_type": "text"
      },
      "source": [
        "## 3.Señales de energía y potencia"
      ]
    },
    {
      "cell_type": "markdown",
      "metadata": {
        "id": "_iYyNPbyXG1c",
        "colab_type": "text"
      },
      "source": [
        "Clasifique según su tipo (energía o potencia)"
      ]
    },
    {
      "cell_type": "markdown",
      "metadata": {
        "id": "FDt3LkNkXG1e",
        "colab_type": "text"
      },
      "source": [
        "\n",
        "#### 1.\n",
        "\\begin{equation} x(t)=-3t+1~;\\ \\forall t\\in [0,5]. \\end{equation} "
      ]
    },
    {
      "cell_type": "markdown",
      "metadata": {
        "id": "kEv90oqPXG1f",
        "colab_type": "text"
      },
      "source": [
        " \\begin{equation}\\varepsilon _{x}=\\int_{-T/2}^{T/2}|x(t)|^{2}dt\\end{equation} "
      ]
    },
    {
      "cell_type": "markdown",
      "metadata": {
        "id": "fhlwdpRzXG1h",
        "colab_type": "text"
      },
      "source": [
        "\\begin{equation} =\\int_{0}^{5}|-3t+1|^{2}dt \\end{equation}"
      ]
    },
    {
      "cell_type": "markdown",
      "metadata": {
        "id": "ADcdn_8BXG1l",
        "colab_type": "text"
      },
      "source": [
        "\\begin{equation}=\\int_{0}^{5}(9t^{2}-6t+1)dt \\end{equation}"
      ]
    },
    {
      "cell_type": "markdown",
      "metadata": {
        "id": "hAE4rULOXG1o",
        "colab_type": "text"
      },
      "source": [
        "\\begin{equation} =\\int_{0}^{5}9t^{2}dt-\\int_{0}^{5}6tdt+\\int_{0}^{5}dt  \\end{equation}"
      ]
    },
    {
      "cell_type": "markdown",
      "metadata": {
        "id": "boY4ZhYBXG1p",
        "colab_type": "text"
      },
      "source": [
        "\\begin{equation}=\\left | 3t^{3}+3t^{2}+t \\right |_{0}^{5}=305 \\end{equation}"
      ]
    },
    {
      "cell_type": "markdown",
      "metadata": {
        "id": "lhVEL03gXG1r",
        "colab_type": "text"
      },
      "source": [
        "\\begin{equation} \\varepsilon _{x}\\lim_{T\\rightarrow \\infty }=305 \\end{equation} "
      ]
    },
    {
      "cell_type": "markdown",
      "metadata": {
        "id": "_0VOiCFaXG1s",
        "colab_type": "text"
      },
      "source": [
        "La señal es de energia ya que su limite tiende a un numero natural.(Una señal acotada siempre es de energia)"
      ]
    },
    {
      "cell_type": "code",
      "metadata": {
        "id": "fuWd-3YIXG1u",
        "colab_type": "code",
        "outputId": "356764d0-eaf5-42ab-c77a-2275e8d2b494",
        "colab": {}
      },
      "source": [
        "x21=-3*t+1\n",
        "sym.plot(x21, (t, 0, 5));"
      ],
      "execution_count": 0,
      "outputs": [
        {
          "output_type": "display_data",
          "data": {
            "image/png": "[encoded data removed]",
            "text/plain": [
              "<Figure size 432x288 with 1 Axes>"
            ]
          },
          "metadata": {
            "tags": [],
            "needs_background": "light"
          }
        }
      ]
    },
    {
      "cell_type": "markdown",
      "metadata": {
        "id": "MJtpMPZ2XG17",
        "colab_type": "text"
      },
      "source": [
        "\n",
        "#### 2.\n",
        "\\begin{equation}x(t)=Acos(\\omega t)+Bsen(\\omega t)~;\\ A,B,\\omega \\in \\mathbb{R}^{+}. \\end{equation} "
      ]
    },
    {
      "cell_type": "markdown",
      "metadata": {
        "id": "NI9_ofs2XG18",
        "colab_type": "text"
      },
      "source": [
        "\\begin{equation}\\varepsilon _{x}=\\int_{-T/2}^{T/2}|x(t)|^{2}dt\\end{equation}"
      ]
    },
    {
      "cell_type": "markdown",
      "metadata": {
        "id": "QNGSCZDqXG1-",
        "colab_type": "text"
      },
      "source": [
        "\\begin{equation}       = \\int_{-T/2}^{T/2}|Acos(\\omega t)+Bsen(\\omega t)|^{2}dt      \\end{equation}"
      ]
    },
    {
      "cell_type": "markdown",
      "metadata": {
        "id": "sYJ8CAMXXG1_",
        "colab_type": "text"
      },
      "source": [
        "\\begin{equation}             =\\int_{-T/2}^{T/2}A^{2}cos^{2}(\\omega t)+2Acos(\\omega t)Bsen(\\omega t)+B^{2}sen^{2}(\\omega t)~dt     \\end{equation}"
      ]
    },
    {
      "cell_type": "markdown",
      "metadata": {
        "id": "IQWfy3KqXG2A",
        "colab_type": "text"
      },
      "source": [
        "\\begin{equation}        =    A^{2}\\int_{-T/2}^{T/2}cos^{2}(\\omega t)~dt+2AB\\int_{-T/2}^{T/2}cos(\\omega t)sen(\\omega t)~dt+B^{2}\\int_{-T/2}^{T/2}sen^{2}(\\omega t)~dt \\end{equation}"
      ]
    },
    {
      "cell_type": "markdown",
      "metadata": {
        "id": "98L9hQzzXG2B",
        "colab_type": "text"
      },
      "source": [
        "\\begin{equation}    = A^{2}\\int_{-T/2}^{T/2}(\\frac{1}{2}+\\frac{1}{2}cos(2\\omega t))~dt+\n",
        "                     2AB\\int_{-T/2}^{T/2}cos(\\omega t)sen(\\omega t)~dt+\n",
        "                     A^{2}\\int_{-T/2}^{T/2}(\\frac{1}{2}-\\frac{1}{2}cos(2\\omega t))~dt\n",
        "                     \\end{equation}"
      ]
    },
    {
      "cell_type": "markdown",
      "metadata": {
        "id": "WJImBGQkXG2D",
        "colab_type": "text"
      },
      "source": [
        "\\begin{equation}    = A^{2}\\frac{1}{2}\\int_{-T/2}^{T/2}(1+cos(2\\omega t))~dt+\n",
        "                     2AB\\int_{-T/2}^{T/2}cos(\\omega t)sen(\\omega t)~dt+\n",
        "                     A^{2}\\frac{1}{2}\\int_{-T/2}^{T/2}(1-cos(2\\omega t))~dt\n",
        "                     \\end{equation}"
      ]
    },
    {
      "cell_type": "markdown",
      "metadata": {
        "id": "r5ddZ4LsXG2O",
        "colab_type": "text"
      },
      "source": [
        "\\begin{equation} u=cos(\\omega t)~~~~ du=-sen(\\omega t)~\\omega ~dt \\end{equation} "
      ]
    },
    {
      "cell_type": "markdown",
      "metadata": {
        "id": "KC9rUOLCXG2Q",
        "colab_type": "text"
      },
      "source": [
        "\\begin{equation} \n",
        "=\\left |\\frac{A^{2}}{2}(t+\\frac{sen(2\\omega t)}{2\\omega })-\\frac{AB}{2\\omega }(1+cos(2\\omega t))+\\frac{B^{2}}{2}(t-\\frac{sen(2\\omega t)}{2\\omega })  \\right |_{t=-T/2}^{t=T/2}\n",
        "                     \\end{equation} "
      ]
    },
    {
      "cell_type": "markdown",
      "metadata": {
        "id": "-eLdzxlVXG2R",
        "colab_type": "text"
      },
      "source": [
        "\\begin{equation} \n",
        "=\\left |\\frac{sen(2\\omega t)}{4\\omega }(A^{2}-B^{2})+\\frac{t}{2}(A^{2}+B^{2})-\\frac{AB}{2\\omega }(1+cos(2\\omega t))  \\right |_{-T/2}^{T/2}\n",
        "                     \\end{equation} "
      ]
    },
    {
      "cell_type": "markdown",
      "metadata": {
        "id": "VMDa0RTXXG2S",
        "colab_type": "text"
      },
      "source": [
        "\\begin{equation}  =\\frac{sen(2\\omega T/2)}{4\\omega }(A^{2}-B^{2})+\\frac{T/2}{2}(A^{2}+B^{2})-\\frac{AB}{2\\omega }(1+cos(2\\omega T/2))-[\\frac{sen(2\\omega (-T/2))}{4\\omega }(A^{2}-B^{2})+\\frac{-T/2}{2}(A^{2}+B^{2})-\\frac{AB}{2\\omega }(1+cos(2\\omega (-T/2)))]   \\end{equation} "
      ]
    },
    {
      "cell_type": "markdown",
      "metadata": {
        "id": "qPgz7MtdXG2U",
        "colab_type": "text"
      },
      "source": [
        "\\begin{equation} \\omega =\\frac{2\\pi}{T}  \\end{equation} "
      ]
    },
    {
      "cell_type": "markdown",
      "metadata": {
        "id": "E-Se91b-XG2W",
        "colab_type": "text"
      },
      "source": [
        "\\begin{equation}\\varepsilon _{x}=\\frac{T}{2}(A^{2}+B^{2})\\end{equation} "
      ]
    },
    {
      "cell_type": "markdown",
      "metadata": {
        "id": "x0JxFlhyXG2a",
        "colab_type": "text"
      },
      "source": [
        "\\begin{equation} \\varepsilon _{x}\\lim_{T\\rightarrow \\infty }=\\infty \\end{equation} "
      ]
    },
    {
      "cell_type": "markdown",
      "metadata": {
        "id": "3z7lF6CXXG2c",
        "colab_type": "text"
      },
      "source": [
        "\\begin{equation} P=\\frac{1}{T} \\varepsilon _{x}\\lim_{T\\rightarrow \\infty }=\\frac{1}{2}(A^{2}+B^{2}) \\end{equation} "
      ]
    },
    {
      "cell_type": "markdown",
      "metadata": {
        "id": "1bvceyqVXG2e",
        "colab_type": "text"
      },
      "source": [
        "La señal es de Potencia"
      ]
    },
    {
      "cell_type": "code",
      "metadata": {
        "id": "5Plt4C6fXG2g",
        "colab_type": "code",
        "outputId": "e5b0a607-fb99-4e5a-c103-6c373cf9e547",
        "colab": {}
      },
      "source": [
        "x=2*sym.cos(5*t)+3*sym.sin(5*t)\n",
        "sym.plot(y, (t, 0,1));"
      ],
      "execution_count": 0,
      "outputs": [
        {
          "output_type": "display_data",
          "data": {
            "image/png": "[encoded data removed]",
            "text/plain": [
              "<Figure size 432x288 with 1 Axes>"
            ]
          },
          "metadata": {
            "tags": [],
            "needs_background": "light"
          }
        }
      ]
    },
    {
      "cell_type": "markdown",
      "metadata": {
        "id": "Ndk0KZzaXG2u",
        "colab_type": "text"
      },
      "source": [
        "\n",
        "#### 3.\n",
        "\\begin{equation}x(t)=ate^{-tk}(u(t)-u(t-t_{o}));\\ a,k\\in\\mathbb{R};t_{o}>0. \\end{equation} "
      ]
    },
    {
      "cell_type": "markdown",
      "metadata": {
        "id": "71hWw47eXG2v",
        "colab_type": "text"
      },
      "source": [
        "\\begin{equation}\\varepsilon _{x}=\\int_{-T/2}^{T/2}|x(t)|^{2}dt\\end{equation}"
      ]
    },
    {
      "cell_type": "markdown",
      "metadata": {
        "id": "xRFDuThkXG2w",
        "colab_type": "text"
      },
      "source": [
        "\\begin{equation}\\varepsilon _{x}=\\int_{-T/2}^{T/2}|ate^{-tk}(u(t)-u(t-t_{o}))|^{2}dt\\end{equation}"
      ]
    },
    {
      "cell_type": "markdown",
      "metadata": {
        "id": "_kt6l_ClXG2x",
        "colab_type": "text"
      },
      "source": [
        "\\begin{equation} \\varepsilon _{x}=\\int_{0}^{t_{o}}(ate^{-tk})^{2}dt \\end{equation}"
      ]
    },
    {
      "cell_type": "markdown",
      "metadata": {
        "id": "Nn8kaLJxXG2z",
        "colab_type": "text"
      },
      "source": [
        "\\begin{equation} =a^{2}\\int_{0}^{t_{o}}t^{2}e^{-tk2}dt \\end{equation}"
      ]
    },
    {
      "cell_type": "markdown",
      "metadata": {
        "id": "m28H61-mXG21",
        "colab_type": "text"
      },
      "source": [
        "\\begin{equation}u=t^{2} ~~~ du=2t~dt ~~~ dv=e^{-2tk} ~~~ v=\\frac{-e^{-2tk}}{2k}\\end{equation}"
      ]
    },
    {
      "cell_type": "markdown",
      "metadata": {
        "id": "q7R00ZZpXG22",
        "colab_type": "text"
      },
      "source": [
        "\\begin{equation}       =\\frac{-a^{2}}{2k}\\left ( e^{-2tk}t^{2}-2\\int_{0}^{t_{o}}te^{-tk2}dt \\right )            \\end{equation}"
      ]
    },
    {
      "cell_type": "markdown",
      "metadata": {
        "id": "ttzClibRXG24",
        "colab_type": "text"
      },
      "source": [
        "\\begin{equation}u=t ~~~ du=dt ~~~ dv=e^{-2tk} ~~~ v=\\frac{-e^{-2tk}}{2k}\\end{equation}"
      ]
    },
    {
      "cell_type": "markdown",
      "metadata": {
        "id": "VaiLLZbFXG26",
        "colab_type": "text"
      },
      "source": [
        "\\begin{equation}             =\\frac{-a^{2}}{2k}\\left ( e^{-2tk}t^{2}+\\frac{a^{2}}{k}\\left ( e^{-2tk}t-\\int_{0}^{t_{o}}e^{-tk2}dt \\right )  \\right )                     \\end{equation}"
      ]
    },
    {
      "cell_type": "markdown",
      "metadata": {
        "id": "puKxXA5-XG28",
        "colab_type": "text"
      },
      "source": [
        "\\begin{equation}                  \\left |   =\\frac{-a^{2}}{2k}\\left ( e^{-2tk}t^{2}+\\frac{a^{2}}{k}\\left ( e^{-2tk}t+\\frac{e^{-2tk}}{2k} \\right )  \\right )   \\right |_{0}^{t_{o}}             \\end{equation}"
      ]
    },
    {
      "cell_type": "markdown",
      "metadata": {
        "id": "WXVedy-FXG2-",
        "colab_type": "text"
      },
      "source": [
        "\\begin{equation}  \\left |   =\\frac{a^{2}}{4k^{3}}\\left (e^{-2tk}(-2k^{2}t^{2}-2kt-1)\\right )   \\right |_{0}^{t_{o}}                             \\end{equation}"
      ]
    },
    {
      "cell_type": "markdown",
      "metadata": {
        "id": "BAMAphfFXG2_",
        "colab_type": "text"
      },
      "source": [
        " \\begin{equation}  =\\frac{a^{2}}{4k^{3}}\\left (e^{-2t_{o}k}(-2kt_{o}(kt_{o}+1)-1)+1\\right )   \\end{equation}"
      ]
    },
    {
      "cell_type": "markdown",
      "metadata": {
        "id": "ITFGqNh0XG3B",
        "colab_type": "text"
      },
      "source": [
        "\\begin{equation} \\varepsilon _{x}\\lim_{T\\rightarrow \\infty }=\\frac{a^{2}}{4k^{3}}\\left (e^{-2t_{o}k}(-2kt_{o}(kt_{o}+1)-1)+1\\right )\\end{equation} "
      ]
    },
    {
      "cell_type": "markdown",
      "metadata": {
        "id": "-SNhJ-JbXG3D",
        "colab_type": "text"
      },
      "source": [
        "La señal es de energia "
      ]
    },
    {
      "cell_type": "markdown",
      "metadata": {
        "id": "liVOEYYLXG3G",
        "colab_type": "text"
      },
      "source": [
        "\\begin{equation} \\end{equation}"
      ]
    },
    {
      "cell_type": "markdown",
      "metadata": {
        "id": "Drf6Fd7PXG3M",
        "colab_type": "text"
      },
      "source": [
        "\n",
        "#### 4.\n",
        "\\begin{equation} x[n]=nu[n];\\ n \\in\\{0,\\pm 1,\\pm 2,...,\\pm N\\} \\end{equation} "
      ]
    },
    {
      "cell_type": "markdown",
      "metadata": {
        "id": "cXFLOc3-XG3R",
        "colab_type": "text"
      },
      "source": [
        "\\begin{equation}\\varepsilon _{x}=\\sum_{n=-N/2}^{N/2}|x(t)|^{2} \\end{equation}"
      ]
    },
    {
      "cell_type": "markdown",
      "metadata": {
        "id": "2F9a0ufTXG3S",
        "colab_type": "text"
      },
      "source": [
        "\\begin{equation}=\\sum_{n=-N/2}^{N/2}|nu[n]|^{2} \\end{equation}"
      ]
    },
    {
      "cell_type": "markdown",
      "metadata": {
        "id": "utK0llOPXG3T",
        "colab_type": "text"
      },
      "source": [
        "\\begin{equation}=\\sum_{n=0}^{N/2}|n|^{2} \\end{equation}"
      ]
    },
    {
      "cell_type": "markdown",
      "metadata": {
        "id": "gnNqzTu0XG3V",
        "colab_type": "text"
      },
      "source": [
        "\\begin{equation}=\\sum_{n=-N/2}^{N/2}|nu[n]|^{2} \\end{equation}"
      ]
    },
    {
      "cell_type": "markdown",
      "metadata": {
        "id": "C-V8UABcXG3W",
        "colab_type": "text"
      },
      "source": [
        "\\begin{equation} =\\left |\\frac{n(n+1)(2n+1)}{6}  \\right |^{N/2} \\end{equation}"
      ]
    },
    {
      "cell_type": "markdown",
      "metadata": {
        "id": "7GuBWaFQXG3X",
        "colab_type": "text"
      },
      "source": [
        "\\begin{equation} = \\frac{\\frac{N}{2}(\\frac{N}{2}+1)(N+1)}{6}=\\frac{N(N+2)(2N+1)}{48}  \\end{equation}"
      ]
    },
    {
      "cell_type": "markdown",
      "metadata": {
        "id": "OvsHKfaKXG3Y",
        "colab_type": "text"
      },
      "source": [
        "\\begin{equation} \\varepsilon _{x}\\lim_{T\\rightarrow \\infty }=\\infty \\end{equation} "
      ]
    },
    {
      "cell_type": "markdown",
      "metadata": {
        "id": "48Hq8EKzXG3a",
        "colab_type": "text"
      },
      "source": [
        "\\begin{equation} P=\\frac{1}{N+1} \\varepsilon _{x}=\\frac{N(N+2)(2N+1)}{48(N+1)} \\end{equation} "
      ]
    },
    {
      "cell_type": "markdown",
      "metadata": {
        "id": "VnRrDVdwXG3c",
        "colab_type": "text"
      },
      "source": [
        "\\begin{equation} P \\lim_{T\\rightarrow \\infty }=\\frac{N^{3}+6N^{2}+2N}{48+48N}=\\frac{3N^{2}+12N+2}{48}=\\infty\\end{equation} "
      ]
    },
    {
      "cell_type": "markdown",
      "metadata": {
        "id": "iiKxBT7QXG3d",
        "colab_type": "text"
      },
      "source": [
        "La señales no es de potencia ni energia."
      ]
    },
    {
      "cell_type": "markdown",
      "metadata": {
        "id": "LIfI5_2LXG3e",
        "colab_type": "text"
      },
      "source": [
        "\\begin{equation} \\end{equation}"
      ]
    },
    {
      "cell_type": "markdown",
      "metadata": {
        "id": "K3VC6E-xXG3g",
        "colab_type": "text"
      },
      "source": [
        "\n",
        "#### 5.\n",
        "\\begin{equation}x[n]=cos[n\\pi]+sen[2n\\pi/3]; \\ n \\in\\{0,1,...,N\\};\\ N\\in \\mathbb{N}.\\end{equation}"
      ]
    },
    {
      "cell_type": "markdown",
      "metadata": {
        "id": "UDnrIl6pXG3h",
        "colab_type": "text"
      },
      "source": [
        "\\begin{equation}\\varepsilon _{x}=\\sum_{n=-N/2}^{N/2}|x(t)|^{2} \\end{equation}"
      ]
    },
    {
      "cell_type": "markdown",
      "metadata": {
        "id": "5wQv5BvXXG3i",
        "colab_type": "text"
      },
      "source": [
        "\\begin{equation}\\varepsilon _{x}=\\sum_{n=-N/2}^{N/2}|cos[n\\pi]+sen[2n\\pi/3]|^{2} \\end{equation}"
      ]
    },
    {
      "cell_type": "markdown",
      "metadata": {
        "id": "0SMSd25cXG3j",
        "colab_type": "text"
      },
      "source": [
        "\\begin{equation} =\\sum_{n=-N/2}^{N/2}|(-1)^{n}+sen[2n\\pi/3]|^{2} \\end{equation}"
      ]
    },
    {
      "cell_type": "markdown",
      "metadata": {
        "id": "zkab_RCyXG3l",
        "colab_type": "text"
      },
      "source": [
        "\\begin{equation} =\\sum_{n=-N/2}^{N/2}|(-1)^{2n}+2(-1)^{n}sen[2n\\pi/3]+sen^{2}[2n\\pi/3]| \\end{equation}"
      ]
    },
    {
      "cell_type": "markdown",
      "metadata": {
        "id": "ldDD_UAJXG3n",
        "colab_type": "text"
      },
      "source": [
        "\\begin{equation} =\\sum_{n=-N/2}^{N/2}|1 +2(-1)^{n}sen[2n\\pi/3]+\\frac{1}{2}-\\frac{1}{2}cos[4n\\pi/3]| \\end{equation}"
      ]
    },
    {
      "cell_type": "markdown",
      "metadata": {
        "id": "pze1guDuXG3o",
        "colab_type": "text"
      },
      "source": [
        "\\begin{equation} \\end{equation}"
      ]
    },
    {
      "cell_type": "markdown",
      "metadata": {
        "id": "mvzXMzFUXG3q",
        "colab_type": "text"
      },
      "source": [
        "\n",
        "#### 6.\n",
        "\\begin{equation}x[n]=Acos[n\\pi]u[n-n_{o}]; \\ A \\in \\mathbb{R}^{+} y \\ n \\in \\{0,\\pm 1,\\pm 2,...,\\pm N\\};0<n_{o}<N.\\end{equation}"
      ]
    },
    {
      "cell_type": "markdown",
      "metadata": {
        "id": "QqQJIKLgXG3s",
        "colab_type": "text"
      },
      "source": [
        "\\begin{equation}\\varepsilon _{x}=\\sum_{n=-N/2}^{N/2}|x(t)|^{2} \\end{equation}"
      ]
    },
    {
      "cell_type": "markdown",
      "metadata": {
        "id": "AYsTtLWoXG3v",
        "colab_type": "text"
      },
      "source": [
        "\\begin{equation}\\varepsilon _{x}=\\sum_{n=-N/2}^{N/2}|Acos[n\\pi]u[n-n_{o}]|^{2} \\end{equation}"
      ]
    },
    {
      "cell_type": "markdown",
      "metadata": {
        "id": "pfv-KA6ZXG30",
        "colab_type": "text"
      },
      "source": [
        "\\begin{equation} =\\sum_{n=-N/2}^{N/2}|Acos[n\\pi]u[n-n_{o}]|^{2} \\end{equation}"
      ]
    },
    {
      "cell_type": "markdown",
      "metadata": {
        "id": "yI-PVaFrXG32",
        "colab_type": "text"
      },
      "source": [
        "\\begin{equation}=\\sum_{n=n_{o}}^{N/2}|Acos[n\\pi]|^{2} \\end{equation}"
      ]
    },
    {
      "cell_type": "markdown",
      "metadata": {
        "id": "ZeUXLx2ZXG33",
        "colab_type": "text"
      },
      "source": [
        "\\begin{equation}=\\sum_{n=n_{o}}^{N/2}A^{2}(-1)^{2n} \\end{equation}"
      ]
    },
    {
      "cell_type": "markdown",
      "metadata": {
        "id": "FNtTgJpWXG35",
        "colab_type": "text"
      },
      "source": [
        "\\begin{equation}= A^{2} \\sum_{n=n_{o}}^{N/2}1\\end{equation}"
      ]
    },
    {
      "cell_type": "markdown",
      "metadata": {
        "id": "n60Ofi3bXG36",
        "colab_type": "text"
      },
      "source": [
        "\\begin{equation}= A^{2} ( \\frac{N}{2}-n_{o}+1)\\end{equation}"
      ]
    },
    {
      "cell_type": "markdown",
      "metadata": {
        "id": "zU_G0M2GXG39",
        "colab_type": "text"
      },
      "source": [
        "\\begin{equation} \\varepsilon _{x}\\lim_{T\\rightarrow \\infty }=\\infty \\end{equation} "
      ]
    },
    {
      "cell_type": "markdown",
      "metadata": {
        "id": "jrMMs9dHXG3-",
        "colab_type": "text"
      },
      "source": [
        "\\begin{equation} P=\\frac{1}{N+1} \\varepsilon _{x}\\end{equation} "
      ]
    },
    {
      "cell_type": "markdown",
      "metadata": {
        "id": "tnkgxiVeXG3_",
        "colab_type": "text"
      },
      "source": [
        "\\begin{equation} P \\lim_{T\\rightarrow \\infty }=\\frac{A^{2}(N-2n_{o}+2)}{2N+2}=\\frac{A^{2}}{2} \\end{equation} "
      ]
    },
    {
      "cell_type": "markdown",
      "metadata": {
        "id": "aU0p9dzFXG4B",
        "colab_type": "text"
      },
      "source": [
        "La señal es de potencia "
      ]
    },
    {
      "cell_type": "markdown",
      "metadata": {
        "id": "djyPVrTvXG4C",
        "colab_type": "text"
      },
      "source": [
        "\\begin{equation} \\end{equation}"
      ]
    },
    {
      "cell_type": "markdown",
      "metadata": {
        "id": "BVO0yd0rXG4D",
        "colab_type": "text"
      },
      "source": [
        "## 4.Discretización de señales cosenoidales "
      ]
    },
    {
      "cell_type": "markdown",
      "metadata": {
        "id": "1E6x79HSXG4F",
        "colab_type": "text"
      },
      "source": [
        "- Se pretende muestrear la señal \\begin{equation}x(t)=cos(\\Omega t)~ con \\ t\\in[0,T],\\Omega=2\\pi F,F=1/T~y~F=60Hz\\end{equation} Se emplea un sistema de discretización con frecuencia de muestreo Fs = 90 Hz. Demuestre si el sistema utilizado es apropiado para la señal x(t) y estime la señal capturada. Realice una simulación en Python del proceso de discretización."
      ]
    },
    {
      "cell_type": "markdown",
      "metadata": {
        "id": "wm5EHmNXXG4G",
        "colab_type": "text"
      },
      "source": [
        "\\begin{equation}x[nTs]=cos[2\\pi 60nTs]\\end{equation} "
      ]
    },
    {
      "cell_type": "markdown",
      "metadata": {
        "id": "Fh6EIuKYXG4H",
        "colab_type": "text"
      },
      "source": [
        "\\begin{equation} x[nTs]=cos[2\\pi \\frac{60}{90}n]~~~~ = cos[2\\pi \\frac{2}{3}n]\\end{equation}"
      ]
    },
    {
      "cell_type": "markdown",
      "metadata": {
        "id": "wdNPW7n-XG4J",
        "colab_type": "text"
      },
      "source": [
        "Como \\begin{equation}  f=\\frac{2}{3}~~ y ~~ f> \\frac{1}{2} \\end{equation} El sistema utilizado no es apropiado para la señal x(t),por lo que la señal discretizada es una copia."
      ]
    },
    {
      "cell_type": "markdown",
      "metadata": {
        "id": "3zywEToiXG4K",
        "colab_type": "text"
      },
      "source": [
        "\\begin{equation} \\omega _{copia}=2\\pi f=2\\pi\\frac{2}{3}=\\frac{4}{3}\\pi \\end{equation} "
      ]
    },
    {
      "cell_type": "markdown",
      "metadata": {
        "id": "25hsHWnHXG4O",
        "colab_type": "text"
      },
      "source": [
        "\\begin{equation} \\omega _{original}=\\omega _{copia}-2\\pi=-\\frac{2}{3}\\pi \\end{equation} "
      ]
    },
    {
      "cell_type": "markdown",
      "metadata": {
        "id": "RFxaIYs8XG4Q",
        "colab_type": "text"
      },
      "source": [
        "\\begin{equation} f_{original}=\\frac{\\omega _{original}}{2\\pi}F_{s}=-\\frac{2\\pi}{3(2\\pi)}(90)=-30 Hz\\end{equation}"
      ]
    },
    {
      "cell_type": "markdown",
      "metadata": {
        "id": "rJfdGQ5QXG4T",
        "colab_type": "text"
      },
      "source": [
        "\\begin{equation} \\end{equation}"
      ]
    },
    {
      "cell_type": "markdown",
      "metadata": {
        "id": "WWMFAdEQXG4U",
        "colab_type": "text"
      },
      "source": [
        "- Se tiene un microprocesador de 3 bits con entrada análoga\n",
        "entre 0 y 10 [v]. Describa las condiciones necesarias para\n",
        "que el microprocesador pueda digitalizar la señal:"
      ]
    },
    {
      "cell_type": "markdown",
      "metadata": {
        "id": "h1jSlck1XG4V",
        "colab_type": "text"
      },
      "source": [
        "\\begin{equation}  x(t) =\n",
        "9cos(200 \\pi t):    \\end{equation}"
      ]
    },
    {
      "cell_type": "markdown",
      "metadata": {
        "id": "ljpOolWZXG4W",
        "colab_type": "text"
      },
      "source": [
        "La primer condición que se debe cumplir es:\n",
        "\\begin{equation}  F_{s} \\geq  2F_{max}    \\end{equation}"
      ]
    },
    {
      "cell_type": "markdown",
      "metadata": {
        "id": "zwG0fkHuXG4Y",
        "colab_type": "text"
      },
      "source": [
        "\n",
        "\\begin{equation}  F_{s} \\geq 200 Hz    \\end{equation}"
      ]
    },
    {
      "cell_type": "markdown",
      "metadata": {
        "id": "jTDlzRGRXG4Z",
        "colab_type": "text"
      },
      "source": [
        " Otra condición que debemos cumplir es adaptar la señal de entrada para poder capturarla, ya que la señal oscila entre 9 y -9 [v] y nuestro microprocesador solo tiene entrada entre 0 y 10 [V]:\n",
        "\n",
        "- Lo primero que hacemos es desplazar el punto medio 9V para que toda la señal de estrada sea positiva.\n",
        " \\begin{equation}  y_{1}(t)= 9+9cos(200 \\pi t) \\end{equation}\n",
        "- Como la señal va desde 0 a 18 V tenemos que normalizarla para que este entre 0 y 10 V.\n",
        " \\begin{equation}  y(t)=10\\frac{y_{1}(t)}{18}    \\end{equation}\n"
      ]
    },
    {
      "cell_type": "markdown",
      "metadata": {
        "id": "3DCMIlZpXG4b",
        "colab_type": "text"
      },
      "source": [
        "\\begin{equation}   y(t)=10\\frac{(9+9cos(200 \\pi t))}{18}    \\end{equation}   "
      ]
    },
    {
      "cell_type": "markdown",
      "metadata": {
        "id": "edxz2pO9XG4e",
        "colab_type": "text"
      },
      "source": [
        "\\begin{equation}  y(t)=5+\\frac{5}{9}cos(200\\pi t) \\end{equation}"
      ]
    },
    {
      "cell_type": "markdown",
      "metadata": {
        "id": "_rHm5Ps5XG4h",
        "colab_type": "text"
      },
      "source": [
        "\\begin{equation} \\end{equation}"
      ]
    },
    {
      "cell_type": "markdown",
      "metadata": {
        "id": "3_h-CesDXG4i",
        "colab_type": "text"
      },
      "source": [
        "- Se tiene un sistema de discretización con frecuencia de muestreo Fs = 40 Hz, aplicado a las señales: \n",
        "\\begin{equation}     x_{1}(t) =cos(20\\pi t)~~~~~ x_{2}(t) = cos(100\\pi t)  \\end{equation}\n",
        "Las versiones discretizadas de las señales son distinguibles entre si?. Implemente simulación en Python del proceso de discretización."
      ]
    },
    {
      "cell_type": "markdown",
      "metadata": {
        "id": "AzujgOEMXG4j",
        "colab_type": "text"
      },
      "source": [
        "\\begin{equation} x_{1}[nTs]=cos(2\\pi 10 nT_{s})      \\end{equation}"
      ]
    },
    {
      "cell_type": "markdown",
      "metadata": {
        "id": "2ClpTpsKXG4l",
        "colab_type": "text"
      },
      "source": [
        "\\begin{equation}   x_{1}[nTs]=cos[2\\pi \\frac{10}{40}n]~~~~ = cos[2\\pi \\frac{1}{4}n]   \\end{equation}"
      ]
    },
    {
      "cell_type": "markdown",
      "metadata": {
        "id": "K69JauCGXG4n",
        "colab_type": "text"
      },
      "source": [
        "\\begin{equation}  f_{1}=\\frac{1}{4}    \\end{equation}"
      ]
    },
    {
      "cell_type": "markdown",
      "metadata": {
        "id": "tRGOPzPQXG4o",
        "colab_type": "text"
      },
      "source": [
        "\\begin{equation}      \\end{equation}"
      ]
    },
    {
      "cell_type": "markdown",
      "metadata": {
        "id": "26WkGsvhXG4s",
        "colab_type": "text"
      },
      "source": [
        "\\begin{equation} x_{2}[nTs]=cos(2\\pi 50 nT_{s})      \\end{equation}"
      ]
    },
    {
      "cell_type": "markdown",
      "metadata": {
        "id": "3IujtxxZXG4w",
        "colab_type": "text"
      },
      "source": [
        "\\begin{equation}  x_{2}[nTs]=cos[2\\pi \\frac{50}{40}n]~~~~ = cos[2\\pi \\frac{5}{4}n]\n",
        "    \\end{equation}"
      ]
    },
    {
      "cell_type": "markdown",
      "metadata": {
        "id": "9XmzTLUDXG4z",
        "colab_type": "text"
      },
      "source": [
        "\\begin{equation}     f_{2}=\\frac{5}{4}  \\end{equation}"
      ]
    },
    {
      "cell_type": "markdown",
      "metadata": {
        "id": "UtqtB6iMXG41",
        "colab_type": "text"
      },
      "source": [
        "\\begin{equation}     x_{2}[nTs] = cos[2\\pi n  + 2\\pi \\frac{1}{4}n] \\end{equation}"
      ]
    },
    {
      "cell_type": "markdown",
      "metadata": {
        "id": "wVFz7ueyXG41",
        "colab_type": "text"
      },
      "source": [
        "Las señales no son distinguibles ya que x2 tiene el mismo angulo que x1 , ya que esta se encuentra desplazada 360° por lo que su coseno seria igual y ambas tendrian la misma frecuencia por lo que se solaparian entre si."
      ]
    },
    {
      "cell_type": "markdown",
      "metadata": {
        "id": "4OBRC0HpXG42",
        "colab_type": "text"
      },
      "source": [
        "\\begin{equation} \\end{equation}"
      ]
    },
    {
      "cell_type": "markdown",
      "metadata": {
        "id": "8gj9j5eKXG43",
        "colab_type": "text"
      },
      "source": [
        "- Cuál es la frecuencia de muestreo límite apropiada para discretizar\n",
        "la señal \\begin{equation} x(t) = 3 cos(2000\\pi t) + 5 sin(6000\\pi t) +\n",
        "10 cos(12000\\pi t)\\end{equation} Si se utiliza una frecuencia de muestreo\n",
        "de 5kHz, cuál es la señal discreta obtenida?"
      ]
    },
    {
      "cell_type": "markdown",
      "metadata": {
        "id": "vVLsF6-JXG43",
        "colab_type": "text"
      },
      "source": [
        "\\begin{equation}   x(t) = 3 cos(2\\pi 1000 t) + 5 sin(2\\pi 3000 t) +\n",
        "10 cos(2\\pi 6000 t)    \\end{equation}            "
      ]
    },
    {
      "cell_type": "markdown",
      "metadata": {
        "id": "802pxVWuXG45",
        "colab_type": "text"
      },
      "source": [
        "\\begin{equation}  F_{s}\\geq 2F_{max}~~~ F\\geq12k Hz   \\end{equation}"
      ]
    },
    {
      "cell_type": "markdown",
      "metadata": {
        "id": "hJB8x8w8XG46",
        "colab_type": "text"
      },
      "source": [
        "con  \\begin{equation} F_{s}=5k Hz \\end{equation}"
      ]
    },
    {
      "cell_type": "markdown",
      "metadata": {
        "id": "uKfWRCznXG47",
        "colab_type": "text"
      },
      "source": [
        "\\begin{equation}  x[nTs] = 3 cos(2\\pi \\frac{1}{5} n) + 5 sin(2\\pi\\frac{3}{5} n) +\n",
        "10 cos(2\\pi \\frac{6}{5} n)       \\end{equation}"
      ]
    },
    {
      "cell_type": "markdown",
      "metadata": {
        "id": "JzDHpifRXG48",
        "colab_type": "text"
      },
      "source": [
        "\\begin{equation} f_{1}=\\frac{1}{5} ~~ ; ~~  f_{2}=\\frac{3}{5} ~~ ;~~ f_{3}=\\frac{6}{5}       \\end{equation}"
      ]
    },
    {
      "cell_type": "markdown",
      "metadata": {
        "id": "KCncAXsnXG5A",
        "colab_type": "text"
      },
      "source": [
        "\\begin{equation}  -\\frac{1}{2}< f_{1}<\\frac{1}{2} ~ ~;~ ~ f_{2}> \\frac{1}{2} ~ ~ ;~~ f_{3}>\\frac{1}{2}    \\end{equation}"
      ]
    },
    {
      "cell_type": "markdown",
      "metadata": {
        "id": "3wDGR3IjXG5B",
        "colab_type": "text"
      },
      "source": [
        "La frecuencia 1 corresponde a una señal original mientras que la frecuencia 2 y 3 corresponden a una copia."
      ]
    },
    {
      "cell_type": "markdown",
      "metadata": {
        "id": "rmBRPxziXG5C",
        "colab_type": "text"
      },
      "source": [
        "\\begin{equation}   \\omega_{1}=2\\pi \\frac{1}{5}~~ ; ~~ \\omega_{2}=2\\pi \\frac{3}{5}~~ ; ~~ \\omega_{3}=2\\pi \\frac{6}{5}\n",
        "   \\end{equation}"
      ]
    },
    {
      "cell_type": "markdown",
      "metadata": {
        "id": "BwYIkcKXXG5D",
        "colab_type": "text"
      },
      "source": [
        "\\begin{equation}  \\omega_{1-original}=-\\frac{8}{5} \\pi ~~ ; ~~ \\omega_{2-original}=-\\frac{4}{5}\\pi~~ ; ~~ \\omega_{3-original}=\\frac{2}{5}\\pi    \\end{equation}"
      ]
    },
    {
      "cell_type": "markdown",
      "metadata": {
        "id": "I2sgqkO6XG5F",
        "colab_type": "text"
      },
      "source": [
        "\\begin{equation}   f_{1-original}=-\\frac{8\\pi}{5(2\\pi)}(5k)=-4k Hz ~~ ; ~~  f_{2-original}=-\\frac{4\\pi}{5(2\\pi)}(5k)=-2k Hz ~~ ; ~~ f_{3-original}=\\frac{2\\pi}{5(2\\pi)}(5k)=1k Hz   \\end{equation}"
      ]
    },
    {
      "cell_type": "markdown",
      "metadata": {
        "id": "XQoM90Q1XG5G",
        "colab_type": "text"
      },
      "source": [
        "\\begin{equation}      \\end{equation}"
      ]
    },
    {
      "cell_type": "markdown",
      "metadata": {
        "id": "yTirNc-KXG5H",
        "colab_type": "text"
      },
      "source": [
        "- Demuestre que funciones cosenoidales con frecuencia de oscilación Fk = Fo + kFs; con k E Z, no son distinguibles de la función cos(2(pi)Fot) al utilizar un sistema de discretización con frecuencia de muestreo Fs: Realice simulaciones para k E {0,±1,±2,±3}"
      ]
    },
    {
      "cell_type": "markdown",
      "metadata": {
        "id": "pRJY9bDaXG5I",
        "colab_type": "text"
      },
      "source": [
        "\\begin{equation}   x_{1}(t)=cos(2\\pi F_{o}t)    \\end{equation}"
      ]
    },
    {
      "cell_type": "markdown",
      "metadata": {
        "id": "YNbUtt__XG5J",
        "colab_type": "text"
      },
      "source": [
        "\\begin{equation}  x_{1}(nT_{s}) =cos(2\\pi \\frac{F_{o}}{F_{s}}n)  \\end{equation}"
      ]
    },
    {
      "cell_type": "markdown",
      "metadata": {
        "id": "3sclneUcXG5K",
        "colab_type": "text"
      },
      "source": [
        "\\begin{equation}  x_2(t)=cos(2\\pi F_{k}t)    \\end{equation}"
      ]
    },
    {
      "cell_type": "markdown",
      "metadata": {
        "id": "vUfm9vD9XG5K",
        "colab_type": "text"
      },
      "source": [
        "\\begin{equation}   x_{2}(nT_{s})=cos(2\\pi (\\frac{F_{o}}{F_{s}}+k\\frac{F_{s}}{F_{s}})n)   \\end{equation}"
      ]
    },
    {
      "cell_type": "markdown",
      "metadata": {
        "id": "WN9YfjUdXG5L",
        "colab_type": "text"
      },
      "source": [
        "\\begin{equation}  x_{2}(nT_{s})=cos((2\\pi\\frac{F_{o}}{F_{s}}+k2\\pi )n)    \\end{equation}"
      ]
    },
    {
      "cell_type": "markdown",
      "metadata": {
        "id": "1TxZhfgiXG5M",
        "colab_type": "text"
      },
      "source": [
        "No son distinguibles porque x2 se encuentra desplazado k veces 360° por lo que no hay una diferencia entre la oscilacion de x1 y x2"
      ]
    },
    {
      "cell_type": "markdown",
      "metadata": {
        "id": "iQ4J21_OXG5N",
        "colab_type": "text"
      },
      "source": [
        "\\begin{equation} \\end{equation}"
      ]
    },
    {
      "cell_type": "markdown",
      "metadata": {
        "id": "R86J0vDfXG5P",
        "colab_type": "text"
      },
      "source": [
        "## 5. Sistemas y manipulación de señales"
      ]
    },
    {
      "cell_type": "markdown",
      "metadata": {
        "id": "bKUiFRPOXG5T",
        "colab_type": "text"
      },
      "source": [
        "- Demuestre si los siguientes sistemas de la forma y = T {x}\n",
        "son sistemas lineales e invariantes en el tiempo (SLIT). Simule\n",
        "los sistemas en Python."
      ]
    },
    {
      "cell_type": "markdown",
      "metadata": {
        "id": "WPJHeVb8XG5U",
        "colab_type": "text"
      },
      "source": [
        "##### 1.\n",
        "\\begin{equation} y[n]=\\frac{x[n]}{3}+2x[n-1]-y[n-1]\\end{equation}"
      ]
    },
    {
      "cell_type": "markdown",
      "metadata": {
        "id": "bj7iFay-XG5V",
        "colab_type": "text"
      },
      "source": [
        "\\begin{equation} y[n-1]=\\frac{x[n-1]}{3}+2x[n-2] \\end{equation}"
      ]
    },
    {
      "cell_type": "markdown",
      "metadata": {
        "id": "WrhA8zBZXG5V",
        "colab_type": "text"
      },
      "source": [
        "\\begin{equation} y[n]=\\frac{x[n]}{3}+2x[n-1]-\\frac{x[n-1]}{3}-2x[n-2]\\end{equation}"
      ]
    },
    {
      "cell_type": "markdown",
      "metadata": {
        "id": "h5A7iEYVXG5W",
        "colab_type": "text"
      },
      "source": [
        "##### Linealidad: \n",
        "\\begin{equation} x[n]=ax_{1}[n]+bx_{2}[n] \\end{equation}"
      ]
    },
    {
      "cell_type": "markdown",
      "metadata": {
        "id": "p6eBpxvkXG5W",
        "colab_type": "text"
      },
      "source": [
        "(1)\n",
        "\\begin{equation} y[n]=\\frac{ax_{1}[n]+bx_{2}[n]}{3}+2[ax_{1}[n-1]+bx_{2}[n-1]]-\\frac{ax_{1}[n-1]+bx_{2}[n-1]}{3}-2[ax_{1}[n-2]+bx_{2}[n-2]]\\end{equation}"
      ]
    },
    {
      "cell_type": "markdown",
      "metadata": {
        "id": "XyD2fh1NXG5X",
        "colab_type": "text"
      },
      "source": [
        "\\begin{equation}   y[n]=a\\tau\\left \\{ x_{1}[n] \\right \\}+b\\tau\\left \\{ x_{2}[n] \\right\\}    \\end{equation}"
      ]
    },
    {
      "cell_type": "markdown",
      "metadata": {
        "id": "mA6DL-YZXG5Y",
        "colab_type": "text"
      },
      "source": [
        "\\begin{equation}y[n]=a\\left [ \\frac{x_{1}[n]}{3}+2x_{1}[n-1]-\\frac{x_{1}[n-1]}{3}-2x_{1}[n-2] \\right ]+b\\left [ \\frac{x_{2}[n]}{3}+2x_{2}[n-1]-\\frac{x_{2}[n-1]}{3}-2x_{2}[n-2] \\right ] \\end{equation}"
      ]
    },
    {
      "cell_type": "markdown",
      "metadata": {
        "id": "RuABRl3qXG5Z",
        "colab_type": "text"
      },
      "source": [
        "(2)\n",
        "\\begin{equation} y[n]=\\frac{ax_{1}[n]+bx_{2}[n]}{3}+2[ax_{1}[n-1]+bx_{2}[n-1]]-\\frac{ax_{1}[n-1]+bx_{2}[n-1]}{3}-2[ax_{1}[n-2]+bx_{2}[n-2]]\\end{equation}"
      ]
    },
    {
      "cell_type": "markdown",
      "metadata": {
        "id": "zWBV5KgeXG5Z",
        "colab_type": "text"
      },
      "source": [
        "Como (1) y (2) son iguales podermos decir que el sistema es lineal "
      ]
    },
    {
      "cell_type": "markdown",
      "metadata": {
        "id": "Atqnp50XXG5e",
        "colab_type": "text"
      },
      "source": [
        "##### Invariante en el tiempo :  \n",
        "\n"
      ]
    },
    {
      "cell_type": "markdown",
      "metadata": {
        "id": "dFvhzqB1XG5f",
        "colab_type": "text"
      },
      "source": [
        "\\begin{equation}   y(t\\pm t_{o})=\\frac{x[n-n_{o}]}{3}+2x[n-n_{o}-1]-\\frac{x[n-n_{o}-1]}{3}-2x[n-n_{o}-2]                        \\end{equation}"
      ]
    },
    {
      "cell_type": "markdown",
      "metadata": {
        "id": "J1QCuncxXG5h",
        "colab_type": "text"
      },
      "source": [
        "\\begin{equation}   \\tau\\left \\{ x(t\\pm t_{o})\\right\\} =\\frac{x[n-n_{o}]}{3}+2x[n-n_{o}-1]-\\frac{x[n-n_{o}-1]}{3}-2x[n-n_{o}-2]                        \\end{equation}"
      ]
    },
    {
      "cell_type": "markdown",
      "metadata": {
        "id": "mrCrWhdNXG5i",
        "colab_type": "text"
      },
      "source": [
        "\\begin{equation}  y[n±n_{o}]=  \\tau\\left \\{ x[n\\pm n_{o}]\\right\\}     \\end{equation}"
      ]
    },
    {
      "cell_type": "markdown",
      "metadata": {
        "id": "gzuLjAmqXG5k",
        "colab_type": "text"
      },
      "source": [
        "El sistema es invariante en el tiempo "
      ]
    },
    {
      "cell_type": "markdown",
      "metadata": {
        "id": "wPzd1UhGXG5m",
        "colab_type": "text"
      },
      "source": [
        "\\begin{equation} \\end{equation}"
      ]
    },
    {
      "cell_type": "markdown",
      "metadata": {
        "id": "1hFd16FZXG5o",
        "colab_type": "text"
      },
      "source": [
        "##### 2. \n",
        "\\begin{equation}y[n]=\\sum _{k=-\\infty }^{n}x[k].\n",
        "\\end{equation}"
      ]
    },
    {
      "cell_type": "markdown",
      "metadata": {
        "id": "Crktx9AiXG5p",
        "colab_type": "text"
      },
      "source": [
        "##### Linealidad: \n",
        "\\begin{equation} x[n]=ax_{1}[n]+bx_{2}[n] \\end{equation}"
      ]
    },
    {
      "cell_type": "markdown",
      "metadata": {
        "id": "ylnRi0xUXG5p",
        "colab_type": "text"
      },
      "source": [
        "(1) \\begin{equation}y[n]=\\sum _{k=-\\infty }^{n}ax_{1}[k]+bx_{2}[k].\n",
        "\\end{equation}"
      ]
    },
    {
      "cell_type": "markdown",
      "metadata": {
        "id": "LnvatR6gXG5q",
        "colab_type": "text"
      },
      "source": [
        "\\begin{equation}   y[n]=a\\tau\\left \\{ x_{1}[n] \\right \\}+b\\tau\\left \\{ x_{2}(t) \\right\\}    \\end{equation}"
      ]
    },
    {
      "cell_type": "markdown",
      "metadata": {
        "id": "IFPkof7cXG5r",
        "colab_type": "text"
      },
      "source": [
        "\\begin{equation}   y[n]=\\sum _{k=-\\infty }^{n}ax_{1}[k] +\\sum _{k=-\\infty }^{n}bx_{2}[k]    \\end{equation}"
      ]
    },
    {
      "cell_type": "markdown",
      "metadata": {
        "id": "9lddzdAvXG5s",
        "colab_type": "text"
      },
      "source": [
        "(2) \\begin{equation}y[n]=\\sum _{k=-\\infty }^{n}ax_{1}[k]+bx_{2}[k].\n",
        "\\end{equation}"
      ]
    },
    {
      "cell_type": "markdown",
      "metadata": {
        "id": "_ilGE0fIXG5s",
        "colab_type": "text"
      },
      "source": [
        "Como (1) y (2) son iguales podermos decir que el sistema es lineal "
      ]
    },
    {
      "cell_type": "markdown",
      "metadata": {
        "id": "gta4XperXG5t",
        "colab_type": "text"
      },
      "source": [
        "##### Invariante en el tiempo :  "
      ]
    },
    {
      "cell_type": "markdown",
      "metadata": {
        "id": "m_H4FzldXG5z",
        "colab_type": "text"
      },
      "source": [
        "\n",
        "\\begin{equation} \\tau\\left \\{ x[n\\pm n_{o}]\\right\\} = \\sum _{k=-\\infty }^{n}x[k±n_{o}].     \\end{equation}\n",
        "\n"
      ]
    },
    {
      "cell_type": "markdown",
      "metadata": {
        "id": "KR9P99deXG51",
        "colab_type": "text"
      },
      "source": [
        "\n",
        "\\begin{equation}  y[n±n_{o}] = \\sum _{k=-\\infty }^{n±n_{o}}x[k±n_{o}].     \\end{equation}\n",
        "\n"
      ]
    },
    {
      "cell_type": "markdown",
      "metadata": {
        "id": "t4xXASrPXG54",
        "colab_type": "text"
      },
      "source": [
        "\\begin{equation}  y[n±n_{o}]\\neq   \\tau\\left \\{ x[n\\pm n_{o}]\\right\\}     \\end{equation}"
      ]
    },
    {
      "cell_type": "markdown",
      "metadata": {
        "id": "T-_FMB0lXG55",
        "colab_type": "text"
      },
      "source": [
        "El sistema no es invariante en el tiempo."
      ]
    },
    {
      "cell_type": "markdown",
      "metadata": {
        "id": "TWVGB97mXG56",
        "colab_type": "text"
      },
      "source": [
        "\\begin{equation} \\end{equation}"
      ]
    },
    {
      "cell_type": "markdown",
      "metadata": {
        "id": "6WV1cuqdXG57",
        "colab_type": "text"
      },
      "source": [
        "##### 3.  \n",
        "\\begin{equation} y[n]= median(x[n])=[x[n-1],x[n],x[n+1]]\n",
        "\\end{equation}"
      ]
    },
    {
      "cell_type": "markdown",
      "metadata": {
        "id": "rsYhkRd5XG58",
        "colab_type": "text"
      },
      "source": [
        "##### Linealidad: \n",
        "\\begin{equation} x[n]=ax_{1}[n]+bx_{2}[n] \\end{equation}"
      ]
    },
    {
      "cell_type": "markdown",
      "metadata": {
        "id": "O7oYDeJIXG59",
        "colab_type": "text"
      },
      "source": [
        "(1) \\begin{equation} y[n]=[ax_{1}[n-1]+bx_{2}[n-1],ax_{1}[n]+bx_{2}[n],ax_{1}[n+1]+bx_{2}[n+1]] \\end{equation}"
      ]
    },
    {
      "cell_type": "markdown",
      "metadata": {
        "id": "UNDxhuASXG59",
        "colab_type": "text"
      },
      "source": [
        "\\begin{equation}   y[n]=a\\tau\\left \\{ x_{1}[n] \\right \\}+b\\tau\\left \\{ x_{2}(t) \\right\\}    \\end{equation}"
      ]
    },
    {
      "cell_type": "markdown",
      "metadata": {
        "id": "olaX8KkmXG5-",
        "colab_type": "text"
      },
      "source": [
        "(2) \\begin{equation} y[n]=a[x_{1}[n-1],x_{1}[n],x_{1}[n+1]]+b[x_{2}[n-1],x_{2}[n],x_{2}[n+1]] \\end{equation}"
      ]
    },
    {
      "cell_type": "markdown",
      "metadata": {
        "id": "PlqhxVqiXG5_",
        "colab_type": "text"
      },
      "source": [
        "Como (1) y (2) no son iguales el sistema no es lineal."
      ]
    },
    {
      "cell_type": "markdown",
      "metadata": {
        "id": "d9o7nZWdXG6A",
        "colab_type": "text"
      },
      "source": [
        "##### Invariante en el tiempo :  \n"
      ]
    },
    {
      "cell_type": "markdown",
      "metadata": {
        "id": "JnqMTR6FXG6C",
        "colab_type": "text"
      },
      "source": [
        "\\begin{equation}  \\tau\\left \\{ x([n \\pm n_{o}]\\right\\} =[x[n \\pm n_{o}-1],x[n \\pm n_{o}],x[n \\pm n_{o}+1]]   \\end{equation}\n"
      ]
    },
    {
      "cell_type": "markdown",
      "metadata": {
        "id": "Kp80ymYeXG6H",
        "colab_type": "text"
      },
      "source": [
        "\\begin{equation}   y[n±n_{o}]=[x[n \\pm n_{o}-1],x[n \\pm n_{o}],x[n \\pm n_{o}+1]]   \\end{equation}\n"
      ]
    },
    {
      "cell_type": "markdown",
      "metadata": {
        "id": "ArmZ2eN3XG6H",
        "colab_type": "text"
      },
      "source": [
        "\\begin{equation}  y[n±n_{o}]=  \\tau\\left \\{ x[n\\pm n_{o}]\\right\\}     \\end{equation}"
      ]
    },
    {
      "cell_type": "markdown",
      "metadata": {
        "id": "Awws4_EFXG6I",
        "colab_type": "text"
      },
      "source": [
        "El sistema es invariante en el tiempo."
      ]
    },
    {
      "cell_type": "markdown",
      "metadata": {
        "id": "_z7gM77iXG6J",
        "colab_type": "text"
      },
      "source": [
        "\\begin{equation} \\end{equation}"
      ]
    },
    {
      "cell_type": "markdown",
      "metadata": {
        "id": "_QEVnukOXG6K",
        "colab_type": "text"
      },
      "source": [
        "##### 4.\n",
        "\\begin{equation}y(t)=Ax(t)+B~;~~ \\ A,B\\in \\mathbb{R}\n",
        "\\end{equation}"
      ]
    },
    {
      "cell_type": "markdown",
      "metadata": {
        "id": "Ta9D95BmXG6K",
        "colab_type": "text"
      },
      "source": [
        "##### Linealidad: \n",
        "\\begin{equation} x(t)=ax_{1}(t)+bx_{2}(t) \\end{equation}"
      ]
    },
    {
      "cell_type": "markdown",
      "metadata": {
        "id": "ejMwEXBiXG6M",
        "colab_type": "text"
      },
      "source": [
        "(1) \\begin{equation}   y(t)=A[ax_{1}(t)+bx_{2}(t)]+B    \\end{equation}"
      ]
    },
    {
      "cell_type": "markdown",
      "metadata": {
        "id": "1o4AcG7gXG6N",
        "colab_type": "text"
      },
      "source": [
        "\\begin{equation}   y(t)=a\\tau\\left \\{ x_{1}(t) \\right \\}+b\\tau\\left \\{ x_{2}(t) \\right\\}    \\end{equation}"
      ]
    },
    {
      "cell_type": "markdown",
      "metadata": {
        "id": "SV9h9ytLXG6P",
        "colab_type": "text"
      },
      "source": [
        " \\begin{equation}   y(t)=a[Ax_{1}(t)+ B]+ b[Ax_{2}(t)+ B] \\end{equation}"
      ]
    },
    {
      "cell_type": "markdown",
      "metadata": {
        "id": "DlpZFUjGXG6X",
        "colab_type": "text"
      },
      "source": [
        " (2)\\begin{equation}   y(t)=A[ax_{1}(t)+ x_{2}(t)]+ B[a+b] \\end{equation}"
      ]
    },
    {
      "cell_type": "markdown",
      "metadata": {
        "id": "WyrwJfVFXG6Y",
        "colab_type": "text"
      },
      "source": [
        "Como (1) y (2) no son iguales el sistema no es lineal."
      ]
    },
    {
      "cell_type": "markdown",
      "metadata": {
        "id": "GGO9N3T5XG6a",
        "colab_type": "text"
      },
      "source": [
        "##### Invariante en el tiempo :  \n"
      ]
    },
    {
      "cell_type": "markdown",
      "metadata": {
        "id": "ZYF525wvXG6b",
        "colab_type": "text"
      },
      "source": [
        " \\begin{equation} \\tau\\left \\{ x(t\\pm t_{o})\\right\\} =Ax(t\\pm t_{o})+B  \\end{equation}"
      ]
    },
    {
      "cell_type": "markdown",
      "metadata": {
        "id": "QB7JEabNXG6f",
        "colab_type": "text"
      },
      "source": [
        " \\begin{equation} y(t \\pm t_{o})=Ax(t\\pm t_{o})+B  \\end{equation}"
      ]
    },
    {
      "cell_type": "markdown",
      "metadata": {
        "id": "OHG8poBAXG6g",
        "colab_type": "text"
      },
      "source": [
        "\\begin{equation} y(t\\pm t_{o})=  \\tau\\left \\{ x(t\\pm t_{o})\\right\\}     \\end{equation}"
      ]
    },
    {
      "cell_type": "markdown",
      "metadata": {
        "id": "qb7KrHvNXG6i",
        "colab_type": "text"
      },
      "source": [
        "El sistema es invariante en el tiempo."
      ]
    },
    {
      "cell_type": "markdown",
      "metadata": {
        "id": "BbnAmCH_XG6j",
        "colab_type": "text"
      },
      "source": [
        "\\begin{equation} \\end{equation}"
      ]
    },
    {
      "cell_type": "markdown",
      "metadata": {
        "id": "vrs-xFv3XG6l",
        "colab_type": "text"
      },
      "source": [
        "- Hallar la salida y[n] de un SLIT ante la entrada x[n]={-1,1,3<-,0,5,6}, con respuesta al impulso\n",
        "h[n]={1,-2,0<-,1,-1}, donde n E {0,±1;±2,...,±N} y\n",
        "n=0 para x[n<-]: Nota: Utilizar método gráfico para encontrar\n",
        "la salida y comprobar con simulación en Python. Repita\n",
        "el proceso para el sistema con respuesta al escalón {-3,4,-2,3<-,1,-1,2,5}"
      ]
    },
    {
      "cell_type": "markdown",
      "metadata": {
        "id": "qcj8Ak2YXG6m",
        "colab_type": "text"
      },
      "source": [
        " \\begin{equation} x[n]=\\{-1,1,3\\dagger ,0,5,6.-1\\} ~~~~~~~~~ h[n]=\\{1,-2,0\\dagger ,1,-1\\} \\end{equation}"
      ]
    },
    {
      "cell_type": "markdown",
      "metadata": {
        "id": "xJdA1JAWXG6o",
        "colab_type": "text"
      },
      "source": [
        " \\begin{equation}y[-2]=\\sum_{k=-\\infty }^{\\infty }x[k]~h[-2-k]  \\end{equation} "
      ]
    },
    {
      "cell_type": "markdown",
      "metadata": {
        "id": "1dhN_QM6XG6p",
        "colab_type": "text"
      },
      "source": [
        "\\begin{equation}=(-1)(0)+(1)(-2)+(3)(1)+(0)(0)+(5)(0)+(6)(0)+(-1)(0)=1\\end{equation}"
      ]
    },
    {
      "cell_type": "markdown",
      "metadata": {
        "id": "eSu2cDbFXG6u",
        "colab_type": "text"
      },
      "source": [
        " \\begin{equation}y[-1]=\\sum_{k=-\\infty }^{\\infty }x[k]~h[-1-k] \\end{equation}"
      ]
    },
    {
      "cell_type": "markdown",
      "metadata": {
        "id": "H87WxjrTXG6u",
        "colab_type": "text"
      },
      "source": [
        " \\begin{equation}=(-1)(1)+(1)(0)+(3)(-2)+(0)(1)+(5)(0)+(6)(0)+(-1)(0)=-7 \\end{equation}"
      ]
    },
    {
      "cell_type": "markdown",
      "metadata": {
        "id": "VMX0EXRVXG6v",
        "colab_type": "text"
      },
      "source": [
        " \\begin{equation}y[0]=\\sum_{k=-\\infty }^{\\infty }x[k]~h[-k] \\end{equation}"
      ]
    },
    {
      "cell_type": "markdown",
      "metadata": {
        "id": "lS-GUxCNXG6w",
        "colab_type": "text"
      },
      "source": [
        "\\begin{equation}     =(-1)(-1)+(1)(1)+(3)(0)+(0)(-2)+(5)(1)+(6)(0)+(-1)(0)=7      \\end{equation}"
      ]
    },
    {
      "cell_type": "markdown",
      "metadata": {
        "id": "W8ps_9j1XG6x",
        "colab_type": "text"
      },
      "source": [
        " \\begin{equation}y[1]=\\sum_{k=-\\infty }^{\\infty }x[k]~h[1-k] \\end{equation}"
      ]
    },
    {
      "cell_type": "markdown",
      "metadata": {
        "id": "iRbn5DEcXG6z",
        "colab_type": "text"
      },
      "source": [
        "\\begin{equation}     =(-1)(0)+(1)(-1)+(3)(1)+(0)(0)+(5)(-2)+(6)(1)+(-1)(0)=-2      \\end{equation}"
      ]
    },
    {
      "cell_type": "markdown",
      "metadata": {
        "id": "0Kg48YmwXG64",
        "colab_type": "text"
      },
      "source": [
        " \\begin{equation}y[2]=\\sum_{k=-\\infty }^{\\infty }x[k]~h[2-k] \\end{equation}"
      ]
    },
    {
      "cell_type": "markdown",
      "metadata": {
        "id": "dDLCS-v8XG65",
        "colab_type": "text"
      },
      "source": [
        "\\begin{equation}    =(-1)(0)+(1)(0)+(3)(-1)+(0)(1)+(5)(0)+(6)(-2)+(-1)(1)=-16       \\end{equation}"
      ]
    },
    {
      "cell_type": "markdown",
      "metadata": {
        "id": "L7RPx5N1XG66",
        "colab_type": "text"
      },
      "source": [
        " \\begin{equation}y[3]=\\sum_{k=-\\infty }^{\\infty }x[k]~h[3-k] \\end{equation}"
      ]
    },
    {
      "cell_type": "markdown",
      "metadata": {
        "id": "j8bYxIk9XG67",
        "colab_type": "text"
      },
      "source": [
        "\\begin{equation}     =(-1)(0)+(1)(0)+(3)(0)+(0)(-1)+(5)(1)+(6)(0)+(-1)(-2)=7      \\end{equation}"
      ]
    },
    {
      "cell_type": "markdown",
      "metadata": {
        "id": "kJIHU-u-XG69",
        "colab_type": "text"
      },
      "source": [
        " \\begin{equation}y[4]=\\sum_{k=-\\infty }^{\\infty }x[k]~h[4-k] \\end{equation}"
      ]
    },
    {
      "cell_type": "markdown",
      "metadata": {
        "id": "nZZkfVjRXG69",
        "colab_type": "text"
      },
      "source": [
        "\\begin{equation}       =(-1)(0)+(1)(0)+(3)(0)+(0)(0)+(5)(-1)+(6)(1)+(-1)(0)=1    \\end{equation}"
      ]
    },
    {
      "cell_type": "markdown",
      "metadata": {
        "id": "T1zXfVTTXG6-",
        "colab_type": "text"
      },
      "source": [
        "La respuesta a la entrada seria : \\begin{equation}    y[n]=\\{1,-7,7\\dagger,-2,-16,7,1\\}        \\end{equation}"
      ]
    },
    {
      "cell_type": "code",
      "metadata": {
        "id": "t6uhy_yqXG7A",
        "colab_type": "code",
        "outputId": "009fcb63-e701-40d8-ac11-ece0e2a7c7a9",
        "colab": {}
      },
      "source": [
        "import matplotlib.pyplot as plt\n",
        "import numpy as np\n",
        "import sympy as sym\n",
        "\n",
        "x = np.array([-1,1,3,0,5,6,-1])\n",
        "h = np.array([1,-2,0,1,-1])\n",
        "y = np.convolve(x,h, mode='same')\n",
        "print(y)\n",
        "s=[-2,-1,0,1,2,3,4]\n",
        "plt.stem(s,y)\n",
        "plt.show()"
      ],
      "execution_count": 0,
      "outputs": [
        {
          "output_type": "stream",
          "text": [
            "[  1  -7   7  -2 -16   7   1]\n"
          ],
          "name": "stdout"
        },
        {
          "output_type": "display_data",
          "data": {
            "image/png": "[encoded data removed]",
            "text/plain": [
              "<Figure size 432x288 with 1 Axes>"
            ]
          },
          "metadata": {
            "tags": [],
            "needs_background": "light"
          }
        }
      ]
    },
    {
      "cell_type": "markdown",
      "metadata": {
        "id": "s3OA5CfuXG7L",
        "colab_type": "text"
      },
      "source": [
        "\\begin{equation} \\end{equation}"
      ]
    },
    {
      "cell_type": "markdown",
      "metadata": {
        "id": "wcOOnMnBXG7M",
        "colab_type": "text"
      },
      "source": [
        "\\begin{equation}   u[n]=\\{-3,4,-2,3\\dagger,1,-1,2,5\\}~~~~~~ Respuesta~ al~ escalón    \\end{equation}"
      ]
    },
    {
      "cell_type": "markdown",
      "metadata": {
        "id": "_FQQ1LTvXG7N",
        "colab_type": "text"
      },
      "source": [
        "\\begin{equation}      h[n]=\\{-3,7,-6,5\\dagger,-2,-2,3,3\\} ~~~~~~  Respuesta~al~impulso      \\end{equation}"
      ]
    },
    {
      "cell_type": "markdown",
      "metadata": {
        "id": "m0tyC8dWXG7O",
        "colab_type": "text"
      },
      "source": [
        " \\begin{equation}y[-3]=\\sum_{k=-\\infty }^{\\infty }x[k]~h[-3-k] \\end{equation}"
      ]
    },
    {
      "cell_type": "markdown",
      "metadata": {
        "id": "To4mt914XG7P",
        "colab_type": "text"
      },
      "source": [
        "\\begin{equation}    =(-1)(-6)+(1)(7)+(3)(-3)+(0)(0)+(5)(0)+(6)(0)+(-1)(0)=4      \\end{equation}        "
      ]
    },
    {
      "cell_type": "markdown",
      "metadata": {
        "id": "jS4syIHBXG7Q",
        "colab_type": "text"
      },
      "source": [
        " \\begin{equation}y[-2]=\\sum_{k=-\\infty }^{\\infty }x[k]~h[-2-k] \\end{equation}"
      ]
    },
    {
      "cell_type": "markdown",
      "metadata": {
        "id": "cv-poqFcXG7R",
        "colab_type": "text"
      },
      "source": [
        "\\begin{equation}    =(-1)(5)+(1)(-6)+(3)(7)+(0)(-3)+(5)(0)+(6)(0)+(-1)(0)=10      \\end{equation}        "
      ]
    },
    {
      "cell_type": "markdown",
      "metadata": {
        "id": "r8O3IFmEXG7V",
        "colab_type": "text"
      },
      "source": [
        " \\begin{equation}y[-1]=\\sum_{k=-\\infty }^{\\infty }x[k]~h[-1-k] \\end{equation}"
      ]
    },
    {
      "cell_type": "markdown",
      "metadata": {
        "id": "cUu_Tn6LXG7W",
        "colab_type": "text"
      },
      "source": [
        "\\begin{equation}       =(-1)(-2)+(1)(5)+(3)(-6)+(0)(7)+(5)(-3)+(6)(0)+(-1)(0)=  -26   \\end{equation}"
      ]
    },
    {
      "cell_type": "markdown",
      "metadata": {
        "id": "UlP5ouizXG7X",
        "colab_type": "text"
      },
      "source": [
        " \\begin{equation}y[0]=\\sum_{k=-\\infty }^{\\infty }x[k]~h[-k] \\end{equation}"
      ]
    },
    {
      "cell_type": "markdown",
      "metadata": {
        "id": "KZfNcO6vXG7Z",
        "colab_type": "text"
      },
      "source": [
        "\\begin{equation}        =(-1)(-2)+(1)(-2)+(3)(5)+(0)(-6)+(5)(7)+(6)(-3)+(-1)(0)=32    \\end{equation}"
      ]
    },
    {
      "cell_type": "markdown",
      "metadata": {
        "id": "VB3lL2o8XG7a",
        "colab_type": "text"
      },
      "source": [
        " \\begin{equation}y[1]=\\sum_{k=-\\infty }^{\\infty }x[k]~h[1-k] \\end{equation}"
      ]
    },
    {
      "cell_type": "markdown",
      "metadata": {
        "id": "GDgcfv4FXG7b",
        "colab_type": "text"
      },
      "source": [
        "\\begin{equation}          =(-1)(3)+(1)(-2)+(3)(-2)+(0)(5)+(5)(-6)+(6)(7)+(-1)(-3)=4  \\end{equation}"
      ]
    },
    {
      "cell_type": "markdown",
      "metadata": {
        "id": "RXOX9Pl5XG7b",
        "colab_type": "text"
      },
      "source": [
        " \\begin{equation}y[2]=\\sum_{k=-\\infty }^{\\infty }x[k]~h[2-k] \\end{equation}"
      ]
    },
    {
      "cell_type": "markdown",
      "metadata": {
        "id": "aLZtNVBLXG7c",
        "colab_type": "text"
      },
      "source": [
        "\\begin{equation}         =(-1)(3)+(1)(3)+(3)(-2)+(0)(-2)+(5)(5)+(6)(-6)+(-1)(7)= -24  \\end{equation}"
      ]
    },
    {
      "cell_type": "markdown",
      "metadata": {
        "id": "KMlG0q1sXG7d",
        "colab_type": "text"
      },
      "source": [
        " \\begin{equation}y[3]=\\sum_{k=-\\infty }^{\\infty }x[k]~h[3-k]  \\end{equation} "
      ]
    },
    {
      "cell_type": "markdown",
      "metadata": {
        "id": "X51zWOOHXG7e",
        "colab_type": "text"
      },
      "source": [
        "\\begin{equation}          =(-1)(0)+(1)(3)+(3)(3)+(0)(-2)+(5)(-2)+(6)(5)+(-1)(-6)= 38 \\end{equation}"
      ]
    },
    {
      "cell_type": "markdown",
      "metadata": {
        "id": "iZLRlheZXG7f",
        "colab_type": "text"
      },
      "source": [
        " \\begin{equation}y[4]=\\sum_{k=-\\infty }^{\\infty }x[k]~h[4-k]  \\end{equation} "
      ]
    },
    {
      "cell_type": "markdown",
      "metadata": {
        "id": "Xa5LxP5SXG7h",
        "colab_type": "text"
      },
      "source": [
        "\\begin{equation}          =(-1)(0)+(1)(0)+(3)(3)+(0)(3)+(5)(-2)+(6)(-2)+(-1)(5)=-18  \\end{equation}"
      ]
    },
    {
      "cell_type": "markdown",
      "metadata": {
        "id": "phWC7AmrXG7i",
        "colab_type": "text"
      },
      "source": [
        "La respuesta a la entrada seria : \\begin{equation}    y[n]=\\{4,10,-26,32\\dagger ,4,-24,38,-18\\}        \\end{equation}"
      ]
    },
    {
      "cell_type": "code",
      "metadata": {
        "id": "GLvo3OmmXG7j",
        "colab_type": "code",
        "outputId": "29ebc836-8024-48a6-8cbc-3dbfa48242a5",
        "colab": {}
      },
      "source": [
        "x = np.array([0,-1,1,3,0,5,6,-1])\n",
        "h = np.array([-3,7,-6,5,-2,-2,3,3])\n",
        "\n",
        "y = np.convolve(x,h, mode='same')\n",
        "print(y)\n",
        "s=[-3,-2,-1,0,1,2,3,4]\n",
        "plt.stem(s,y)\n",
        "plt.show()\n"
      ],
      "execution_count": 0,
      "outputs": [
        {
          "output_type": "stream",
          "text": [
            "[  4  10 -26  32   4 -24  38 -18]\n"
          ],
          "name": "stdout"
        },
        {
          "output_type": "display_data",
          "data": {
            "image/png": "[encoded data removed]",
            "text/plain": [
              "<Figure size 432x288 with 1 Axes>"
            ]
          },
          "metadata": {
            "tags": [],
            "needs_background": "light"
          }
        }
      ]
    }
  ]
}