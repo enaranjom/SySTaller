{
  "nbformat": 4,
  "nbformat_minor": 0,
  "metadata": {
    "colab": {
      "name": "Taller2_EstebanNaranjoM.ipynb",
      "provenance": [],
      "collapsed_sections": [],
      "include_colab_link": true
    },
    "kernelspec": {
      "name": "python3",
      "display_name": "Python 3"
    },
    "widgets": {
      "application/vnd.jupyter.widget-state+json": {
        "df69e4a3bcd641949b0cf43145f9ada1": {
          "model_module": "@jupyter-widgets/controls",
          "model_name": "VBoxModel",
          "state": {
            "_view_name": "VBoxView",
            "_dom_classes": [
              "widget-interact"
            ],
            "_model_name": "VBoxModel",
            "_view_module": "@jupyter-widgets/controls",
            "_model_module_version": "1.5.0",
            "_view_count": null,
            "_view_module_version": "1.5.0",
            "box_style": "",
            "layout": "IPY_MODEL_8770858fcaac42178b97678d9174c4f2",
            "_model_module": "@jupyter-widgets/controls",
            "children": [
              "IPY_MODEL_68f00b6bb85a46b180c913f0cc931738",
              "IPY_MODEL_0393e1a1f7dc4f1faa39802ba3fffcd2"
            ]
          }
        },
        "8770858fcaac42178b97678d9174c4f2": {
          "model_module": "@jupyter-widgets/base",
          "model_name": "LayoutModel",
          "state": {
            "_view_name": "LayoutView",
            "grid_template_rows": null,
            "right": null,
            "justify_content": null,
            "_view_module": "@jupyter-widgets/base",
            "overflow": null,
            "_model_module_version": "1.2.0",
            "_view_count": null,
            "flex_flow": null,
            "width": null,
            "min_width": null,
            "border": null,
            "align_items": null,
            "bottom": null,
            "_model_module": "@jupyter-widgets/base",
            "top": null,
            "grid_column": null,
            "overflow_y": null,
            "overflow_x": null,
            "grid_auto_flow": null,
            "grid_area": null,
            "grid_template_columns": null,
            "flex": null,
            "_model_name": "LayoutModel",
            "justify_items": null,
            "grid_row": null,
            "max_height": null,
            "align_content": null,
            "visibility": null,
            "align_self": null,
            "height": null,
            "min_height": null,
            "padding": null,
            "grid_auto_rows": null,
            "grid_gap": null,
            "max_width": null,
            "order": null,
            "_view_module_version": "1.2.0",
            "grid_template_areas": null,
            "object_position": null,
            "object_fit": null,
            "grid_auto_columns": null,
            "margin": null,
            "display": null,
            "left": null
          }
        },
        "68f00b6bb85a46b180c913f0cc931738": {
          "model_module": "@jupyter-widgets/controls",
          "model_name": "IntSliderModel",
          "state": {
            "_view_name": "IntSliderView",
            "style": "IPY_MODEL_c454389dc2e845d08c500d9951b1163c",
            "_dom_classes": [],
            "description": "Na",
            "step": 1,
            "_model_name": "IntSliderModel",
            "orientation": "horizontal",
            "max": 2,
            "_view_module": "@jupyter-widgets/controls",
            "_model_module_version": "1.5.0",
            "value": 1,
            "_view_count": null,
            "disabled": false,
            "_view_module_version": "1.5.0",
            "min": 1,
            "continuous_update": true,
            "readout_format": "d",
            "description_tooltip": null,
            "readout": true,
            "_model_module": "@jupyter-widgets/controls",
            "layout": "IPY_MODEL_491ef2724be44035abf6b3ffc26e3db1"
          }
        },
        "0393e1a1f7dc4f1faa39802ba3fffcd2": {
          "model_module": "@jupyter-widgets/output",
          "model_name": "OutputModel",
          "state": {
            "_view_name": "OutputView",
            "msg_id": "",
            "_dom_classes": [],
            "_model_name": "OutputModel",
            "outputs": [
              {
                "output_type": "display_data",
                "metadata": {
                  "tags": [],
                  "needs_background": "light"
                },
                "image/png": "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\n",
                "text/plain": "<Figure size 432x288 with 1 Axes>"
              }
            ],
            "_view_module": "@jupyter-widgets/output",
            "_model_module_version": "1.0.0",
            "_view_count": null,
            "_view_module_version": "1.0.0",
            "layout": "IPY_MODEL_20416834006147239cb591b629f9f0f3",
            "_model_module": "@jupyter-widgets/output"
          }
        },
        "c454389dc2e845d08c500d9951b1163c": {
          "model_module": "@jupyter-widgets/controls",
          "model_name": "SliderStyleModel",
          "state": {
            "_view_name": "StyleView",
            "handle_color": null,
            "_model_name": "SliderStyleModel",
            "description_width": "",
            "_view_module": "@jupyter-widgets/base",
            "_model_module_version": "1.5.0",
            "_view_count": null,
            "_view_module_version": "1.2.0",
            "_model_module": "@jupyter-widgets/controls"
          }
        },
        "491ef2724be44035abf6b3ffc26e3db1": {
          "model_module": "@jupyter-widgets/base",
          "model_name": "LayoutModel",
          "state": {
            "_view_name": "LayoutView",
            "grid_template_rows": null,
            "right": null,
            "justify_content": null,
            "_view_module": "@jupyter-widgets/base",
            "overflow": null,
            "_model_module_version": "1.2.0",
            "_view_count": null,
            "flex_flow": null,
            "width": null,
            "min_width": null,
            "border": null,
            "align_items": null,
            "bottom": null,
            "_model_module": "@jupyter-widgets/base",
            "top": null,
            "grid_column": null,
            "overflow_y": null,
            "overflow_x": null,
            "grid_auto_flow": null,
            "grid_area": null,
            "grid_template_columns": null,
            "flex": null,
            "_model_name": "LayoutModel",
            "justify_items": null,
            "grid_row": null,
            "max_height": null,
            "align_content": null,
            "visibility": null,
            "align_self": null,
            "height": null,
            "min_height": null,
            "padding": null,
            "grid_auto_rows": null,
            "grid_gap": null,
            "max_width": null,
            "order": null,
            "_view_module_version": "1.2.0",
            "grid_template_areas": null,
            "object_position": null,
            "object_fit": null,
            "grid_auto_columns": null,
            "margin": null,
            "display": null,
            "left": null
          }
        },
        "20416834006147239cb591b629f9f0f3": {
          "model_module": "@jupyter-widgets/base",
          "model_name": "LayoutModel",
          "state": {
            "_view_name": "LayoutView",
            "grid_template_rows": null,
            "right": null,
            "justify_content": null,
            "_view_module": "@jupyter-widgets/base",
            "overflow": null,
            "_model_module_version": "1.2.0",
            "_view_count": null,
            "flex_flow": null,
            "width": null,
            "min_width": null,
            "border": null,
            "align_items": null,
            "bottom": null,
            "_model_module": "@jupyter-widgets/base",
            "top": null,
            "grid_column": null,
            "overflow_y": null,
            "overflow_x": null,
            "grid_auto_flow": null,
            "grid_area": null,
            "grid_template_columns": null,
            "flex": null,
            "_model_name": "LayoutModel",
            "justify_items": null,
            "grid_row": null,
            "max_height": null,
            "align_content": null,
            "visibility": null,
            "align_self": null,
            "height": null,
            "min_height": null,
            "padding": null,
            "grid_auto_rows": null,
            "grid_gap": null,
            "max_width": null,
            "order": null,
            "_view_module_version": "1.2.0",
            "grid_template_areas": null,
            "object_position": null,
            "object_fit": null,
            "grid_auto_columns": null,
            "margin": null,
            "display": null,
            "left": null
          }
        },
        "727d7ffef2ad482e89fbafcd0352c8ae": {
          "model_module": "@jupyter-widgets/controls",
          "model_name": "VBoxModel",
          "state": {
            "_view_name": "VBoxView",
            "_dom_classes": [
              "widget-interact"
            ],
            "_model_name": "VBoxModel",
            "_view_module": "@jupyter-widgets/controls",
            "_model_module_version": "1.5.0",
            "_view_count": null,
            "_view_module_version": "1.5.0",
            "box_style": "",
            "layout": "IPY_MODEL_60451fbfdf264ba7b1b53abcbd3a8929",
            "_model_module": "@jupyter-widgets/controls",
            "children": [
              "IPY_MODEL_cbf22e9a2c5a48d488a50f22a4f47b17",
              "IPY_MODEL_afd58a09a619447ab2a52f1ebf918488"
            ]
          }
        },
        "60451fbfdf264ba7b1b53abcbd3a8929": {
          "model_module": "@jupyter-widgets/base",
          "model_name": "LayoutModel",
          "state": {
            "_view_name": "LayoutView",
            "grid_template_rows": null,
            "right": null,
            "justify_content": null,
            "_view_module": "@jupyter-widgets/base",
            "overflow": null,
            "_model_module_version": "1.2.0",
            "_view_count": null,
            "flex_flow": null,
            "width": null,
            "min_width": null,
            "border": null,
            "align_items": null,
            "bottom": null,
            "_model_module": "@jupyter-widgets/base",
            "top": null,
            "grid_column": null,
            "overflow_y": null,
            "overflow_x": null,
            "grid_auto_flow": null,
            "grid_area": null,
            "grid_template_columns": null,
            "flex": null,
            "_model_name": "LayoutModel",
            "justify_items": null,
            "grid_row": null,
            "max_height": null,
            "align_content": null,
            "visibility": null,
            "align_self": null,
            "height": null,
            "min_height": null,
            "padding": null,
            "grid_auto_rows": null,
            "grid_gap": null,
            "max_width": null,
            "order": null,
            "_view_module_version": "1.2.0",
            "grid_template_areas": null,
            "object_position": null,
            "object_fit": null,
            "grid_auto_columns": null,
            "margin": null,
            "display": null,
            "left": null
          }
        },
        "cbf22e9a2c5a48d488a50f22a4f47b17": {
          "model_module": "@jupyter-widgets/controls",
          "model_name": "IntSliderModel",
          "state": {
            "_view_name": "IntSliderView",
            "style": "IPY_MODEL_1fa1d53f402142a2be5e76994462e6ad",
            "_dom_classes": [],
            "description": "Na",
            "step": 1,
            "_model_name": "IntSliderModel",
            "orientation": "horizontal",
            "max": 5,
            "_view_module": "@jupyter-widgets/controls",
            "_model_module_version": "1.5.0",
            "value": 1,
            "_view_count": null,
            "disabled": false,
            "_view_module_version": "1.5.0",
            "min": 1,
            "continuous_update": true,
            "readout_format": "d",
            "description_tooltip": null,
            "readout": true,
            "_model_module": "@jupyter-widgets/controls",
            "layout": "IPY_MODEL_7cf479cc03244fd1a3ff3cbd286b7df4"
          }
        },
        "afd58a09a619447ab2a52f1ebf918488": {
          "model_module": "@jupyter-widgets/output",
          "model_name": "OutputModel",
          "state": {
            "_view_name": "OutputView",
            "msg_id": "",
            "_dom_classes": [],
            "_model_name": "OutputModel",
            "outputs": [
              {
                "output_type": "display_data",
                "metadata": {
                  "tags": [],
                  "needs_background": "light"
                },
                "image/png": "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\n",
                "text/plain": "<Figure size 432x288 with 1 Axes>"
              }
            ],
            "_view_module": "@jupyter-widgets/output",
            "_model_module_version": "1.0.0",
            "_view_count": null,
            "_view_module_version": "1.0.0",
            "layout": "IPY_MODEL_76b8b89e2f5f4d6babafdd6403c4ca8c",
            "_model_module": "@jupyter-widgets/output"
          }
        },
        "1fa1d53f402142a2be5e76994462e6ad": {
          "model_module": "@jupyter-widgets/controls",
          "model_name": "SliderStyleModel",
          "state": {
            "_view_name": "StyleView",
            "handle_color": null,
            "_model_name": "SliderStyleModel",
            "description_width": "",
            "_view_module": "@jupyter-widgets/base",
            "_model_module_version": "1.5.0",
            "_view_count": null,
            "_view_module_version": "1.2.0",
            "_model_module": "@jupyter-widgets/controls"
          }
        },
        "7cf479cc03244fd1a3ff3cbd286b7df4": {
          "model_module": "@jupyter-widgets/base",
          "model_name": "LayoutModel",
          "state": {
            "_view_name": "LayoutView",
            "grid_template_rows": null,
            "right": null,
            "justify_content": null,
            "_view_module": "@jupyter-widgets/base",
            "overflow": null,
            "_model_module_version": "1.2.0",
            "_view_count": null,
            "flex_flow": null,
            "width": null,
            "min_width": null,
            "border": null,
            "align_items": null,
            "bottom": null,
            "_model_module": "@jupyter-widgets/base",
            "top": null,
            "grid_column": null,
            "overflow_y": null,
            "overflow_x": null,
            "grid_auto_flow": null,
            "grid_area": null,
            "grid_template_columns": null,
            "flex": null,
            "_model_name": "LayoutModel",
            "justify_items": null,
            "grid_row": null,
            "max_height": null,
            "align_content": null,
            "visibility": null,
            "align_self": null,
            "height": null,
            "min_height": null,
            "padding": null,
            "grid_auto_rows": null,
            "grid_gap": null,
            "max_width": null,
            "order": null,
            "_view_module_version": "1.2.0",
            "grid_template_areas": null,
            "object_position": null,
            "object_fit": null,
            "grid_auto_columns": null,
            "margin": null,
            "display": null,
            "left": null
          }
        },
        "76b8b89e2f5f4d6babafdd6403c4ca8c": {
          "model_module": "@jupyter-widgets/base",
          "model_name": "LayoutModel",
          "state": {
            "_view_name": "LayoutView",
            "grid_template_rows": null,
            "right": null,
            "justify_content": null,
            "_view_module": "@jupyter-widgets/base",
            "overflow": null,
            "_model_module_version": "1.2.0",
            "_view_count": null,
            "flex_flow": null,
            "width": null,
            "min_width": null,
            "border": null,
            "align_items": null,
            "bottom": null,
            "_model_module": "@jupyter-widgets/base",
            "top": null,
            "grid_column": null,
            "overflow_y": null,
            "overflow_x": null,
            "grid_auto_flow": null,
            "grid_area": null,
            "grid_template_columns": null,
            "flex": null,
            "_model_name": "LayoutModel",
            "justify_items": null,
            "grid_row": null,
            "max_height": null,
            "align_content": null,
            "visibility": null,
            "align_self": null,
            "height": null,
            "min_height": null,
            "padding": null,
            "grid_auto_rows": null,
            "grid_gap": null,
            "max_width": null,
            "order": null,
            "_view_module_version": "1.2.0",
            "grid_template_areas": null,
            "object_position": null,
            "object_fit": null,
            "grid_auto_columns": null,
            "margin": null,
            "display": null,
            "left": null
          }
        },
        "44e06cc72a1f4996b3438e2b04ce433b": {
          "model_module": "@jupyter-widgets/controls",
          "model_name": "VBoxModel",
          "state": {
            "_view_name": "VBoxView",
            "_dom_classes": [
              "widget-interact"
            ],
            "_model_name": "VBoxModel",
            "_view_module": "@jupyter-widgets/controls",
            "_model_module_version": "1.5.0",
            "_view_count": null,
            "_view_module_version": "1.5.0",
            "box_style": "",
            "layout": "IPY_MODEL_7e85cb12e5484e30acda4a227ca0db94",
            "_model_module": "@jupyter-widgets/controls",
            "children": [
              "IPY_MODEL_c0764a40d2c3408faf04165f88c4c88c",
              "IPY_MODEL_78d97e7834774f2fa046a6a80f1ebea7"
            ]
          }
        },
        "7e85cb12e5484e30acda4a227ca0db94": {
          "model_module": "@jupyter-widgets/base",
          "model_name": "LayoutModel",
          "state": {
            "_view_name": "LayoutView",
            "grid_template_rows": null,
            "right": null,
            "justify_content": null,
            "_view_module": "@jupyter-widgets/base",
            "overflow": null,
            "_model_module_version": "1.2.0",
            "_view_count": null,
            "flex_flow": null,
            "width": null,
            "min_width": null,
            "border": null,
            "align_items": null,
            "bottom": null,
            "_model_module": "@jupyter-widgets/base",
            "top": null,
            "grid_column": null,
            "overflow_y": null,
            "overflow_x": null,
            "grid_auto_flow": null,
            "grid_area": null,
            "grid_template_columns": null,
            "flex": null,
            "_model_name": "LayoutModel",
            "justify_items": null,
            "grid_row": null,
            "max_height": null,
            "align_content": null,
            "visibility": null,
            "align_self": null,
            "height": null,
            "min_height": null,
            "padding": null,
            "grid_auto_rows": null,
            "grid_gap": null,
            "max_width": null,
            "order": null,
            "_view_module_version": "1.2.0",
            "grid_template_areas": null,
            "object_position": null,
            "object_fit": null,
            "grid_auto_columns": null,
            "margin": null,
            "display": null,
            "left": null
          }
        },
        "c0764a40d2c3408faf04165f88c4c88c": {
          "model_module": "@jupyter-widgets/controls",
          "model_name": "IntSliderModel",
          "state": {
            "_view_name": "IntSliderView",
            "style": "IPY_MODEL_4e10aae479854ce6b0b2ea4f3e02c74c",
            "_dom_classes": [],
            "description": "Na",
            "step": 1,
            "_model_name": "IntSliderModel",
            "orientation": "horizontal",
            "max": 5,
            "_view_module": "@jupyter-widgets/controls",
            "_model_module_version": "1.5.0",
            "value": 1,
            "_view_count": null,
            "disabled": false,
            "_view_module_version": "1.5.0",
            "min": 1,
            "continuous_update": true,
            "readout_format": "d",
            "description_tooltip": null,
            "readout": true,
            "_model_module": "@jupyter-widgets/controls",
            "layout": "IPY_MODEL_962fddeedd4f4c85a3266eb4647dc9a5"
          }
        },
        "78d97e7834774f2fa046a6a80f1ebea7": {
          "model_module": "@jupyter-widgets/output",
          "model_name": "OutputModel",
          "state": {
            "_view_name": "OutputView",
            "msg_id": "",
            "_dom_classes": [],
            "_model_name": "OutputModel",
            "outputs": [
              {
                "output_type": "display_data",
                "metadata": {
                  "tags": [],
                  "needs_background": "light"
                },
                "image/png": "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\n",
                "text/plain": "<Figure size 432x288 with 1 Axes>"
              }
            ],
            "_view_module": "@jupyter-widgets/output",
            "_model_module_version": "1.0.0",
            "_view_count": null,
            "_view_module_version": "1.0.0",
            "layout": "IPY_MODEL_0ddef0e228c7494b8f7d5cce307b54b7",
            "_model_module": "@jupyter-widgets/output"
          }
        },
        "4e10aae479854ce6b0b2ea4f3e02c74c": {
          "model_module": "@jupyter-widgets/controls",
          "model_name": "SliderStyleModel",
          "state": {
            "_view_name": "StyleView",
            "handle_color": null,
            "_model_name": "SliderStyleModel",
            "description_width": "",
            "_view_module": "@jupyter-widgets/base",
            "_model_module_version": "1.5.0",
            "_view_count": null,
            "_view_module_version": "1.2.0",
            "_model_module": "@jupyter-widgets/controls"
          }
        },
        "962fddeedd4f4c85a3266eb4647dc9a5": {
          "model_module": "@jupyter-widgets/base",
          "model_name": "LayoutModel",
          "state": {
            "_view_name": "LayoutView",
            "grid_template_rows": null,
            "right": null,
            "justify_content": null,
            "_view_module": "@jupyter-widgets/base",
            "overflow": null,
            "_model_module_version": "1.2.0",
            "_view_count": null,
            "flex_flow": null,
            "width": null,
            "min_width": null,
            "border": null,
            "align_items": null,
            "bottom": null,
            "_model_module": "@jupyter-widgets/base",
            "top": null,
            "grid_column": null,
            "overflow_y": null,
            "overflow_x": null,
            "grid_auto_flow": null,
            "grid_area": null,
            "grid_template_columns": null,
            "flex": null,
            "_model_name": "LayoutModel",
            "justify_items": null,
            "grid_row": null,
            "max_height": null,
            "align_content": null,
            "visibility": null,
            "align_self": null,
            "height": null,
            "min_height": null,
            "padding": null,
            "grid_auto_rows": null,
            "grid_gap": null,
            "max_width": null,
            "order": null,
            "_view_module_version": "1.2.0",
            "grid_template_areas": null,
            "object_position": null,
            "object_fit": null,
            "grid_auto_columns": null,
            "margin": null,
            "display": null,
            "left": null
          }
        },
        "0ddef0e228c7494b8f7d5cce307b54b7": {
          "model_module": "@jupyter-widgets/base",
          "model_name": "LayoutModel",
          "state": {
            "_view_name": "LayoutView",
            "grid_template_rows": null,
            "right": null,
            "justify_content": null,
            "_view_module": "@jupyter-widgets/base",
            "overflow": null,
            "_model_module_version": "1.2.0",
            "_view_count": null,
            "flex_flow": null,
            "width": null,
            "min_width": null,
            "border": null,
            "align_items": null,
            "bottom": null,
            "_model_module": "@jupyter-widgets/base",
            "top": null,
            "grid_column": null,
            "overflow_y": null,
            "overflow_x": null,
            "grid_auto_flow": null,
            "grid_area": null,
            "grid_template_columns": null,
            "flex": null,
            "_model_name": "LayoutModel",
            "justify_items": null,
            "grid_row": null,
            "max_height": null,
            "align_content": null,
            "visibility": null,
            "align_self": null,
            "height": null,
            "min_height": null,
            "padding": null,
            "grid_auto_rows": null,
            "grid_gap": null,
            "max_width": null,
            "order": null,
            "_view_module_version": "1.2.0",
            "grid_template_areas": null,
            "object_position": null,
            "object_fit": null,
            "grid_auto_columns": null,
            "margin": null,
            "display": null,
            "left": null
          }
        },
        "0dd6805d42a548738cb8253fe9bdf625": {
          "model_module": "@jupyter-widgets/controls",
          "model_name": "VBoxModel",
          "state": {
            "_view_name": "VBoxView",
            "_dom_classes": [
              "widget-interact"
            ],
            "_model_name": "VBoxModel",
            "_view_module": "@jupyter-widgets/controls",
            "_model_module_version": "1.5.0",
            "_view_count": null,
            "_view_module_version": "1.5.0",
            "box_style": "",
            "layout": "IPY_MODEL_fdc0766749964aa8aec101613f1e8b4a",
            "_model_module": "@jupyter-widgets/controls",
            "children": [
              "IPY_MODEL_f6f7357653464ac0b10feb515680026e",
              "IPY_MODEL_585d0c8436674da88569ebb0cf89af1b"
            ]
          }
        },
        "fdc0766749964aa8aec101613f1e8b4a": {
          "model_module": "@jupyter-widgets/base",
          "model_name": "LayoutModel",
          "state": {
            "_view_name": "LayoutView",
            "grid_template_rows": null,
            "right": null,
            "justify_content": null,
            "_view_module": "@jupyter-widgets/base",
            "overflow": null,
            "_model_module_version": "1.2.0",
            "_view_count": null,
            "flex_flow": null,
            "width": null,
            "min_width": null,
            "border": null,
            "align_items": null,
            "bottom": null,
            "_model_module": "@jupyter-widgets/base",
            "top": null,
            "grid_column": null,
            "overflow_y": null,
            "overflow_x": null,
            "grid_auto_flow": null,
            "grid_area": null,
            "grid_template_columns": null,
            "flex": null,
            "_model_name": "LayoutModel",
            "justify_items": null,
            "grid_row": null,
            "max_height": null,
            "align_content": null,
            "visibility": null,
            "align_self": null,
            "height": null,
            "min_height": null,
            "padding": null,
            "grid_auto_rows": null,
            "grid_gap": null,
            "max_width": null,
            "order": null,
            "_view_module_version": "1.2.0",
            "grid_template_areas": null,
            "object_position": null,
            "object_fit": null,
            "grid_auto_columns": null,
            "margin": null,
            "display": null,
            "left": null
          }
        },
        "f6f7357653464ac0b10feb515680026e": {
          "model_module": "@jupyter-widgets/controls",
          "model_name": "IntSliderModel",
          "state": {
            "_view_name": "IntSliderView",
            "style": "IPY_MODEL_49b6d3dc713545e99bd3634aed4e5d1d",
            "_dom_classes": [],
            "description": "Na",
            "step": 1,
            "_model_name": "IntSliderModel",
            "orientation": "horizontal",
            "max": 5,
            "_view_module": "@jupyter-widgets/controls",
            "_model_module_version": "1.5.0",
            "value": 1,
            "_view_count": null,
            "disabled": false,
            "_view_module_version": "1.5.0",
            "min": 1,
            "continuous_update": true,
            "readout_format": "d",
            "description_tooltip": null,
            "readout": true,
            "_model_module": "@jupyter-widgets/controls",
            "layout": "IPY_MODEL_7660e2f64fb743268a72d2ace0f0ff64"
          }
        },
        "585d0c8436674da88569ebb0cf89af1b": {
          "model_module": "@jupyter-widgets/output",
          "model_name": "OutputModel",
          "state": {
            "_view_name": "OutputView",
            "msg_id": "",
            "_dom_classes": [],
            "_model_name": "OutputModel",
            "outputs": [
              {
                "output_type": "display_data",
                "metadata": {
                  "tags": [],
                  "needs_background": "light"
                },
                "image/png": "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\n",
                "text/plain": "<Figure size 432x288 with 1 Axes>"
              }
            ],
            "_view_module": "@jupyter-widgets/output",
            "_model_module_version": "1.0.0",
            "_view_count": null,
            "_view_module_version": "1.0.0",
            "layout": "IPY_MODEL_91b118328c1146eeae3ee8440e4282ee",
            "_model_module": "@jupyter-widgets/output"
          }
        },
        "49b6d3dc713545e99bd3634aed4e5d1d": {
          "model_module": "@jupyter-widgets/controls",
          "model_name": "SliderStyleModel",
          "state": {
            "_view_name": "StyleView",
            "handle_color": null,
            "_model_name": "SliderStyleModel",
            "description_width": "",
            "_view_module": "@jupyter-widgets/base",
            "_model_module_version": "1.5.0",
            "_view_count": null,
            "_view_module_version": "1.2.0",
            "_model_module": "@jupyter-widgets/controls"
          }
        },
        "7660e2f64fb743268a72d2ace0f0ff64": {
          "model_module": "@jupyter-widgets/base",
          "model_name": "LayoutModel",
          "state": {
            "_view_name": "LayoutView",
            "grid_template_rows": null,
            "right": null,
            "justify_content": null,
            "_view_module": "@jupyter-widgets/base",
            "overflow": null,
            "_model_module_version": "1.2.0",
            "_view_count": null,
            "flex_flow": null,
            "width": null,
            "min_width": null,
            "border": null,
            "align_items": null,
            "bottom": null,
            "_model_module": "@jupyter-widgets/base",
            "top": null,
            "grid_column": null,
            "overflow_y": null,
            "overflow_x": null,
            "grid_auto_flow": null,
            "grid_area": null,
            "grid_template_columns": null,
            "flex": null,
            "_model_name": "LayoutModel",
            "justify_items": null,
            "grid_row": null,
            "max_height": null,
            "align_content": null,
            "visibility": null,
            "align_self": null,
            "height": null,
            "min_height": null,
            "padding": null,
            "grid_auto_rows": null,
            "grid_gap": null,
            "max_width": null,
            "order": null,
            "_view_module_version": "1.2.0",
            "grid_template_areas": null,
            "object_position": null,
            "object_fit": null,
            "grid_auto_columns": null,
            "margin": null,
            "display": null,
            "left": null
          }
        },
        "91b118328c1146eeae3ee8440e4282ee": {
          "model_module": "@jupyter-widgets/base",
          "model_name": "LayoutModel",
          "state": {
            "_view_name": "LayoutView",
            "grid_template_rows": null,
            "right": null,
            "justify_content": null,
            "_view_module": "@jupyter-widgets/base",
            "overflow": null,
            "_model_module_version": "1.2.0",
            "_view_count": null,
            "flex_flow": null,
            "width": null,
            "min_width": null,
            "border": null,
            "align_items": null,
            "bottom": null,
            "_model_module": "@jupyter-widgets/base",
            "top": null,
            "grid_column": null,
            "overflow_y": null,
            "overflow_x": null,
            "grid_auto_flow": null,
            "grid_area": null,
            "grid_template_columns": null,
            "flex": null,
            "_model_name": "LayoutModel",
            "justify_items": null,
            "grid_row": null,
            "max_height": null,
            "align_content": null,
            "visibility": null,
            "align_self": null,
            "height": null,
            "min_height": null,
            "padding": null,
            "grid_auto_rows": null,
            "grid_gap": null,
            "max_width": null,
            "order": null,
            "_view_module_version": "1.2.0",
            "grid_template_areas": null,
            "object_position": null,
            "object_fit": null,
            "grid_auto_columns": null,
            "margin": null,
            "display": null,
            "left": null
          }
        },
        "e8c65fa228944d8a844cb58d2096fc64": {
          "model_module": "@jupyter-widgets/controls",
          "model_name": "VBoxModel",
          "state": {
            "_view_name": "VBoxView",
            "_dom_classes": [
              "widget-interact"
            ],
            "_model_name": "VBoxModel",
            "_view_module": "@jupyter-widgets/controls",
            "_model_module_version": "1.5.0",
            "_view_count": null,
            "_view_module_version": "1.5.0",
            "box_style": "",
            "layout": "IPY_MODEL_440271939f4a4446b524bc751fb56ab5",
            "_model_module": "@jupyter-widgets/controls",
            "children": [
              "IPY_MODEL_82c40eff20fb4367a440476b80555785",
              "IPY_MODEL_01eef5edeb884f4eaef23b7211b8680b"
            ]
          }
        },
        "440271939f4a4446b524bc751fb56ab5": {
          "model_module": "@jupyter-widgets/base",
          "model_name": "LayoutModel",
          "state": {
            "_view_name": "LayoutView",
            "grid_template_rows": null,
            "right": null,
            "justify_content": null,
            "_view_module": "@jupyter-widgets/base",
            "overflow": null,
            "_model_module_version": "1.2.0",
            "_view_count": null,
            "flex_flow": null,
            "width": null,
            "min_width": null,
            "border": null,
            "align_items": null,
            "bottom": null,
            "_model_module": "@jupyter-widgets/base",
            "top": null,
            "grid_column": null,
            "overflow_y": null,
            "overflow_x": null,
            "grid_auto_flow": null,
            "grid_area": null,
            "grid_template_columns": null,
            "flex": null,
            "_model_name": "LayoutModel",
            "justify_items": null,
            "grid_row": null,
            "max_height": null,
            "align_content": null,
            "visibility": null,
            "align_self": null,
            "height": null,
            "min_height": null,
            "padding": null,
            "grid_auto_rows": null,
            "grid_gap": null,
            "max_width": null,
            "order": null,
            "_view_module_version": "1.2.0",
            "grid_template_areas": null,
            "object_position": null,
            "object_fit": null,
            "grid_auto_columns": null,
            "margin": null,
            "display": null,
            "left": null
          }
        },
        "82c40eff20fb4367a440476b80555785": {
          "model_module": "@jupyter-widgets/controls",
          "model_name": "IntSliderModel",
          "state": {
            "_view_name": "IntSliderView",
            "style": "IPY_MODEL_6976d91694424b2ea0474ec2feaf352f",
            "_dom_classes": [],
            "description": "Na",
            "step": 1,
            "_model_name": "IntSliderModel",
            "orientation": "horizontal",
            "max": 5,
            "_view_module": "@jupyter-widgets/controls",
            "_model_module_version": "1.5.0",
            "value": 1,
            "_view_count": null,
            "disabled": false,
            "_view_module_version": "1.5.0",
            "min": 1,
            "continuous_update": true,
            "readout_format": "d",
            "description_tooltip": null,
            "readout": true,
            "_model_module": "@jupyter-widgets/controls",
            "layout": "IPY_MODEL_9ba97bc18744471da681c8906eb0e172"
          }
        },
        "01eef5edeb884f4eaef23b7211b8680b": {
          "model_module": "@jupyter-widgets/output",
          "model_name": "OutputModel",
          "state": {
            "_view_name": "OutputView",
            "msg_id": "",
            "_dom_classes": [],
            "_model_name": "OutputModel",
            "outputs": [
              {
                "output_type": "display_data",
                "metadata": {
                  "tags": [],
                  "needs_background": "light"
                },
                "image/png": "iVBORw0KGgoAAAANSUhEUgAAAYkAAAEfCAYAAAC04jrjAAAABHNCSVQICAgIfAhkiAAAAAlwSFlzAAALEgAACxIB0t1+/AAAADh0RVh0U29mdHdhcmUAbWF0cGxvdGxpYiB2ZXJzaW9uMy4yLjEsIGh0dHA6Ly9tYXRwbG90bGliLm9yZy+j8jraAAAgAElEQVR4nO3dd3RU1RbA4d9OIYGE0AkKUgREpEtvUgRBkGKXImIBy1PwKSr23hWxYHsWRLo0aYJYIlV6770LSE9II5z3x2SGeycTSEgyLftbK4vJmX1nziRh9pwuxhiUUkopT0J8XQGllFL+S5OEUkqpTGmSUEoplSlNEkoppTKlSUIppVSmNEkopZTKlCYJFXBEpK+ImEy+TuTh84aIyLMisktEkkRktYjcmo3ru4vIyvRrd4vICyIS6iGuhYgsFJFEEflHRIaISEG3mDjLax5uKS8pIpNE5KSIrBORth4e/3MRmeGhvJzbz7JdVl+bCl5hvq6AUjlwO7DPrexsHj7f68Ag4HlgOXAX8JOI3GSMmXmhC0WkAzAR+BZ4AqgHvAUUBp6xxNUG5gCzgZuASsD7QFngTreHXQk8AhyxlA0BKgN3pF8/QUQqG2OOpz9+faAPUNtDNQ8DTYFrgWEXej0qHzHG6Jd+BdQX0BcwQJVsXheRg+csDSQDr7qV/w6sycL1K4G/3MpeAlKAMpayycBWINxS1if99V5rKYsD4jw8zxHgjvTbYcBp4Mb070OAJcCLF6lr6/Tna+fr37V++f5Lu5tUULJ0SV0nIj+ld0MtzsFDdgAKACPdykcCtUSk0gXqcgVQ18O1PwLhwI3pceFAR2C8MSbVEjceRzLploV6FgASAYwxZ9Ovi0y/rz9QBHgvC4+jFKDdTSqwhYqI+9/wOWPMOcv3o4AxwG2k/72LiAAZxgI8sD5WDRwtiW1uMevT/70G2JnJ49RI/3edtdAYs1NEzqRfC45uokgPcUkist0SdyGLgQdFZCHQHUd31nIRKQW8CdxpjEnOwuMoBWiSUIFtk4eyGTj64p0mGGOedou5B/g+C4//A46uLYDiwAljjPtmZ8cs92fGed9xD/cdt9x/obhjF3kOpydw/Az+xTE+86QxZo+IfAfMMcb8loXHUMpFk4QKZDeTceDafXbTZA/XTQMaZuHx/72USvmSMWadiFQGrgT+McacEpHmwC1AdREpiWNQuh2O8YsXjTE/+a7Gyt9pklCBbJ0xxr37x91BD2XHgJNZeHxrt9VxoKiIiFtrwvnp/hiZc7YMinm4r5jl2gvFFed819YFpY9FbAFIn2L7OfCyMeagiIwConHMmmoMTBORNcaYzVl5bJX/6MC1Cnae9sK/B0jNwtd3lmvWAxE4xg2snOMEGy5QB+ebew1roYhUBApZrt2OY9zDPS4SR8vgQs+RmcdwJLvP0r/vCHxpjDlljJmTXjddD6EypS0JlR9dSnfTLByJoxfwqqW8N44WTWaD1qSPCaxOv/Ybt2tTgV/S41JEZBZwh4i8kt4iAMegewQwNQt1dhGRy4BXgI7GmDTLXVGW29GAZOdxVf6iSUIFsrrpfezull3oImPMUeBodp7IGHNYRIYAz4rIaWAFjsVtbYGu1lgR+R2oYIypYil+DpguIl/hmG1VD3gB+NgY848l7hXgb2C8iAwDKuJYTDfBGLM8O3XGsbBuvDHmb0vZb8ALInISaISjZfRHNh9X5SOaJFQgy2zAtVQePd/zQDwwECgDbMaxcG26W1wobv+3jDEzReQ24GUcM6YO4Vhx/aZb3CoRuQF4F8cspZPACBxJJsvSt+NoB1Rzu2sA8CUwFkeivMcYcyndWCqfkIwz+pRS/k5E4nB0E11PxrUhOXncMKAVjhZHe50yq3TgWqnAdR0ZB9gvmYiUS388TQzKRVsSSgUgEamGYzU1wL/GmF258JjhQB1L0WZjzOmcPq4KbJoklFJKZUq7m5RSSmUqqGY3lSxZ0lSsWDHXHzchIYGoqKiLB/qxQH8NgV5/CPzXoPX3vbx6DcuXL//XGONxVmBQJYmKFSuybNkFp8hfkri4OFq3bp3rj+tNgf4aAr3+EPivQevve3n1GkRkd2b3aXeTUkqpTGmSUEoplSlNEkoppTIVVGMSSimV11JTU9m3bx9JSUlef+4iRYqwcePGS74+MjKScuXKER4enuVrNEkopVQ27Nu3j8KFC1OxYkUcJ+F6z+nTpylcuPDFAz0wxnD06FH27dtHpUqZHsmegVeThIg8imNzs1rAGGNM3wvE/hd4Bsd++xOAh/VsXhUIqjw7g7OZrVGdNSND0a53OudthVSuSkpK8kmCyCkRoUSJEhw5ciRb13m7JXEAeAPoABTMLEhEOgCDcWzDfADHEZSvppcp5VcqDs74xp+T6zVp+L9ASxBOl1JvryYJY8wkABFpAJS7QOg9wLfGmPXp8a8Do9AkofxE7ZdncSo5zeN9IefSuOLkISof3Uds/DFikuOJTE0hOawAieERHIgpxd4isewoXo6UsIx9w9akoQlD+ZpP9m4SkTeAcpl1N6Wf4vWWMWZc+vclcRzaXjL9wBhrbH+gP0BsbGz9sWPH5np94+PjiY6OzvXH9aZAfw3+Uv9+sxNI9fBfpvLRvbTbtpjmu1bTYP8GCqVevGc0OTSMdbFV+Lt8LWZf1ZQ1ZapCJp/0hnf0/Uphf/kdXKrcqn+RIkWoUqXKxQPzQFpaGqGhoTl6jG3btnHypP2I9zZt2iw3xjTwFO+vSWI78B9jzKz078OBFKDShXa7bNCggdEV154F+mvwdf3bD4lj6+EEW1nBlCRuW/cbt639nTr/bAVgS4nyLKxQm/WxV7K9xBXsjynFqYhoksILEHE2haiUJC4/dYQKJw5S859tNNi/kToHtxB+Lo19MaUZV7s9Y+p25N+oYhnqECaw7W3ftSx8/TvIqdyq/8aNG6levXqW46es3M/7szdz4EQilxctyFMdqtG9XtlLeu6cDFw7eaq/iGSaJPx1dlM8EGP53nlbty1WXuc+ZlAk8TT3LfuZPitmUCzpNOtiK/N62weYfnULDhX2dJqqQ1J4JEnhkRyNKsray6oyvfp1rsdrv20xXTf8xZPzR/HYwnFMrtGGT5r3YH+R0q7rzxpHXbQLKnBMWbmfZyetJTHV0TW5/0Qiz05aC3DJiQJg6dKl3H///SxZsoS0tDQaNWrE6NGj+fjjj1m3bh2pqam88sordOvWLcevwV+TxHoc+9qPT/++DnDIvatJqbzU+M05HDqd4vo+PC2Vu1fMZMDCMcQkJfDrVU34utEtrCib9U+VnpwsWJgJtdoxoVY7rjy6j3tWTOOu1b/SfcOfjK57Ix+16MWpyPPdJBUHz0CAnZos/N77sze7EoRTYmoa78/enKMk0bBhQ7p27coLL7xAYmIivXv3Zty4cbRt25bvvvuOEydO0KhRI9q1a5fjDQG9PQU2LP05Q4FQEYkEzhpjzrqFjgCGi8goHLObXgCGe7OuKn9zbz3U37eB9375hMrH9jG3Yj3ebHs/m0tVzPLj7XqnM3Fxcdw7K4ELdfDuKFGOl9s/zJeNb+OxhWO5e8UMbto4j9ev78fU6te5xiwM2qoIBAdOJGarPDteeuklGjZsSGRkJJ988gmNGzdm6tSpfPDBB4Bjqu6ePXuy1TXmibdbEi/gOAjeqTfwqoh8B2wArjHG7DHGzBKR94A/cUyVneh2nVJ5xpogIlOTeHLeSO5f+jMHYkrR97aXibuyQaYDzACRocKmNzt5vM/903+v/y1iwfZjGeIOxpTiuY6PMbJeZ96a/SmfTHufrhvieLrT4xwrVMRW16F31s3Rp1KVdy4vWpD9HhLC5UUzXQGQZUePHiU+Pp7U1FSSkpIwxjBx4kSqVauW48e28ureTcaYV4wx4vb1SnpiiDbG7LHEDjHGxBpjYowx9+pCOuUN1gRR6dh+pox4kn5LpzCq3o10uO8z4io3zDRB7HqnM7ve6ZxpgvBkVL+mrus82RB7Jbf0/oBXr+9Hy12rmPXdozTbtcoW8/i4VdR+eVaWn1N5z1MdqlEw3D4bqWB4KE91yPkb+YMPPsjrr79Or169eOaZZ+jQoQOffvopzslIK1euzPFzgP+OSSjlVe6zlzpsXsgHMz8iNTScPre/ytwr62d6bW51+Tgfp9LgGbYuqXMhoXzfoBt/l6/Fpz+/x8hxL/Jhy94Ma3qHK2GdSk7T7ic/5Gzh5dbsJqcRI0YQHh5Oz549SUtLo1mzZrz00ktMnTqV2rVrc+7cOSpVqsT06dNz/Bo0Sah8z/ambAwDFo7lifmjWHXZVTzSfTAHYkp7vC6v3pCdXVLu4yIbS19Jl3uG8vbsT3lq3o9UPbqHZzoOIDk8whWjicL/dK9XNte7A/v06UOfPn0ACA0NZfHixQB07pz7v3vdKlzlaxUtCSIs7Szv/fIxT8wfxcSabbmj57seE0TV0lFeeSP21A2VWCCSx28axHvX9aH7hr8YO+Y5ip2xL4zK6TYhSllpklD5lvXNtGBKEt9OfI071v7Gx8168GSn/3rcMmPXO52Z80RrL9bSQ4tFhM+b3sGDNz9H9SM7GTf6WWJP/2sL0UShcosmCZUvWd9EC6Uk8v2EV2ixaxVPdxzARy17eRyc9mU3zq53OlO1tH2+++yrmtH39le4/PQRJox6hvLHD9ru10ShcoMmCZXvVLK8eUYln2H4Ty/TYN8GBnYZxPg6N2SIb165uF/08895onWGevxdvjY97nqLqJRExo/WRKFynyYJla/UfnmWawyiUEoiP/z0Mtfu38SArk+7tsmw2vVOZ0b1a+rdSl6Ee6JYe1lV7urxFgXSzjJ67PNcdsp+XoAmCpUTmiRUvvHClLWu7b3D01L5cvJb1DuwmUe7PcPMq1tkiPeH1kNm3Ou2pVRF7r7jNWKSExg99jlKxdsX6FXSRKEukSYJlW+M/NuxVlPMOT6YMZTrdq1kcMdHmVWteYZYf04QTu51XF+mCn1vf4XS8ccZMf4lCiefX/dhcKwFUSq7NEmofMHV5WIML/3+P7pt/It3WvXlp9oZxyACIUE4udd1Rdnq9L/lBaoc3cuwKe8QlnZ+W7SthxOYsnK/t6uoApwmCRX0rH3y9y6fyr3Lp/FNg2582fjWDLGBlCCc3Ou8oGJdnu34GNftWslbsz8Dy5kxj49b5X65CkBLly6ldu3aJCUlkZCQQI0aNVi3bl2ePJeuuFZBzZogWu1Yzgt/fMvsqk14s+39Gaa5BmKCcNr1Tmfba51Qqx1XnDjEwIVj2FO0DJ81u8t1n67KzkWPPw6rcjnx1q0LQ4deMMTTVuE1a9bM3Xqk05aEClrWTe8qH93Lpz+/y+ZSFfjvTU9ixP6nHwxvmu6v4aMWPZlYow2D5o2k3dbFtvt0xlPge+mll5gzZw7Lli3j6aefzrPn0ZaECkpTVu53zWQqkniabya+RnJYAfrd8iJnCti3aR56Z11fVDFP2FoUIjzX8TGqHN3HR9M/oHufIWwvcYUrtvGbc1j8fHsf1TRIXOQTf15y3yo8p4cLZUZbEiooOfvexZzjo+kfUvbkER68+XnbcaDg2Icp2M5isLYoksMK8NDNz5EcVoCvJr1JdPIZ133WU/dU4HHfKjyvaJJQQcfalfLQ4om03bGM169/gBXlMp7Q5e19mLyleeXirtsHY0rxn26DqXj8AENmDLENZGu3U2CybhU+ePBgli5dyh9//JEnz6VJQgWVq5+f6brdeM9aBs39kWlXt+THehnHHIJhHCIz7qvEF5evxZtt7+eGrX9z37Kptvs0UQSePn36MHHiROD8VuFt27bNk+fSJKGCxpSV+0lKc3xKLplwnE+nvseuYpcxuONjQTWTKavcX+P39bvya9UmDI77nloHt9rua/zmHG9WTQUQTRIqaFjHIYZO+4CY5AQe6f4sCRGFbHH5IUE42V6rCE/dOJAjUcX4dOp7Oj6hskSThAoK1i6T+5b+TIvdq3nl+v5sLlXRFue+3XZ+YE0UJwsWZmDXQZQ7eYg3Zw/T8YlLZIy5eJAfupR6a5JQAa/X/xa5blc7soun5/7Ar1WbMLZOhwyxwTpQfTHW5LisXA0+atGLbhv/4tZ19sFO3Qjw4iIjIzl69GjAJQpjDEePHiUyMjJb1+k6CRXwFmx37HgacTaFodM+4FRkdL4dh8jMnCda21oKXzS5jet2ruDl375iUYVarmNaDY6xnWCbFpybypUrx759+zhy5MjFg3NZUlJStt/krSIjIylXrly2rtEkoQKa9Y1v0NwRVD+yi763vcyxQkVscfk5QThZF9qdCwllUOf/Muu7R3l35if0ufM11yr0x8et0iRxAeHh4VSqVMknzx0XF0e9evW8+pza3aQClnXr66a719Bv6RRG1OtMXOWGtrjYwgW8XDP/ZV1dvrdoGd5o+wAtd6+i98qZtjjtdlJOmiRUwNp62HFeQsGUJN795WN2FLuct9rcmyFOt544r3u9soRZeuHG1OlAXKX6PBv3PRWPnd9G3NntpJQmCRWQbN1M836k/MlDDL5xAEnh9v5a7WbKaNvb9mmxz9z4GKkhYXwwcygh59Jcd+m24go0SagAZJ3NdO3+jdy7bCoj6nVmyRX2rZKtW1MoO2vyPFS4JC+3f4gG+zdm6HayrmBX+ZMmCRVwnLOZCpxN5d1fPuFATEnebXVPhjj3rSmUXUxEqOv2lGta81ela3l67gguO3V+1o5zBbvKvzRJqIBiHVB9bOFYqh7dy/MdHs3Xq6ov1ZpXO57/RoTnO/yHEHOO13/9XBfZKRdNEipgTFm5H+dbV/XDO3ho8QQm1mzLX1fWt8VpN1PWWZPpviKxfNiiN+22L6Xzpvm2ON3bKf/yapIQkeIiMllEEkRkt4j0zCQuQkS+FJFDInJMRKaJiE7czuesezO9OXsYJyOjea1tvwxx2s2UPdZup+ENurKmTBVe+f0rYpLiXeW6t1P+5e2WxDAgBYgFegFfiEgND3EDgaZAbeBy4DjwqbcqqfzP438kuG7fsWYO1x7YzFtt7uNkwcK2OO1myj5rt1NaSCiDOw6g2JlTPPfnd7a4vrMS3C9V+YDXkoSIRAG3Ai8aY+KNMfOBqcDdHsIrAbONMYeMMUnAOMBTMlH5xIn0D7LFzpxkcNxwFperwaQa9v3zddHcpbMustsQeyXfNuzOXWt+5dr9G21xunYi/xFvbVIlIvWABcaYQpayQUArY0wXt9gGwMfA7cAJ4BvgsDHmcQ+P2x/oDxAbG1t/7NixuV73+Ph4oqOjc/1xvSmQX4PjE6wBhLd/+YTb1v1O574fs8Vth9fhHf17h1d//x1YWwpRyWf4/ZuHOBJVjG59hnAuxNIl5ec/58z4+88/K/LqNbRp02a5MaaBp/u8uXdTNHDKrewkUNhD7FZgL7AfSAPWAo96elBjzNfA1wANGjQwrVu3zqXqnhcXF0dePK43BepreGHKWiABEK7dv5Eea37lq0a3ZEgQgdDN5O+/g12tz89kSogoxJtt7ufTae/Tc/VsRtbr5Iob8GeSfWZUgPD3n39W+OI1eHNMIh6IcSuLAU57iB0GRAAlgChgEvBLntZO+aWRf+8BIPRcGm/8+jkHo0vwcfMetpjIUPF0qboE1plh06pfx8LytRk0dwTFzpx0lZ9KTvN0qQpS3kwSW4AwEalqKasDrPcQWxcYbow5ZoxJxjFo3UhESnqhnspPWKdd3r1iBtcc3smr7fpzpkBBW9ymNzu5X6oukW1mmAgvtX+IqJREnv7rB1ucrp3IP7yWJIwxCThaBK+JSJSINAe6AT96CF8K9BGRIiISDjwCHDDG/Out+irfc067LHbmJP+dP4q5Fesx66pmthhdE5H7rF1320qW5/v6XblzzRzqHthsi9NB7PzB21NgHwEKAoeBMcDDxpj1ItJSROItcYOAJBxjE0eATsDNXq6r8qEqz57/pPrE/FFEpSTy2vX9MhwkpGsi8oa1C+/j5j04El2M1+Z8gZhzrnLdADB/8GqSSO8+6m6MiTLGlDfGjE4vn2eMibbEHTXG9DLGlDbGFDXGtDDGLPFmXZVvnU2fdHfVkV30XDWLkfU6sa1keVtMIAxWByprF15CRCHean0vtf/Zxi3r/rTFWc/0UMFJt+VQfsfV320ML/7+DacjCjG0hX1xvg5W5z1rV97Ua1qx6rKreGruDxRMSXKVO8/0UMFLk4TyK44prw7Xb19Cy92rGNq8JycK2ifG6WB13rN25RkJ4bW2/SgTf4wHl0y0xdV+eZa3q6a8SJOE8ivOKa/haak8/8e3bCtezjZHH6Bq6cBczBWIrF16K8pVZ/rVLXlw8STKnDo/h0SnxAY3TRLKb1j7t+9ZPo0rjx/gjbYPcDbUvuZzzhOtvVuxfM563Ok7rfsSYs7x1Fz7lFg9Ezt4aZJQfsPZv138zEkGLBjLn1fWJ66yfacAHaz2Putxp/uKxPJdg27cuv5Pah3c6irXo4mClyYJ5Resx2Q+tnAshVKTeKPNAz6skbKybic+rOkdHClUlBf/+J8eTpQPaJJQfsF5TGb54wfptfIXxte+ge0lr7DFaCvCd6x7NcVHFGJIy9402reBGzcvsMXpArvgo0lC+Zx14dxTc0dwNjSUj9ymvIbrjFefa3PF+dbE+Nrt2VyyPE/NHUFY2llXuS6wCz6aJJTPORfO1T64hS6b5vFNg+4cibZvt/G/DjqjydfuqRHpup0WEsp7re7hyuMHuHPNr7Y4XWAXXDRJKJ+yLpwbHDecowVj+LrxrbYYPUzIf1gPJ/q9ciOWlLuGgQvG6AK7IKZJQvmMtf+61c4VNNuzhk+b3UV8RCFb3OLn23u7aioT3etZjpoX4Z1W91I64Tj3LfvZFmfdwVcFNk0Symec/dch59IYHPc9u4uWYVS9G20xusur/3FfYPdr1SY8uHii7cwJ5w6+KvBpklA+Yd1+o/uGOKof2cUHLe8mNTTcFqe7vPon6wK7967rQ1RqEv9ZNN4Wo9t1BAdNEsonnNtvRJxN4Yl5I1lTpgrTq7e0xeiUV/9lXWC3rWR5JtS8nrtXzqDsycOuct2uIzhoklBeZ5390nvFDMqdOsLbre/FiP45BhLrAjvHLr3CE/NH2mKs05tVYNL/lcrrnLNfopLP8MjfPzG3Yj0WVahji9FWhP+zLrA7GFOK7+t34eZ1f1LtyC5X+VndryPgaZJQXmVtRfRdPo0Siaf4sGVvW4yumwsc1unJXzS5ndMRhRg0d4QtRlsTgU2ThPIqZysiJimeB5dMYk6Vxqy+vJotZqe2IgKGdXryyYKF+brRLbTftoQ6lvOwtTUR2DRJKK+xzp3vt2QyMckJGVoReuJc4LFOUx5evwtHC8bw5Dz72IRuJR64NEkor3HOnS9+5iT3LfuZaVe3ZFPpSrYYPXEu8FinKSdEFOKLJrdx3a6VNNy7zlWujYnApUlCeYV1zvzDf/9E5NkUPbc6iFhbEyPrdeJwVDEGzRupW4kHAU0Syiucc+ZjT//L3StnMqlGW7aXsG8Frq2IwGVtTSSFR/JZ0ztovHcdzXev9mGtVG7QJKHynLUV8Z9FPxFy7hwfN7/LFmOdc68CU+8m5V23x9bpyP7CpRg090dtTQQ4TRIqzzlbEeVOHuKu1bMZV+cG9hUtY4uxzrlXgemN7rVct1PCwvm02Z3UO7iZttuX+rBWKqc0Sag8ZW1FDFgwBiPCZ03vsMXoVuDBw7qV+IRa7dhdtAxPzB+FmHOucm1NBBZNEipPOVsRlY7t59Z1f/BjvU4cKlzSFqNbgQcP61biZ0PDGNq8JzUPbafDlkU+rJXKCU0SKs9c/fxM1+3H548mKawAXzS53RajrYjgY21N/HxNK7YVL8cT80YRcu78hn/amggcmiRUnklKcwxYVv53L102zuWH+jdxNKqoLUZbEcHH2po4FxLKRy16cdXRPXTZONeHtVKXSpOEyhPWVsSji8aRGB7B/xrebIvRVkTwsm7QOPPq5mwsVZEBC8dqayIAeTVJiEhxEZksIgkisltEel4g9loRmSsi8SJySEQGerOuKmecrYhKx/bTdeNcfry2M8cLFbHFaCsifzASwifN7qLysf0ZWhPWI2yVf/J2S2IYkALEAr2AL0SkhnuQiJQEZgFfASWAKsCvXqynygHrjKZHF44lOSw8Qyuiaukob1dLeZm1NTGrWjM2lazAgIXjbK0J5xG2yn95LUmISBRwK/CiMSbeGDMfmArc7SH8CWC2MWaUMSbZGHPaGLPRW3VVOeOc0VTh+AG6b/iLkXU7ZRiLmPNEax/UTPmKkRA+ad6Dysf2cdOm+bb7tDXh38QY72y9JSL1gAXGmEKWskFAK2NMF7fYP4C1QEMcrYjFwH+MMXs8PG5/oD9AbGxs/bFjx+Z63ePj44mOjs71x/Umb72GfrMTSE3/k3p/xlC6bJpLywe/5Uh0MVfM5VHwVsvstST0d+B7l1r/vrMc28OLOces7x4lxBg63PcZ50LOr7If3jHvW5aB/vOHvHsNbdq0WW6MaeDpvrBcf7bMRQOn3MpOAoU9xJYDrgXa40gW7wFjgObugcaYr4GvARo0aGBat26dezVOFxcXR148rjd56zWkznIMRpY/fpCb1//BD/W72BIEwMIXs39ehP4OfO9S6y+zZmBwjk30YNjUd+m8aT7TrmnlivHGzyXQf/7gm9fgzTGJeCDGrSwGOO0hNhGYbIxZaoxJAl4FmolIEQ+xyk9YxyIe+fsn0kJC+bLxrbYYHYvIf3a6zXTaUqI8jy0cp6uwA4Q3k8QWIExEqlrK6gDrPcSuwb4FvW5HHwCsezTduu53RtftyJHo4rYYHYvI34yE8GmzO7nq6B46bVpgu0/HJvyT15KEMSYBmAS8JiJRItIc6Ab86CH8e+BmEakrIuHAi8B8Y8xJb9VXZY91XcQji8ZzTiRDK8J65oDKX6wznWZc3YKtJa5gwMIxttaEznTyT96eAvsIUBA4jGOM4WFjzHoRaSki8c4gY8wfwHPAjPTYKkCmayqU7znXRZQ9eZjb1v7O2DodMuzRZD1zQOVf50JC+bTZXVT7dw83bl7o62+T1cIAACAASURBVOqoi/BqkjDGHDPGdDfGRBljyhtjRqeXzzPGRLvFfmGMKWuMKWaM6WKM2evNuqqscz91DuDLxrfZYnQsQllbE9OvbsG24uUYsGCMjk34Od2WQ+WYcyzislNHuGPNHMbXbs/BmFK2GB2LUFaO1sSdXP3vbt0h1s9pklA5Ym1FPLR4AgCfN7Xv9KpjEcrJ2pqYVv06thcvy0BtTfg1TRIqR6xnV9+1ejYTal3PgZjSthgdi1CeOMcmqh/ZxQ1b/vZ1dVQmNEmoS2ZvRUwkxBg+dzt1TscilDv31sSOYpczcKG2JvxVlpOEiESKSBsRuVdEHhGR20Wkcl5WTvk3ZyuiVPwxeq6axaQabdlXJNYWo2MR6kLS0lsT1xzeyQ1btTXhjy6aJESkuYiMB44Dc4APcExP/QHYIiJbReQpEfG0vYYKUo3fnOO6/dDiiYSeS+OzZnfaYrQVoTJjbU1MvaYVO4tdxmMLx4FlL7lK2prwCxdMEiIyFRgP7AZuAAobY0oYY8qlb9RXFXgDuB5HwtADAvKJQ6dTACgVf5xeq35hco227C1axhajrQiVFWkhoXzW9C5qHtpOu21LXOW6zYJ/uFhLYhZQyRjzVPpahkTrncaYHcaYH4wxHYF2eVZL5VesrYh+SyYRnnaWYW4zmrQVoS7G2pqYUqM1u4uWYeCC0dqa8DMXTBLGmM+NMSlZeSBjzHpjzJyLR6pA52xFlEg4wd0rZzLlmlbsKl7WFqOtCJUdjtbEHdQ6tJ2225e6yrU14XvZGbjeISIlPJQXFZEduVst5a/cWxEF0lIZ1tQ+FqFnV6usGnpnXdftyTXasqdILAMWjtHWhB/JzhTYikCoh/IIoKyHchWEnK2I4mdO0mflDKZVb8mOEuVsMXp2tcqq7vXOv3WcDQ1jWNM7qHtwK613LHeVa2vCt7Iyu+kWEbkl/dvOzu/Tv27HcdbDrryspPIP7YfEuW4/sHQykakpfNr0LltMTISnzxFKZa53k/Ku25NqtmVfTCkGLrC3Jqo8q60JX8lKS2JC+pcBvrV8PwEYCbQBnsyrCir/sfWw4xjKoomn6LNiBjOubsH2klfYYta82tEXVVMB7I3utVy3U0PD+bzpHdQ7uJnrdq5wlZ/V5oTPXDRJGGNCjDEhwB6gtPP79K8IY0w1Y8z0vK+q8qVe/zu/Cdv9S3+mUEoSnzSztyJ0LEJdKuvYxE+12rG/sLYm/EWWxySMMZWMMf/mZWWU/1qw/RgARRJP03f5VGZWa87WUhVsMToWoS6VdWwiNTScL5reTv0Dm2i+e7WrXFsTvnGxxXS9RUSy8kAiUkFEWuZOtZQ/sbYi7lv2M4VTEvm0uY5FqNxlHZsYX6s9B6NLZFg3YT0BUXnHxVoS9wGbReQ5EanlnjBEpLiIdE3ftmMpUCSvKqp8x9mKiEmK595lU/nlqmZsLlXRFqNjESqnrGMTKWHhfNHkNhrt20DTPWtc5c4TEJX3XGwxXVvgv0ArYBUQLyI7RWSjiPwDHAG+ArYBNXRsIvhYWxH3LptKTMoZPnUbi4gMzVJjU6mLsrYmxtXpwD/RxXl8wRhbjLYmvCsrA9czjDEdgFigNzAUx+Z+LwCNgLLGmOeMMUfytKbKJ5ytiMLJCdy37Gd+rdqEDbFX2mI2vdnJF1VTQcjamkgOK8CXjW+j8d51NNHWhM9kZzFdK2PMZGPMx8aYd4wx3xhjlhtjzonIM3lWQ+UzL0xZ67rdd9lUiiQn8LG2IlQes55kOKZOBw5HFXPMdLLQ1oT3ZCdJjBSRb0SkkLNARMqJyJ84uqRUkBn59x4AopPPcP+yn5lTpRHry1SxxWgrQuU260mGyeERfNn4NpruWUujvetc5dqa8J7sJInGQBNglYg0EJE7gTVAElAnLyqnfMfaiuizYjpFk+L5uHlPW4y2IlResbYmRtftwJGoogxwa01YT0ZUeSc76yTWAA2A+cAi4EfgFWPMjcaYQ3lUP+UjzlZEVPIZ+i2ZzO+VG7JOWxHKS6ytiaTwSL5qdAstdq+m/r4NrnLnyYgqb2X3jOs6OGY6bQNSgEZ6Il3wsbUiVs6gWNLpDKurw7QRofKYtTUxqm4n/i1UJMPYhLYm8l52tgp/CZgL/IwjWdQHrgbW6iK64OJsRRRKSaTfksnEVarP6sur2WK2vd3Z06VK5RprayKxQCRfN7qF63at5Nr9G13l2prIe9lpSTwEdDHGPGGMSTHGbMYxRjEW+C1Paqe8ztqK6L1yJsUTT/Fx8x62GG1FKG+xnnA4sl4njhaMYcCCsbYYbU3krewkidrGmF+tBcaYs8aYwYBu2hMknK2IgilJ9F8yibkV67Gy7NW2GG1FKG+xnnB4pkBBvml0M613LqfOgc2ucm1N5K3sDFxnurmfMWZu7lRH+ZK1FdFr1UxKnjnJULcZTdqKUN5mbU2MqNeZ45GFdWzCi7I7cK2CmLMVEZmaxIOLJzGvQl1WlKtui9FWhPI2a2siIaIQ/2t0M213LKP2wS2ucm1N5B1NEgqAKSv3u273WjWLUmdO8ElzndGk/IOtNXHtTZyIjM6wbsJ6/rrKPV5NEum7xk4WkQQR2S0iPS8SXyB9M8F93qpjfvX4uFUARKQm8+DiiSwsX5ulV9S0xWgrQvmKtTURH1GIbxp2p932pdT4Z5ur3Hn+uspd3m5JDMOxviIW6AV8ISI1LhD/FI6dZlUeso5F9Fg9m9IJxzPMaNJGhPI168mHP9TvwsmIKAYu1JlOec1rSUJEooBbgReNMfHGmPnAVODuTOIr4dh19m1v1TG/co5FRJxN4aHFE/j7iposLl/LFrPzHW1FKN+ynnx4OiKK7xp044atf3PNoR2uch2byH1ijHc2yhKResACY4x1g8BBOHaX7eIhfjrwLXAcGGmMKZfJ4/YH+gPExsbWHzt2rKewHImPjyc6OjrXH9ebMnsNP6xP4s+9jv9YfZZP47XfvqLHXW+xqEJtW9zwjlEZrvWmYP4dBAp/qP/jfyRwIr1XKSYpnvlf3s/CCrV56ObnXTEFQ+GL9hn/Xv2h/jmVV6+hTZs2y40xDTzdF5brz5a5aOCUW9lJIMO2HiJyMxBqjJksIq0v9KDGmK+BrwEaNGhgWre+YPgliYuLIy8e15syew19ZzkOly9wNpWH/57A4nI1WOTWitjlB62IYP4dBAp/qP+q1lBxsONv9lRkNN/X78rAhWO4+vBONpWuBEBiGh7r6Q/1zylfvAZvjknEAzFuZTHAaWtBerfUe8AAL9Ur37LOaOqxehaXxR91jEVYTqnVGU3K31hnOn3bsBunCxTkMbexCZ3plHu8mSS2AGEiUtVSVgdY7xZXFagIzEs/InUScJmI/CMiFb1Qz3zDOaMpMjWJ/ywaz99X1GRhBfuu7zqjSfkb60ynU5HRDK/flc6bF3DVkV2ucp3plHu8liSMMQk43vBfE5EoEWkOdMOx5bjVOuAKoG761wPAofTbe71V32DnvkdT6YTjfNiyt60VoY0I5a+sM52+bdiN+AIFGbBwnC1GZzrlDm9PgX0EKAgcBsYADxtj1otISxGJB9d+UP84v4BjwLn073XqQi6x7vT68N8TmFuxXoZ1ETqjSfkr60ynEwVj+OHam+i0aT5V/t3jKteZTrnDq0nCGHPMGNPdGBNljClvjBmdXj7PGONxyN4YE5fZzCZ1aWxnVy+fRonEUwxp2dsWo60I5e+srYlvGnYnMTyCAbpuItfpthz5kLMVUTg5gf5LJvF75YascjsvQlsRyt9ZWxPHCxVhxLU3cdPGeVQ9sttVrq2JnNMkkc/0+t8i1+37lv5M0aR4PmrRyxajM5pUoLDOdPqq8S0kFIjkifmjbDFVnp3h7WoFFU0S+cyC7ccAKJJ4mvuXTmF21SYZzq7WGU0qUFhnOp0oGMO3Dbtz45aF1Dq41VV+1jvrhYOWJol8pP2QONftfksnE5NyRlsRKuBZWxPfNLyZ45GFGTTPPmlSWxOXTpNEPrL1cAIAxc6c5N5lU5l+dUvXKlUnbUWoQOO+Q+wXTW6j1c4VNNy7zlWurYlLp0kin3huXoLr9oOLJxJ5NoWP9NQ5FSSaVy7uuj3i2s4cjirGU3NHgGVvuvtmJXi6VF2EJol84kD6/49S8ce5Z8UMfr6mFdtLXmGL0VaEClSj+jV13U4Kj+TTZnfSaN8GWu1c4So/54uKBQFNEvmAdR+bxxaOJezc2QznRUSGajNCBTZra2JsnQ7sLRLLk/N+tLUmnJsDqqzTJJEPOPexKX/8ID1Wz2Jc7RvYXexyW8ymNzv5ompK5RprayI1NJyPm/eg9j/b6LBl0QWuUhejSSLIXf38TNftJ+eN5GxIWIZWRExEqLerpVSe6N2kvOv25Bpt2F68HE/OG0nIufOL6rQ1kT2aJIJcUpqjqX3NoR102/gX3zXoypHo4raYNa929EXVlMp1b3Q/fxZKWkgoH7bszVVH99Btw1+2OOs2+erCNEkEMevc8Kf/+oETkdF81fhWW4y2IlSwGXpnXdftX6o1Y33pK3l8wWjC01Jd5c5t8tXFaZIIYs654U32rKH1zuV83uR2TkXa91HUVoQKNt3rlXXdNhLC+9fdTYUT/9BjlX2zP+sWNSpzmiSClKvf1RieifuBg9El+OHam2wx1pWqSgUT65G7cVc2YGH52gxcMIbo5DOucucWNerCNEkEIWt/a4eti6h3cDNDW/QkOTzCFmddqapU0BLh7db3UiLxFA8unmi7S485vThNEkHI2d8aei6NQXN/ZHvxckyo1c4WY51TrlQwsrYm1l5WlZ+rt+KBpVOIPf2vq1yPOb04TRJBxnqg0K1rf6fq0b28f93dpIXYB6itc8qVClbWrWbev+5uQs+l8d/5o20xejDRhWmSCDLWY0kHzfuRFZdXY9ZVzWwx1tkfSgUz61Yz+4qWYcS1nbl97W9cdWSXq1wPJrowTRJBxNq/+uDiSZROOM4bbR8AsW+5YZ39oVSws24582mzu4gvUJDBccNtMZV0gV2mNEkEEWf/aplT/9J/ySSmX92SFWWr22J26bGkKp+xbjlzsmBhhjW9g7Y7ltF092pXue4knjlNEkHCuv3GoHk/EmLSeKfVPbYY3cJP5VexhQu4bv9Qvwv7YkrxbNz3iDm/N6xu1+GZJokg4dx+o8Y/27hl3R98X78r+4qWscXs1FaEyqcWP9/edTs5rAAftryb2v9so/v6OFucdeKHctAkEQSsC+de+PNbjhcszOdN77DFFNTdN1Q+1+aK8/8JptRozeoyVXnmr+EUSkl0lTsnfqjzNEkEOOsnn3bbltB0z1qGtuiZYfuNL9rr6mqVv91TI9J120gIr7brT5n4Yzz89wRbnE6JtdMkEeCcn3zC01J5Nu47thUvx5g69v2YdPsNpRysEzdWlK3O5Gta03/JJMqd+MdVrlNi7TRJBDDrlNe+y6ZR+dh+3mh7P2dDw2xxuv2GUp6926ovaSEhPPfnd7ZyHcQ+T5NEAHNOeS19+igDF47ht8oNiavc0BZjPYRFKWVvTfwTU5LPm9xOpy0Labp7jS1Oz5xw0CQRoKyLf56N+57wtFReu75/hjjrISxKKQfrOSr/a3gz+2JK89LvXxNqOcFOz5xw0CQRgKas3O9a/NNw7zpu3hDHV41uZU+xy2xxunBOKc+s56gkh0fwZpv7qH5kFz1Wz7bF6S6xXk4SIlJcRCaLSIKI7BaRnpnEPSUi60TktIjsFJGnvFlPf+f8hBNyLo1Xf/uKfTGl+Lzp7bYY61YESqmMrDsh/1KtOX9fUZMn5/5IsTMnXeW6S6z3WxLDgBQgFugFfCEiNTzECdAHKAZ0BB4Vkbu8Vks/Zv1k03PVLK45vJM329xPUnikLc66FYFSKiPbTsgivNj+YaJTzvBs3Pe2uPw+iO21JCEiUcCtwIvGmHhjzHxgKnC3e6wx5j1jzApjzFljzGbgZ6C5t+rqz5yfbIqfOcmgeT8yv0Idfqlm/9HolFelssbaJbu1VAW+aXgzd6z9jYZ719ni8vMgthjjna2tRKQesMAYU8hSNghoZYzpcoHrBFgBfGWM+dLD/f2B/gCxsbH1x44dm+t1j4+PJzo6+uKBeazvrATX7Q+nf0iXjfPodO8nbCtpn8E0vGPGJOEvr+FSBXr9IfBfQ7DW/75ZCTh3cCqYksScbx8hoUAknft+YptO7un/lbfl1e+gTZs2y40xDTzdF+apMI9EA6fcyk4ChS9y3Ss4Wjzfe7rTGPM18DVAgwYNTOvWrXNUSU/i4uLIi8fNDsfKakeSaL5rFbeu/5NPmt6ZIUFkNljtD68hJwK9/hD4ryFY67+j9fkupcQCkbzc/kG+nfg69y+bwleNb3PFDfgzyTbg7Qu++B14c0wiHohxK4sBTmd2gYg8imNsorMxJjkP6+b3nCurI1KTeXP2MHYUu5xhze60xYTpWLVSl8TaRft7lcb8WrUJAxeMoezJw67y/LoS25tJYgsQJiJVLWV1gPWegkXkPmAwcL0xZp8X6ue3rGsiBiwcS8UTB3m+w6MkhxWwxVlP4VJKZZ37rgSvtHOsOXrlty/B0iWfHwexvZYkjDEJwCTgNRGJEpHmQDfgR/dYEekFvAW0N8bs8FYd/ZF1TUS1I7vov2QSP9Vsx6IKtW1xOlitVM5Yu2oPxJRmSItetN+2hJs2zbPF5be1E96eAvsIUBA4DIwBHjbGrBeRliISb4l7AygBLBWR+PSvDIPW+YF1TcRbsz7jVEQUb7a9L0Oc7s+kVM5Z1xd916Abqy67ilfnfEnxfLx2wqtJwhhzzBjT3RgTZYwpb4wZnV4+zxgTbYmrZIwJN8ZEW74e8mZd/YH1tLl7l02l/oFNvH59P04UtA/t6MpqpXKHdX3RuZBQnrpxINEpZ3htjv0zan7qdtJtOfyY87S5ykf38tS8H5lTpTFTrmlti7HuQaOUyjnrpphbS1Xgk2Y9uGnTPDpsXmiLaz8kzss18w1NEn7K+Ukl9FwaH8wYSmJYBM91eBTEPoXJ11PylAo27ptiftX4VtbFVuaNXz+naOL5WfxbDye4XxqUNEn4IWtTtv+SSdQ7uJmX2j/EkehitjjtZlIqb1j/b50NDeOpTgMpmnSaV377yhaXH7qdNEn4GetxpFcd2cXj80cxo1pzplW/zhan3UxK5S1rt9PG0lfyWdM76b7hL7pu+MsWF+zHnWqS8DPORXMFzqby0fQhnI6I4sUbHtFuJqW8zL3b6bNmd7Li8mq88evn+WqRnSYJP2Jtuj7z13BqHN7BMzcO4FihIrY47WZSyjus/9fSQkIZ2OUpQsw5hkz/kBDLAUXB3O2kScJPWKe7ttm+lPuX/cz39bvwe5XGtjjtZlLKu6zdTnuLluGl9g/ReN96Hlo80RYXrIlCk4QfmLJyv2u6a6n4Y3ww4yM2lK7EO63vzRCr3UxKeZd7t9OkGm2ZdnVL/jt/FHUObLbdF4zjE5ok/IBzVbWYcwyZPoSCZ5N5rOvTGfZm0m4mpXzD9n9PhOc7/IdD0cUZ9vO7tmmxp5LTgu7sCU0SPmZtog5cMIaWu1fx6vX92V7iCluc7s2klG9ZE8WpyGge6f4spRKO8dH0DxFzznWf80NfsNAk4UPWBNF22xIeXzCG8bXaMa72DRlidW8mpXwvtvD51v2ay67i9ev702bHch5dOM4WF0zjE5okfMS6pL/isf0Mnf4ha2Mr82L7hzNMd9VuJqX8w+Ln29u+H1n3RibVaMN/54+mxc6VtvuCJVFokvAR55L+gilJfDn5Lc6GhPLQzc+THB5hi9MEoZR/yTA+ccN/2FKyPJ9OfY8Kxw/YYq2zFgOVJgkfcH7CCDmXxtDpH1D16F4GdHmK/UVK2+J0HEIp/2RNFIkFIul/ywsYEb6b8BoxSedPPUhKM7ZdFAKRJgkvszZBn437ng5b/+a16/sxv1K9DLE6DqGU/7J+iNtT7DIeuvk5rjjxD8OmvENY2lnXfc5dFAKVJgkvsiaI3itm0G/pFL6v34Uf6nfJEKvdTEr5N/cPcUuuqMlzHR91zFAMomNPNUl4ifWPpM32pbz621fMqdKI19s+kCFWE4RSgcH9/+qEWu34vMlt9Fo1i0cXBceMJ00SXmD942iyZw1fTHmb9bFXMrDLU5wLsW+zoQlCqcDi/n/2/ev6MKHm9QyaN5I+y6fZ7gvERKFJIo9Z/yjqHtjMNxNfZ0+RMtxz+6ucKVDQFmvdI0YpFTisicJICM/cOIBfqzbhtd++otv6P22xgZYoNEnkIesfwzWHdjD8p5f5t1BRet31BsfddnaNDJUMe8QopQLH0Dvrum6nhYTyWNenWVi+Nh/O+IibNs61xQZSotAkkUesfwT19m9izJhnORMeSe+73uBIdPEM8dYD2JVSgad7vbK2GU/JYQXod8sLLC9bnY+nfcAt6363xQdKotAkkQesv/ymu9cwctwLHC8Ywx293mVfkdgM8ToOoVRwmPNEayJDz++YkBBRiL63v8qi8rX4YMZQeqyy7xJbcfAMev1vkbermS2aJHJR+yFxtgTRcfMCvp/wCvuKlOZ2TRBK5QvuvQKJBSK5/9aXiLuyPm/P/oyB80fbpscu2H7Mr1sVmiRyScXBM1xbbWAMjywaz5dT3mZD6Urc1eNtj11MmiCUCk7u/7eTwyN48JbnmVDzev67YDRDZgyhwNlUW4y/JgpNErnA+suNTE3iw5kf8fTcEfxcvRU9erydYZAaNEEoFezc/4+nhoYzqNPjfNCyN7es/5OR456n9OmjtpiKg2fYNv/0B5okcqDi4Bm2BFHl3z38POIJbl33Bx8178nALoMyHBwEmiCUyi92vdMZ257OInzW7C4e7fo0NQ9tZ+bwARl2j916OMGvWhWaJC7B1c/PtP0SxZyj18qZTPvhv5Q4c5I+t7/Kxy16ZtjyGzRBKJXf7Hyns+0cCoDp1a+jS5+hHC1UhBHjX2Lwn98RkZpsi3H/EOormiSywZkcnOdRA1x5dB9jxzzHm79+zoqy1ejU9xPmXlk/w7UxEaGaIJTKpxY/3962jgJge8kr6NZnCGPr3MBDSyYx6/tHabJnTYZrfZ0swnz2zAGk76wEmGX/JRVNPMV/Fo2nz4rpJIVF8HTHAYyv3d5j62HonXXpXq+st6qrlPJD3euVpXu9srY3/KTwSJ7r+BjTr27J27M/Y+yY55herQXvt+rD7mKX2653Xje0yH6vvp9okvDgQlm7VPxxeq+cyb3LpxKVksjEmm15/7p7OBJdzGO8th6UUla73umc4T1mYcW6dLjvMx7+eyL9lk6iw9ZF/FSrPd827JbhvPvHx62ynaOd1+8xXk0SIlIc+Ba4AfgXeNYYM9pDnADvAM4tUr8BBhtjmVycS16Ysvai+72HpZ2l+e7VdNsQR+dN8whPS2NO1cZ80PJutpaqkOl1miCUUp7seqcztV+exankNFdZUngkH7Xsxch6nRiwcAx3rJlDz9WziKtUn0k12/JblUYZ9nuDjB9qYyJCWfNqx1yrq7dbEsOAFCAWqAvMEJHVxpj1bnH9ge5AHcAAc4CdwJe5WZnMEkSRxNNUOn6AWv9spfHe9TTbvZriiac4VaAQY+t04Pv6XdlVPPPmnnYvKaUuxvlG7v4mfyS6GC/e8AhDm/ek56pf6LXqFz6Z9j6JYRH8Xb4mS66oycrLq7GjWFkORxfP0MV9KjmN2i/PyrVE4bUkISJRwK1ATWNMPDBfRKYCdwOD3cLvAT40xuxLv/ZDoB+5nCTGLN4LQOvty3jhj2+ISkkkOuUMhVMSXTEHCpfkzyvr80u1FsytdC0pYeEXfExtPSilssNTqwLgaFRRPm3eg8+a3UmDfRvovGk+zXav4ZkdP7hiEsMiOBUZRUJ4JKPq3si3jW4GyPBYOSF50IPj+YlE6gELjDGFLGWDgFbGmC5usSeBG4wxi9O/bwD8aYwp7OFx++NoeRAbG1t/7NixWa5T31mOFdLX7t/IfUt/JqFAQc4UiGR/TCl2FSvLptIV2RdT2uNgtLvhHf37POr4+Hiio6N9XY1LFuj1h8B/DVr/vOd8T7qQ4mdOUvOfbVQ4cZDyJ/4hOvkMUalJ/F65IT/XaOOKy857Ups2bZYbYxp4us+bSaIl8JMxpoylrB/QyxjT2i02DahhjNmU/n1VYAsQcqFxiQYNGphly5ZluU6Vn51JWg5ff6C0HOLi4mjdurWvq3HJAr3+EPivQevvPZUGzyCn78zZeW8SkUyThDfHJOKBGLeyGOB0FmJjgPjcHrju0fiKSzqkvHnl4ozq1zQ3q6KUUi47LW/wl7JGIiYi9OJBWeTNJLEFCBORqsaYrelldQD3QWvSy+oASy4SlyPOQ34ulijCBba+HRgtBqVUcLG2CG58byYbj134s3LAzm4yxiSIyCTgNRF5AMfspm5AMw/hI4AnRGQmjtlNTwKf5kW93uhe66InwsXFxeXFUyulVLY806iQ17vMvL0txyNAQeAwMAZ42BizXkRaiki8Je4rYBqwFlgHzEgvU0op5UVeXSdhjDmGY/2De/k8INryvQGeTv9SSinlI7rBn1JKqUxpklBKKZUpTRJKKaUy5bXFdN4gIkeA3Xnw0CVxbEgYyAL9NQR6/SHwX4PW3/fy6jVUMMaU8nRHUCWJvCIiyzJbjRgoAv01BHr9IfBfg9bf93zxGrS7SSmlVKY0SSillMqUJoms+drXFcgFgf4aAr3+EPivQevve15/DTomoZRSKlPaklBKKZUpTRJKKaUypUlCKaVUpjRJZIOIjBSRgyJySkS2pG95HhBEJEJEvhWR3SJyWkRWiciNvq5XdonIoyKyTESSRWS4r+uTFSJSXEQmi0hC+s+/p6/rlB2B+DO3Coa/fV++92iSyJ63gYrGmBigK/CGiNT3cZ2yKgzYC7QCigAvjxK+swAABANJREFUAONFpKIP63QpDgBvAN/5uiLZMAxIAWKBXsAXIlLDt1XKlkD8mVsFw9++z957NElkgzFmvTEm2flt+ldlH1Ypy4wxCcaYV4wxu4wx54wx04GdQKAkOQCMMZOMMVOAo76uS1aISBRwK/CiMSbeGDMfmArc7duaZV2g/czdBcPfvi/fezRJZJOIfC4iZ4BNwEFgpo+rdElEJBa4ijw4FlbZXAWcNcZssZStBgKpJRFUAvVv31fvPZoksskY8whQGGgJTAKSL3yF/xGRcGAU8IMxZpOv6xPkooFTbmUncfwNKS8L5L99X733aJJIJyJxImIy+ZpvjTXGpKV3G5QDHvZNje2yWn8RCQF+xNFH/qjPKuxBdn4HASQeiHEriwFO+6Au+Zo//+1nlS/ee7x6fKk/M8a0voTLwvCTMYms1F9EBPgWxwBqJ2NMal7XKzsu8Xfg77YAYSJS1RizNb2sDgHW1RHo/P1v/xJ47b1HWxJZJCKlReQuEYkWkVAR6QD0AH73dd2y4QugOtDFGJPo68pcChEJE5FIIBQIFZFIEfHbDzvGmAQcXQOviUiUiDQHuuH4RBsQAu1nnomA/dv3+XuPMUa/svAFlAL+Ak7g6GNeC/Tzdb2yUf8KOGZEJOHoAnF+9fJ13bL5Ol7h/OwO59crvq7XRepcHJgCJAB7gJ6+rlOw/8zd6h/Qf/u+fu/RDf6UUkplSrublFJKZUqThFJKqUxpklBKKZUpTRJKKaUypUlCKaVUpjRJKKWUypQmCaVykYi0tmwlMiuL11S0XLMur+uoVHZoklAqB9L3m/rMw101cKyKzYq9wGXAh7lWMaVyiSYJpfLGYWPM8awEGsembf/gWAWslF/RJKHUJUo/yrMV8B9ndxFQMZPYWiLye/rxk/EislpE2nixukpdkkDbpEspfzIQx+E1m4Dn0ssyO0xoNI7DhhoBZ4FaOPYSUsqvaZJQ6hIZY06KSApwJr27CBG5OpPwCsAH5vxBN9u8UUelckq7m5TyjiHANyLyh4g8f4FkopRf0SShlBcYY14BrsGxZXgzYI2I3OfTSimVBZoklMqZFByH8VyUMWarMeYTY0xnHKekPZCnNVMqF+iYhFI5swtoJCIVcUxhzfDBS0QKAh8AP6XHxwItgMVeqqNSl0xbEkrlzAc4WhMbgCNAeQ8xaUAxYDiwGZgMLAKe8E4Vlbp02pJQKgeMMVuAps7vRaS1h5gUoKcXq6VUrtGWhFJ5Y5eITM5KoIiUF5F4zq+1UMpv6BnXSuWi9PGHsunfJhhjDmbhmjDOr9RONsbszaPqKZVtmiSUUkplSrublFJKZUqThFJKqUxpklBKKZUpTRJKKaUypUlCKaVUpv4PPTWw+lx11F4AAAAASUVORK5CYII=\n",
                "text/plain": "<Figure size 432x288 with 1 Axes>"
              }
            ],
            "_view_module": "@jupyter-widgets/output",
            "_model_module_version": "1.0.0",
            "_view_count": null,
            "_view_module_version": "1.0.0",
            "layout": "IPY_MODEL_dad636c9d789449883a64bbd4816da41",
            "_model_module": "@jupyter-widgets/output"
          }
        },
        "6976d91694424b2ea0474ec2feaf352f": {
          "model_module": "@jupyter-widgets/controls",
          "model_name": "SliderStyleModel",
          "state": {
            "_view_name": "StyleView",
            "handle_color": null,
            "_model_name": "SliderStyleModel",
            "description_width": "",
            "_view_module": "@jupyter-widgets/base",
            "_model_module_version": "1.5.0",
            "_view_count": null,
            "_view_module_version": "1.2.0",
            "_model_module": "@jupyter-widgets/controls"
          }
        },
        "9ba97bc18744471da681c8906eb0e172": {
          "model_module": "@jupyter-widgets/base",
          "model_name": "LayoutModel",
          "state": {
            "_view_name": "LayoutView",
            "grid_template_rows": null,
            "right": null,
            "justify_content": null,
            "_view_module": "@jupyter-widgets/base",
            "overflow": null,
            "_model_module_version": "1.2.0",
            "_view_count": null,
            "flex_flow": null,
            "width": null,
            "min_width": null,
            "border": null,
            "align_items": null,
            "bottom": null,
            "_model_module": "@jupyter-widgets/base",
            "top": null,
            "grid_column": null,
            "overflow_y": null,
            "overflow_x": null,
            "grid_auto_flow": null,
            "grid_area": null,
            "grid_template_columns": null,
            "flex": null,
            "_model_name": "LayoutModel",
            "justify_items": null,
            "grid_row": null,
            "max_height": null,
            "align_content": null,
            "visibility": null,
            "align_self": null,
            "height": null,
            "min_height": null,
            "padding": null,
            "grid_auto_rows": null,
            "grid_gap": null,
            "max_width": null,
            "order": null,
            "_view_module_version": "1.2.0",
            "grid_template_areas": null,
            "object_position": null,
            "object_fit": null,
            "grid_auto_columns": null,
            "margin": null,
            "display": null,
            "left": null
          }
        },
        "dad636c9d789449883a64bbd4816da41": {
          "model_module": "@jupyter-widgets/base",
          "model_name": "LayoutModel",
          "state": {
            "_view_name": "LayoutView",
            "grid_template_rows": null,
            "right": null,
            "justify_content": null,
            "_view_module": "@jupyter-widgets/base",
            "overflow": null,
            "_model_module_version": "1.2.0",
            "_view_count": null,
            "flex_flow": null,
            "width": null,
            "min_width": null,
            "border": null,
            "align_items": null,
            "bottom": null,
            "_model_module": "@jupyter-widgets/base",
            "top": null,
            "grid_column": null,
            "overflow_y": null,
            "overflow_x": null,
            "grid_auto_flow": null,
            "grid_area": null,
            "grid_template_columns": null,
            "flex": null,
            "_model_name": "LayoutModel",
            "justify_items": null,
            "grid_row": null,
            "max_height": null,
            "align_content": null,
            "visibility": null,
            "align_self": null,
            "height": null,
            "min_height": null,
            "padding": null,
            "grid_auto_rows": null,
            "grid_gap": null,
            "max_width": null,
            "order": null,
            "_view_module_version": "1.2.0",
            "grid_template_areas": null,
            "object_position": null,
            "object_fit": null,
            "grid_auto_columns": null,
            "margin": null,
            "display": null,
            "left": null
          }
        },
        "79e30293001147dd9d6c996d9fb48f9a": {
          "model_module": "@jupyter-widgets/controls",
          "model_name": "VBoxModel",
          "state": {
            "_view_name": "VBoxView",
            "_dom_classes": [
              "widget-interact"
            ],
            "_model_name": "VBoxModel",
            "_view_module": "@jupyter-widgets/controls",
            "_model_module_version": "1.5.0",
            "_view_count": null,
            "_view_module_version": "1.5.0",
            "box_style": "",
            "layout": "IPY_MODEL_e2fc1e69eba94f3d9bca6a909e10392e",
            "_model_module": "@jupyter-widgets/controls",
            "children": [
              "IPY_MODEL_7f9b5c1ba95a415482030ce50143c401",
              "IPY_MODEL_330837c046034f04a5536abf90de6a59"
            ]
          }
        },
        "e2fc1e69eba94f3d9bca6a909e10392e": {
          "model_module": "@jupyter-widgets/base",
          "model_name": "LayoutModel",
          "state": {
            "_view_name": "LayoutView",
            "grid_template_rows": null,
            "right": null,
            "justify_content": null,
            "_view_module": "@jupyter-widgets/base",
            "overflow": null,
            "_model_module_version": "1.2.0",
            "_view_count": null,
            "flex_flow": null,
            "width": null,
            "min_width": null,
            "border": null,
            "align_items": null,
            "bottom": null,
            "_model_module": "@jupyter-widgets/base",
            "top": null,
            "grid_column": null,
            "overflow_y": null,
            "overflow_x": null,
            "grid_auto_flow": null,
            "grid_area": null,
            "grid_template_columns": null,
            "flex": null,
            "_model_name": "LayoutModel",
            "justify_items": null,
            "grid_row": null,
            "max_height": null,
            "align_content": null,
            "visibility": null,
            "align_self": null,
            "height": null,
            "min_height": null,
            "padding": null,
            "grid_auto_rows": null,
            "grid_gap": null,
            "max_width": null,
            "order": null,
            "_view_module_version": "1.2.0",
            "grid_template_areas": null,
            "object_position": null,
            "object_fit": null,
            "grid_auto_columns": null,
            "margin": null,
            "display": null,
            "left": null
          }
        },
        "7f9b5c1ba95a415482030ce50143c401": {
          "model_module": "@jupyter-widgets/controls",
          "model_name": "IntSliderModel",
          "state": {
            "_view_name": "IntSliderView",
            "style": "IPY_MODEL_5f17b42a938e4cbe9e434b51a17f1e41",
            "_dom_classes": [],
            "description": "Na",
            "step": 1,
            "_model_name": "IntSliderModel",
            "orientation": "horizontal",
            "max": 5,
            "_view_module": "@jupyter-widgets/controls",
            "_model_module_version": "1.5.0",
            "value": 1,
            "_view_count": null,
            "disabled": false,
            "_view_module_version": "1.5.0",
            "min": 1,
            "continuous_update": true,
            "readout_format": "d",
            "description_tooltip": null,
            "readout": true,
            "_model_module": "@jupyter-widgets/controls",
            "layout": "IPY_MODEL_9a43733606bf4575a0c7d87f5f4b38c2"
          }
        },
        "330837c046034f04a5536abf90de6a59": {
          "model_module": "@jupyter-widgets/output",
          "model_name": "OutputModel",
          "state": {
            "_view_name": "OutputView",
            "msg_id": "",
            "_dom_classes": [],
            "_model_name": "OutputModel",
            "outputs": [
              {
                "output_type": "display_data",
                "metadata": {
                  "tags": [],
                  "needs_background": "light"
                },
                "image/png": "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\n",
                "text/plain": "<Figure size 432x288 with 1 Axes>"
              }
            ],
            "_view_module": "@jupyter-widgets/output",
            "_model_module_version": "1.0.0",
            "_view_count": null,
            "_view_module_version": "1.0.0",
            "layout": "IPY_MODEL_9586695cc4724fd2a74662d0f11a5cec",
            "_model_module": "@jupyter-widgets/output"
          }
        },
        "5f17b42a938e4cbe9e434b51a17f1e41": {
          "model_module": "@jupyter-widgets/controls",
          "model_name": "SliderStyleModel",
          "state": {
            "_view_name": "StyleView",
            "handle_color": null,
            "_model_name": "SliderStyleModel",
            "description_width": "",
            "_view_module": "@jupyter-widgets/base",
            "_model_module_version": "1.5.0",
            "_view_count": null,
            "_view_module_version": "1.2.0",
            "_model_module": "@jupyter-widgets/controls"
          }
        },
        "9a43733606bf4575a0c7d87f5f4b38c2": {
          "model_module": "@jupyter-widgets/base",
          "model_name": "LayoutModel",
          "state": {
            "_view_name": "LayoutView",
            "grid_template_rows": null,
            "right": null,
            "justify_content": null,
            "_view_module": "@jupyter-widgets/base",
            "overflow": null,
            "_model_module_version": "1.2.0",
            "_view_count": null,
            "flex_flow": null,
            "width": null,
            "min_width": null,
            "border": null,
            "align_items": null,
            "bottom": null,
            "_model_module": "@jupyter-widgets/base",
            "top": null,
            "grid_column": null,
            "overflow_y": null,
            "overflow_x": null,
            "grid_auto_flow": null,
            "grid_area": null,
            "grid_template_columns": null,
            "flex": null,
            "_model_name": "LayoutModel",
            "justify_items": null,
            "grid_row": null,
            "max_height": null,
            "align_content": null,
            "visibility": null,
            "align_self": null,
            "height": null,
            "min_height": null,
            "padding": null,
            "grid_auto_rows": null,
            "grid_gap": null,
            "max_width": null,
            "order": null,
            "_view_module_version": "1.2.0",
            "grid_template_areas": null,
            "object_position": null,
            "object_fit": null,
            "grid_auto_columns": null,
            "margin": null,
            "display": null,
            "left": null
          }
        },
        "9586695cc4724fd2a74662d0f11a5cec": {
          "model_module": "@jupyter-widgets/base",
          "model_name": "LayoutModel",
          "state": {
            "_view_name": "LayoutView",
            "grid_template_rows": null,
            "right": null,
            "justify_content": null,
            "_view_module": "@jupyter-widgets/base",
            "overflow": null,
            "_model_module_version": "1.2.0",
            "_view_count": null,
            "flex_flow": null,
            "width": null,
            "min_width": null,
            "border": null,
            "align_items": null,
            "bottom": null,
            "_model_module": "@jupyter-widgets/base",
            "top": null,
            "grid_column": null,
            "overflow_y": null,
            "overflow_x": null,
            "grid_auto_flow": null,
            "grid_area": null,
            "grid_template_columns": null,
            "flex": null,
            "_model_name": "LayoutModel",
            "justify_items": null,
            "grid_row": null,
            "max_height": null,
            "align_content": null,
            "visibility": null,
            "align_self": null,
            "height": null,
            "min_height": null,
            "padding": null,
            "grid_auto_rows": null,
            "grid_gap": null,
            "max_width": null,
            "order": null,
            "_view_module_version": "1.2.0",
            "grid_template_areas": null,
            "object_position": null,
            "object_fit": null,
            "grid_auto_columns": null,
            "margin": null,
            "display": null,
            "left": null
          }
        },
        "ca866c7f58b74a56a75acd8b55347c65": {
          "model_module": "@jupyter-widgets/controls",
          "model_name": "VBoxModel",
          "state": {
            "_view_name": "VBoxView",
            "_dom_classes": [
              "widget-interact"
            ],
            "_model_name": "VBoxModel",
            "_view_module": "@jupyter-widgets/controls",
            "_model_module_version": "1.5.0",
            "_view_count": null,
            "_view_module_version": "1.5.0",
            "box_style": "",
            "layout": "IPY_MODEL_3670710597854afb831cb81c6feb8c11",
            "_model_module": "@jupyter-widgets/controls",
            "children": [
              "IPY_MODEL_aaf8e0533d744944ba29eed03f69905a",
              "IPY_MODEL_14011182a9974c48973be52620439916"
            ]
          }
        },
        "3670710597854afb831cb81c6feb8c11": {
          "model_module": "@jupyter-widgets/base",
          "model_name": "LayoutModel",
          "state": {
            "_view_name": "LayoutView",
            "grid_template_rows": null,
            "right": null,
            "justify_content": null,
            "_view_module": "@jupyter-widgets/base",
            "overflow": null,
            "_model_module_version": "1.2.0",
            "_view_count": null,
            "flex_flow": null,
            "width": null,
            "min_width": null,
            "border": null,
            "align_items": null,
            "bottom": null,
            "_model_module": "@jupyter-widgets/base",
            "top": null,
            "grid_column": null,
            "overflow_y": null,
            "overflow_x": null,
            "grid_auto_flow": null,
            "grid_area": null,
            "grid_template_columns": null,
            "flex": null,
            "_model_name": "LayoutModel",
            "justify_items": null,
            "grid_row": null,
            "max_height": null,
            "align_content": null,
            "visibility": null,
            "align_self": null,
            "height": null,
            "min_height": null,
            "padding": null,
            "grid_auto_rows": null,
            "grid_gap": null,
            "max_width": null,
            "order": null,
            "_view_module_version": "1.2.0",
            "grid_template_areas": null,
            "object_position": null,
            "object_fit": null,
            "grid_auto_columns": null,
            "margin": null,
            "display": null,
            "left": null
          }
        },
        "aaf8e0533d744944ba29eed03f69905a": {
          "model_module": "@jupyter-widgets/controls",
          "model_name": "IntSliderModel",
          "state": {
            "_view_name": "IntSliderView",
            "style": "IPY_MODEL_9de5d3fc4b64428487d9c72cccf86fd3",
            "_dom_classes": [],
            "description": "Na",
            "step": 1,
            "_model_name": "IntSliderModel",
            "orientation": "horizontal",
            "max": 5,
            "_view_module": "@jupyter-widgets/controls",
            "_model_module_version": "1.5.0",
            "value": 1,
            "_view_count": null,
            "disabled": false,
            "_view_module_version": "1.5.0",
            "min": 1,
            "continuous_update": true,
            "readout_format": "d",
            "description_tooltip": null,
            "readout": true,
            "_model_module": "@jupyter-widgets/controls",
            "layout": "IPY_MODEL_72646d2a12914e2ba7ea4d9e5a091055"
          }
        },
        "14011182a9974c48973be52620439916": {
          "model_module": "@jupyter-widgets/output",
          "model_name": "OutputModel",
          "state": {
            "_view_name": "OutputView",
            "msg_id": "",
            "_dom_classes": [],
            "_model_name": "OutputModel",
            "outputs": [
              {
                "output_type": "display_data",
                "metadata": {
                  "tags": [],
                  "needs_background": "light"
                },
                "image/png": "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\n",
                "text/plain": "<Figure size 432x288 with 1 Axes>"
              }
            ],
            "_view_module": "@jupyter-widgets/output",
            "_model_module_version": "1.0.0",
            "_view_count": null,
            "_view_module_version": "1.0.0",
            "layout": "IPY_MODEL_68e3cded9e284e1c9eda05d3b8c61981",
            "_model_module": "@jupyter-widgets/output"
          }
        },
        "9de5d3fc4b64428487d9c72cccf86fd3": {
          "model_module": "@jupyter-widgets/controls",
          "model_name": "SliderStyleModel",
          "state": {
            "_view_name": "StyleView",
            "handle_color": null,
            "_model_name": "SliderStyleModel",
            "description_width": "",
            "_view_module": "@jupyter-widgets/base",
            "_model_module_version": "1.5.0",
            "_view_count": null,
            "_view_module_version": "1.2.0",
            "_model_module": "@jupyter-widgets/controls"
          }
        },
        "72646d2a12914e2ba7ea4d9e5a091055": {
          "model_module": "@jupyter-widgets/base",
          "model_name": "LayoutModel",
          "state": {
            "_view_name": "LayoutView",
            "grid_template_rows": null,
            "right": null,
            "justify_content": null,
            "_view_module": "@jupyter-widgets/base",
            "overflow": null,
            "_model_module_version": "1.2.0",
            "_view_count": null,
            "flex_flow": null,
            "width": null,
            "min_width": null,
            "border": null,
            "align_items": null,
            "bottom": null,
            "_model_module": "@jupyter-widgets/base",
            "top": null,
            "grid_column": null,
            "overflow_y": null,
            "overflow_x": null,
            "grid_auto_flow": null,
            "grid_area": null,
            "grid_template_columns": null,
            "flex": null,
            "_model_name": "LayoutModel",
            "justify_items": null,
            "grid_row": null,
            "max_height": null,
            "align_content": null,
            "visibility": null,
            "align_self": null,
            "height": null,
            "min_height": null,
            "padding": null,
            "grid_auto_rows": null,
            "grid_gap": null,
            "max_width": null,
            "order": null,
            "_view_module_version": "1.2.0",
            "grid_template_areas": null,
            "object_position": null,
            "object_fit": null,
            "grid_auto_columns": null,
            "margin": null,
            "display": null,
            "left": null
          }
        },
        "68e3cded9e284e1c9eda05d3b8c61981": {
          "model_module": "@jupyter-widgets/base",
          "model_name": "LayoutModel",
          "state": {
            "_view_name": "LayoutView",
            "grid_template_rows": null,
            "right": null,
            "justify_content": null,
            "_view_module": "@jupyter-widgets/base",
            "overflow": null,
            "_model_module_version": "1.2.0",
            "_view_count": null,
            "flex_flow": null,
            "width": null,
            "min_width": null,
            "border": null,
            "align_items": null,
            "bottom": null,
            "_model_module": "@jupyter-widgets/base",
            "top": null,
            "grid_column": null,
            "overflow_y": null,
            "overflow_x": null,
            "grid_auto_flow": null,
            "grid_area": null,
            "grid_template_columns": null,
            "flex": null,
            "_model_name": "LayoutModel",
            "justify_items": null,
            "grid_row": null,
            "max_height": null,
            "align_content": null,
            "visibility": null,
            "align_self": null,
            "height": null,
            "min_height": null,
            "padding": null,
            "grid_auto_rows": null,
            "grid_gap": null,
            "max_width": null,
            "order": null,
            "_view_module_version": "1.2.0",
            "grid_template_areas": null,
            "object_position": null,
            "object_fit": null,
            "grid_auto_columns": null,
            "margin": null,
            "display": null,
            "left": null
          }
        }
      }
    }
  },
  "cells": [
    {
      "cell_type": "markdown",
      "metadata": {
        "id": "view-in-github",
        "colab_type": "text"
      },
      "source": [
        "<a href=\"https://colab.research.google.com/github/enaranjom/SySTalleres_EstebanN/blob/master/Taller2_EstebanNaranjoM.ipynb\" target=\"_parent\"><img src=\"https://colab.research.google.com/assets/colab-badge.svg\" alt=\"Open In Colab\"/></a>"
      ]
    },
    {
      "cell_type": "markdown",
      "metadata": {
        "id": "r4xoJ7KO2tLz",
        "colab_type": "text"
      },
      "source": [
        "#Esteban Naranjo Morales \n",
        "\n",
        "#Código 817039\n",
        "#Señales y Sistemas/ Taller 2\n",
        "\n",
        "#2. Representación Generalizada.\n",
        "1. Encuentre el valor de $\\omega_0 \\in \\mathbb{R}$ para que el conjunto {$e^{jn\\omega_0t}$}$_{n\\in \\mathbb{Z}}$ sea ortogonal en el intervalo $t\\in[−T/2, T/2]$, con $T\\in \\mathbb{R}^+$.\n",
        "##Solución\n",
        "Para que $\\phi(t)=e^{jn\\omega_0t}$ sea ortogonal, si se tienen dos $n,m : n= m$\n",
        "\\begin{equation}\n",
        "\\int_{-T/2}^{T/2}\\phi(t)\\phi^*(t)=0\\\\\n",
        "\\int_{-T/2}^{T/2}e^{jn\\omega_0t-jn\\omega_0t}=\\int_{-T/2}^{T/2}e^0=\\int_{-T/2}^{T/2}1=\\frac{T}{2}-\\frac{-T}{2}=T\\\\\n",
        "\\end{equation}\n",
        "Sin distinción del valor de $\\omega_0$. Y si $n\\neq m$\n",
        "\\begin{equation}\n",
        "\\int_{-T/2}^{T/2}\\phi(t)\\phi^*(t)dt=\\int_{-T/2}^{T/2}e^{jn\\omega_0t}e^{-jm\\omega_0t}dt=\\int_{-T/2}^{T/2}e^{j(n-m)\\omega_0t}dt\\\\\n",
        "r=n-m\\Rightarrow n,m\\in \\mathbb {Z} \\Rightarrow n-m\\in \\mathbb{Z}\\\\\n",
        "\\frac{1}{jr\\omega_0}(e^{jr\\omega_0t})\\biggr\\vert_{-T/2}^{T/2}=\\frac{1}{jr\\omega_0}(e^{jr\\omega_0\\frac{T}{2}}-e^{jr\\omega_0\\frac{-T}{2}})=0\\\\\n",
        "e^{jr\\omega_0\\frac{T}{2}}-e^{jr\\omega_0\\frac{-T}{2}}=\\cos(r\\omega_0\\frac{T}{2})+j\\sin(r\\omega_0\\frac{T}{2})-\\cos(r\\omega_0\\frac{-T}{2})-j\\sin(r\\omega_0\\frac{-T}{2})\\\\\n",
        "\\cos(x)-\\cos(-x)=0;\\sin(x)-\\sin(-x)=2\\sin(x)\\\\\n",
        "e^{jr\\omega_0\\frac{T}{2}}-e^{jr\\omega_0\\frac{-T}{2}}=2j\\sin(r\\omega_0\\frac{T}{2})=0\n",
        "\\end{equation}\n",
        "Para que $\\sin(x)=0$ entonces debe ser de la forma $x=k\\pi$,por lo tanto $r\\omega_0\\frac{T}{2}=k\\pi\\rightarrow\\omega=\\frac{2\\pi}{T}$ para que cancele la T del período y solo quede $2j\\sin(r\\frac{2\\pi}{T}\\frac{T}{2})=2j\\sin(r\\pi)=0$\n",
        "\\begin{equation}\n",
        "\\phi(t) = \\begin{cases} 0, & n\\neq m \\\\ T, & n=m \\end{cases}\n",
        "\\end{equation}"
      ]
    },
    {
      "cell_type": "markdown",
      "metadata": {
        "id": "NEFv2YVvO2gN",
        "colab_type": "text"
      },
      "source": [
        "2. Demuestre la ortogonalidad del conjunto {$\\cos(nω_ot),\\sin(mω_ot)$}$_{n,m\\in \\mathbb{Z}}$.\n",
        "\n",
        "\\begin{equation}\n",
        "(\\cos(nω_ot),\\sin(mω_ot))=\\int_{-\\infty}^\\infty\\cos(nω_ot)\\sin(mω_ot)dt\\\\\n",
        "\\int_{-\\infty}^\\infty\\biggr[\\frac{\\sin[(n+m)ω_ot]}{2}+\\frac{\\sin[(n-m)ω_ot]}{2}\\biggr]dt=\\frac{-\\cos[(n+m)ω_ot]}{2(n+m)ω_o}+\\frac{-\\cos[(n-m)ω_ot]}{2(n-m)ω_o}\\biggr \\vert_{-\\infty}^\\infty\\\\\n",
        "\\biggr[\\frac{\\cos[(n+m)ω_o(-\\infty)]}{2(n+m)ω_o}-\\frac{\\cos[(n+m)ω_o\\infty]}{2(n+m)ω_o}\\biggr]+\\biggr[\\frac{\\cos[(n-m)ω_o(-\\infty)]}{2(n-m)ω_o}-\\frac{\\cos[(n-m)ω_o\\infty]}{2(n-m)ω_o}\\biggr]\\\\\n",
        "\\cos(\\alpha)=\\cos(-\\alpha)\\Rightarrow\\cos(\\alpha)-\\cos(-\\alpha)=0\\\\\n",
        "(\\cos(nω_ot),\\sin(mω_ot))=\\int_{-\\infty}^\\infty\\cos(nω_ot)\\sin(mω_ot)dt=0\\\\\n",
        "\\end{equation}\n",
        "Por lo tanto $\\cos(nω_ot),\\sin(mω_ot)$ son ortogonales."
      ]
    },
    {
      "cell_type": "markdown",
      "metadata": {
        "id": "DidIpAkkO2z6",
        "colab_type": "text"
      },
      "source": [
        "3. Encuentre el espectro $c_n\\in \\mathbb{C}$ de la señal $x(t)=u(t)$ a traves\n",
        "de la representacion generalizada $x(t)=\\sum_{n=−\\infty}^\\infty c_n\\phi_n(t)$, para $\\phi_n(t)=e^{jn\\omega_0t}$. Realice una simulacion en Python para $t \\in [0, 2]$ y determine el error relativo para $n \\in \\{0, ±1, ±2\\}$. \n",
        "\n",
        "Para esta representació específica tenemos que \n",
        "\\begin{equation}\n",
        "C_n=\\frac{1}{T}\\int^{T}_{0}x(t)\\phi(t)dt=\\frac{1}{T}\\int^{T}_{0}u(t)e^{jn\\omega_0t}dt=\\frac{1}{T}\\int^{T}_{0}e^{jn\\omega_0t}dt\\\\\n",
        "\\frac{1}{Tjn\\omega_0}(e^{jn\\omega_0t})\\biggr\\vert^{T}_{0}=\\frac{1}{Tjn\\omega_0}(e^{jn\\omega_0T}-e^0)\\Leftrightarrow \\omega_0=\\frac{2\\pi}{T}\\Leftrightarrow \\frac{1}{Tjn\\frac{2\\pi}{T}}(e^{jn\\frac{2\\pi}{T}T}-e^0)\\\\\n",
        "\\frac{1}{2jn\\pi}(e^{jn2\\pi}-1)=\\frac{1}{2jn\\pi}(\\cos(2n\\pi)-j\\sin(2n\\pi)-1)=\\frac{1}{2jn\\pi}(1-0-1)\\\\\n",
        "Cn=0\\quad \\forall n\\neq 0\\\\\n",
        "\\&\\\\\n",
        "c_0 = \\frac{1}{T}\\int^{T/2}_{-T/2}{x(t)}dt=1\n",
        "\\end{equation}\n",
        "\n",
        "\n",
        "El error cuadrático medio de la representación generalizada de Fourier se define como:\n",
        "\\begin{equation}\n",
        "E^2(c_n) = \\frac{1}{T}\\int^{T}_{0}{\\left|x(t)-\\sum_{n=-N}^{N}{c_n \\varphi_n(t)}\\right|^2dt},\n",
        "\\end{equation}\n",
        "\n",
        "El error relativo se puede definir entonces como:\n",
        "\n",
        "\\begin{equation}\n",
        "E_r[\\%] = \\frac{E^2(c_n)}{P_x} = 1 - \\sum\\limits_{n=-N}^N{|c_n|^2 P_n/P_x},\n",
        "\\end{equation}\n",
        "\n",
        "\\begin{equation}\n",
        "P_x = \\int^{T}_{0}{|x(t)^2|dt}=2, \\quad P_n = \\int^{T}_{0}{|\\varphi_n(t)^2|dt}=1.\n",
        "\\end{equation}\n",
        "\\begin{equation}\n",
        "E_r[\\%] = 1- \\frac{\\vert C_0\\vert^2}{P_x}=50\\%\n",
        "\\end{equation}"
      ]
    },
    {
      "cell_type": "code",
      "metadata": {
        "id": "s5Ndx4LVUEFP",
        "colab_type": "code",
        "outputId": "9a7405f1-050b-40ac-95d9-ba5c9cb183df",
        "colab": {
          "base_uri": "https://localhost:8080/",
          "height": 303
        }
      },
      "source": [
        "%matplotlib inline\n",
        "import matplotlib as mpl\n",
        "import matplotlib.pyplot as plt\n",
        "import numpy as np\n",
        "import warnings\n",
        "warnings.filterwarnings(\"ignore\")\n",
        "\n",
        "mpl.rc('axes', labelsize=14)\n",
        "mpl.rc('xtick', labelsize=12)\n",
        "mpl.rc('ytick', labelsize=12)\n",
        "\n",
        "T = 2 #2 segundos de grafica\n",
        "Fs = 500 # 1000 muestras por segundo Ajustar según señal estudiada\n",
        "Nm = T*Fs #numero de muestras requeridas\n",
        "tv = np.linspace(0,T,Nm)\n",
        "\n",
        "xo = np.ones(int(Nm))\n",
        "\n",
        "plt.plot(tv,xo,'r',linewidth=4)\n",
        "plt.grid()\n",
        "plt.xlabel(\"t[s]\",fontsize = 14)\n",
        "plt.ylabel(\"x(t)\",fontsize = 14)\n"
      ],
      "execution_count": 0,
      "outputs": [
        {
          "output_type": "execute_result",
          "data": {
            "text/plain": [
              "Text(0, 0.5, 'x(t)')"
            ]
          },
          "metadata": {
            "tags": []
          },
          "execution_count": 23
        },
        {
          "output_type": "display_data",
          "data": {
            "image/png": "[encoded data removed]",
            "text/plain": [
              "<Figure size 432x288 with 1 Axes>"
            ]
          },
          "metadata": {
            "tags": [],
            "needs_background": "light"
          }
        }
      ]
    },
    {
      "cell_type": "code",
      "metadata": {
        "id": "8FPMsC7uEoHi",
        "colab_type": "code",
        "colab": {}
      },
      "source": [
        "\n",
        "N = 2 #numero armonicos\n",
        "wo = 2*np.pi/T # frecuencia fundamental\n",
        "# %% definir bases\n",
        "phin = np.zeros((Nm,2*N+1),dtype=np.complex_)\n",
        "for n in range(-N,N+1,1):\n",
        "    phin[:,n+N] = np.exp(1j*n*wo*tv)"
      ],
      "execution_count": 0,
      "outputs": []
    },
    {
      "cell_type": "code",
      "metadata": {
        "id": "cPJrvFz1Hwzf",
        "colab_type": "code",
        "colab": {}
      },
      "source": [
        "#cn = np.zeros(2*N+1,dtype=np.complex_)\n",
        "nv = np.linspace(-N, N, 2*N+1) #vector num armónicos\n",
        "Cn = np.zeros(int(2*N+1))\n",
        "Cn[N]=1"
      ],
      "execution_count": 0,
      "outputs": []
    },
    {
      "cell_type": "code",
      "metadata": {
        "id": "mTSOmHjbEv5E",
        "colab_type": "code",
        "outputId": "9fa2cfa3-43a9-487d-c81b-10695002b99d",
        "colab": {
          "base_uri": "https://localhost:8080/",
          "height": 604,
          "referenced_widgets": [
            "df69e4a3bcd641949b0cf43145f9ada1",
            "8770858fcaac42178b97678d9174c4f2",
            "68f00b6bb85a46b180c913f0cc931738",
            "0393e1a1f7dc4f1faa39802ba3fffcd2",
            "c454389dc2e845d08c500d9951b1163c",
            "491ef2724be44035abf6b3ffc26e3db1",
            "20416834006147239cb591b629f9f0f3"
          ]
        }
      },
      "source": [
        "from ipywidgets import interact,IntSlider\n",
        "Pn = 2\n",
        "Px = 2 # estimar según señal estudiada\n",
        "def pltest(Na=1):\n",
        "    ind = range(N-Na,N+Na+1)\n",
        "    er = 1- (abs(Cn[N])**2)/Px\n",
        "    xe = phin[:,ind]@ Cn[ind] \n",
        "    plt.plot(tv,xe,color='b',label='xe')\n",
        "    plt.plot(tv,xo,color='r',label='x')\n",
        "    plt.title('Er=%.2f[%%]' % (100*er),fontsize=16)\n",
        "    plt.xlabel('t[s]')\n",
        "    plt.ylabel('x(t)')\n",
        "    plt.grid()\n",
        "    plt.legend()\n",
        "    plt.show()\n",
        "    return\n",
        "interact(pltest,Na=(1,N,1))\n",
        "X = phin @ Cn  #producto matricial para calcular componentes espectrales phin.dot(Cn)\n",
        "et=xo-X\n",
        "plt.plot(tv,X,label = '$\\hat{x}(t)$')\n",
        "plt.plot(tv,xo,label = '$x(t)$')\n",
        "plt.plot(tv,et,label = '$e(t)$')\n",
        "plt.grid()\n",
        "plt.legend()\n"
      ],
      "execution_count": 0,
      "outputs": [
        {
          "output_type": "display_data",
          "data": {
            "application/vnd.jupyter.widget-view+json": {
              "model_id": "df69e4a3bcd641949b0cf43145f9ada1",
              "version_minor": 0,
              "version_major": 2
            },
            "text/plain": [
              "interactive(children=(IntSlider(value=1, description='Na', max=2, min=1), Output()), _dom_classes=('widget-int…"
            ]
          },
          "metadata": {
            "tags": []
          }
        },
        {
          "output_type": "execute_result",
          "data": {
            "text/plain": [
              "<matplotlib.legend.Legend at 0x7f2d40fb1b38>"
            ]
          },
          "metadata": {
            "tags": []
          },
          "execution_count": 26
        },
        {
          "output_type": "display_data",
          "data": {
            "image/png": "[encoded data removed]",
            "text/plain": [
              "<Figure size 432x288 with 1 Axes>"
            ]
          },
          "metadata": {
            "tags": [],
            "needs_background": "light"
          }
        }
      ]
    },
    {
      "cell_type": "code",
      "metadata": {
        "id": "hEwZiCRHEyCU",
        "colab_type": "code",
        "outputId": "d3c7a449-965f-4e72-e9dd-798c8a984f59",
        "colab": {
          "base_uri": "https://localhost:8080/",
          "height": 585
        }
      },
      "source": [
        "fig = plt.figure(figsize=(4,8))\n",
        "plt.subplot(3,1,1)\n",
        "plt.stem(nv, np.real(Cn), 'r')\n",
        "plt.title(r'Re{Cn}')\n",
        "plt.xlabel(r'$nw_o$[rad/s]',fontsize = 14)\n",
        "plt.ylabel(r'$Re\\{C_n\\}$',fontsize = 14)\n",
        "plt.axis('tight')\n",
        "plt.grid()\n",
        "\n",
        "plt.subplot(3,1,2)\n",
        "plt.stem(nv, np.imag(Cn), 'r')\n",
        "plt.title(r'Im{Cn}')\n",
        "plt.xlabel(r'$nw_o$[rad/s]',fontsize = 14)\n",
        "plt.ylabel(r'$Im\\{C_n\\}$',fontsize = 14)\n",
        "plt.axis('tight')\n",
        "plt.grid()\n",
        "\n",
        "plt.subplot(3,1,3)\n",
        "plt.stem(nv, abs(Cn), 'r')\n",
        "plt.title(r'|Cn|')\n",
        "plt.xlabel(r'$nw_o$[rad/s]',fontsize = 14)\n",
        "plt.ylabel(r'$|C_n|$',fontsize = 14)\n",
        "plt.axis('tight')\n",
        "plt.grid()\n",
        "\n",
        "fig.tight_layout()"
      ],
      "execution_count": 0,
      "outputs": [
        {
          "output_type": "display_data",
          "data": {
            "image/png": "[encoded data removed]",
            "text/plain": [
              "<Figure size 288x576 with 3 Axes>"
            ]
          },
          "metadata": {
            "tags": [],
            "needs_background": "light"
          }
        }
      ]
    },
    {
      "cell_type": "markdown",
      "metadata": {
        "id": "qdQjli5bO8Rg",
        "colab_type": "text"
      },
      "source": [
        "#3. Concéptos básicos de señales.\n",
        "1. Calcular los coeficientes de la serie compleja, trignométrica y compacta de Fourier para las siguientes funciones, con $t\\in[−π, π]$:\\\n",
        "a) $t$\\\n",
        "b) $\\vert\\sin(t)\\vert$\\\n",
        "c) $sgn(t)$\\\n",
        "d) $\\vert\\cos^2(t/2)\\vert$\\\n",
        "e) $e^{jt/2}$\\\n",
        "f) $t^2$\\\n",
        "Para cada señal representada encuentre el error relativo para $n\\in\\{0,\\pm1, \\pm2,\\dots,\\pm5\\}$. Implemente las simulaciones en Python para graficar la parte real del espectro, la parte imaginaria del espectro, la magnitud del espectro, la fase del espectro y la señal reconstruida.\n",
        "##Solución\n",
        "$$T=2\\pi\\Rightarrow\\omega_o=\\frac{2\\pi}{T}=1$$\n",
        "El espectro en serie de Fourier (compleja) se calcula como:\n",
        "\n",
        "\\begin{equation}\n",
        "c_n = \\frac{1}{T}\\int^{T/2}_{-T/2}{x(t)e^{-jn\\omega_o t}}dt;\\quad\\forall n\\neq0\\\\\n",
        "\\&\\\\\n",
        "c_0 = \\frac{1}{T}\\int^{T/2}_{-T/2}{x(t)}dt=0\n",
        "\\end{equation}\n",
        "\n",
        "y su función calculada:\n",
        "\n",
        "\\begin{equation}\n",
        "\\hat{x}(t) = \\sum\\limits_{n=-N}^N{c_n e^{jn\\omega_ot}}.\n",
        "\\end{equation}\n",
        "\n",
        "El espectro en serie de Fourier (trigonométrica) se calcula como:\n",
        "\n",
        "\\begin{equation}\n",
        "a_n = \\frac{2}{T}\\int^{T/2}_{-T/2}{x(t)\\cos(n\\omega_o t)}dt=2\\mathcal{Re}\\{c_n\\}; \\quad \\forall n > 0\n",
        "\\end{equation}\n",
        "\\begin{equation}\n",
        "a_0 = c_0 = 0.\n",
        "\\end{equation}\n",
        "\n",
        "\\begin{equation}\n",
        "b_n = \\frac{2}{T}\\int^{T/2}_{-T/2}{x(t)\\sin(n\\omega_o t)}dt=-2\\mathcal{Im}\\{c_n\\}; \\quad\\forall n > 0\n",
        "\\end{equation}\n",
        "\\begin{equation}\n",
        "b_0 = 0.\n",
        "\\end{equation}\n",
        "\n",
        "y su función calculada:\n",
        "\n",
        "\\begin{equation}\n",
        "\\hat{x}(t) = a_0+\\sum\\limits_{n=1}^N{[a_n \\cos(n\\omega_ot)+b_n\\sin{n\\omega_ot}]}\n",
        "\\end{equation}\n",
        "\n",
        "Los pesos la serie exponencial se pueden estimar a partir de la serie trigonométrica según la siguientes relación:\n",
        "\n",
        "\\begin{equation}\n",
        "c_n = \\frac{a_n - jb_n}{2}, \\quad n\\neq 0\\\\\n",
        "c_0 = a_0.\n",
        "\\end{equation}\n",
        "\n",
        "Por otra parte, su espectro en serie de Fourier compacta se calcula como:\n",
        "\n",
        "\\begin{equation}\n",
        "d_n = \\sqrt{a_n^2+b_n^2} = 2|c_n| ; \\quad n > 0\n",
        "\\end{equation}\n",
        "\\begin{equation}\n",
        "d_0 = a_0;  \n",
        "\\end{equation}\n",
        "\n",
        "\\begin{equation}\n",
        "\\phi_n = \\tan^{-1}\\left(\\frac{\\mathcal{Im}\\{c_n\\}}{\\mathcal{Re}\\{c_n\\}}\\right) = \\tan^{-1}\\left(\\frac{-b_n}{a_n}\\right); \\quad n \\geq 0\n",
        "\\end{equation}\n",
        "\n",
        "y su función calculada:\n",
        "\n",
        "\\begin{equation}\n",
        "\\hat{x}(t) = \\sum\\limits_{n=0}^N{d_n \\cos(n\\omega_ot+\\phi_n)}.\n",
        "\\end{equation}\n",
        "\n"
      ]
    },
    {
      "cell_type": "markdown",
      "metadata": {
        "id": "F2QQQ9rHdBfI",
        "colab_type": "text"
      },
      "source": [
        "###a) $x(t)=t$\n",
        "\n",
        "Compleja.\n",
        "\\begin{equation}\n",
        "c_n = \\frac{1}{2\\pi}\\int^{\\pi}_{-\\pi}{te^{-jn\\omega_o t}}dt=(-1)^n\\frac{j}{n};\\quad\\forall n\\neq0\\\\\n",
        "\\&\\\\\n",
        "c_0 = \\frac{1}{2\\pi}\\int^{\\pi}_{-\\pi}tdt=\\frac{t^2}{4\\pi}\\biggr\\vert^{\\pi}_{-\\pi}=0\n",
        "\\end{equation}\n",
        "\n",
        "Trigonométrica.\n",
        "\\begin{equation}\n",
        "a_n = \\frac{2}{2\\pi}\\int^{\\pi}_{-\\pi}{t\\cos(n\\omega_o t)}dt=0; \\quad \\forall n > 0\n",
        "\\end{equation}\n",
        "\\begin{equation}\n",
        "a_0 = c_0 = 0.\n",
        "\\end{equation}\n",
        "\n",
        "\\begin{equation}\n",
        "b_n = \\frac{2}{2\\pi}\\int^{\\pi}_{-\\pi}{t\\sin(n\\omega_o t)}dt=\\frac{[\\sin(n\\pi)-n\\pi\\cos(n\\pi)]}{n^2\\pi}=\\frac{2}{n}(-1)^{n+1}; \\quad\\forall n > 0\\\\\n",
        "b_0 = 0.\n",
        "\\end{equation}\n",
        "\n",
        "Compacta.\n",
        "\\begin{equation}\n",
        "d_n = \\sqrt{a_n^2+b_n^2} = 2|c_n| = \\frac{2}{n}; \\quad n > 0\n",
        "\\end{equation}\n",
        "\\begin{equation}\n",
        "d_0 = a_0=0;  \n",
        "\\end{equation}\n",
        "\n",
        "\\begin{equation}\n",
        "\\phi_n = \\tan^{-1}\\biggr(\\frac{-b_n}{a_n}\\biggr)=\\tan^{-1}\\biggr(\\frac{-b_n}{0}\\biggr)=\\tan^{-1}((-1)^n\\infty)=(-1)^n90; \\quad n \\geq 0\n",
        "\\end{equation}\n",
        "\n",
        "Error.\n",
        "\\begin{equation}\n",
        "\\frac{E_r[\\%]}{100}=1-\\biggr(\\frac{\\vert C_0\\vert^2}{P_x}+\\frac{2P_n}{P_x}\\sum^5_{n=1}\\vert C_n\\vert^2\\biggr)\\\\\n",
        "P_x = \\frac{1}{2\\pi}\\int^{\\pi}_{-\\pi}{|t^2|dt}=\\frac{\\pi^2}{3}, \\quad P_n = \\frac{1}{2\\pi}\\int^{\\pi}_{-\\pi}{|\\varphi_n(t)|^2dt}=1\\\\\n",
        "\\frac{E_r[\\%]}{100}=1-\\frac{2P_n}{P_x}\\sum^5_{n=1}\\frac{1}{n^2}\\\\\n",
        "\\sum^5_{n=1}\\frac{1}{n^2}=1.463611111\\\\\n",
        "E_r[\\%]=\\biggr(1-\\frac{6}{\\pi^2}(1.463611111)\\biggr)*100=11.02\\%\\\\\n",
        "\\end{equation}"
      ]
    },
    {
      "cell_type": "code",
      "metadata": {
        "id": "IPRZTOxZNSpT",
        "colab_type": "code",
        "outputId": "a70085d8-f8e6-44c9-d804-e512a9730a53",
        "colab": {
          "base_uri": "https://localhost:8080/",
          "height": 303
        }
      },
      "source": [
        "%matplotlib inline\n",
        "import matplotlib as mpl\n",
        "import matplotlib.pyplot as plt\n",
        "import numpy as np\n",
        "import warnings\n",
        "warnings.filterwarnings(\"ignore\")\n",
        "\n",
        "mpl.rc('axes', labelsize=14)\n",
        "mpl.rc('xtick', labelsize=12)\n",
        "mpl.rc('ytick', labelsize=12)\n",
        "\n",
        "T = 2*np.pi #2 segundos de grafica\n",
        "Fs = 500 # 1000 muestras por segundo Ajustar según señal estudiada\n",
        "Nm = T*Fs #numero de muestras requeridas\n",
        "L = 2*Nm+1\n",
        "Li = int(L+1)\n",
        "tv = np.arange(-T/2,T/2,T/L)\n",
        "x = tv\n",
        "\n",
        "plt.plot(tv,x,'r',linewidth=4)\n",
        "plt.grid()\n",
        "plt.xlabel(\"t[s]\",fontsize = 14)\n",
        "plt.ylabel(\"x(t)\",fontsize = 14)\n"
      ],
      "execution_count": 0,
      "outputs": [
        {
          "output_type": "execute_result",
          "data": {
            "text/plain": [
              "Text(0, 0.5, 'x(t)')"
            ]
          },
          "metadata": {
            "tags": []
          },
          "execution_count": 28
        },
        {
          "output_type": "display_data",
          "data": {
            "image/png": "[encoded data removed]",
            "text/plain": [
              "<Figure size 432x288 with 1 Axes>"
            ]
          },
          "metadata": {
            "tags": [],
            "needs_background": "light"
          }
        }
      ]
    },
    {
      "cell_type": "code",
      "metadata": {
        "id": "gTuPLJggNS9S",
        "colab_type": "code",
        "colab": {}
      },
      "source": [
        "N = 5 #numero armonicos\n",
        "wo = 2*np.pi/T # frecuencia fundamental\n",
        "# %% definir bases\n",
        "cn = np.zeros(2*N+1,dtype=np.complex_)\n",
        "nv = np.linspace(-N, N, 2*N+1) #vector num armónicos\n",
        "Cn = (1j)*(-1)**nv/(nv)\n",
        "Cn[N] = 0\n",
        "phin = np.zeros((Li,2*N+1),dtype=np.complex_)\n",
        "for n in range(-N,N+1,1):\n",
        "    phin[:,n+N] = np.exp(1j*n*wo*tv)"
      ],
      "execution_count": 0,
      "outputs": []
    },
    {
      "cell_type": "code",
      "metadata": {
        "id": "aAZ15AsEdwyN",
        "colab_type": "code",
        "outputId": "958bef95-8c33-47a3-bfc3-7aeac542da1b",
        "colab": {
          "base_uri": "https://localhost:8080/",
          "height": 285
        }
      },
      "source": [
        "X = phin @ Cn  #producto matricial para calcular componentes espectrales phin.dot(Cn)\n",
        "plt.plot(tv,X,label = '$\\hat{x}(t)$')\n",
        "plt.plot(tv,x,label = '$x(t)$')\n",
        "plt.plot(tv,x-X,label = '$e(t)$')\n",
        "plt.grid()\n",
        "plt.legend()"
      ],
      "execution_count": 0,
      "outputs": [
        {
          "output_type": "execute_result",
          "data": {
            "text/plain": [
              "<matplotlib.legend.Legend at 0x7f2d40d588d0>"
            ]
          },
          "metadata": {
            "tags": []
          },
          "execution_count": 30
        },
        {
          "output_type": "display_data",
          "data": {
            "image/png": "[encoded data removed]",
            "text/plain": [
              "<Figure size 432x288 with 1 Axes>"
            ]
          },
          "metadata": {
            "tags": [],
            "needs_background": "light"
          }
        }
      ]
    },
    {
      "cell_type": "code",
      "metadata": {
        "id": "Eb16lhxMNTYE",
        "colab_type": "code",
        "outputId": "62e0cdd8-3b12-4693-f1ea-aadbb15de710",
        "colab": {
          "base_uri": "https://localhost:8080/",
          "height": 585
        }
      },
      "source": [
        "fig = plt.figure(figsize=(4,8))\n",
        "plt.subplot(4,1,1)\n",
        "plt.stem(nv, np.real(Cn), 'r')\n",
        "plt.title(r'Re{Cn}')\n",
        "plt.xlabel(r'$nw_o$[rad/s]',fontsize = 14)\n",
        "plt.ylabel(r'$Re\\{C_n\\}$',fontsize = 14)\n",
        "plt.axis('tight')\n",
        "plt.grid()\n",
        "\n",
        "plt.subplot(4,1,2)\n",
        "plt.stem(nv, np.imag(Cn), 'r')\n",
        "plt.title(r'Im{Cn}')\n",
        "plt.xlabel(r'$nw_o$[rad/s]',fontsize = 14)\n",
        "plt.ylabel(r'$Im\\{C_n\\}$',fontsize = 14)\n",
        "plt.axis('tight')\n",
        "plt.grid()\n",
        "\n",
        "plt.subplot(4,1,3)\n",
        "plt.stem(nv, abs(Cn), 'r')\n",
        "plt.title(r'|Cn|')\n",
        "plt.xlabel(r'$nw_o$[rad/s]',fontsize = 14)\n",
        "plt.ylabel(r'$|C_n|$',fontsize = 14)\n",
        "plt.axis('tight')\n",
        "plt.grid()\n",
        "\n",
        "plt.subplot(4,1,4)\n",
        "plt.stem(nv, np.arctan(-np.imag(Cn)/np.fabs(np.real(Cn))), 'r')\n",
        "plt.title(r'|Cn|')\n",
        "plt.xlabel(r'$nw_o$[rad/s]',fontsize = 14)\n",
        "plt.ylabel(r'$|C_n|$',fontsize = 14)\n",
        "plt.axis('tight')\n",
        "plt.grid()\n",
        "\n",
        "fig.tight_layout()"
      ],
      "execution_count": 0,
      "outputs": [
        {
          "output_type": "display_data",
          "data": {
            "image/png": "[encoded data removed]",
            "text/plain": [
              "<Figure size 288x576 with 4 Axes>"
            ]
          },
          "metadata": {
            "tags": [],
            "needs_background": "light"
          }
        }
      ]
    },
    {
      "cell_type": "code",
      "metadata": {
        "id": "fUOejL6fb8In",
        "colab_type": "code",
        "outputId": "111d699c-9590-4549-d195-3359e0c9dc57",
        "colab": {
          "base_uri": "https://localhost:8080/",
          "height": 353,
          "referenced_widgets": [
            "727d7ffef2ad482e89fbafcd0352c8ae",
            "60451fbfdf264ba7b1b53abcbd3a8929",
            "cbf22e9a2c5a48d488a50f22a4f47b17",
            "afd58a09a619447ab2a52f1ebf918488",
            "1fa1d53f402142a2be5e76994462e6ad",
            "7cf479cc03244fd1a3ff3cbd286b7df4",
            "76b8b89e2f5f4d6babafdd6403c4ca8c"
          ]
        }
      },
      "source": [
        "from ipywidgets import interact,IntSlider\n",
        "Px = np.pi**2/3 # estimar según señal estudiada\n",
        "def pltest(Na=1):\n",
        "    ind = range(N-Na,N+Na+1)\n",
        "    er = 1- (abs(Cn[N])**2 + 2*np.sum(abs(Cn[N:N+Na+1])**2))/Px\n",
        "    xe = phin[:,ind]@ Cn[ind] \n",
        "    plt.plot(tv,xe,color='b',label='xe')\n",
        "    plt.plot(tv,x,color='r',label='x')\n",
        "    plt.title('Er=%.2f[%%]' % (100*er),fontsize=16)\n",
        "    plt.xlabel('t[s]')\n",
        "    plt.ylabel('x(t)')\n",
        "    plt.grid()\n",
        "    plt.legend()\n",
        "    plt.show()\n",
        "    return\n",
        "interact(pltest,Na=(1,N,1))"
      ],
      "execution_count": 0,
      "outputs": [
        {
          "output_type": "display_data",
          "data": {
            "application/vnd.jupyter.widget-view+json": {
              "model_id": "727d7ffef2ad482e89fbafcd0352c8ae",
              "version_minor": 0,
              "version_major": 2
            },
            "text/plain": [
              "interactive(children=(IntSlider(value=1, description='Na', max=5, min=1), Output()), _dom_classes=('widget-int…"
            ]
          },
          "metadata": {
            "tags": []
          }
        },
        {
          "output_type": "execute_result",
          "data": {
            "text/plain": [
              "<function __main__.pltest>"
            ]
          },
          "metadata": {
            "tags": []
          },
          "execution_count": 32
        }
      ]
    },
    {
      "cell_type": "markdown",
      "metadata": {
        "id": "ZGXMGYXCD_Ez",
        "colab_type": "text"
      },
      "source": [
        "###b) $x(t)=\\vert\\sin(t)\\vert$\n",
        "Esta señal es par.\\\n",
        "Compleja.\n",
        "\\begin{equation}\n",
        "C_n = \\frac{1}{2\\pi}\\int^{\\pi}_{-\\pi}{\\vert\\sin(t)\\vert e^{-jn\\omega_o t}}dt=\\frac{2}{2\\pi}\\int^{\\pi}_{0}{\\sin(t)e^{-jn\\omega_o t}}dt=\\frac{1}{\\pi}\\frac{1+cos(n\\pi)}{(1-n^2)};\\quad\\forall n\\neq\\{-1,0,1\\}\\\\\n",
        "\\end{equation}\n",
        "\\begin{equation}\n",
        "C_0=\\frac{2}{2\\pi}\\int_{0}^{\\pi}\\vert\\sin(t)\\vert dt=\\frac{2}{\\pi}\\\\\n",
        "C_1=C_{-1}=\\lim_{n\\rightarrow 1}\\frac{2}{\\pi}\\frac{1+cos(n\\pi)}{(1-n^2)}=\\frac{2}{\\pi}\\frac{-\\pi\\sin(n\\pi)}{(2n)}=0\n",
        "\\end{equation}\n",
        "\n",
        "Trigonométrica.\n",
        "\\begin{equation}\n",
        "a_n = \\frac{2}{2\\pi}\\int^{\\pi}_{-\\pi}{\\vert\\sin(t)\\vert\\cos(n\\omega_o t)}dt=\\frac{4}{2\\pi}\\int^{\\pi}_{0}{\\sin(t)\\cos(n\\omega_o t)}dt=\\frac{1}{\\pi}\\biggr[\\frac{1-\\cos(\\pi(1+n))}{(1+n)}+\\frac{1-\\cos(\\pi(1-n))}{(1-n)}\\biggr]=\\frac{2}{\\pi}\\frac{1+cos(n\\pi)}{(1-n^2)}; \\quad \\forall n\\geq1\n",
        "\\end{equation}\n",
        "\\begin{equation}\n",
        "C_0=a_0=\\frac{2}{\\pi}\\\\\n",
        "C_1=\\lim_{n\\rightarrow 1}\\frac{2}{\\pi}\\frac{1+cos(n\\pi)}{(1-n^2)}=\\frac{2}{\\pi}\\frac{-\\pi\\sin(n\\pi)}{(2n)}=0\n",
        "\\end{equation}\n",
        "\n",
        "\\begin{equation}\n",
        "b_n = \\frac{2}{2\\pi}\\int^{\\pi}_{-\\pi}{\\vert\\sin(t)\\vert\\sin(n\\omega_o t)}dt=0\\\\\n",
        "\\end{equation}\n",
        "\n",
        "Compacta.\n",
        "\\begin{equation}\n",
        "d_n = \\sqrt{a_n^2+b_n^2} = 2|c_n| = \\biggr\\vert\\frac{4}{\\pi}\\frac{1}{(1-4n^2)}\\biggr\\vert=\\frac{4}{\\pi}\\frac{1}{4n^2-1}\n",
        "\\end{equation}\n",
        "\\begin{equation}\n",
        "d_0=C_0=a_0=\\frac{2}{\\pi}  \n",
        "\\end{equation}\n",
        "\n",
        "\\begin{equation}\n",
        "\\phi_n = \\tan^{-1}\\biggr(\\frac{-b_n}{a_n}\\biggr)=\\tan^{-1}\\biggr(\\frac{0}{a_n}\\biggr)=\\tan^{-1}(0)=0\n",
        "\\end{equation}\n",
        "\n",
        "Error.\n",
        "\\begin{equation}\n",
        "\\frac{E_r[\\%]}{100}=1-\\biggr(\\frac{\\vert C_0\\vert^2}{P_x}+\\frac{2P_n}{P_x}\\sum^5_{n=1}\\vert C_n\\vert^2\\biggr)\\\\\n",
        "P_x = \\frac{1}{2\\pi}\\int^{\\pi}_{-\\pi}{|\\vert\\sin(t)\\vert^2|dt}=\\frac{1}{2}, \\quad P_n = \\frac{1}{2\\pi}\\int^{\\pi}_{-\\pi}{\\vert\\varphi_n(t)\\vert^2dt}=1\\\\\n",
        "\\frac{E_r[\\%]}{100}=1-\\biggr(\\frac{\\vert0\\vert^2+\\vert2/\\pi\\vert^2+\\vert0\\vert^2}{1/2}+\\frac{2}{1/2}\\sum^5_{n=2}\\biggr\\vert\\frac{1}{\\pi}\\frac{1+(-1)^n}{(1-n^2)}\\biggr\\vert^2\\biggr)\\\\\n",
        "\\sum^5_{n=1}\\biggr\\vert\\frac{4}{\\pi}\\frac{1}{4n^2-1}\\biggr\\vert^2=0.1873316106\\\\\n",
        "E_r[\\%]=\\biggr(1-\\frac{8}{\\pi^2}-4(0.1873316106)\\biggr)*100=0.299\\%\\\\\n",
        "\\end{equation}"
      ]
    },
    {
      "cell_type": "code",
      "metadata": {
        "id": "DKZLglCJPenK",
        "colab_type": "code",
        "outputId": "ce80db1d-eb17-4e29-a963-f7e3534f0128",
        "colab": {
          "base_uri": "https://localhost:8080/",
          "height": 303
        }
      },
      "source": [
        "%matplotlib inline\n",
        "import matplotlib as mpl\n",
        "import matplotlib.pyplot as plt\n",
        "import numpy as np\n",
        "import warnings\n",
        "warnings.filterwarnings(\"ignore\")\n",
        "\n",
        "mpl.rc('axes', labelsize=14)\n",
        "mpl.rc('xtick', labelsize=12)\n",
        "mpl.rc('ytick', labelsize=12)\n",
        "\n",
        "T = 2*np.pi #2 segundos de grafica\n",
        "Fs = 500 # 1000 muestras por segundo Ajustar según señal estudiada\n",
        "Nm = T*Fs #numero de muestras requeridas\n",
        "L = 2*Nm+1\n",
        "Li = int(L+1)\n",
        "tv = np.linspace(-T/2,T/2,Li)\n",
        "x = abs(np.sin(tv))\n",
        "\n",
        "plt.plot(tv,x,'r',linewidth=4)\n",
        "plt.grid()\n",
        "plt.xlabel(\"t[s]\",fontsize = 14)\n",
        "plt.ylabel(\"x(t)\",fontsize = 14)"
      ],
      "execution_count": 0,
      "outputs": [
        {
          "output_type": "execute_result",
          "data": {
            "text/plain": [
              "Text(0, 0.5, 'x(t)')"
            ]
          },
          "metadata": {
            "tags": []
          },
          "execution_count": 33
        },
        {
          "output_type": "display_data",
          "data": {
            "image/png": "[encoded data removed]",
            "text/plain": [
              "<Figure size 432x288 with 1 Axes>"
            ]
          },
          "metadata": {
            "tags": [],
            "needs_background": "light"
          }
        }
      ]
    },
    {
      "cell_type": "code",
      "metadata": {
        "id": "xrZuGgAaDKvr",
        "colab_type": "code",
        "colab": {}
      },
      "source": [
        "N = 5 #numero armonicos\n",
        "wo = 2*np.pi/T # frecuencia fundamental\n",
        "# %% definir bases\n",
        "cn = np.zeros(2*N+1,dtype=np.complex_)\n",
        "nv = np.linspace(-N, N, 2*N+1) #vector num armónicos\n",
        "Cn = (1+(-1)**nv)/(np.pi*(1-nv**2))\n",
        "Cn[N] = 2/np.pi\n",
        "Cn[N-1] = 0\n",
        "Cn[N+1] = 0\n",
        "phin = np.zeros((Li,2*N+1),dtype=np.complex_)\n",
        "for n in range(-N,N+1,1):\n",
        "    phin[:,n+N] = np.exp(1j*n*wo*tv)"
      ],
      "execution_count": 0,
      "outputs": []
    },
    {
      "cell_type": "code",
      "metadata": {
        "id": "CtD-RlCoDLdW",
        "colab_type": "code",
        "outputId": "c6b1bb0e-8618-4f8d-a31a-da4dd4cdc4b5",
        "colab": {
          "base_uri": "https://localhost:8080/",
          "height": 285
        }
      },
      "source": [
        "X = phin @ Cn  #producto matricial para calcular componentes espectrales phin.dot(Cn)\n",
        "plt.plot(tv,X,label = '$\\hat{x}(t)$')\n",
        "plt.plot(tv,x,label = '$x(t)$')\n",
        "plt.plot(tv,x-X,label = '$e(t)$')\n",
        "plt.grid()\n",
        "plt.legend()"
      ],
      "execution_count": 0,
      "outputs": [
        {
          "output_type": "execute_result",
          "data": {
            "text/plain": [
              "<matplotlib.legend.Legend at 0x7f2d40d8e1d0>"
            ]
          },
          "metadata": {
            "tags": []
          },
          "execution_count": 35
        },
        {
          "output_type": "display_data",
          "data": {
            "image/png": "[encoded data removed]",
            "text/plain": [
              "<Figure size 432x288 with 1 Axes>"
            ]
          },
          "metadata": {
            "tags": [],
            "needs_background": "light"
          }
        }
      ]
    },
    {
      "cell_type": "code",
      "metadata": {
        "id": "6T3Oa8JEDLSm",
        "colab_type": "code",
        "outputId": "670c3f63-aa96-43cc-d512-2661315b43c3",
        "colab": {
          "base_uri": "https://localhost:8080/",
          "height": 585
        }
      },
      "source": [
        "fig = plt.figure(figsize=(4,8))\n",
        "plt.subplot(4,1,1)\n",
        "plt.stem(nv, np.real(Cn), 'r')\n",
        "plt.title(r'Re{Cn}')\n",
        "plt.xlabel(r'$nw_o$[rad/s]',fontsize = 14)\n",
        "plt.ylabel(r'$Re\\{C_n\\}$',fontsize = 14)\n",
        "plt.axis('tight')\n",
        "plt.grid()\n",
        "\n",
        "plt.subplot(4,1,2)\n",
        "plt.stem(nv, np.imag(Cn), 'r')\n",
        "plt.title(r'Im{Cn}')\n",
        "plt.xlabel(r'$nw_o$[rad/s]',fontsize = 14)\n",
        "plt.ylabel(r'$Im\\{C_n\\}$',fontsize = 14)\n",
        "plt.axis('tight')\n",
        "plt.grid()\n",
        "\n",
        "plt.subplot(4,1,3)\n",
        "plt.stem(nv, abs(Cn), 'r')\n",
        "plt.title(r'|Cn|')\n",
        "plt.xlabel(r'$nw_o$[rad/s]',fontsize = 14)\n",
        "plt.ylabel(r'$|C_n|$',fontsize = 14)\n",
        "plt.axis('tight')\n",
        "plt.grid()\n",
        "\n",
        "plt.subplot(4,1,4)\n",
        "plt.stem(nv, np.arctan(-np.imag(Cn)/np.fabs(np.real(Cn))), 'r')\n",
        "plt.title(r'|Cn|')\n",
        "plt.xlabel(r'$nw_o$[rad/s]',fontsize = 14)\n",
        "plt.ylabel(r'$|C_n|$',fontsize = 14)\n",
        "plt.axis('tight')\n",
        "plt.grid()\n",
        "\n",
        "fig.tight_layout()"
      ],
      "execution_count": 0,
      "outputs": [
        {
          "output_type": "display_data",
          "data": {
            "image/png": "[encoded data removed]",
            "text/plain": [
              "<Figure size 288x576 with 4 Axes>"
            ]
          },
          "metadata": {
            "tags": [],
            "needs_background": "light"
          }
        }
      ]
    },
    {
      "cell_type": "code",
      "metadata": {
        "id": "cESE0mrJDLGV",
        "colab_type": "code",
        "outputId": "ad004820-6c4c-4061-97ec-ab4b71ab5d46",
        "colab": {
          "base_uri": "https://localhost:8080/",
          "height": 353,
          "referenced_widgets": [
            "44e06cc72a1f4996b3438e2b04ce433b",
            "7e85cb12e5484e30acda4a227ca0db94",
            "c0764a40d2c3408faf04165f88c4c88c",
            "78d97e7834774f2fa046a6a80f1ebea7",
            "4e10aae479854ce6b0b2ea4f3e02c74c",
            "962fddeedd4f4c85a3266eb4647dc9a5",
            "0ddef0e228c7494b8f7d5cce307b54b7"
          ]
        }
      },
      "source": [
        "from ipywidgets import interact,IntSlider\n",
        "Px = 0.5 # estimar según señal estudiada\n",
        "def pltest(Na=1):\n",
        "    ind = range(N-Na,N+Na+1)\n",
        "    er = 1- (abs(Cn[N])**2 + 2*np.sum(abs(Cn[N+1:N+Na+2])**2))/Px\n",
        "    xe = phin[:,ind]@ Cn[ind] \n",
        "    plt.plot(tv,xe,color='b',label='xe')\n",
        "    plt.plot(tv,x,color='r',label='x')\n",
        "    plt.title('Er=%.2f[%%]' % (100*er),fontsize=16)\n",
        "    plt.xlabel('t[s]')\n",
        "    plt.ylabel('x(t)')\n",
        "    plt.grid()\n",
        "    plt.legend()\n",
        "    plt.show()\n",
        "    return\n",
        "interact(pltest,Na=(1,N,1))"
      ],
      "execution_count": 0,
      "outputs": [
        {
          "output_type": "display_data",
          "data": {
            "application/vnd.jupyter.widget-view+json": {
              "model_id": "44e06cc72a1f4996b3438e2b04ce433b",
              "version_minor": 0,
              "version_major": 2
            },
            "text/plain": [
              "interactive(children=(IntSlider(value=1, description='Na', max=5, min=1), Output()), _dom_classes=('widget-int…"
            ]
          },
          "metadata": {
            "tags": []
          }
        },
        {
          "output_type": "execute_result",
          "data": {
            "text/plain": [
              "<function __main__.pltest>"
            ]
          },
          "metadata": {
            "tags": []
          },
          "execution_count": 37
        }
      ]
    },
    {
      "cell_type": "markdown",
      "metadata": {
        "id": "8QDplU9lPhAT",
        "colab_type": "text"
      },
      "source": [
        "###c) $x(t)=sgn(t)$\n",
        "Esta señal es impar.\n",
        "Compleja.\n",
        "\\begin{equation}\n",
        "C_n = \\frac{1}{2\\pi}\\int^{\\pi}_{-\\pi}{sgn(t)e^{-jn\\omega_o t}}dt=\\frac{1}{2\\pi}\\int^{\\pi}_{0}e^{-jn\\omega_o t}dt-\\frac{1}{2\\pi}\\int^{0}_{-\\pi}e^{-jn\\omega_o t}dt=\\frac{j}{2\\pi n}(e^{-jn\\pi}dt-e^{0}+e^{jn\\pi}-e^{0})=\\frac{j(2\\cos(n\\pi)-2e^{0})}{2\\pi n}=\\frac{j(\\cos(n\\pi)-1)}{\\pi n}=\\frac{j((-1)^n-1)}{\\pi n};\\quad\\forall n\\neq 0\\\\\n",
        "\\end{equation}\n",
        "\n",
        "con\n",
        "\n",
        "\\begin{equation}\n",
        "C_0 = \\frac{1}{T}\\int^{T/2}_{-T/2}{x(t)}dt=0\n",
        "\\end{equation}\n",
        "\n",
        "Trigonométrica:\n",
        "\n",
        "\\begin{equation}\n",
        "a_n = \\frac{2}{T}\\int^{T/2}_{-T/2}{x(t)\\cos(n\\omega_o t)}dt=2\\mathcal{Re}\\{C_n\\}= 0; \\quad n > 0\n",
        "\\end{equation}\n",
        "\\begin{equation}\n",
        "a_0 = C_0 = 0.\n",
        "\\end{equation}\n",
        "\n",
        "\\begin{equation}\n",
        "b_n = \\frac{2}{T}\\int^{T/2}_{-T/2}{x(t)\\sin(n\\omega_o t)}dt=-2\\mathcal{Im}\\{c_n\\}=\\frac{2}{n\\pi}(1-(-1)^n); \\quad n > 0\n",
        "\\end{equation}\n",
        "\\begin{equation}\n",
        "b_0 = 0.\n",
        "\\end{equation}\n",
        "\n",
        "Compacta.\n",
        "\n",
        "\\begin{equation}\n",
        "d_n = \\sqrt{a_n^2+b_n^2} = 2|c_n| = \\frac{2}{n\\pi}(1-(-1)^n); \\quad n > 0\n",
        "\\end{equation}\n",
        "\\begin{equation}\n",
        "d_0 = a_0;  \n",
        "\\end{equation}\n",
        "\n",
        "\\begin{equation}\n",
        "\\phi_n = \\tan^{-1}\\left(\\frac{\\mathcal{Im}\\{c_n\\}}{\\mathcal{Re}\\{c_n\\}}\\right) = \\tan^{-1}\\left(\\frac{-b_n}{0}\\right)=90; \\quad n \\geq 0\n",
        "\\end{equation}\n",
        "\n",
        "\n",
        "Error.\n",
        "\n",
        "\\begin{equation}\n",
        "\\frac{E_r[\\%]}{100}=1-\\biggr(\\frac{\\vert C_0\\vert^2}{P_x}+\\frac{2P_n}{P_x}\\sum^5_{n=1}\\vert C_n\\vert^2\\biggr)\\\\\n",
        "P_x = \\frac{1}{2\\pi}\\int^{\\pi}_{-\\pi}{\\vert sgn(t)\\vert^2dt}=1, \\quad P_n = \\frac{1}{2\\pi}\\int^{\\pi}_{-\\pi}{\\vert\\varphi_n(t)\\vert^2dt}=1\\\\\n",
        "\\frac{E_r[\\%]}{100}=1-\\biggr(0+\\frac{2}{1}\\sum^5_{n=1}\\biggr\\vert\\frac{(1-(-1)^n)}{n\\pi}\\biggr\\vert^2\\biggr)\\\\\n",
        "\\sum^5_{n=1}\\biggr\\vert\\frac{(1-(-1)^n)}{n\\pi}\\biggr\\vert^2=0.9330555223\\\\\n",
        "E_r[\\%]=\\biggr(1-2(0.9330555223)\\biggr)*100=6.69\\%\\\\\n",
        "\\end{equation}"
      ]
    },
    {
      "cell_type": "code",
      "metadata": {
        "id": "GKhxVVwcPhdz",
        "colab_type": "code",
        "outputId": "b1fbd67f-1d62-456e-a519-c807748ca207",
        "colab": {
          "base_uri": "https://localhost:8080/",
          "height": 303
        }
      },
      "source": [
        "%matplotlib inline\n",
        "import matplotlib as mpl\n",
        "import matplotlib.pyplot as plt\n",
        "import numpy as np\n",
        "import warnings\n",
        "warnings.filterwarnings(\"ignore\")\n",
        "\n",
        "mpl.rc('axes', labelsize=14)\n",
        "mpl.rc('xtick', labelsize=12)\n",
        "mpl.rc('ytick', labelsize=12)\n",
        "\n",
        "T = 2*np.pi #2 segundos de grafica\n",
        "Fs = 500 # 1000 muestras por segundo Ajustar según señal estudiada\n",
        "Nm = T*Fs #numero de muestras requeridas\n",
        "L = 2*Nm+1\n",
        "Li = int(L)\n",
        "tv = np.linspace(-T/2,T/2,Li)\n",
        "x = np.concatenate((-np.ones(int(Li/2)), np.ones(int(Li/2))), axis=0)\n",
        "\n",
        "plt.plot(tv,x,'r',linewidth=4)\n",
        "plt.grid()\n",
        "plt.xlabel(\"t[s]\",fontsize = 14)\n",
        "plt.ylabel(\"x(t)\",fontsize = 14)\n"
      ],
      "execution_count": 0,
      "outputs": [
        {
          "output_type": "execute_result",
          "data": {
            "text/plain": [
              "Text(0, 0.5, 'x(t)')"
            ]
          },
          "metadata": {
            "tags": []
          },
          "execution_count": 38
        },
        {
          "output_type": "display_data",
          "data": {
            "image/png": "[encoded data removed]",
            "text/plain": [
              "<Figure size 432x288 with 1 Axes>"
            ]
          },
          "metadata": {
            "tags": [],
            "needs_background": "light"
          }
        }
      ]
    },
    {
      "cell_type": "code",
      "metadata": {
        "id": "XFJF8rX_ZnUs",
        "colab_type": "code",
        "colab": {}
      },
      "source": [
        "N = 5 #numero armonicos\n",
        "wo = 2*np.pi/T # frecuencia fundamental\n",
        "# %% definir bases\n",
        "cn = np.zeros(2*N+1,dtype=np.complex_)\n",
        "nv = np.linspace(-N, N, 2*N+1) #vector num armónicos\n",
        "Cn = (1j)*((-1)**nv-1)/(nv*np.pi)\n",
        "Cn[N] = 0\n",
        "phin = np.zeros((Li,2*N+1),dtype=np.complex_)\n",
        "for n in range(-N,N+1,1):\n",
        "    phin[:,n+N] = np.exp(1j*n*wo*tv)"
      ],
      "execution_count": 0,
      "outputs": []
    },
    {
      "cell_type": "code",
      "metadata": {
        "id": "nPLdU_KKZq9z",
        "colab_type": "code",
        "outputId": "2a3661aa-8bb6-46bd-b66b-a739ae01c3d2",
        "colab": {
          "base_uri": "https://localhost:8080/",
          "height": 285
        }
      },
      "source": [
        "X = phin @ Cn  #producto matricial para calcular componentes espectrales phin.dot(Cn)\n",
        "plt.plot(tv,X,label = '$\\hat{x}(t)$')\n",
        "plt.plot(tv,x,label = '$x(t)$')\n",
        "plt.plot(tv,x-X,label = '$e(t)$')\n",
        "plt.grid()\n",
        "plt.legend()"
      ],
      "execution_count": 0,
      "outputs": [
        {
          "output_type": "execute_result",
          "data": {
            "text/plain": [
              "<matplotlib.legend.Legend at 0x7f2d411accc0>"
            ]
          },
          "metadata": {
            "tags": []
          },
          "execution_count": 40
        },
        {
          "output_type": "display_data",
          "data": {
            "image/png": "[encoded data removed]",
            "text/plain": [
              "<Figure size 432x288 with 1 Axes>"
            ]
          },
          "metadata": {
            "tags": [],
            "needs_background": "light"
          }
        }
      ]
    },
    {
      "cell_type": "code",
      "metadata": {
        "id": "C5rssoU1ZrlR",
        "colab_type": "code",
        "outputId": "8012ad3f-62d4-46a4-b22a-4bbb1a59eaec",
        "colab": {
          "base_uri": "https://localhost:8080/",
          "height": 585
        }
      },
      "source": [
        "fig = plt.figure(figsize=(4,8))\n",
        "plt.subplot(4,1,1)\n",
        "plt.stem(nv, np.real(Cn), 'r')\n",
        "plt.title(r'Re{Cn}')\n",
        "plt.xlabel(r'$nw_o$[rad/s]',fontsize = 14)\n",
        "plt.ylabel(r'$Re\\{C_n\\}$',fontsize = 14)\n",
        "plt.axis('tight')\n",
        "plt.grid()\n",
        "\n",
        "plt.subplot(4,1,2)\n",
        "plt.stem(nv, np.imag(Cn), 'r')\n",
        "plt.title(r'Im{Cn}')\n",
        "plt.xlabel(r'$nw_o$[rad/s]',fontsize = 14)\n",
        "plt.ylabel(r'$Im\\{C_n\\}$',fontsize = 14)\n",
        "plt.axis('tight')\n",
        "plt.grid()\n",
        "\n",
        "plt.subplot(4,1,3)\n",
        "plt.stem(nv, abs(Cn), 'r')\n",
        "plt.title(r'|Cn|')\n",
        "plt.xlabel(r'$nw_o$[rad/s]',fontsize = 14)\n",
        "plt.ylabel(r'$|C_n|$',fontsize = 14)\n",
        "plt.axis('tight')\n",
        "plt.grid()\n",
        "\n",
        "plt.subplot(4,1,4)\n",
        "plt.stem(nv, np.arctan(-np.imag(Cn)/np.fabs(np.real(Cn))), 'r')\n",
        "plt.title(r'|Cn|')\n",
        "plt.xlabel(r'$nw_o$[rad/s]',fontsize = 14)\n",
        "plt.ylabel(r'$|C_n|$',fontsize = 14)\n",
        "plt.axis('tight')\n",
        "plt.grid()\n",
        "\n",
        "fig.tight_layout()"
      ],
      "execution_count": 0,
      "outputs": [
        {
          "output_type": "display_data",
          "data": {
            "image/png": "[encoded data removed]",
            "text/plain": [
              "<Figure size 288x576 with 4 Axes>"
            ]
          },
          "metadata": {
            "tags": [],
            "needs_background": "light"
          }
        }
      ]
    },
    {
      "cell_type": "code",
      "metadata": {
        "id": "dVUoqr5SaBrp",
        "colab_type": "code",
        "outputId": "67809b9c-f78c-47b8-cd62-e3d28352b0d1",
        "colab": {
          "base_uri": "https://localhost:8080/",
          "height": 353,
          "referenced_widgets": [
            "0dd6805d42a548738cb8253fe9bdf625",
            "fdc0766749964aa8aec101613f1e8b4a",
            "f6f7357653464ac0b10feb515680026e",
            "585d0c8436674da88569ebb0cf89af1b",
            "49b6d3dc713545e99bd3634aed4e5d1d",
            "7660e2f64fb743268a72d2ace0f0ff64",
            "91b118328c1146eeae3ee8440e4282ee"
          ]
        }
      },
      "source": [
        "from ipywidgets import interact,IntSlider\n",
        "Px = 1 # estimar según señal estudiada\n",
        "def pltest(Na=1):\n",
        "    ind = range(N-Na,N+Na+1)\n",
        "    er = 1- (abs(Cn[N])**2 + 2*np.sum(abs(Cn[N:N+Na+1])**2))/Px\n",
        "    xe = phin[:,ind]@ Cn[ind] \n",
        "    plt.plot(tv,xe,color='b',label='xe')\n",
        "    plt.plot(tv,x,color='r',label='x')\n",
        "    plt.title('Er=%.2f[%%]' % (100*er),fontsize=16)\n",
        "    plt.xlabel('t[s]')\n",
        "    plt.ylabel('x(t)')\n",
        "    plt.grid()\n",
        "    plt.legend()\n",
        "    plt.show()\n",
        "    return\n",
        "interact(pltest,Na=(1,N,1))"
      ],
      "execution_count": 0,
      "outputs": [
        {
          "output_type": "display_data",
          "data": {
            "application/vnd.jupyter.widget-view+json": {
              "model_id": "0dd6805d42a548738cb8253fe9bdf625",
              "version_minor": 0,
              "version_major": 2
            },
            "text/plain": [
              "interactive(children=(IntSlider(value=1, description='Na', max=5, min=1), Output()), _dom_classes=('widget-int…"
            ]
          },
          "metadata": {
            "tags": []
          }
        },
        {
          "output_type": "execute_result",
          "data": {
            "text/plain": [
              "<function __main__.pltest>"
            ]
          },
          "metadata": {
            "tags": []
          },
          "execution_count": 42
        }
      ]
    },
    {
      "cell_type": "markdown",
      "metadata": {
        "id": "RHKJBSz_dK4V",
        "colab_type": "text"
      },
      "source": [
        "###d) $x(t)=\\vert\\cos^2(t/2)\\vert$\n",
        "\\begin{equation}\n",
        "\\vert\\cos^2(t/2)\\vert=\\biggr\\vert\\frac{1-\\cos(t)}{2}\\biggr\\vert\\geq0 \\therefore \\vert\\cos^2(t/2)\\vert=\\cos^2(t/2)\\Rightarrow T=2\\pi \\quad \\& \\quad \\omega_o=1\n",
        "\\end{equation}\n",
        "\n",
        "\n",
        "Compleja.\n",
        "\\begin{equation}\n",
        "C_n = \\frac{1}{2\\pi}\\int^{\\pi}_{-\\pi}{cos^2(t/2)e^{-jn\\omega_o t}}dt=\\frac{-2\\sin(\\pi n)}{(2n^3-2n)};\\quad\\forall n\\neq\\{-1,0,1\\}\\\\\n",
        "C_0 = \\lim_{n\\rightarrow \\pm1}\\frac{-2\\sin(\\pi n)}{(2n^3-2n)}=\\frac{1}{4}\n",
        "C_{\\pm1}=\\lim_{n\\rightarrow \\pm1}\\frac{-2\\sin(\\pi n)}{(2n^3-2n)}=\\frac{1}{2}\\\\\n",
        "C_n= \\begin{cases}1/4, & n=-1\\\\\n",
        "1/2,& n=0\\\\ \n",
        "1/4, & n =1\\\\\n",
        "\\frac{\\sin(\\pi n)}{(2n^3-2n)}=0, & n\\neq\\{-1,0,1\\}\\end{cases}\\\\\n",
        "\\end{equation}\n",
        "\n",
        "\n",
        "Trigonométrica.\n",
        "\\begin{equation}\n",
        "a_n = \\frac{2}{2\\pi}\\int^{\\pi}_{-\\pi}{cos^2(t/2)\\cos(n\\omega_o t)}dt= \\begin{cases}1/2, & n=-1\\\\\n",
        "1,& n=0\\\\ \n",
        "1/2, & n =1\\\\\n",
        "\\frac{4\\sin(\\pi n)}{(2n^3-2n)}=0, & n\\neq\\{-1,0,1\\}\\end{cases}\\\\\n",
        "\\end{equation}\n",
        "\n",
        "\\begin{equation}\n",
        "b_n = \\frac{2}{2\\pi}\\int^{\\pi}_{-\\pi}{cos^2(t/2)\\sin(n\\omega_o t)}dt=0\\\\\n",
        "b_0 = 0.\n",
        "\\end{equation}\n",
        "\n",
        "Compacta.\n",
        "\\begin{equation}\n",
        "d_n = \\sqrt{a_n^2+b_n^2} = 2|c_n| =\\begin{cases}1, & n=-1\\\\\n",
        "1/2,& n=0\\\\ \n",
        "1, & n =1\\\\\n",
        "\\frac{2\\sin(\\pi n)}{(n^3-n)}=0, & n\\neq\\{-1,0,1\\}\\end{cases}\\\\; \\quad n > 0\n",
        "\\end{equation}\n",
        "\\begin{equation}\n",
        "d_0 = a_0=\\frac{1}{2};  \n",
        "\\end{equation}\n",
        "\n",
        "\\begin{equation}\n",
        "\\phi_n = \\tan^{-1}\\biggr(\\frac{-b_n}{a_n}\\biggr)=\\tan^{-1}\\biggr(\\frac{0}{a_n}\\biggr)=0; \\quad n \\geq 0\n",
        "\\end{equation}\n",
        "\n",
        "Error.\n",
        "\\begin{equation}\n",
        "\\frac{E_r[\\%]}{100}=1-\\biggr(\\frac{\\vert C_0\\vert^2}{P_x}+\\frac{2P_n}{P_x}\\sum^5_{n=1}\\vert C_n\\vert^2\\biggr)\\\\\n",
        "P_x = \\frac{1}{2\\pi}\\int^{\\pi}_{-\\pi}{|cos^2(t/2)^2|dt}=\\frac{3}{8}, \\quad P_n = \\frac{1}{2\\pi}\\int^{\\pi}_{-\\pi}{|\\varphi_n(t)|^2dt}=1\\\\\n",
        "\\frac{E_r[\\%]}{100}=1-\\biggr(\\frac{\\vert1/4\\vert^2+\\vert1/2\\vert^2+\\vert1/4\\vert^2}{3/8}+\\frac{2}{3/8}\\sum^5_{n=2}\\vert0\\vert^2\\biggr)\\\\\n",
        "E_r[\\%]=\\biggr(1-1\\biggr)*100=0\\%\\\\\n",
        "\\end{equation}\n",
        "\n"
      ]
    },
    {
      "cell_type": "code",
      "metadata": {
        "id": "faVA_37SV0B9",
        "colab_type": "code",
        "outputId": "b120e0f5-f526-4643-f5ae-df1d7a1780c4",
        "colab": {
          "base_uri": "https://localhost:8080/",
          "height": 303
        }
      },
      "source": [
        "%matplotlib inline\n",
        "import matplotlib as mpl\n",
        "import matplotlib.pyplot as plt\n",
        "import numpy as np\n",
        "import warnings\n",
        "warnings.filterwarnings(\"ignore\")\n",
        "\n",
        "mpl.rc('axes', labelsize=14)\n",
        "mpl.rc('xtick', labelsize=12)\n",
        "mpl.rc('ytick', labelsize=12)\n",
        "\n",
        "T = 2*np.pi #2 segundos de grafica\n",
        "Fs = 500 # 1000 muestras por segundo Ajustar según señal estudiada\n",
        "Nm = T*Fs #numero de muestras requeridas\n",
        "L = 2*Nm+1\n",
        "Li = int(L)\n",
        "tv = np.linspace(-T/2,T/2,Li)\n",
        "x = (np.cos(tv/2))**2\n",
        "\n",
        "plt.plot(tv,x,'r',linewidth=4)\n",
        "plt.grid()\n",
        "plt.xlabel(\"t[s]\",fontsize = 14)\n",
        "plt.ylabel(\"x(t)\",fontsize = 14)"
      ],
      "execution_count": 0,
      "outputs": [
        {
          "output_type": "execute_result",
          "data": {
            "text/plain": [
              "Text(0, 0.5, 'x(t)')"
            ]
          },
          "metadata": {
            "tags": []
          },
          "execution_count": 43
        },
        {
          "output_type": "display_data",
          "data": {
            "image/png": "[encoded data removed]",
            "text/plain": [
              "<Figure size 432x288 with 1 Axes>"
            ]
          },
          "metadata": {
            "tags": [],
            "needs_background": "light"
          }
        }
      ]
    },
    {
      "cell_type": "code",
      "metadata": {
        "id": "i2lgZDArVz38",
        "colab_type": "code",
        "colab": {}
      },
      "source": [
        "N = 5 #numero armonicos\n",
        "wo = 2*np.pi/T # frecuencia fundamental\n",
        "# %% definir bases\n",
        "Cn = np.zeros(2*N+1,dtype=np.complex_)\n",
        "nv = np.linspace(-N, N, 2*N+1) #vector num armónicos\n",
        "Cn[N] = 0.5\n",
        "Cn[N+1] = 0.25\n",
        "Cn[N-1] = 0.25\n",
        "phin = np.zeros((Li,2*N+1),dtype=np.complex_)\n",
        "for n in range(-N,N+1,1):\n",
        "    phin[:,n+N] = np.exp(1j*n*wo*tv)"
      ],
      "execution_count": 0,
      "outputs": []
    },
    {
      "cell_type": "code",
      "metadata": {
        "id": "G-wMM27DVzuX",
        "colab_type": "code",
        "outputId": "a975971b-9bbc-4d06-ecfb-ea7ffc951428",
        "colab": {
          "base_uri": "https://localhost:8080/",
          "height": 285
        }
      },
      "source": [
        "X = phin @ cn  #producto matricial para calcular componentes espectrales phin.dot(Cn)\n",
        "plt.plot(tv,X,'s',label = '$\\hat{x}(t)$')\n",
        "plt.plot(tv,x,label = '$x(t)$')\n",
        "plt.plot(tv,x-X,label = '$e(t)$')\n",
        "plt.grid()\n",
        "plt.legend()"
      ],
      "execution_count": 0,
      "outputs": [
        {
          "output_type": "execute_result",
          "data": {
            "text/plain": [
              "<matplotlib.legend.Legend at 0x7f2d40e22c18>"
            ]
          },
          "metadata": {
            "tags": []
          },
          "execution_count": 45
        },
        {
          "output_type": "display_data",
          "data": {
            "image/png": "[encoded data removed]",
            "text/plain": [
              "<Figure size 432x288 with 1 Axes>"
            ]
          },
          "metadata": {
            "tags": [],
            "needs_background": "light"
          }
        }
      ]
    },
    {
      "cell_type": "code",
      "metadata": {
        "id": "NUxhhBc_Vzjn",
        "colab_type": "code",
        "outputId": "e1733fc3-e929-4327-ee27-ab2439f813f9",
        "colab": {
          "base_uri": "https://localhost:8080/",
          "height": 585
        }
      },
      "source": [
        "fig = plt.figure(figsize=(4,8))\n",
        "plt.subplot(4,1,1)\n",
        "plt.stem(nv, np.real(Cn), 'r')\n",
        "plt.title(r'Re{Cn}')\n",
        "plt.xlabel(r'$nw_o$[rad/s]',fontsize = 14)\n",
        "plt.ylabel(r'$Re\\{C_n\\}$',fontsize = 14)\n",
        "plt.axis('tight')\n",
        "plt.grid()\n",
        "\n",
        "plt.subplot(4,1,2)\n",
        "plt.stem(nv, np.imag(Cn), 'r')\n",
        "plt.title(r'Im{Cn}')\n",
        "plt.xlabel(r'$nw_o$[rad/s]',fontsize = 14)\n",
        "plt.ylabel(r'$Im\\{C_n\\}$',fontsize = 14)\n",
        "plt.axis('tight')\n",
        "plt.grid()\n",
        "\n",
        "plt.subplot(4,1,3)\n",
        "plt.stem(nv, abs(Cn), 'r')\n",
        "plt.title(r'|Cn|')\n",
        "plt.xlabel(r'$nw_o$[rad/s]',fontsize = 14)\n",
        "plt.ylabel(r'$|C_n|$',fontsize = 14)\n",
        "plt.axis('tight')\n",
        "plt.grid()\n",
        "\n",
        "plt.subplot(4,1,4)\n",
        "plt.stem(nv, np.arctan(-np.imag(Cn)/np.fabs(np.real(Cn))), 'r')\n",
        "plt.title(r'|Cn|')\n",
        "plt.xlabel(r'$nw_o$[rad/s]',fontsize = 14)\n",
        "plt.ylabel(r'$|C_n|$',fontsize = 14)\n",
        "plt.axis('tight')\n",
        "plt.grid()\n",
        "\n",
        "fig.tight_layout()"
      ],
      "execution_count": 0,
      "outputs": [
        {
          "output_type": "display_data",
          "data": {
            "image/png": "[encoded data removed]",
            "text/plain": [
              "<Figure size 288x576 with 4 Axes>"
            ]
          },
          "metadata": {
            "tags": [],
            "needs_background": "light"
          }
        }
      ]
    },
    {
      "cell_type": "code",
      "metadata": {
        "id": "0w7oV7cBVzY3",
        "colab_type": "code",
        "outputId": "83728e42-ccab-48c2-d6b1-0295bbd41c1a",
        "colab": {
          "base_uri": "https://localhost:8080/",
          "height": 353,
          "referenced_widgets": [
            "e8c65fa228944d8a844cb58d2096fc64",
            "440271939f4a4446b524bc751fb56ab5",
            "82c40eff20fb4367a440476b80555785",
            "01eef5edeb884f4eaef23b7211b8680b",
            "6976d91694424b2ea0474ec2feaf352f",
            "9ba97bc18744471da681c8906eb0e172",
            "dad636c9d789449883a64bbd4816da41"
          ]
        }
      },
      "source": [
        "from ipywidgets import interact,IntSlider\n",
        "Px = 3/8 # estimar según señal estudiada\n",
        "def pltest(Na=1):\n",
        "    ind = range(N-Na,N+Na+1)\n",
        "    er = 1- (abs(Cn[N])**2+abs(Cn[N-1])**2+abs(Cn[N+1])**2)/Px\n",
        "    xe = phin[:,ind]@ Cn[ind] \n",
        "    plt.plot(tv,xe,'o',label='xe')\n",
        "    plt.plot(tv,x,color='r',label='x')\n",
        "    plt.title('Er=%.2f[%%]' % (100*er),fontsize=16)\n",
        "    plt.xlabel('t[s]')\n",
        "    plt.ylabel('x(t)')\n",
        "    plt.grid()\n",
        "    plt.legend()\n",
        "    plt.show()\n",
        "    return\n",
        "interact(pltest,Na=(1,N,1))"
      ],
      "execution_count": 0,
      "outputs": [
        {
          "output_type": "display_data",
          "data": {
            "application/vnd.jupyter.widget-view+json": {
              "model_id": "e8c65fa228944d8a844cb58d2096fc64",
              "version_minor": 0,
              "version_major": 2
            },
            "text/plain": [
              "interactive(children=(IntSlider(value=1, description='Na', max=5, min=1), Output()), _dom_classes=('widget-int…"
            ]
          },
          "metadata": {
            "tags": []
          }
        },
        {
          "output_type": "execute_result",
          "data": {
            "text/plain": [
              "<function __main__.pltest>"
            ]
          },
          "metadata": {
            "tags": []
          },
          "execution_count": 47
        }
      ]
    },
    {
      "cell_type": "markdown",
      "metadata": {
        "id": "ZR8bXaPp7w08",
        "colab_type": "text"
      },
      "source": [
        "###e) $x(t)=e^{jt/2}$\n",
        "\n",
        "Compleja.\n",
        "\\begin{equation}\n",
        "C_n = \\frac{1}{2\\pi}\\int^{\\pi}_{-\\pi}e^{jt/2}e^{-jn\\omega_o t}dt=\\frac{2\\cos(\\pi n)}{\\pi(1-2n)};\\quad\\forall n\\neq0\\\\\n",
        "C_0 =\\frac{1}{2\\pi}\\int^{\\pi}_{-\\pi}{e^{jt/2}}dt=\\frac{2}{\\pi}\n",
        "\\end{equation}\n",
        "\n",
        "\n",
        "Trigonométrica.\n",
        "\\begin{equation}\n",
        "a_n = \\frac{2}{2\\pi}\\int^{\\pi}_{-\\pi}{e^{jt/2}\\cos(n\\omega_o t)}dt=\\frac{-4\\cos(\\pi n)}{\\pi(4n^2-1)}\\\\\n",
        "C_0=a_0 = \\frac{2}{\\pi}\n",
        "\\end{equation}\n",
        "\n",
        "\\begin{equation}\n",
        "b_n = \\frac{2}{2\\pi}\\int^{\\pi}_{-\\pi}{e^{jt/2}\\sin(n\\omega_o t)}dt=\\frac{-j8n\\cos(\\pi n)}{\\pi(4n^2-1)}\\\\\n",
        "b_0 = 0.\n",
        "\\end{equation}\n",
        "\n",
        "Compacta.\n",
        "\\begin{equation}\n",
        "d_n = \\sqrt{a_n^2+b_n^2} = 2|c_n| =\\frac{4}{\\pi(2n-1)}; \\quad \\forall n\\neq0\n",
        "\\end{equation}\n",
        "\\begin{equation}\n",
        "d_0 = a_0=\\frac{2}{\\pi};  \n",
        "\\end{equation}\n",
        "\n",
        "\\begin{equation}\n",
        "\\phi_n = \\tan^{-1}\\biggr(\\frac{-b_n}{a_n}\\biggr)=\\tan^{-1}\\biggr(\\frac{0}{a_n}\\biggr)=0; \\quad n \\geq 0\n",
        "\\end{equation}\n",
        "\n",
        "Error.\n",
        "\\begin{equation}\n",
        "\\frac{E_r[\\%]}{100}=1-\\biggr(\\frac{\\vert C_0\\vert^2}{P_x}+\\frac{2P_n}{P_x}\\sum^5_{n=1}\\vert C_n\\vert^2\\biggr)\\\\\n",
        "P_x = \\frac{1}{2\\pi}\\int^{\\pi}_{-\\pi}{\\vert e^{jt/2}\\vert^2dt}=1, \\quad P_n = \\frac{1}{2\\pi}\\int^{\\pi}_{-\\pi}{|\\varphi_n(t)|^2dt}=1\\\\\n",
        "\\frac{E_r[\\%]}{100}=1-\\biggr(\\frac{\\vert2/\\pi\\vert^2}{1}+\\frac{2}{1}\\sum^5_{n=1}\\biggr\\vert\\frac{2}{\\pi(1-2n)}\\biggr\\vert^2\\biggr)\\\\\n",
        "E_r[\\%]=\\biggr(1-1\\biggr)*100=0\\%\\\\\n",
        "\\end{equation}"
      ]
    },
    {
      "cell_type": "code",
      "metadata": {
        "id": "A2AHUsGHQap9",
        "colab_type": "code",
        "outputId": "918007f9-98a3-4fec-80fb-ff380f0a497a",
        "colab": {
          "base_uri": "https://localhost:8080/",
          "height": 303
        }
      },
      "source": [
        "%matplotlib inline\n",
        "import matplotlib as mpl\n",
        "import matplotlib.pyplot as plt\n",
        "import numpy as np\n",
        "import warnings\n",
        "warnings.filterwarnings(\"ignore\")\n",
        "\n",
        "mpl.rc('axes', labelsize=14)\n",
        "mpl.rc('xtick', labelsize=12)\n",
        "mpl.rc('ytick', labelsize=12)\n",
        "\n",
        "T = 2*np.pi #2 segundos de grafica\n",
        "Fs = 500 # 1000 muestras por segundo Ajustar según señal estudiada\n",
        "Nm = T*Fs #numero de muestras requeridas\n",
        "L = 2*Nm+1\n",
        "Li = int(L)\n",
        "tv = np.linspace(-T/2,T/2,Li)\n",
        "x = (np.exp(1j*tv/2))\n",
        "\n",
        "plt.plot(tv,x,'r',linewidth=4)\n",
        "plt.grid()\n",
        "plt.xlabel(\"t[s]\",fontsize = 14)\n",
        "plt.ylabel(\"x(t)\",fontsize = 14)"
      ],
      "execution_count": 0,
      "outputs": [
        {
          "output_type": "execute_result",
          "data": {
            "text/plain": [
              "Text(0, 0.5, 'x(t)')"
            ]
          },
          "metadata": {
            "tags": []
          },
          "execution_count": 48
        },
        {
          "output_type": "display_data",
          "data": {
            "image/png": "[encoded data removed]",
            "text/plain": [
              "<Figure size 432x288 with 1 Axes>"
            ]
          },
          "metadata": {
            "tags": [],
            "needs_background": "light"
          }
        }
      ]
    },
    {
      "cell_type": "code",
      "metadata": {
        "id": "oqJQ_RurQagr",
        "colab_type": "code",
        "colab": {}
      },
      "source": [
        "N = 5 #numero armonicos\n",
        "wo = 2*np.pi/T # frecuencia fundamental\n",
        "# %% definir bases\n",
        "Cn = np.zeros(2*N+1,dtype=np.complex_)\n",
        "nv = np.linspace(-N, N, 2*N+1) #vector num armónicos\n",
        "Cn = (2*np.cos(np.pi*nv)**nv)/((1-2*nv)*np.pi)\n",
        "Cn[N] = 2/np.pi\n",
        "phin = np.zeros((Li,2*N+1),dtype=np.complex_)\n",
        "for n in range(-N,N+1,1):\n",
        "    phin[:,n+N] = np.exp(1j*n*wo*tv)"
      ],
      "execution_count": 0,
      "outputs": []
    },
    {
      "cell_type": "code",
      "metadata": {
        "id": "MTZg3WcoQaTh",
        "colab_type": "code",
        "outputId": "562af7cc-8be7-4b84-8afb-6bfb4448ab9c",
        "colab": {
          "base_uri": "https://localhost:8080/",
          "height": 285
        }
      },
      "source": [
        "X = phin @ Cn  #producto matricial para calcular componentes espectrales phin.dot(Cn)\n",
        "plt.plot(tv,X,'p',label = '$\\hat{x}(t)$')\n",
        "plt.plot(tv,x,label = '$x(t)$')\n",
        "plt.plot(tv,x-X,label = '$e(t)$')\n",
        "plt.grid()\n",
        "plt.legend()"
      ],
      "execution_count": 0,
      "outputs": [
        {
          "output_type": "execute_result",
          "data": {
            "text/plain": [
              "<matplotlib.legend.Legend at 0x7f2d40a34908>"
            ]
          },
          "metadata": {
            "tags": []
          },
          "execution_count": 50
        },
        {
          "output_type": "display_data",
          "data": {
            "image/png": "[encoded data removed]",
            "text/plain": [
              "<Figure size 432x288 with 1 Axes>"
            ]
          },
          "metadata": {
            "tags": [],
            "needs_background": "light"
          }
        }
      ]
    },
    {
      "cell_type": "code",
      "metadata": {
        "id": "lq1U7dA_QaKq",
        "colab_type": "code",
        "outputId": "314ec88e-6e83-4c8f-feb8-b07ec38ef4aa",
        "colab": {
          "base_uri": "https://localhost:8080/",
          "height": 585
        }
      },
      "source": [
        "fig = plt.figure(figsize=(4,8))\n",
        "plt.subplot(4,1,1)\n",
        "plt.stem(nv, np.real(Cn), 'r')\n",
        "plt.title(r'Re{Cn}')\n",
        "plt.xlabel(r'$nw_o$[rad/s]',fontsize = 14)\n",
        "plt.ylabel(r'$Re\\{C_n\\}$',fontsize = 14)\n",
        "plt.axis('tight')\n",
        "plt.grid()\n",
        "\n",
        "plt.subplot(4,1,2)\n",
        "plt.stem(nv, np.imag(Cn), 'r')\n",
        "plt.title(r'Im{Cn}')\n",
        "plt.xlabel(r'$nw_o$[rad/s]',fontsize = 14)\n",
        "plt.ylabel(r'$Im\\{C_n\\}$',fontsize = 14)\n",
        "plt.axis('tight')\n",
        "plt.grid()\n",
        "\n",
        "plt.subplot(4,1,3)\n",
        "plt.stem(nv, abs(Cn), 'r')\n",
        "plt.title(r'|Cn|')\n",
        "plt.xlabel(r'$nw_o$[rad/s]',fontsize = 14)\n",
        "plt.ylabel(r'$|C_n|$',fontsize = 14)\n",
        "plt.axis('tight')\n",
        "plt.grid()\n",
        "\n",
        "plt.subplot(4,1,4)\n",
        "plt.stem(nv, np.arctan(-np.imag(Cn)/np.fabs(np.real(Cn))), 'r')\n",
        "plt.title(r'\\Phi')\n",
        "plt.xlabel(r'$nw_o$[rad/s]',fontsize = 14)\n",
        "plt.ylabel(r'$\\Phi$',fontsize = 14)\n",
        "plt.axis('tight')\n",
        "plt.grid()\n",
        "\n",
        "fig.tight_layout()"
      ],
      "execution_count": 0,
      "outputs": [
        {
          "output_type": "display_data",
          "data": {
            "image/png": "[encoded data removed]",
            "text/plain": [
              "<Figure size 288x576 with 4 Axes>"
            ]
          },
          "metadata": {
            "tags": [],
            "needs_background": "light"
          }
        }
      ]
    },
    {
      "cell_type": "code",
      "metadata": {
        "id": "3N45-BvWQZ7x",
        "colab_type": "code",
        "outputId": "ff839898-0f08-4879-860b-e301f99daf57",
        "colab": {
          "base_uri": "https://localhost:8080/",
          "height": 353,
          "referenced_widgets": [
            "79e30293001147dd9d6c996d9fb48f9a",
            "e2fc1e69eba94f3d9bca6a909e10392e",
            "7f9b5c1ba95a415482030ce50143c401",
            "330837c046034f04a5536abf90de6a59",
            "5f17b42a938e4cbe9e434b51a17f1e41",
            "9a43733606bf4575a0c7d87f5f4b38c2",
            "9586695cc4724fd2a74662d0f11a5cec"
          ]
        }
      },
      "source": [
        "from ipywidgets import interact,IntSlider\n",
        "Px = 1 # estimar según señal estudiada\n",
        "def pltest(Na=1):\n",
        "    ind = range(N-Na,N+Na+1)\n",
        "    er = 1- (abs(Cn[N])**2 + 2*np.sum(abs(Cn[N+1:N+Na+1])**2))/Px\n",
        "    xe = phin[:,ind]@ Cn[ind] \n",
        "    plt.plot(tv,xe,'o',label='xe')\n",
        "    plt.plot(tv,x,color='r',label='x')\n",
        "    plt.title('Er=%.2f[%%]' % (100*er),fontsize=16)\n",
        "    plt.xlabel('t[s]')\n",
        "    plt.ylabel('x(t)')\n",
        "    plt.grid()\n",
        "    plt.legend()\n",
        "    plt.show()\n",
        "    return\n",
        "interact(pltest,Na=(1,N,1))"
      ],
      "execution_count": 0,
      "outputs": [
        {
          "output_type": "display_data",
          "data": {
            "application/vnd.jupyter.widget-view+json": {
              "model_id": "79e30293001147dd9d6c996d9fb48f9a",
              "version_minor": 0,
              "version_major": 2
            },
            "text/plain": [
              "interactive(children=(IntSlider(value=1, description='Na', max=5, min=1), Output()), _dom_classes=('widget-int…"
            ]
          },
          "metadata": {
            "tags": []
          }
        },
        {
          "output_type": "execute_result",
          "data": {
            "text/plain": [
              "<function __main__.pltest>"
            ]
          },
          "metadata": {
            "tags": []
          },
          "execution_count": 52
        }
      ]
    },
    {
      "cell_type": "code",
      "metadata": {
        "id": "H9EmguR5981F",
        "colab_type": "code",
        "outputId": "914bbd77-e445-4efe-c14f-db1d31b1d651",
        "colab": {
          "base_uri": "https://localhost:8080/",
          "height": 68
        }
      },
      "source": [
        "abs(Cn)"
      ],
      "execution_count": 0,
      "outputs": [
        {
          "output_type": "execute_result",
          "data": {
            "text/plain": [
              "array([0.05787452, 0.07073553, 0.09094568, 0.12732395, 0.21220659,\n",
              "       0.63661977, 0.63661977, 0.21220659, 0.12732395, 0.09094568,\n",
              "       0.07073553])"
            ]
          },
          "metadata": {
            "tags": []
          },
          "execution_count": 53
        }
      ]
    },
    {
      "cell_type": "markdown",
      "metadata": {
        "id": "gMkBMOOyX8ML",
        "colab_type": "text"
      },
      "source": [
        "###f) $x(t)=t^2$\n",
        "\n",
        "Compleja.\n",
        "\\begin{equation}\n",
        "C_n = \\frac{1}{2\\pi}\\int^{\\pi}_{-\\pi}t^2e^{-jn\\omega_o t}dt=\\frac{2\\cos(\\pi n)}{n^2};\\quad\\forall n\\neq0\\\\\n",
        "C_0 =\\frac{1}{2\\pi}\\int^{\\pi}_{-\\pi}{e^{jt/2}}dt=\\frac{\\pi^2}{3}\n",
        "\\end{equation}\n",
        "\n",
        "\n",
        "Trigonométrica.\n",
        "\\begin{equation}\n",
        "a_n = \\frac{2}{2\\pi}\\int^{\\pi}_{-\\pi}{t^2\\cos(n\\omega_o t)}dt=\\frac{4\\cos(\\pi n)}{n^2}\\\\\n",
        "C_0=a_0 = \\frac{\\pi^2}{3}\n",
        "\\end{equation}\n",
        "\n",
        "\\begin{equation}\n",
        "b_n = \\frac{2}{2\\pi}\\int^{\\pi}_{-\\pi}{e^{jt/2}\\sin(n\\omega_o t)}dt=0\\\\\n",
        "b_0 = 0.\n",
        "\\end{equation}\n",
        "\n",
        "Compacta.\n",
        "\\begin{equation}\n",
        "d_n = \\sqrt{a_n^2+b_n^2} = 2|c_n| =\\frac{4}{n^2}; \\quad \\forall n\\neq0\n",
        "\\end{equation}\n",
        "\\begin{equation}\n",
        "d_0 = a_0=\\frac{\\pi^2}{3};  \n",
        "\\end{equation}\n",
        "\n",
        "\\begin{equation}\n",
        "\\phi_n = \\tan^{-1}\\biggr(\\frac{-b_n}{a_n}\\biggr)=\\tan^{-1}\\biggr(\\frac{0}{a_n}\\biggr)=0; \\quad n \\geq 0\n",
        "\\end{equation}\n",
        "\n",
        "Error.\n",
        "\\begin{equation}\n",
        "\\frac{E_r[\\%]}{100}=1-\\biggr(\\frac{\\vert C_0\\vert^2}{P_x}+\\frac{2P_n}{P_x}\\sum^5_{n=1}\\vert C_n\\vert^2\\biggr)\\\\\n",
        "P_x = \\frac{1}{2\\pi}\\int^{\\pi}_{-\\pi}{\\vert t^2\\vert^2dt}=\\frac{\\pi^4}{5}, \\quad P_n = \\frac{1}{2\\pi}\\int^{\\pi}_{-\\pi}{|\\varphi_n(t)|^2dt}=1\\\\\n",
        "\\frac{E_r[\\%]}{100}=1-\\biggr(\\frac{\\vert\\pi^2/3\\vert^2}{\\pi^4/5}+\\frac{2}{\\pi^4/5}\\sum^5_{n=1}\\biggr\\vert\\frac{2}{n^2}\\biggr\\vert^2\\biggr)\\\\\n",
        "E_r[\\%]=(1-0.9992)*100=0.0809\\%\\\\\n",
        "\\end{equation}"
      ]
    },
    {
      "cell_type": "code",
      "metadata": {
        "id": "jgQG_j0qblfC",
        "colab_type": "code",
        "outputId": "f0c4e7bb-b95e-403a-ad06-8d4e97d33e47",
        "colab": {
          "base_uri": "https://localhost:8080/",
          "height": 303
        }
      },
      "source": [
        "%matplotlib inline\n",
        "import matplotlib as mpl\n",
        "import matplotlib.pyplot as plt\n",
        "import numpy as np\n",
        "import warnings\n",
        "warnings.filterwarnings(\"ignore\")\n",
        "\n",
        "mpl.rc('axes', labelsize=14)\n",
        "mpl.rc('xtick', labelsize=12)\n",
        "mpl.rc('ytick', labelsize=12)\n",
        "\n",
        "T = 2*np.pi #2 segundos de grafica\n",
        "Fs = 500 # 1000 muestras por segundo Ajustar según señal estudiada\n",
        "Nm = T*Fs #numero de muestras requeridas\n",
        "L = 2*Nm+1\n",
        "Li = int(L)\n",
        "tv = np.linspace(-T/2,T/2,Li)\n",
        "x = tv**2\n",
        "\n",
        "plt.plot(tv,x,'r',linewidth=4)\n",
        "plt.grid()\n",
        "plt.xlabel(\"t[s]\",fontsize = 14)\n",
        "plt.ylabel(\"x(t)\",fontsize = 14)"
      ],
      "execution_count": 0,
      "outputs": [
        {
          "output_type": "execute_result",
          "data": {
            "text/plain": [
              "Text(0, 0.5, 'x(t)')"
            ]
          },
          "metadata": {
            "tags": []
          },
          "execution_count": 54
        },
        {
          "output_type": "display_data",
          "data": {
            "image/png": "[encoded data removed]",
            "text/plain": [
              "<Figure size 432x288 with 1 Axes>"
            ]
          },
          "metadata": {
            "tags": [],
            "needs_background": "light"
          }
        }
      ]
    },
    {
      "cell_type": "code",
      "metadata": {
        "id": "8qtNgzCzbo0s",
        "colab_type": "code",
        "colab": {}
      },
      "source": [
        "N = 5 #numero armonicos\n",
        "wo = 2*np.pi/T # frecuencia fundamental\n",
        "# %% definir bases\n",
        "Cn = np.zeros(2*N+1,dtype=np.complex_)\n",
        "nv = np.linspace(-N, N, 2*N+1) #vector num armónicos\n",
        "Cn = (2*(-1)**nv)/(nv**2)\n",
        "Cn[N] = np.pi**2/3\n",
        "phin = np.zeros((Li,2*N+1),dtype=np.complex_)\n",
        "for n in range(-N,N+1,1):\n",
        "    phin[:,n+N] = np.exp(1j*n*wo*tv)"
      ],
      "execution_count": 0,
      "outputs": []
    },
    {
      "cell_type": "code",
      "metadata": {
        "id": "uZ3L07clbop5",
        "colab_type": "code",
        "outputId": "29b0065d-0008-4570-bec8-ea0f80703200",
        "colab": {
          "base_uri": "https://localhost:8080/",
          "height": 285
        }
      },
      "source": [
        "X = phin @ Cn  #producto matricial para calcular componentes espectrales phin.dot(Cn)\n",
        "plt.plot(tv,X,'p',label = '$\\hat{x}(t)$')\n",
        "plt.plot(tv,x,label = '$x(t)$')\n",
        "plt.plot(tv,x-X,label = '$e(t)$')\n",
        "plt.grid()\n",
        "plt.legend()"
      ],
      "execution_count": 0,
      "outputs": [
        {
          "output_type": "execute_result",
          "data": {
            "text/plain": [
              "<matplotlib.legend.Legend at 0x7f2d411c3cc0>"
            ]
          },
          "metadata": {
            "tags": []
          },
          "execution_count": 56
        },
        {
          "output_type": "display_data",
          "data": {
            "image/png": "[encoded data removed]",
            "text/plain": [
              "<Figure size 432x288 with 1 Axes>"
            ]
          },
          "metadata": {
            "tags": [],
            "needs_background": "light"
          }
        }
      ]
    },
    {
      "cell_type": "code",
      "metadata": {
        "id": "RP18abwybofy",
        "colab_type": "code",
        "outputId": "75ce62b8-0a64-4c25-a79f-07ebba70ccf8",
        "colab": {
          "base_uri": "https://localhost:8080/",
          "height": 585
        }
      },
      "source": [
        "fig = plt.figure(figsize=(4,8))\n",
        "plt.subplot(4,1,1)\n",
        "plt.stem(nv, np.real(Cn), 'r')\n",
        "plt.title(r'Re{Cn}')\n",
        "plt.xlabel(r'$nw_o$[rad/s]',fontsize = 14)\n",
        "plt.ylabel(r'$Re\\{C_n\\}$',fontsize = 14)\n",
        "plt.axis('tight')\n",
        "plt.grid()\n",
        "\n",
        "plt.subplot(4,1,2)\n",
        "plt.stem(nv, np.imag(Cn), 'r')\n",
        "plt.title(r'Im{Cn}')\n",
        "plt.xlabel(r'$nw_o$[rad/s]',fontsize = 14)\n",
        "plt.ylabel(r'$Im\\{C_n\\}$',fontsize = 14)\n",
        "plt.axis('tight')\n",
        "plt.grid()\n",
        "\n",
        "plt.subplot(4,1,3)\n",
        "plt.stem(nv, abs(Cn), 'r')\n",
        "plt.title(r'|Cn|')\n",
        "plt.xlabel(r'$nw_o$[rad/s]',fontsize = 14)\n",
        "plt.ylabel(r'$|C_n|$',fontsize = 14)\n",
        "plt.axis('tight')\n",
        "plt.grid()\n",
        "\n",
        "plt.subplot(4,1,4)\n",
        "plt.stem(nv, np.arctan(-np.imag(Cn)/np.fabs(np.real(Cn))), 'r')\n",
        "plt.title(r'$\\Phi$')\n",
        "plt.xlabel(r'$nw_o$[rad/s]',fontsize = 14)\n",
        "plt.ylabel(r'$\\Phi$',fontsize = 14)\n",
        "plt.axis('tight')\n",
        "plt.grid()\n",
        "\n",
        "fig.tight_layout()"
      ],
      "execution_count": 0,
      "outputs": [
        {
          "output_type": "display_data",
          "data": {
            "image/png": "[encoded data removed]",
            "text/plain": [
              "<Figure size 288x576 with 4 Axes>"
            ]
          },
          "metadata": {
            "tags": [],
            "needs_background": "light"
          }
        }
      ]
    },
    {
      "cell_type": "code",
      "metadata": {
        "id": "7pRBciweboUW",
        "colab_type": "code",
        "outputId": "3bdc0a96-17ed-4bde-b47e-c48cf384ef2e",
        "colab": {
          "base_uri": "https://localhost:8080/",
          "height": 353,
          "referenced_widgets": [
            "ca866c7f58b74a56a75acd8b55347c65",
            "3670710597854afb831cb81c6feb8c11",
            "aaf8e0533d744944ba29eed03f69905a",
            "14011182a9974c48973be52620439916",
            "9de5d3fc4b64428487d9c72cccf86fd3",
            "72646d2a12914e2ba7ea4d9e5a091055",
            "68e3cded9e284e1c9eda05d3b8c61981"
          ]
        }
      },
      "source": [
        "from ipywidgets import interact,IntSlider\n",
        "Px = (np.pi**4)/5 # estimar según señal estudiada\n",
        "def pltest(Na=1):\n",
        "    ind = range(N-Na,N+Na+1)\n",
        "    er = 1- (abs(Cn[N])**2 +2*np.sum(abs(Cn[N+1:N+Na+1])**2))/Px\n",
        "    xe = phin[:,ind]@ Cn[ind] \n",
        "    plt.plot(tv,xe,'o',label='xe')\n",
        "    plt.plot(tv,x,color='r',label='x')\n",
        "    plt.title('Er=%.2f[%%]' % (100*er),fontsize=16)\n",
        "    plt.xlabel('t[s]')\n",
        "    plt.ylabel('x(t)')\n",
        "    plt.grid()\n",
        "    plt.legend()\n",
        "    plt.show()\n",
        "    return\n",
        "interact(pltest,Na=(1,N,1))"
      ],
      "execution_count": 0,
      "outputs": [
        {
          "output_type": "display_data",
          "data": {
            "application/vnd.jupyter.widget-view+json": {
              "model_id": "ca866c7f58b74a56a75acd8b55347c65",
              "version_minor": 0,
              "version_major": 2
            },
            "text/plain": [
              "interactive(children=(IntSlider(value=1, description='Na', max=5, min=1), Output()), _dom_classes=('widget-int…"
            ]
          },
          "metadata": {
            "tags": []
          }
        },
        {
          "output_type": "execute_result",
          "data": {
            "text/plain": [
              "<function __main__.pltest>"
            ]
          },
          "metadata": {
            "tags": []
          },
          "execution_count": 58
        }
      ]
    },
    {
      "cell_type": "markdown",
      "metadata": {
        "id": "zn3mRR8-Qqn1",
        "colab_type": "text"
      },
      "source": [
        "2. Sea $x''(t)$ la segunda derivada de la señal $x(t)$, donde $t\\in [t_i, t_f]$. Demuestre que los coeficientes de la serie exponencial de Fourier se pueden calcular según:  ́\n",
        "\\begin{equation}\n",
        "C_n=\\frac{1}{(t_i − t_f)n^2\\omega_0^2}\\int^{t_f}_{t_i}x''(t)e^{−jn\\omega_ot}dt; n \\in \\mathbb{Z}\n",
        "\\end{equation}\n",
        "\n",
        "  ¿Cómo se pueden calcular los coeficientes $an$ y $bn$ desde $x''(t)$ en la serie trigonometrica de Fourier?\n",
        "\n",
        "Solución\n",
        "\n",
        "Si tenemos que \n",
        "\n",
        "\\begin{equation}\n",
        "x(t)=\\sum_{-\\infty}^{\\infty}C_n e^{jn\\omega_ot}\\\\\n",
        "\\frac{\\partial x(t)}{\\partial t}=x'(t)=(jn\\omega_o)\\sum_{-\\infty}^{\\infty}C_n e^{jn\\omega_ot}\\\\\n",
        "\\frac{\\partial^2 x(t)}{\\partial t^2}=x''(t)=(jn\\omega_o)^2\\sum_{-\\infty}^{\\infty}C_n e^{jn\\omega_ot}\\\\\n",
        "\\frac{\\partial^h x(t)}{\\partial t^h}=x^{'h}(t)=(jn\\omega_o)^h\\sum_{-\\infty}^{\\infty}C_n e^{jn\\omega_ot}\\\\\n",
        "x''(t)=(jn\\omega_o)^2x(t)\\\\\n",
        "x(t)=\\frac{x''(t)}{-n^2\\omega_0^2}\\\\\n",
        "C_n=\\frac{1}{T}\\int^{t_f}_{t_i}x(t)e^{−jn\\omega_ot}dt\\Rightarrow \\frac{1}{T}\\int^{t_f}_{t_i}\\frac{x''(t)}{-n^2\\omega_0^2}e^{−jn\\omega_ot}dt;\\quad T=t_f-t_i\\\\\n",
        "C_n=\\frac{1}{-(t_f − t_i)n^2\\omega_0^2}\\int^{t_f}_{t_i}x''(t)e^{−jn\\omega_ot}dt\\Rightarrow C_n=\\frac{1}{(t_i − t_f)n^2\\omega_0^2}\\int^{t_f}_{t_i}x''(t)e^{−jn\\omega_ot}dt\\\\\n",
        "\\end{equation}\n",
        "\n",
        "Trigonométrica.\n",
        "\\begin{equation}\n",
        "a_n = \\frac{2}{(t_i − t_f)n^2\\omega_0^2}\\int^{t_f}_{t_i}x''(t)\\cos(n\\omega_o t)dt; \\quad \\forall n > 0\\\\\n",
        "a_0 = c_0 = 0\n",
        "\\end{equation}\n",
        "\n",
        "\\begin{equation}\n",
        "b_n = \\frac{2}{(t_i − t_f)n^2\\omega_0^2}\\int^{t_f}_{t_i}x''(t)\\sin(n\\omega_o t)dt; \\quad\\forall n > 0\\\\\n",
        "b_0 = 0\n",
        "\\end{equation}\n",
        "\n"
      ]
    },
    {
      "cell_type": "markdown",
      "metadata": {
        "id": "iFoAgF8rw8RL",
        "colab_type": "text"
      },
      "source": [
        "3. Encuentre el espectro de Fourier, su magnitud y el error cuadrático medio de la representación para $n\\in\\{0, \\pm1, \\pm2, \\pm3, \\pm4, \\pm5\\}$, a partir de $x''(t)$ para la señal $x(t)$ en la figura 1. Compruebe el espectro obtenido con la estimación a partir de  $x(t)$ mediante una simulación en Python.\n",
        "\n",
        "Solución:\n",
        "\n",
        "Si se divide la gráfica en 5 partes, se puede cnstruir la figura de la siguiente forma:\n",
        "\n",
        "\\begin{equation}\n",
        "\\boxed{x''(t) = \\begin{cases} 0, & -T/2\\leq t\\leq-d_2 \\\\ \\frac{A}{d_2-d_1}(t+d_2), & -d_2\\leq t\\leq-d_1 \\\\ A, & -d_1\\leq t\\leq d_1 \\\\ \\frac{A}{d_1-d_2}(t-d_2), & d_1\\leq t\\leq d_2 \\\\ 0, & d_2\\leq t\\leq T/2 \\end{cases}}\\\\\n",
        "\\end{equation}"
      ]
    },
    {
      "cell_type": "markdown",
      "metadata": {
        "id": "e33MNNVJxNfc",
        "colab_type": "text"
      },
      "source": [
        "4. ¿Como se puede simplificar el cálculo de la serie trigonométrica de Fourier para señales con simetría de media onda y de cuarto de onda? En dichos casos ¿cómo se pueden calcular los coeficientes $a_n$ y $b_n$ con $n\\in \\mathbb{N}$?\n",
        "\n",
        "Solución:\n",
        "\n",
        "*   Simetría de media onda:\n",
        "\n",
        "Consiste en que una función cumpla que $f(t)=-f(t\\pm T/2)$. O gráficamente, que al invertirla verticalmente y desplazarla medio periodo, esta sigue siendo parte de la onda original. Esta solo da un valor con n impar.\n",
        "\n",
        "En series trigonométricas de Fourier tenemos que si una función tiene simetría de media onda, entonces:\n",
        "\\begin{equation} \n",
        "a_n= \\begin{cases} 0,& \\mod_2(n)=0 \\\\ \\frac{4}{T}\\int^{\\frac{T}{2}}_{0}x(t)\\cos(n\\omega_o t)dt, & \\mod_2(n)=1 \\end{cases}\\\\\n",
        "b_n= \\begin{cases} 0,& \\mod_2(n)=0 \\\\ \\frac{4}{T}\\int^{\\frac{T}{2}}_{0}x(t)\\sin(n\\omega_o t)dt, & \\mod_2(n)=1 \\end{cases}\n",
        "\\end{equation}\n",
        "\n",
        "*   Simetría de cuarto de onda par:\n",
        "\n",
        "Esta simetría la cumplen las ondas que tengan simetría de media onda y además tengan simetría par.\n",
        "\\begin{equation} \n",
        "a_n= \\begin{cases} 0,& \\mod_2(n)=0 \\\\ \\frac{8}{T}\\int^{\\frac{T}{4}}_{0}x(t)\\cos(n\\omega_o t)dt, & \\mod_2(n)=1 \\end{cases}\\\\\n",
        "b_n= 0\n",
        "\\end{equation}\n",
        "*   Simetría de cuarto de onda impar:\n",
        "\n",
        "Esta simetría la cumplen las ondas que tengan simetría de media onda y además tengan simetría impar.\n",
        "\\begin{equation} \n",
        "a_n= 0\\\\\n",
        "b_n= \\begin{cases} 0,& \\mod_2(n)=0 \\\\ \\frac{8}{T}\\int^{\\frac{T}{4}}_{0}x(t)\\sin(n\\omega_o t)dt, & \\mod_2(n)=1 \\end{cases}\n",
        "\\end{equation}\n"
      ]
    },
    {
      "cell_type": "markdown",
      "metadata": {
        "id": "ZtXvOn213iFA",
        "colab_type": "text"
      },
      "source": [
        "#4. Transformada de Fourier"
      ]
    },
    {
      "cell_type": "markdown",
      "metadata": {
        "id": "mwzINKquxRRZ",
        "colab_type": "text"
      },
      "source": [
        "\n",
        "#1. \n",
        "Explique las semejanzas y diferencias entre la serie de Fourier (exponencial, trigonométrica y compacta) y la transformada de Fourier. Considere las diferentes combinaciones entre: espectro continuo y discreto y señal en tiempo continuo y discreto. Además, consulte en qué consiste el algoritmo Fast Fourier Transform - (FFT) y su utilidad para el cálculo de la transformada discreta de Fourier. Compruebe los resultados obtenidos en el punto 1 utilizando la FFT en Python.\n",
        "##Solución\n",
        "\n",
        "La serie de Fourier es una expansión de la señal periódica como una combinación lineal de senos y cosenos, mientras que la transformada de Fourier es el proceso o la función utilizada para convertir las señales del dominio del tiempo en el dominio de la frecuencia. La serie de Fourier se define para señales periódicas y la transformada de Fourier se puede aplicar a señales aperiódicas.\n",
        "\n",
        "##Fast Fourier Transform\n",
        "es un método matemático para transformar una función del tiempo en una función de frecuencia. A veces se describe como una transformación del dominio del tiempo al dominio de la frecuencia. Es muy útil para el análisis de fenómenos dependientes del tiempo.\n"
      ]
    },
    {
      "cell_type": "code",
      "metadata": {
        "id": "6KNzgcUg5bSq",
        "colab_type": "code",
        "colab": {
          "base_uri": "https://localhost:8080/",
          "height": 156
        },
        "outputId": "6ff70298-e78f-4e61-9d32-fcdcf3222ac6"
      },
      "source": [
        "import numpy as np\n",
        "def dft(x):\n",
        "    x = np.asarray(x, dtype=float)\n",
        "    N = x.shape[0]\n",
        "    n = np.arange(N)\n",
        "    k = n.reshape((N, 1))\n",
        "    M = np.exp(-2j * np.pi * k * n / N)\n",
        "    return np.dot(M, x)\n",
        "x = np.random.random(1024)\n",
        "np.allclose(dft(x), np.fft.fft(x))\n",
        "%timeit dft(x)\n",
        "%timeit np.fft.fft(x)\n",
        "def fft(x):\n",
        "    x = np.asarray(x, dtype=float)\n",
        "    N = x.shape[0]\n",
        "    if N % 2 > 0:\n",
        "        raise ValueError(\"must be a power of 2\")\n",
        "    elif N <= 2:\n",
        "        return dft(x)\n",
        "    else:\n",
        "        X_even = fft(x[::2])\n",
        "        X_odd = fft(x[1::2])\n",
        "        terms = np.exp(-2j * np.pi * np.arange(N) / N)\n",
        "        return np.concatenate([X_even + terms[:int(N/2)] * X_odd,\n",
        "                               X_even + terms[int(N/2):] * X_odd])\n",
        "x = np.random.random(1024)\n",
        "np.allclose(fft(x), np.fft.fft(x))\n",
        "%timeit dft(x)\n",
        "%timeit fft(x)\n",
        "%timeit np.fft.fft(x)\n"
      ],
      "execution_count": 6,
      "outputs": [
        {
          "output_type": "stream",
          "text": [
            "10 loops, best of 3: 126 ms per loop\n",
            "The slowest run took 22.53 times longer than the fastest. This could mean that an intermediate result is being cached.\n",
            "10000 loops, best of 3: 19 µs per loop\n",
            "10 loops, best of 3: 126 ms per loop\n",
            "100 loops, best of 3: 14.8 ms per loop\n",
            "The slowest run took 4.35 times longer than the fastest. This could mean that an intermediate result is being cached.\n",
            "100000 loops, best of 3: 17.7 µs per loop\n"
          ],
          "name": "stdout"
        }
      ]
    },
    {
      "cell_type": "markdown",
      "metadata": {
        "id": "SUInaLfYxuMI",
        "colab_type": "text"
      },
      "source": [
        "# 2. \n",
        "Encuentre la funcion de densidad espectral (transformada de Fourier) para las siguientes señales\n",
        "\\begin{equation}\n",
        "a) e^{−a\\vert t\\vert}, a\\in \\mathbb{R^+}\\\\\n",
        "b) \\cos(\\omega_ct), \\omega_c\\in \\mathbb{R}\\\\\n",
        "c) \\sin(\\omega_st), \\omega_s\\in \\mathbb{R}\\\\\n",
        "d) f(t)\\cos(\\omega_st), \\omega_s\\in\\mathbb{R}, f(t)\\in\\mathbb{R,C}\\\\\n",
        "e) e^{−a\\vert t\\vert^2}, a\\in \\mathbb{R^+}\\\\\n",
        "\\end{equation}\n",
        "\n",
        "Solución:\n",
        "\n",
        "###a) $e^{−a\\vert t\\vert}, a\\in \\mathbb{R^+}$\n",
        "\\begin{equation}\n",
        "\\int_{-\\infty}^\\infty e^{−a\\vert t\\vert}e^{-j\\omega t}dt=\\int_{-\\infty}^0 e^{−a\\vert t\\vert}e^{-j\\omega t}dt+\\int_{0}^\\infty e^{−at}e^{-j\\omega t}dt\\\\\n",
        "\\int_{-\\infty}^0 e^{−a\\vert t\\vert}e^{-j\\omega t}dt: t=-x\\Rightarrow dt=-dx\\\\\n",
        "t\\rightarrow -\\infty \\therefore x\\rightarrow\\infty\\\\\n",
        "(1) \\int_{\\infty}^0 -e^{−ax+j\\omega x}dx=\\int_{0}^\\infty e^{−x(a-j\\omega)}dx=\\frac{-1}{a-j\\omega}(e^{-\\infty}-e^0)=\\frac{1}{a-j\\omega}\\\\\n",
        "(2) \\int_0^\\infty e^{−at-j\\omega t}dt=\\int_0^\\infty e^{−t(a+j\\omega)}dx=\\frac{-1}{a+j\\omega}(e^{-\\infty}-e^0)=\\frac{1}{a+j\\omega}\\\\\n",
        "(1)+(2)=\\frac{1}{a-j\\omega}+\\frac{1}{a+j\\omega}=\\frac{2a}{a^2+\\omega^2}\n",
        "\\end{equation}\n",
        "\n",
        "\n",
        "### b) $\\cos(\\omega_ct), \\omega_c\\in \\mathbb{R}$\n",
        "\\begin{equation}\n",
        "\\cos(\\omega_ct)= \\frac{e^{-j\\omega_ct}+e^{j\\omega_ct}}{2}\\\\\n",
        "\\int_{-\\infty}^\\infty\\cos(\\omega_ct)e^{-j\\omega t}dt=\\frac{1}{2}\\int_{-\\infty}^\\infty [e^{-j\\omega_ct}+e^{j\\omega_ct}]e^{-j\\omega t}dt=\\frac{1}{2}\\int_{-\\infty}^\\infty e^{-j\\omega_ct-j\\omega t}dt+\\frac{1}{2}\\int_{-\\infty}^\\infty e^{j\\omega_ct-j\\omega t}dt\\\\\n",
        "\\frac{1}{2}\\int_{-\\infty}^\\infty e^{-jt(\\omega+\\omega_c)}dt+\\frac{1}{2}\\int_{-\\infty}^\\infty e^{-jt(\\omega-\\omega_c)}dt\\\\\n",
        "\\hat{f}(\\omega)=\\int_{-\\infty}^\\infty e^{-jt(\\omega\\pm\\omega_x)}dt=2\\pi\\delta(\\omega\\pm\\omega_x)\\\\\n",
        "\\frac{1}{2}\\int_{-\\infty}^\\infty e^{-jt(\\omega+\\omega_c)}dt+\\frac{1}{2}\\int_{-\\infty}^\\infty e^{-jt(\\omega-\\omega_c)}dt=\\pi[\\delta(\\omega+\\omega_c)+\\delta(\\omega-\\omega_c)]\\\\\n",
        "\\end{equation}\n",
        "\n",
        "### c) $\\sin(\\omega_st), \\omega_s\\in \\mathbb{R}$\n",
        "\\begin{equation}\n",
        "\\sin(\\omega_st)= \\frac{e^{j\\omega_st}-e^{-j\\omega_st}}{2j}\\\\\n",
        "\\int_{-\\infty}^\\infty\\sin(\\omega_st)e^{-j\\omega t}dt=\\frac{1}{2j}\\int_{-\\infty}^\\infty [e^{j\\omega_st}-e^{-j\\omega_st}]e^{-j\\omega t}dt=\\frac{1}{2j}\\int_{-\\infty}^\\infty e^{j\\omega_st-j\\omega t}dt-\\frac{1}{2j}\\int_{-\\infty}^\\infty e^{-j\\omega_st-j\\omega t}dt\\\\\n",
        "\\frac{1}{2j}\\int_{-\\infty}^\\infty e^{-jt(\\omega-\\omega_s)}dt-\\frac{1}{2j}\\int_{-\\infty}^\\infty e^{-jt(\\omega+\\omega_s)}dt\\\\\n",
        "\\hat{f}(\\omega)=\\int_{-\\infty}^\\infty e^{-jt(\\omega\\pm\\omega_x)}dt=2\\pi\\delta(\\omega\\pm\\omega_x)\\\\\n",
        "\\frac{1}{2j}\\int_{-\\infty}^\\infty e^{-jt(\\omega-\\omega_s)}dt-\\frac{1}{2j}\\int_{-\\infty}^\\infty e^{-jt(\\omega+\\omega_s)}dt=\\frac{\\pi}{j}[\\delta(\\omega-\\omega_s)-\\delta(\\omega+\\omega_s)]\\\\\n",
        "\\end{equation}\n",
        "\n",
        "### d) $f(t)\\cos(\\omega_ct), \\omega_c\\in\\mathbb{R}, f(t)\\in\\mathbb{R,C}$\n",
        "\\begin{equation}\n",
        "\\cos(\\omega_ct)= \\frac{e^{-j\\omega_ct}+e^{j\\omega_ct}}{2}\\\\\n",
        "\\int_{-\\infty}^\\infty f(t)\\cos(\\omega_ct)e^{-j\\omega t}dt=\\frac{1}{2}\\int_{-\\infty}^\\infty f(t)[e^{-j\\omega_ct}+e^{j\\omega_ct}]e^{-j\\omega t}dt=\\frac{1}{2}\\int_{-\\infty}^\\infty f(t)e^{-j\\omega_ct-j\\omega t}dt+\\frac{1}{2}\\int_{-\\infty}^\\infty f(t)e^{j\\omega_ct-j\\omega t}dt\\\\\n",
        "\\frac{1}{2}\\int_{-\\infty}^\\infty f(t)e^{-jt(\\omega+\\omega_c)}dt+\\frac{1}{2}\\int_{-\\infty}^\\infty f(t)e^{-jt(\\omega-\\omega_c)}dt\\\\\n",
        "\\hat{g}(\\omega)=\\int_{-\\infty}^\\infty f(t)e^{-jt(\\omega\\pm\\omega_x)}dt=\\hat{f}(\\omega\\pm\\omega_x)\\\\\n",
        "\\frac{1}{2}\\int_{-\\infty}^\\infty f(t)e^{-jt(\\omega+\\omega_c)}dt+\\frac{1}{2}\\int_{-\\infty}^\\infty f(t)e^{-jt(\\omega-\\omega_c)}dt=\\frac{1}{2}[\\hat{f}(\\omega+\\omega_c)+\\hat{f}(\\omega-\\omega_c)]\\\\\n",
        "\\end{equation}\n",
        "\n",
        "### e) $e^{−a\\vert t\\vert^2}, a\\in \\mathbb{R^+}$\n",
        "Se toma la siguiente función:\n",
        "\\begin{equation}\n",
        "f(t)=e^{\\frac{-t^2}{2\\sigma^2}}\\Longrightarrow \\hat{f}(\\omega)=\\sigma \\sqrt{2\\pi}e^{\\frac{-\\sigma^2\\omega^2}{2}}\n",
        "\\end{equation}\n",
        "Y se hacen las siguientes igualaciones: \n",
        "\\begin{equation}\n",
        "a=\\frac{1}{2\\sigma^2}\\leftrightarrow \\sigma=\\frac{1}{\\sqrt{2a}}\\quad \\&\\quad t\\leftrightarrow\\omega\\\\\n",
        "t^2\\geq0\n",
        "\\end{equation}\n",
        "Para reemplazar:\n",
        "\\begin{equation}\n",
        "\\int_{-\\infty}^\\infty e^{−a\\vert t\\vert^2}=\\int_{-\\infty}^\\infty e^{−at^2}=\\frac{\\sqrt{2\\pi}}{\\sqrt{2a}} e^{\\frac{-\\omega^2}{4a^2}}=\\sqrt{\\frac{\\pi}{a}} e^{\\frac{-\\omega^2}{4a^2}}\n",
        "\\end{equation}"
      ]
    },
    {
      "cell_type": "markdown",
      "metadata": {
        "id": "MzQN6C9Px17K",
        "colab_type": "text"
      },
      "source": [
        "#3. \n",
        "Aplique las propiedades de la transformada de Fourier para resolver: \n",
        "\\begin{equation}\n",
        "a) \\mathscr{F}\\{e^{−j\\omega_1t}\\cos(\\omega_ct)\\}, \\omega_1, \\omega_c\\in \\mathbb{R}\\\\\n",
        "b) \\mathscr{F}\\{u(t)\\cos^2(\\omega_ct)\\}, \\omega_c\\in\\mathbb{R}\\\\\n",
        "c)\\mathscr{F}^{-1}\\biggr \\{\\frac{7}{\\omega^2+6\\omega+45}∗\\frac{10}{(8+j\\omega/3)^2 }\\biggr \\}\\\\\n",
        "d) \\mathscr{F}\\{3t^3\\}\\\\\n",
        "e) \\frac{B}{T}\\sum_{n=-\\infty}^{\\infty}\\biggr(\\frac{1}{a^2+(\\omega−n\\omega_o)^2}+\\frac{1}{a+j(\\omega−n\\omega_o)}\\biggr), n\\in\\{0, ±1, ±2, \\dots\\}, \\omega_o=\\frac{2\\pi}{T} \\quad\\&\\quad B,T\\in\\mathbb{R^+}\n",
        "\\end{equation}\n",
        "\n",
        "Solución\n",
        "\n",
        "a) $\\mathscr{F}\\{e^{−j\\omega_1t}\\cos(\\omega_ct)\\}, \\omega_1, \\omega_c\\in \\mathbb{R}$\n",
        "Propiedades:\n",
        "\\begin{equation}\n",
        "* \\mathscr{F}\\{f(t)e^{−j\\omega_ot}\\}=\\mathbb{F}\\{\\omega+\\omega_o\\}\\\\\n",
        "* \\mathscr{F}\\{\\cos(\\omega_ot)\\}=\\pi(\\delta(\\omega-\\omega_o)+\\delta(\\omega+\\omega_o))\n",
        "\\end{equation}\n",
        "Por lo tanto\n",
        "\\begin{equation}\n",
        "\\mathscr{F}\\{e^{−j\\omega_1t}\\cos(\\omega_ct)\\}=\\pi(\\delta(\\omega-\\omega_c+\\omega_1)+\\delta(\\omega+\\omega_c+\\omega_1))\n",
        "\\end{equation}\n",
        "\n",
        "\n",
        "b) $\\mathscr{F}\\{u(t)\\cos^2(\\omega_ct)\\}, \\omega_c\\in\\mathbb{R}$ \n",
        "Propiedades:\n",
        "\\begin{equation}\n",
        "* \\mathscr{F}\\{u(t)\\cos(\\omega_o t)\\}=\\frac{\\pi}{2}(\\delta(\\omega-\\omega_c)+\\delta(\\omega+\\omega_c))+\\frac{j\\omega}{\\omega_o^2-\\omega^2}\\\\\n",
        "* \\mathscr{F}\\{u(t)\\}=\\pi\\delta(\\omega)+\\frac{1}{j\\omega}\\\\\n",
        "* \\mathscr{F}\\{f(\\alpha t)\\}=\\frac{1}{\\vert\\alpha\\vert }\\mathbb{F}\\{\\frac{\\omega}{\\alpha }\\}\\\\\n",
        "* \\cos^2(x)=\\frac{1+cos(\\frac{x}{2})}{2}\\\\\n",
        "* \\delta(\\alpha x+b)=\\vert \\alpha\\vert^{-1}\\delta(x+\\frac{b}{\\alpha})\\\\\n",
        "\\end{equation}\n",
        "Por lo tanto\n",
        "\\begin{equation}\n",
        "\\mathscr{F}\\{u(t)\\cos^2(\\omega_ct)\\}=\\frac{1}{2}\\mathscr{F}\\{u(t)+u(t)\\cos(\\frac{\\omega_ct}{2})\\}=\\frac{1}{2}\\mathscr{F}\\{u(t)\\}+\\frac{1}{2}\\mathscr{F}\\{u(t)\\cos(\\frac{\\omega_ct}{2})\\}=\\frac{\\pi}{2}\\delta(\\omega)+\\frac{1}{j2\\omega}+\\frac{\\pi}{2}(\\delta(\\omega-\\frac{\\omega_c}{2})+\\delta(\\omega+\\frac{\\omega_c}{2}))+\\frac{j\\omega}{\\biggr(\\frac{\\omega_c}{2}\\biggr)^2-\\omega^2}\\\\\n",
        "\\frac{\\pi}{2}\\delta(\\omega)+\\frac{1}{j2\\omega}+\\pi(\\delta(2\\omega-\\omega_c)+\\delta(2\\omega+\\omega_c))+\\frac{j4\\omega}{\\omega_c^2-4\\omega^2}\n",
        "\\end{equation}\n",
        "\n",
        "c) $\\mathscr{F}^{-1}\\biggr \\{\\frac{7}{\\omega^2+6\\omega+45}∗\\frac{10}{(8+j\\omega/3)^2 }\\biggr \\}$\n",
        "Propiedades: \n",
        "\\begin{equation}\n",
        "+ \\hat{f}(\\omega\\pm\\omega_o)=f(t)e^{\\mp jt\\omega_o}\\\\\n",
        "+ \\mathscr{F}^{-1}\\{\\frac{2\\alpha}{\\alpha^2+\\omega^2}\\}=e^{-\\alpha\\vert t\\vert}\\\\\n",
        "+ \\mathscr{F}^{-1}\\{(f*g)(t)\\}=2\\pi\\mathscr{F}^{-1}\\{f(\\omega)\\}\\mathscr{F}^{-1}\\{g(\\omega)\\}\\\\\n",
        "+ \\frac{1}{(\\alpha+j\\omega)^2}=u(t)te^{-\\alpha t}\n",
        "\\end{equation}\n",
        "Por lo tanto\n",
        "\\begin{equation}\n",
        "\\mathscr{F}^{-1}\\biggr \\{\\frac{7}{\\omega^2+6\\omega+45}∗\\frac{10}{(8+j\\omega/3)^2 }\\biggr \\}\\\\\n",
        "2\\pi\\mathscr{F}^{-1}\\biggr\\{\\frac{7}{(\\omega+3)^2+36}\\biggr\\}\\mathscr{F}^{-1}\\biggr\\{\\frac{10}{(8+j\\omega/3)^2}\\biggr\\}\\\\\n",
        "2\\pi\\mathscr{F}^{-1}\\biggr\\{\\frac{7\\frac{2*36}{2*36}}{(\\omega+3)^2+36}\\biggr\\}\\frac{90}{1}\\mathscr{F}^{-1}\\biggr\\{\\frac{90}{(24+j\\omega)^2}\\biggr\\}\\\\\n",
        "2\\pi\\frac{7}{72}e^{-36\\vert t\\vert}e^{-j3t}\\frac{90}{1}u(t)te^{-24t}\\\\\n",
        "\\frac{35\\pi}{2}u(t)te^{-(36\\vert t\\vert+24t+j3t)}\n",
        "\\end{equation}\n",
        "\n",
        "d) $\\mathscr{F}\\{3t^3\\}$ \n",
        "Propiedades\n",
        "\\begin{equation}\n",
        "* \\mathscr{F}\\{\\frac{d}{dt}f(t)\\}=(j\\omega)\\mathscr{F}\\{t^4\\}\n",
        "\\end{equation}\n",
        "Por lo tanto\n",
        "\\begin{equation}\n",
        "3t^3= \\frac{d}{dt}(t^4)\n",
        "\\therefore\n",
        "\\mathscr{F}\\{3t^3\\}=\\mathscr{F}\\{\\frac{d}{dt}(t^4)\\}=(j\\omega)\\mathscr{F}\\{t^4\\}=(j\\omega)\\delta^4(\\omega)\n",
        "\\end{equation}\n",
        "\n",
        "e) $\\frac{B}{T}\\sum_{n=-\\infty}^{\\infty}\\biggr(\\frac{1}{a^2+(\\omega−n\\omega_o)^2}+\\frac{1}{a+j(\\omega−n\\omega_o)}\\biggr), n\\in\\{0, ±1, ±2, \\dots\\}, \\omega_o=\\frac{2\\pi}{T} \\quad\\&\\quad B,T\\in\\mathbb{R^+}$\n",
        "Propiedades\n",
        "\\begin{equation}\n",
        "* T\\rightarrow \\infty \\therefore \\omega_o=\\frac{2\\pi}{T}\\rightarrow 0\\\\\n",
        "* \\omega_o=\\Delta\\omega\\rightarrow 0\\therefore \\omega_o=\\Delta\\omega=d\\omega\\\\\n",
        "* (\\omega-n\\omega_o)\\stackrel{\\omega_o\\rightarrow 0}{\\longrightarrow} \\omega\\\\\n",
        "\\end{equation}\n",
        "Por lo tanto:\n",
        "\\begin{equation}\n",
        "\\lim_{T\\rightarrow\\infty}\\frac{B}{T}\\sum_{n=-\\infty}^{\\infty}\\biggr(\\frac{1}{a^2+(\\omega−n\\omega_o)^2}+\\frac{1}{a+j(\\omega−n\\omega_o)}\\biggr)=\\lim_{\\omega_o\\rightarrow0}\\frac{B}{2\\pi}\\sum_{n=-\\infty}^{\\infty}\\frac{2\\pi}{T}\\biggr(\\frac{1}{a^2+(\\omega−n\\omega_o)^2}+\\frac{1}{a+j(\\omega−n\\omega_o)}\\biggr)\\\\\n",
        "\\lim_{\\Delta\\omega\\rightarrow0}\\frac{B}{2\\pi}\\sum_{n=-\\infty}^{\\infty}\\biggr(\\frac{1}{a^2+\\omega^2}+\\frac{1}{a+j\\omega}\\biggr)\\Delta\\omega=\\frac{B}{2\\pi}\\int_{-\\infty}^{\\infty}\\biggr(\\frac{1}{a^2+\\omega^2}+\\frac{1}{a+j\\omega}\\biggr)d\\omega\\\\\n",
        "\\frac{B}{2\\pi}\\biggr[\\int_{-\\infty}^{\\infty}\\frac{1}{a^2+\\omega^2}d\\omega+\\int_{-\\infty}^{\\infty}\\frac{1}{a+j\\omega}d\\omega\\biggr]=\\frac{B}{2\\pi}\\biggr[\\frac{1}{a}tan^{-1}\\biggr(\\frac{\\omega}{a}\\biggr)\\biggr\\vert_{-\\infty}^{\\infty}-j\\ln(a+j\\omega)\\biggr\\vert_{-\\infty}^{\\infty}\\biggr]\n",
        "\\end{equation}\n"
      ]
    },
    {
      "cell_type": "markdown",
      "metadata": {
        "id": "wHyUfsWix5e5",
        "colab_type": "text"
      },
      "source": [
        "4. Consulte en que consiste la distorsión total de armónicos (Total Harmonic Distortion-(THD)) y el factor de potencia en un circuito electrico. Cómo puede calcularse el THD desde la FFT? ¿Cómo puede calcularse el factor de potencia con base al THD? Genere un ejemplo ilustrativo en su software\n",
        "de preferencia para el cálculo del THD y el factor de potencia para un rectificador de media onda con carga:\n",
        "\n",
        " i) Netamente resistiva.\\\n",
        " ii) Carga RC en paralelo.\n",
        "\n",
        "Establezca las condiciones necesarias para las simulaciones y pruebe con diferentes valores de R y C. Discuta los resultados obtenidos.\n",
        "\n",
        "Solución:\n",
        "\n",
        "##THD\n",
        "\n",
        "La Distorsión Armónica Total (THD) es una medida de cuánto se «distorsiona» o se cambia la forma de onda del voltaje o de la corriente de su forma de onda sinusoidal convencional. La energía proviene de su suministrador eléctrico en forma de onda sinusoidal limpia. A medida que atraviesa diferentes tipos de cargas, el voltaje y la corriente se utilizan a diferentes tasas, lo que provoca que la distorsión se refleje desde la carga hacia el sistema.\n",
        "\n",
        "La distorsión ocurre principalmente en múltiplos de la frecuencia de la portadora (50 o 60 Hz) que se conocen como armónicos. Por ejemplo, el 3er armónico en una línea de 60 Hz sería de 180 Hz, el 7 ° sería 420 Hz. La THD es el porcentaje acumulado de distorsión para todos los tipos de armónicos en relación a la potencia total. La distorsión se mide por separado para la corriente (THDI) y el voltaje (THDV).\n"
      ]
    }
  ]
}