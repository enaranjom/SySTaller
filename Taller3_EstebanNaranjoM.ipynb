{
  "nbformat": 4,
  "nbformat_minor": 0,
  "metadata": {
    "colab": {
      "name": "Taller3_EstebanNaranjoM.ipynb",
      "provenance": [],
      "toc_visible": true,
      "authorship_tag": "ABX9TyOXA/wk6EsGWlvNj0oxUBFs",
      "include_colab_link": true
    },
    "kernelspec": {
      "name": "python3",
      "display_name": "Python 3"
    }
  },
  "cells": [
    {
      "cell_type": "markdown",
      "metadata": {
        "id": "view-in-github",
        "colab_type": "text"
      },
      "source": [
        "<a href=\"https://colab.research.google.com/github/enaranjom/SySTalleres_EstebanN/blob/master/Taller3_EstebanNaranjoM.ipynb\" target=\"_parent\"><img src=\"https://colab.research.google.com/assets/colab-badge.svg\" alt=\"Open In Colab\"/></a>"
      ]
    },
    {
      "cell_type": "markdown",
      "metadata": {
        "id": "Mv9WpWspn7Ej",
        "colab_type": "text"
      },
      "source": [
        "# Esteban Naranjo Morales\n",
        "## Código: 817039\n",
        "## Señales y Sistemas/ Taller 3"
      ]
    },
    {
      "cell_type": "markdown",
      "metadata": {
        "id": "LGtF8uLTvjbr",
        "colab_type": "text"
      },
      "source": [
        "# 2. Modelado y simulación de sistemas en el tiempo\n",
        "\n",
        "Estudiar y realizar los ejercicios propuestos (si es el caso)\n",
        "\n"
      ]
    },
    {
      "cell_type": "markdown",
      "metadata": {
        "id": "Lws21z4lv6tn",
        "colab_type": "text"
      },
      "source": [
        "#### 2.1\n",
        "Respuesta en el tiempo de sistemas lineales e invariantes en el tiempo mediante ecuaciones diferenciales ordinarias: ver\n",
        "cuadernos Respuesta al impulso, Respuesta al escalon. \n",
        "\n",
        "**Ejercicio**\n",
        "## Respuesta al impulso\n",
        "* Compare la señal de salida obtenida al resolver la EDO con la obtenida mediante la convolución. Son iguales?\n",
        "\n",
        "La respuesta del sistema se calcula para la señal de entrada $x(t)=e^{-2t}\\cdot\\epsilon(t)$ cuando\n",
        "\n",
        "Primero, se define la EDO en `SymPy`\n",
        "\n",
        "\\begin{equation}\n",
        "\\frac{d}{dt} y(t)+ y(t) = x(t)\n",
        "\\end{equation}"
      ]
    },
    {
      "cell_type": "code",
      "metadata": {
        "id": "Sa_FcBqmyprO",
        "colab_type": "code",
        "colab": {
          "base_uri": "https://localhost:8080/",
          "height": 38
        },
        "outputId": "2c230710-ea47-4aa4-eefb-cbd796bebf5f"
      },
      "source": [
        "%matplotlib inline\n",
        "import sympy as sym\n",
        "sym.init_printing()\n",
        "\n",
        "t = sym.symbols('t', real=True)\n",
        "x = sym.Function('x')(t)\n",
        "y = sym.Function('y')(t)\n",
        "\n",
        "ode = sym.Eq(y + y.diff(t) , x)\n",
        "ode"
      ],
      "execution_count": null,
      "outputs": [
        {
          "output_type": "execute_result",
          "data": {
            "image/png": "[encoded data removed]",
            "text/latex": "$$y{\\left (t \\right )} + \\frac{d}{d t} y{\\left (t \\right )} = x{\\left (t \\right )}$$",
            "text/plain": [
              "       d              \n",
              "y(t) + ──(y(t)) = x(t)\n",
              "       dt             "
            ]
          },
          "metadata": {
            "tags": []
          },
          "execution_count": 3
        }
      ]
    },
    {
      "cell_type": "markdown",
      "metadata": {
        "id": "W3flGdoIzkUZ",
        "colab_type": "text"
      },
      "source": [
        "La EDO se resuelve para la señal de entrada dada con el fin de calcular la señal de salida. La constante de integración se calcula de forma que la solución cumpla las condiciones iniciales."
      ]
    },
    {
      "cell_type": "code",
      "metadata": {
        "id": "TO0GzGpCzpPX",
        "colab_type": "code",
        "colab": {
          "base_uri": "https://localhost:8080/",
          "height": 38
        },
        "outputId": "86b4ba4e-3236-42af-feb4-68f0a5b7f151"
      },
      "source": [
        "solution = sym.dsolve(ode.subs(x, sym.exp(-2*t)*sym.Heaviside(t)))\n",
        "integration_constants = sym.solve( (solution.rhs.limit(t, 0, '-'), solution.rhs.diff(t).limit(t, 0, '-')), 'C1' )\n",
        "y1 = solution.subs(integration_constants)\n",
        "y1"
      ],
      "execution_count": null,
      "outputs": [
        {
          "output_type": "execute_result",
          "data": {
            "image/png": "[encoded data removed]",
            "text/latex": "$$y{\\left (t \\right )} = \\left(1 - e^{- t}\\right) e^{- t} \\theta\\left(t\\right)$$",
            "text/plain": [
              "       ⎛     -t⎞  -t             \n",
              "y(t) = ⎝1 - ℯ  ⎠⋅ℯ  ⋅Heaviside(t)"
            ]
          },
          "metadata": {
            "tags": []
          },
          "execution_count": 4
        }
      ]
    },
    {
      "cell_type": "markdown",
      "metadata": {
        "id": "tzA9G7ubzw65",
        "colab_type": "text"
      },
      "source": [
        "Se grafica la solución de la EDO "
      ]
    },
    {
      "cell_type": "code",
      "metadata": {
        "id": "f5JDWbdRz1KY",
        "colab_type": "code",
        "colab": {
          "base_uri": "https://localhost:8080/",
          "height": 391
        },
        "outputId": "780e31d5-fd7f-4022-df9d-7e2ca8bd4995"
      },
      "source": [
        "sym.plot(y1.rhs, (t,-1,10), ylabel=r'$y(t)$');"
      ],
      "execution_count": null,
      "outputs": [
        {
          "output_type": "stream",
          "text": [
            "/usr/local/lib/python3.6/dist-packages/sympy/plotting/plot.py:890: MatplotlibDeprecationWarning: \n",
            "The set_smart_bounds function was deprecated in Matplotlib 3.2 and will be removed two minor releases later.\n",
            "  self.ax.spines['left'].set_smart_bounds(True)\n",
            "/usr/local/lib/python3.6/dist-packages/sympy/plotting/plot.py:891: MatplotlibDeprecationWarning: \n",
            "The set_smart_bounds function was deprecated in Matplotlib 3.2 and will be removed two minor releases later.\n",
            "  self.ax.spines['bottom'].set_smart_bounds(False)\n"
          ],
          "name": "stderr"
        },
        {
          "output_type": "display_data",
          "data": {
            "image/png": "[encoded data removed]",
            "text/plain": [
              "<Figure size 432x288 with 1 Axes>"
            ]
          },
          "metadata": {
            "tags": [],
            "needs_background": "light"
          }
        }
      ]
    },
    {
      "cell_type": "markdown",
      "metadata": {
        "id": "mt2PI7VB0Pzr",
        "colab_type": "text"
      },
      "source": [
        "La respuesta de impulso $h(t)$ se calcula resolviendo la EDO para un impulso de Dirac como señal de entrada, $x(t)=\\delta(t)$"
      ]
    },
    {
      "cell_type": "code",
      "metadata": {
        "id": "DIEvXWxS0Smc",
        "colab_type": "code",
        "colab": {
          "base_uri": "https://localhost:8080/",
          "height": 38
        },
        "outputId": "afe3fff6-0055-4781-b974-2f47505003a4"
      },
      "source": [
        "h = sym.Function('h')(t)\n",
        "solution2 = sym.dsolve(ode.subs(x, sym.DiracDelta(t)).subs(y, h))\n",
        "integration_constants = sym.solve( (solution2.rhs.limit(t, 0, '-'), solution2.rhs.diff(t).limit(t, 0, '-')), 'C1' )\n",
        "h = solution2.subs(integration_constants)\n",
        "h"
      ],
      "execution_count": null,
      "outputs": [
        {
          "output_type": "execute_result",
          "data": {
            "image/png": "[encoded data removed]",
            "text/latex": "$$h{\\left (t \\right )} = e^{- t} \\theta\\left(t\\right)$$",
            "text/plain": [
              "        -t             \n",
              "h(t) = ℯ  ⋅Heaviside(t)"
            ]
          },
          "metadata": {
            "tags": []
          },
          "execution_count": 6
        }
      ]
    },
    {
      "cell_type": "markdown",
      "metadata": {
        "id": "uJOoBgha2iOD",
        "colab_type": "text"
      },
      "source": [
        "Como alternativa a la solución explícita de la EDO, la respuesta del sistema se calcula evaluando la convolución $y(t)=x(t)*h(t)$. Dado que `SymPy` no puede manejar la función Heaviside de manera adecuada en las integrales, la integral de convolución se simplifica primero. Tanto la señal de entrada $x(t)$ como la respuesta de impulso $h(t)$ son señales causales. Por lo tanto, la integral de convolución resulta en\n",
        "\n",
        "\\begin{equation}\n",
        "y(t) = \\int_{0}^{t} x(\\tau) \\cdot h(t - \\tau) \\; d\\tau\n",
        "\\end{equation}\n",
        "\n",
        "Para $t\\geq0$. Observe que $y(t)=0$ para $t<0$."
      ]
    },
    {
      "cell_type": "code",
      "metadata": {
        "id": "IZXCO7SOyZHx",
        "colab_type": "code",
        "colab": {
          "base_uri": "https://localhost:8080/",
          "height": 38
        },
        "outputId": "c699c455-278f-453c-a635-59d74e84acef"
      },
      "source": [
        "tau = sym.symbols('tau', real=True)\n",
        "\n",
        "y2 = sym.integrate(sym.exp(-2*tau) * h.rhs.subs(sym.Heaviside(t), 1).subs(t, t-tau), (tau, 0, t))\n",
        "y2"
      ],
      "execution_count": null,
      "outputs": [
        {
          "output_type": "execute_result",
          "data": {
            "image/png": "[encoded data removed]",
            "text/latex": "$$e^{- t} - e^{- 2 t}$$",
            "text/plain": [
              " -t    -2⋅t\n",
              "ℯ   - ℯ    "
            ]
          },
          "metadata": {
            "tags": []
          },
          "execution_count": 7
        }
      ]
    },
    {
      "cell_type": "markdown",
      "metadata": {
        "id": "ysDgd5nc2ofj",
        "colab_type": "text"
      },
      "source": [
        "Se grafica la señal de salida obtenida mediante el proceso de convolución"
      ]
    },
    {
      "cell_type": "code",
      "metadata": {
        "id": "ifjpchn3yiNy",
        "colab_type": "code",
        "colab": {
          "base_uri": "https://localhost:8080/",
          "height": 391
        },
        "outputId": "feb5bd99-e9ef-4a5f-8cc4-ff79c9ddb613"
      },
      "source": [
        "sym.plot(y2, (t,-1,10), ylabel=r'$y(t)$');"
      ],
      "execution_count": null,
      "outputs": [
        {
          "output_type": "stream",
          "text": [
            "/usr/local/lib/python3.6/dist-packages/sympy/plotting/plot.py:890: MatplotlibDeprecationWarning: \n",
            "The set_smart_bounds function was deprecated in Matplotlib 3.2 and will be removed two minor releases later.\n",
            "  self.ax.spines['left'].set_smart_bounds(True)\n",
            "/usr/local/lib/python3.6/dist-packages/sympy/plotting/plot.py:891: MatplotlibDeprecationWarning: \n",
            "The set_smart_bounds function was deprecated in Matplotlib 3.2 and will be removed two minor releases later.\n",
            "  self.ax.spines['bottom'].set_smart_bounds(False)\n"
          ],
          "name": "stderr"
        },
        {
          "output_type": "display_data",
          "data": {
            "image/png": "[encoded data removed]",
            "text/plain": [
              "<Figure size 432x288 with 1 Axes>"
            ]
          },
          "metadata": {
            "tags": [],
            "needs_background": "light"
          }
        }
      ]
    },
    {
      "cell_type": "code",
      "metadata": {
        "id": "QGIh3NFe3O88",
        "colab_type": "code",
        "colab": {
          "base_uri": "https://localhost:8080/",
          "height": 391
        },
        "outputId": "1940969e-647d-4c1f-8497-cf9b46891787"
      },
      "source": [
        "sym.plot(y1.rhs, (t,-1,10), ylabel=r'$y(t)$');"
      ],
      "execution_count": null,
      "outputs": [
        {
          "output_type": "stream",
          "text": [
            "/usr/local/lib/python3.6/dist-packages/sympy/plotting/plot.py:890: MatplotlibDeprecationWarning: \n",
            "The set_smart_bounds function was deprecated in Matplotlib 3.2 and will be removed two minor releases later.\n",
            "  self.ax.spines['left'].set_smart_bounds(True)\n",
            "/usr/local/lib/python3.6/dist-packages/sympy/plotting/plot.py:891: MatplotlibDeprecationWarning: \n",
            "The set_smart_bounds function was deprecated in Matplotlib 3.2 and will be removed two minor releases later.\n",
            "  self.ax.spines['bottom'].set_smart_bounds(False)\n"
          ],
          "name": "stderr"
        },
        {
          "output_type": "display_data",
          "data": {
            "image/png": "[encoded data removed]",
            "text/plain": [
              "<Figure size 432x288 with 1 Axes>"
            ]
          },
          "metadata": {
            "tags": [],
            "needs_background": "light"
          }
        }
      ]
    },
    {
      "cell_type": "markdown",
      "metadata": {
        "id": "lkqVnO0q230d",
        "colab_type": "text"
      },
      "source": [
        "Se puede observar que la señal de salida de la ecuación diferencial y la señal de salida de la convolución si son iguales"
      ]
    },
    {
      "cell_type": "markdown",
      "metadata": {
        "id": "X3LF6Juw5H6D",
        "colab_type": "text"
      },
      "source": [
        "* Compruebe la solución $h(t)$ de la EDO cuando $x(t)=\\delta(t)$ de manera manual. Tener en cuenta que $\\frac{d}{dt} \\epsilon(t) = \\delta(t)$.\n"
      ]
    },
    {
      "cell_type": "markdown",
      "metadata": {
        "id": "XtaJ3H9P5KVl",
        "colab_type": "text"
      },
      "source": [
        "* Comprobar la solución de la integral de convolución de manera manual. Tener en cuenta las funciones Heaviside.\n"
      ]
    },
    {
      "cell_type": "markdown",
      "metadata": {
        "id": "rLBfqvbg9pT7",
        "colab_type": "text"
      },
      "source": [
        "###2.2\n",
        " Relaciones entre respuesta al impulso, funcion de transferencia y autofunciones: ver cuadernos Autofunciones.\n"
      ]
    },
    {
      "cell_type": "markdown",
      "metadata": {
        "id": "coN3rQUHBxdn",
        "colab_type": "text"
      },
      "source": [
        "Se considera un SLTI cuya relación entrada/salida viene dada por la siguiente ecuación diferencial ordinaria (EDO) con coeficientes constantes\n",
        "\n",
        "\\begin{equation}\n",
        "a_0 y(t) + a_1 \\frac{d y(t)}{dt} + a_2 \\frac{d^2 y(t)}{dt^2} = x(t)\n",
        "\\end{equation}\n",
        "\n",
        "Con $a_i \\in \\mathbb{R} \\quad \\forall i$. En el resto, la señal de salida $y(t)$ del sistema se calcula mediante la solución explícita de la EDO para $x(t)=e^{st}$ como señal de entrada. Las constantes de integración se descartan para facilitar la ilustración."
      ]
    },
    {
      "cell_type": "code",
      "metadata": {
        "id": "QksTA18kBd3V",
        "colab_type": "code",
        "colab": {
          "base_uri": "https://localhost:8080/",
          "height": 42
        },
        "outputId": "c97cdfd8-7c8b-4831-869a-a5a07153435a"
      },
      "source": [
        "%matplotlib inline\n",
        "import sympy as sym\n",
        "sym.init_printing()\n",
        "\n",
        "t, s, a0, a1, a2 = sym.symbols('t s a:3')\n",
        "x = sym.exp(s * t)\n",
        "y = sym.Function('y')(t)\n",
        "\n",
        "ode = sym.Eq(a0*y + a1*y.diff(t) + a2*y.diff(t,2), x)\n",
        "solution = sym.dsolve(ode)\n",
        "solution.subs({'C1': 0, 'C2' : 0})"
      ],
      "execution_count": null,
      "outputs": [
        {
          "output_type": "execute_result",
          "data": {
            "image/png": "[encoded data removed]",
            "text/latex": "$$y{\\left (t \\right )} = \\frac{e^{s t}}{a_{0} + a_{1} s + a_{2} s^{2}}$$",
            "text/plain": [
              "               s⋅t      \n",
              "              ℯ         \n",
              "y(t) = ─────────────────\n",
              "                       2\n",
              "       a₀ + a₁⋅s + a₂⋅s "
            ]
          },
          "metadata": {
            "tags": []
          },
          "execution_count": 11
        }
      ]
    },
    {
      "cell_type": "markdown",
      "metadata": {
        "id": "dTdPBGvzB2rY",
        "colab_type": "text"
      },
      "source": [
        "**Ejercicios**\n",
        "\n",
        "* Introduzca $x(t)=e^{s t} $ y $y(t)=\\lambda \\cdot e^{st}$ en la EDO y calcule manualmente el valor propio $\\lambda$. ¿Cómo se relaciona el resultado con el resultado anterior al resolver la EDO?\n",
        "* Puede generalizar sus resultados a una EDO de orden arbitrario?"
      ]
    },
    {
      "cell_type": "markdown",
      "metadata": {
        "id": "Lyy34o8bCPW5",
        "colab_type": "text"
      },
      "source": [
        "\\begin{equation}\n",
        "a_0 y(t) + a_1 \\frac{d y(t)}{dt} + a_2 \\frac{d^2 y(t)}{dt^2} = x(t)\n",
        "\\end{equation}\n",
        "\n",
        "si:  $x(t)=e^{s t} $ y $y(t)=\\lambda \\cdot e^{st}$"
      ]
    },
    {
      "cell_type": "code",
      "metadata": {
        "id": "3XC0myTXGImm",
        "colab_type": "code",
        "colab": {}
      },
      "source": [
        "x = sym.exp(s * t)\n",
        "y2 =sym.exp(s * t)\n",
        "ode2 = sym.Eq(a0*y2 + a1*y2.diff(t) + a2*y2.diff(t,2), x)\n",
        "solution = sym.dsolve(ode)\n",
        "solution.subs({'C1': 0, 'C2' : 0})"
      ],
      "execution_count": null,
      "outputs": []
    },
    {
      "cell_type": "markdown",
      "metadata": {
        "id": "MwvWvm2gHOfY",
        "colab_type": "text"
      },
      "source": [
        "###2.3\n",
        " Ejemplos de modelado de sistemas lineales e invariantes en\n",
        "el tiempo mediante ecuaciones diferenciales ordinarias: ver\n",
        "cuadernos Red eléctrica, Péndulo elástico\n",
        "\n",
        "### péndulo elástico\n",
        "\n",
        "**Ejercicio**\n",
        "\n",
        "* Cambie el coeficiente de amortiguamiento $c$ del péndulo elástico e indique cómo cambia la magnitud y la fase de la función de transferencia $H(j\\omega)$.\n",
        "\n",
        "* Qué relación hay entre la frecuencia de oscilación y las frecuencias de resonancia?\n"
      ]
    },
    {
      "cell_type": "markdown",
      "metadata": {
        "id": "9envKiPFIUPm",
        "colab_type": "text"
      },
      "source": [
        "**Ejercicio**\n",
        "\n",
        "* Calcule y grafique el desplazamiento para valores dados de $m_\\text{I}$ y $r$.\n",
        "\n",
        "* ¿Para qué frecuencias angulares $\\omega$ se tiene una mayor magnitud del desplazamiento? ¿Cómo es la relación de fase entre la fuerza externa $F_\\text{E}(t)$ y el desplazamiento $y(t)$ en estas frecuencias?\n",
        "\n",
        "* ¿Cómo deben elegirse las frecuencias de resonancia $\\omega_0$ del péndulo de resorte para obtener un buen aislamiento de vibraciones para una máquina que gira con frecuencia angular $\\omega$? ¿Cómo es la relación de fase entre la fuerza externa $F_\\text{E}(t) $ y el desplazamiento $y(t)$ a esta frecuencia?"
      ]
    },
    {
      "cell_type": "markdown",
      "metadata": {
        "id": "EECZICIgolIc",
        "colab_type": "text"
      },
      "source": [
        "# 3. Transformada de Laplace 3.1)\n",
        "\n",
        "Para resolver los siguientes ejercicios puede apoyarse de los cuadernos del repositorio github del curso, seccion 4: Transformada de Laplace.\n",
        "\n",
        "1. Demuestre las siguientes propiedades (sin utilizar tablas de\n",
        "propiedades):\n",
        "\n",
        "#i) \n",
        "\\begin{equation}\n",
        "\\mathcal{L} \\ ({x(t−t_0)}) = e^{st_o} X(s)\n",
        "\\end{equation}\n",
        "\n",
        "\\begin{equation}\n",
        "= \\int_{0}^{\\infty} x(t-t_0) \\, e^{- s t} \\; dt\n",
        "\\end{equation}\n",
        "$t-t_0=t'\\    $    $ t=t'+t_0 $\n",
        "\n",
        "$dt=dt´$\n",
        "\\begin{equation}\n",
        "= \\int_{0}^{\\infty} x(t') \\, e^{- s (t'+t_0)}\\; dt'\n",
        "\\end{equation}\n",
        "\\begin{equation}\n",
        "= \\int_{0}^{\\infty} x(t') \\, e^{- st'+st_0}\\; dt' \\; = e^{-st_0} \\int_{0}^{\\infty} x(t') \\, e^{- st'} \\; dt'\n",
        "\\end{equation}\n",
        "$t'=t$\n",
        "\\begin{equation}\n",
        "= e^{-st_0} X(s)\n",
        "\\end{equation}\n",
        "\n",
        "\n",
        "\n",
        "\n"
      ]
    },
    {
      "cell_type": "markdown",
      "metadata": {
        "id": "g0YaqzB9uEQZ",
        "colab_type": "text"
      },
      "source": [
        "## ii) \n",
        "\\begin{equation}\n",
        "\\mathcal{L} \\ ({x(at)}) = \\frac{1}{|a|} X(\\frac{s}{a})\n",
        "\\end{equation}\n",
        "\\begin{equation}\n",
        "= \\int_{0}^{\\infty} x(at) \\, e^{- s t} \\; dt\n",
        "\\end{equation}\n",
        "$at=t'\\    $    $ \\; t=t'/a $\n",
        "\n",
        "$adt=dt´$\n",
        "\\begin{equation}\n",
        "= \\frac{1}{|a|} \\int_{0}^{\\infty} x(t') \\, e^{-s \\frac{ t'}{a}} \\; dt' \\;  \\;  \\;  \\; a>=0\n",
        "\\end{equation}\n",
        "\\begin{equation}\n",
        "= \\frac{1}{|a|} X(\\frac{s}{a})\n",
        "\\end{equation}\n"
      ]
    },
    {
      "cell_type": "markdown",
      "metadata": {
        "id": "oEF0N8_Xw9dz",
        "colab_type": "text"
      },
      "source": [
        "## iii) \n",
        "\\begin{equation}\n",
        "\\mathcal{L} (\\frac {d_xt}{t}) = s X(s)\n",
        "\\end{equation}\n",
        "\n",
        "\\begin{equation}\n",
        "= \\int_{0}^{\\infty} x'(t) \\, e^{- s t} \\; dt\n",
        "\\end{equation}\n",
        "\n",
        "$u=e^{-st}\\ $    $ \\;du=-s\\ e^{-st} dt$\n",
        "\n",
        "$dv=x'(t) \\ $    $ v=x(t)$ \n",
        "\n",
        "\\begin{equation}\n",
        "= e^{-st} x(t) \\Big|_{0}^{\\infty} - \\int_{0}^{\\infty} x(t) (-s\\ e^{-st}) \\; dt\n",
        "\\end{equation}\n",
        "\n",
        "\\begin{equation}\n",
        "= s\\int_{0}^{\\infty} x(t) \\ e^{-st} \\; dt + \\lim_{t-> \\infty} e^{-st} x(t) \\, \\ -\\ \\ x(0)\n",
        "\\end{equation}\n",
        "\n",
        "\\begin{equation}\n",
        "= s X(s)\n",
        "\\end{equation}\n",
        "\n",
        "\n"
      ]
    },
    {
      "cell_type": "markdown",
      "metadata": {
        "id": "nGQPwuB24cgk",
        "colab_type": "text"
      },
      "source": [
        "## iv)\n",
        "\\begin{equation}\n",
        "\\mathcal{L} \\ (x(t) *  y(t)) =  X(s) Y(s)\n",
        "\\end{equation}\n",
        "\n",
        "\\begin{equation}\n",
        "= \\int_{0}^{\\infty} x(t) *  y(t) \\, e^{- s t} \\; dt\n",
        "\\end{equation}\n",
        "\n",
        "\\begin{equation}\n",
        "= \\int_{0}^{\\infty} \\Big(\\int_{0}^{\\infty} x(\\tau)  y(t-\\tau) d\\tau \\Big)\\, e^{- s t} \\; dt\n",
        "\\end{equation}\n",
        "\n",
        "\\begin{equation}\n",
        "= \\int_{0}^{\\infty} \\int_{0}^{\\infty} x(\\tau)  y(t-\\tau)  \\, e^{- s t} \\; d\\tau dt\n",
        "\\end{equation}\n",
        "\n",
        "\\begin{equation}\n",
        "= \\int_{0}^{\\infty} x(\\tau) \\int_{0}^{\\infty}   y(t-\\tau)  \\, e^{- s t} \\; d\\tau dt\n",
        "\\end{equation}\n",
        "\n",
        "$ v=t- \\tau \\ \\ \\ \\ \\ t=v + \\tau \\\\ dt=dv  $\n",
        "\n",
        "\\begin{equation}\n",
        "= \\int_{0}^{\\infty} x(\\tau) \\int_{0}^{\\infty}   y(v)  \\, e^{- s(v + \\tau )} \\; dv \\ d\\tau \n",
        "\\end{equation}\n",
        "\n",
        "\\begin{equation}\n",
        "= \\int_{0}^{\\infty} x(\\tau) \\ e^{- s\\tau } \\int_{0}^{\\infty}   y(v)  \\, e^{- sv} \\; dv \\ d\\tau \\\\\n",
        "= \\int_{0}^{\\infty} x(\\tau) \\ e^{- s\\tau } \\ d\\tau \\int_{0}^{\\infty}   y(v)  \\, e^{- sv} \\; dv \\  \n",
        "\\end{equation}\n",
        "\n",
        "$ \\tau=t \\ \\ \\ \\ \\ \\ \\ v=t $\n",
        "\n",
        "\\begin{equation}\n",
        "\\mathcal{L} \\ (x(t)) \\mathcal{L} \\ (  y(t)) =  X(s) Y(s)\n",
        "\\end{equation}\n",
        "\n",
        "\n",
        "\n",
        "\n",
        "\n",
        "\n",
        "\n"
      ]
    },
    {
      "cell_type": "markdown",
      "metadata": {
        "id": "yFut_FpZlMrR",
        "colab_type": "text"
      },
      "source": [
        "# 3.2 PDF\n",
        "\n",
        "Está en el documento anexado."
      ]
    },
    {
      "cell_type": "markdown",
      "metadata": {
        "id": "g27lcv29lQXv",
        "colab_type": "text"
      },
      "source": [
        "# 3.3 PDF"
      ]
    },
    {
      "cell_type": "markdown",
      "metadata": {
        "id": "TMpjWyGGlUk_",
        "colab_type": "text"
      },
      "source": [
        "# 3.4 PDF"
      ]
    },
    {
      "cell_type": "markdown",
      "metadata": {
        "id": "xVXily3xLqBV",
        "colab_type": "text"
      },
      "source": [
        "# 3.5 \n",
        "Consulte en que consiste un sistema subamortiguado, sobreamortiguado, y de amortiguamiento crıtico. Genere simulaciones para ejemplificar cada uno de los casos con los sistemas R,L,C serie y paralelo estudiados. Nota: asuma condiciones iniciales cero.\n",
        "\n",
        "## Solución\n",
        "\n",
        "Estos términos describen el impacto del elemento disipador (R) sobre la respuesta a través del análisis de la frecuencia neper en comparación con la frecuencia resonante.  Así, existen tres tipos de amortiguamiento:\n",
        "\n",
        "La ecuación característica del circuito RLC es:\n",
        "\n",
        "\\begin{equation}\n",
        "s^{2}+ \\frac{R}{L}s + \\frac{1}{LC}=0\n",
        "\\end{equation}\n",
        "\n",
        "Vamos a encontrar las raíces de la ecuación característica mediante el uso de la fórmula cuadrática:\n",
        "\n",
        "\\begin{equation}\n",
        "s= \\frac{-R \\pm \\sqrt{R^{2}-4L/C}}{2L}\n",
        "\\end{equation}\n",
        "\n",
        "Al sustituir las variables $ \\alpha \\ y \\ \\omega_o $ podemos escribir s de manera un poco más sencilla como:\n",
        "\n",
        "\\begin{equation}\n",
        "s= - \\alpha \\  \\pm \\ \\sqrt{\\alpha ^{2} - \\omega_o ^{2}}\n",
        "\\end{equation}\n",
        "\n",
        "donde:\n",
        "\n",
        "$ \\alpha= \\frac{R}{2L} \\ \\ , \\ \\omega_{o}=\\frac{1}{\\sqrt{LC}}$\n",
        "\n",
        "$\\alpha$ se llama el factor de amortiguamiento y $\\omega_o $ es la frecuencia de resonancia.\n",
        "\n",
        "Dependiendo del tamaño relativo de $\\alpha \\ y \\ \\omega_{0}$ habrá tres formas diferentes para la solución para i(t)\n",
        "\n",
        "* sobreamortiguado, $\\alpha > \\omega_{0}$ \t​conduce a la suma de dos exponenciales decrecientes.\n",
        "* críticamente amortiguado, $\\alpha = \\omega_{0}$ nos da t multiplicado por una exponencial decreciente.\n",
        "* subamortiguado, $\\alpha < \\omega_{0}$ , conduce a un seno decreciente.\n",
        "\n",
        "RLC Serie: \n",
        "\n",
        "\\begin{equation}\n",
        "Y(s) = \\frac{1}{LC s^2 + RC s + 1} \\cdot X(s)\n",
        "\\end{equation}\n",
        "\n",
        "\n"
      ]
    },
    {
      "cell_type": "code",
      "metadata": {
        "id": "wDMIuXeZTFrj",
        "colab_type": "code",
        "colab": {
          "base_uri": "https://localhost:8080/",
          "height": 41
        },
        "outputId": "c2c5be8a-33de-473b-d1c4-76d99d699729"
      },
      "source": [
        "%matplotlib inline\n",
        "import sympy as sym\n",
        "sym.init_printing()\n",
        "\n",
        "s = sym.symbols('s', complex=True)\n",
        "t, R, L, C = sym.symbols('t R L C', positive=True)\n",
        "X = sym.Function('X')(s)\n",
        "\n",
        "Y = 1/(L*C*s**2 + R*C*s + 1) * X\n",
        "Y"
      ],
      "execution_count": 39,
      "outputs": [
        {
          "output_type": "execute_result",
          "data": {
            "image/png": "[encoded data removed]",
            "text/latex": "$$\\frac{X{\\left (s \\right )}}{C L s^{2} + C R s + 1}$$",
            "text/plain": [
              "       X(s)       \n",
              "──────────────────\n",
              "     2            \n",
              "C⋅L⋅s  + C⋅R⋅s + 1"
            ]
          },
          "metadata": {
            "tags": []
          },
          "execution_count": 39
        }
      ]
    },
    {
      "cell_type": "markdown",
      "metadata": {
        "id": "71ssKyKATNsZ",
        "colab_type": "text"
      },
      "source": [
        "#1)  $x(t)=u(t)$\n",
        "##circuito RLC serie (entrada tension de alimentacion - salida tension en el capacitor)\n",
        "\n",
        "$\\zeta= \\frac{R}{2} \\sqrt{ \\frac{C}{L}} $\n",
        "\n",
        "\\begin{equation}\n",
        "Y(s) = \\frac{1}{LC s^2 + RC s + 1} \\cdot \\frac{1}{s}\n",
        "\\end{equation}\n",
        "\n",
        "### Subamortiguado \n",
        "$ 0< \\zeta < 1$\n",
        "\n",
        "La señal de salida $y(t)$ es calculada mediante la transformada inversa de Laplace de $Y(s)$ para los siguientes valores:  $L = 0.5$, $R = 1$, $C = 0.4$."
      ]
    },
    {
      "cell_type": "code",
      "metadata": {
        "id": "PnjkyL-_TRDQ",
        "colab_type": "code",
        "colab": {
          "base_uri": "https://localhost:8080/",
          "height": 38
        },
        "outputId": "396fd69c-19d9-4c82-f446-f35562356722"
      },
      "source": [
        "RLC = {R: 1, L: sym.Rational('.5'), C: sym.Rational('.4')}\n",
        "\n",
        "y = sym.inverse_laplace_transform(Y.subs(RLC).subs(X, 1/s), s, t)\n",
        "y"
      ],
      "execution_count": 50,
      "outputs": [
        {
          "output_type": "execute_result",
          "data": {
            "image/png": "[encoded data removed]",
            "text/latex": "$$0.8 - 0.4 e^{- t} \\sin{\\left (2 t \\right )} - 0.8 e^{- t} \\cos{\\left (2 t \\right )}$$",
            "text/plain": [
              "           -t                 -t         \n",
              "0.8 - 0.4⋅ℯ  ⋅sin(2⋅t) - 0.8⋅ℯ  ⋅cos(2⋅t)"
            ]
          },
          "metadata": {
            "tags": []
          },
          "execution_count": 50
        }
      ]
    },
    {
      "cell_type": "markdown",
      "metadata": {
        "id": "8LufwHJ8TXIC",
        "colab_type": "text"
      },
      "source": [
        "El resultado se simplifica para facilitar la visualización.\n"
      ]
    },
    {
      "cell_type": "code",
      "metadata": {
        "id": "z5ntgUhpTb43",
        "colab_type": "code",
        "colab": {
          "base_uri": "https://localhost:8080/",
          "height": 38
        },
        "outputId": "b58f1629-6c96-4682-8bd6-978ffbf7d212"
      },
      "source": [
        "y = y.simplify()\n",
        "y"
      ],
      "execution_count": 3,
      "outputs": [
        {
          "output_type": "execute_result",
          "data": {
            "image/png": "[encoded data removed]",
            "text/latex": "$$\\left(e^{t} - \\frac{1}{2} \\sin{\\left (2 t \\right )} - \\cos{\\left (2 t \\right )}\\right) e^{- t}$$",
            "text/plain": [
              "⎛ t   sin(2⋅t)           ⎞  -t\n",
              "⎜ℯ  - ──────── - cos(2⋅t)⎟⋅ℯ  \n",
              "⎝        2               ⎠    "
            ]
          },
          "metadata": {
            "tags": []
          },
          "execution_count": 3
        }
      ]
    },
    {
      "cell_type": "code",
      "metadata": {
        "id": "RwdzQN_UTcap",
        "colab_type": "code",
        "colab": {
          "base_uri": "https://localhost:8080/",
          "height": 393
        },
        "outputId": "ef48243c-e8bb-4309-c75d-00c746483d72"
      },
      "source": [
        "sym.plot(y, (t, 0, 5), xlabel='$t \\ \\ $', ylabel='$y(t) \\ \\ \\  $');\n"
      ],
      "execution_count": 51,
      "outputs": [
        {
          "output_type": "stream",
          "text": [
            "/usr/local/lib/python3.6/dist-packages/sympy/plotting/plot.py:890: MatplotlibDeprecationWarning: \n",
            "The set_smart_bounds function was deprecated in Matplotlib 3.2 and will be removed two minor releases later.\n",
            "  self.ax.spines['left'].set_smart_bounds(True)\n",
            "/usr/local/lib/python3.6/dist-packages/sympy/plotting/plot.py:891: MatplotlibDeprecationWarning: \n",
            "The set_smart_bounds function was deprecated in Matplotlib 3.2 and will be removed two minor releases later.\n",
            "  self.ax.spines['bottom'].set_smart_bounds(False)\n"
          ],
          "name": "stderr"
        },
        {
          "output_type": "display_data",
          "data": {
            "image/png": "[encoded data removed]",
            "text/plain": [
              "<Figure size 432x288 with 1 Axes>"
            ]
          },
          "metadata": {
            "tags": [],
            "needs_background": "light"
          }
        }
      ]
    },
    {
      "cell_type": "markdown",
      "metadata": {
        "id": "5oChLi8FTzOG",
        "colab_type": "text"
      },
      "source": [
        "## Sobreamortiguado\n",
        "$\\zeta>1$\n",
        "\n",
        "La señal de salida  y(t)  es calculada mediante la transformada inversa de Laplace de  Y(s)  para los siguientes valores:  L=0.5 ,  R=10 ,  C=0.4 ."
      ]
    },
    {
      "cell_type": "code",
      "metadata": {
        "id": "GA_8wPCcT8nf",
        "colab_type": "code",
        "colab": {
          "base_uri": "https://localhost:8080/",
          "height": 52
        },
        "outputId": "e0feeaec-37f0-44e4-8471-4045ab9c6e82"
      },
      "source": [
        "RLC = {R: 10, L: sym.Rational('.5'), C: sym.Rational('.4')}\n",
        "\n",
        "y = sym.inverse_laplace_transform(Y.subs(RLC).subs(X, 1/s), s, t)\n",
        "y"
      ],
      "execution_count": 5,
      "outputs": [
        {
          "output_type": "execute_result",
          "data": {
            "image/png": "[encoded data removed]",
            "text/latex": "$$\\frac{e^{- t \\left(\\sqrt{95} + 10\\right)}}{38 \\left(-10 + \\sqrt{95}\\right)^{2} \\left(\\sqrt{95} + 10\\right)^{2}} \\left(- 50 \\sqrt{95} e^{2 \\sqrt{95} t} - 475 e^{2 \\sqrt{95} t} + 950 e^{t \\left(\\sqrt{95} + 10\\right)} - 475 + 50 \\sqrt{95}\\right)$$",
            "text/plain": [
              "⎛          2⋅√95⋅t        2⋅√95⋅t        t⋅(√95 + 10)               ⎞  -t⋅(√95\n",
              "⎝- 50⋅√95⋅ℯ        - 475⋅ℯ        + 950⋅ℯ             - 475 + 50⋅√95⎠⋅ℯ       \n",
              "──────────────────────────────────────────────────────────────────────────────\n",
              "                                          2           2                       \n",
              "                            38⋅(-10 + √95) ⋅(√95 + 10)                        \n",
              "\n",
              " + 10)\n",
              "      \n",
              "──────\n",
              "      \n",
              "      "
            ]
          },
          "metadata": {
            "tags": []
          },
          "execution_count": 5
        }
      ]
    },
    {
      "cell_type": "code",
      "metadata": {
        "id": "z_YML1YMUC5R",
        "colab_type": "code",
        "colab": {
          "base_uri": "https://localhost:8080/",
          "height": 393
        },
        "outputId": "66275308-8aa3-41c6-a692-65d737161722"
      },
      "source": [
        "sym.plot(y, (t, 0, 10), xlabel='$t$', ylabel='$y(t)$');"
      ],
      "execution_count": 6,
      "outputs": [
        {
          "output_type": "stream",
          "text": [
            "/usr/local/lib/python3.6/dist-packages/sympy/plotting/plot.py:890: MatplotlibDeprecationWarning: \n",
            "The set_smart_bounds function was deprecated in Matplotlib 3.2 and will be removed two minor releases later.\n",
            "  self.ax.spines['left'].set_smart_bounds(True)\n",
            "/usr/local/lib/python3.6/dist-packages/sympy/plotting/plot.py:891: MatplotlibDeprecationWarning: \n",
            "The set_smart_bounds function was deprecated in Matplotlib 3.2 and will be removed two minor releases later.\n",
            "  self.ax.spines['bottom'].set_smart_bounds(False)\n"
          ],
          "name": "stderr"
        },
        {
          "output_type": "display_data",
          "data": {
            "image/png": "[encoded data removed]",
            "text/plain": [
              "<Figure size 432x288 with 1 Axes>"
            ]
          },
          "metadata": {
            "tags": [],
            "needs_background": "light"
          }
        }
      ]
    },
    {
      "cell_type": "markdown",
      "metadata": {
        "id": "BeH3-RUzUJH7",
        "colab_type": "text"
      },
      "source": [
        "##Amortiguamiento crítico\n",
        "\n",
        "$\\zeta=1$\n",
        "\n",
        "La señal de salida $y(t)$ es calculada mediante la transformada inversa de Laplace de $Y(s)$ para los siguientes valores:  $L = 0.5$, $R = 2.236067977\\ \\ $, $C = 0.4$."
      ]
    },
    {
      "cell_type": "code",
      "metadata": {
        "id": "NsndaXZaUMxK",
        "colab_type": "code",
        "colab": {
          "base_uri": "https://localhost:8080/",
          "height": 58
        },
        "outputId": "ffb8a987-2d59-4902-a2f2-5381ab95fbfc"
      },
      "source": [
        "RLC = {R: 2.236067977, L: sym.Rational('.5'), C: sym.Rational('.4')}\n",
        "\n",
        "y = sym.inverse_laplace_transform(Y.subs(RLC).subs(X, 1/s), s, t)\n",
        "y"
      ],
      "execution_count": 7,
      "outputs": [
        {
          "output_type": "execute_result",
          "data": {
            "image/png": "[encoded data removed]",
            "text/latex": "$$\\left(1.0 e^{2.236067977 t} + 1.82020932574262 \\cdot 10^{-18} i e^{2.236067977 t} - 23648.5098028835 \\sin{\\left (4.72771433726292 \\cdot 10^{-5} t \\right )} + 0.499999999999979 i \\sin{\\left (4.72771433726292 \\cdot 10^{-5} t \\right )} - 23648.5098028835 \\sin{\\left (4.72771433726332 \\cdot 10^{-5} t \\right )} - 0.500000000000022 i \\sin{\\left (4.72771433726332 \\cdot 10^{-5} t \\right )} - 0.499999999999979 \\cos{\\left (4.72771433726292 \\cdot 10^{-5} t \\right )} - 23648.5098028835 i \\cos{\\left (4.72771433726292 \\cdot 10^{-5} t \\right )} - 0.500000000000022 \\cos{\\left (4.72771433726332 \\cdot 10^{-5} t \\right )} + 23648.5098028835 i \\cos{\\left (4.72771433726332 \\cdot 10^{-5} t \\right )}\\right) e^{- 2.236067977 t}$$",
            "text/plain": [
              "⎛     2.236067977⋅t                           2.236067977⋅t                   \n",
              "⎝1.0⋅ℯ              + 1.82020932574262e-18⋅ⅈ⋅ℯ              - 23648.5098028835\n",
              "\n",
              "                                                                              \n",
              "⋅sin(4.72771433726292e-5⋅t) + 0.499999999999979⋅ⅈ⋅sin(4.72771433726292e-5⋅t) -\n",
              "\n",
              "                                                                              \n",
              " 23648.5098028835⋅sin(4.72771433726332e-5⋅t) - 0.500000000000022⋅ⅈ⋅sin(4.72771\n",
              "\n",
              "                                                                              \n",
              "433726332e-5⋅t) - 0.499999999999979⋅cos(4.72771433726292e-5⋅t) - 23648.5098028\n",
              "\n",
              "                                                                              \n",
              "835⋅ⅈ⋅cos(4.72771433726292e-5⋅t) - 0.500000000000022⋅cos(4.72771433726332e-5⋅t\n",
              "\n",
              "                                                 ⎞  -2.236067977⋅t\n",
              ") + 23648.5098028835⋅ⅈ⋅cos(4.72771433726332e-5⋅t)⎠⋅ℯ              "
            ]
          },
          "metadata": {
            "tags": []
          },
          "execution_count": 7
        }
      ]
    },
    {
      "cell_type": "code",
      "metadata": {
        "id": "Y6vkt70wUNVE",
        "colab_type": "code",
        "colab": {
          "base_uri": "https://localhost:8080/",
          "height": 393
        },
        "outputId": "f661e35b-36c1-4203-f824-68770dd779cc"
      },
      "source": [
        "sym.plot(y, (t, 0,5), xlabel='$t$', ylabel='$y(t)$');"
      ],
      "execution_count": 8,
      "outputs": [
        {
          "output_type": "stream",
          "text": [
            "/usr/local/lib/python3.6/dist-packages/sympy/plotting/plot.py:890: MatplotlibDeprecationWarning: \n",
            "The set_smart_bounds function was deprecated in Matplotlib 3.2 and will be removed two minor releases later.\n",
            "  self.ax.spines['left'].set_smart_bounds(True)\n",
            "/usr/local/lib/python3.6/dist-packages/sympy/plotting/plot.py:891: MatplotlibDeprecationWarning: \n",
            "The set_smart_bounds function was deprecated in Matplotlib 3.2 and will be removed two minor releases later.\n",
            "  self.ax.spines['bottom'].set_smart_bounds(False)\n"
          ],
          "name": "stderr"
        },
        {
          "output_type": "display_data",
          "data": {
            "image/png": "[encoded data removed]",
            "text/plain": [
              "<Figure size 432x288 with 1 Axes>"
            ]
          },
          "metadata": {
            "tags": [],
            "needs_background": "light"
          }
        }
      ]
    },
    {
      "cell_type": "markdown",
      "metadata": {
        "id": "lnou0C4YUYX0",
        "colab_type": "text"
      },
      "source": [
        "#2) x(t)= $\\delta(t)$\n",
        "$X(s)=1$\n",
        "\n",
        "\\begin{equation}\n",
        "Y(s) = \\frac{1}{LC s^2 + RC s + 1} \\cdot 1\n",
        "\\end{equation}\n",
        "\n",
        "### Subamortiguado \n",
        "$ 0< \\zeta < 1$\n",
        "\n",
        "La señal de salida $y(t)$ es calculada mediante la transformada inversa de Laplace de $Y(s)$ para los siguientes valores:  $L = 0.5$, $R = 1$, $C = 0.4$."
      ]
    },
    {
      "cell_type": "code",
      "metadata": {
        "id": "IN6YHWgYUdMp",
        "colab_type": "code",
        "colab": {
          "base_uri": "https://localhost:8080/",
          "height": 47
        },
        "outputId": "3d6ee07d-3ad0-4c3e-9e60-04daeaf0a4fb"
      },
      "source": [
        "RLC = {R: sym.Rational('1.5') ,  L: sym.Rational('1'), C: sym.Rational('.1')}\n",
        "\n",
        "y = sym.inverse_laplace_transform(Y.subs(RLC).subs(X, 1), s, t)\n",
        "y"
      ],
      "execution_count": 48,
      "outputs": [
        {
          "output_type": "execute_result",
          "data": {
            "image/png": "[encoded data removed]",
            "text/latex": "$$0.0794701986754967 \\sqrt{151} e^{- \\frac{3 t}{4}} \\sin{\\left (\\frac{\\sqrt{151} t}{4} \\right )}$$",
            "text/plain": [
              "                         -3⋅t             \n",
              "                         ─────            \n",
              "                           4      ⎛√151⋅t⎞\n",
              "0.0794701986754967⋅√151⋅ℯ     ⋅sin⎜──────⎟\n",
              "                                  ⎝  4   ⎠"
            ]
          },
          "metadata": {
            "tags": []
          },
          "execution_count": 48
        }
      ]
    },
    {
      "cell_type": "code",
      "metadata": {
        "id": "rkjF3pNcUdvl",
        "colab_type": "code",
        "colab": {
          "base_uri": "https://localhost:8080/",
          "height": 47
        },
        "outputId": "c26985d4-631b-4de9-8ec0-b2c0f1e5a700"
      },
      "source": [
        "y = y.simplify()\n",
        "y"
      ],
      "execution_count": 10,
      "outputs": [
        {
          "output_type": "execute_result",
          "data": {
            "image/png": "[encoded data removed]",
            "text/latex": "$$\\frac{40 \\sqrt{151}}{151} e^{- \\frac{3 t}{4}} \\sin{\\left (\\frac{\\sqrt{151} t}{4} \\right )}$$",
            "text/plain": [
              "         -3⋅t             \n",
              "         ─────            \n",
              "           4      ⎛√151⋅t⎞\n",
              "40⋅√151⋅ℯ     ⋅sin⎜──────⎟\n",
              "                  ⎝  4   ⎠\n",
              "──────────────────────────\n",
              "           151            "
            ]
          },
          "metadata": {
            "tags": []
          },
          "execution_count": 10
        }
      ]
    },
    {
      "cell_type": "code",
      "metadata": {
        "id": "jx3j5ddhUhOQ",
        "colab_type": "code",
        "colab": {
          "base_uri": "https://localhost:8080/",
          "height": 406
        },
        "outputId": "2100ff9c-5257-4e1f-d25c-0b3b3a520660"
      },
      "source": [
        "sym.plot(y, (t,0,5))"
      ],
      "execution_count": 49,
      "outputs": [
        {
          "output_type": "stream",
          "text": [
            "/usr/local/lib/python3.6/dist-packages/sympy/plotting/plot.py:890: MatplotlibDeprecationWarning: \n",
            "The set_smart_bounds function was deprecated in Matplotlib 3.2 and will be removed two minor releases later.\n",
            "  self.ax.spines['left'].set_smart_bounds(True)\n",
            "/usr/local/lib/python3.6/dist-packages/sympy/plotting/plot.py:891: MatplotlibDeprecationWarning: \n",
            "The set_smart_bounds function was deprecated in Matplotlib 3.2 and will be removed two minor releases later.\n",
            "  self.ax.spines['bottom'].set_smart_bounds(False)\n"
          ],
          "name": "stderr"
        },
        {
          "output_type": "display_data",
          "data": {
            "image/png": "[encoded data removed]",
            "text/plain": [
              "<Figure size 432x288 with 1 Axes>"
            ]
          },
          "metadata": {
            "tags": [],
            "needs_background": "light"
          }
        },
        {
          "output_type": "execute_result",
          "data": {
            "text/plain": [
              "<sympy.plotting.plot.Plot at 0x7f150a4b0668>"
            ]
          },
          "metadata": {
            "tags": []
          },
          "execution_count": 49
        }
      ]
    },
    {
      "cell_type": "markdown",
      "metadata": {
        "id": "CY_qhmwoUxBw",
        "colab_type": "text"
      },
      "source": [
        "## Sobreamortiguado\n",
        "$\\zeta>1$\n",
        "\n",
        "La señal de salida  y(t)  es calculada mediante la transformada inversa de Laplace de  Y(s)  para los siguientes valores:  L=0.5 ,  R=10 ,  C=0.4 ."
      ]
    },
    {
      "cell_type": "code",
      "metadata": {
        "id": "Hjaq6KlOUyRM",
        "colab_type": "code",
        "colab": {
          "base_uri": "https://localhost:8080/",
          "height": 47
        },
        "outputId": "2e83af9f-490f-4420-9338-6fd3a1cf49c8"
      },
      "source": [
        "RLC = {R: 10, L: sym.Rational('.5'), C: sym.Rational('.4')}\n",
        "\n",
        "y = sym.inverse_laplace_transform(Y.subs(RLC).subs(X, 1), s, t)\n",
        "y"
      ],
      "execution_count": 42,
      "outputs": [
        {
          "output_type": "execute_result",
          "data": {
            "image/png": "[encoded data removed]",
            "text/latex": "$$\\frac{\\sqrt{95}}{38} \\left(e^{\\sqrt{95} t} - 1\\right) \\left(e^{\\sqrt{95} t} + 1\\right) e^{- t \\left(\\sqrt{95} + 10\\right)}$$",
            "text/plain": [
              "    ⎛ √95⋅t    ⎞ ⎛ √95⋅t    ⎞  -t⋅(√95 + 10)\n",
              "√95⋅⎝ℯ      - 1⎠⋅⎝ℯ      + 1⎠⋅ℯ             \n",
              "────────────────────────────────────────────\n",
              "                     38                     "
            ]
          },
          "metadata": {
            "tags": []
          },
          "execution_count": 42
        }
      ]
    },
    {
      "cell_type": "code",
      "metadata": {
        "id": "iSUuR4d6U051",
        "colab_type": "code",
        "colab": {
          "base_uri": "https://localhost:8080/",
          "height": 393
        },
        "outputId": "ed540335-c703-4b1f-b4ad-7d7ce5e810bf"
      },
      "source": [
        "sym.plot(y, (t, 0, 0.2), xlabel='$t$', ylabel='$y(t)$');"
      ],
      "execution_count": 43,
      "outputs": [
        {
          "output_type": "stream",
          "text": [
            "/usr/local/lib/python3.6/dist-packages/sympy/plotting/plot.py:890: MatplotlibDeprecationWarning: \n",
            "The set_smart_bounds function was deprecated in Matplotlib 3.2 and will be removed two minor releases later.\n",
            "  self.ax.spines['left'].set_smart_bounds(True)\n",
            "/usr/local/lib/python3.6/dist-packages/sympy/plotting/plot.py:891: MatplotlibDeprecationWarning: \n",
            "The set_smart_bounds function was deprecated in Matplotlib 3.2 and will be removed two minor releases later.\n",
            "  self.ax.spines['bottom'].set_smart_bounds(False)\n"
          ],
          "name": "stderr"
        },
        {
          "output_type": "display_data",
          "data": {
            "image/png": "[encoded data removed]",
            "text/plain": [
              "<Figure size 432x288 with 1 Axes>"
            ]
          },
          "metadata": {
            "tags": [],
            "needs_background": "light"
          }
        }
      ]
    },
    {
      "cell_type": "markdown",
      "metadata": {
        "id": "Cu2241nAVAAH",
        "colab_type": "text"
      },
      "source": [
        "##Amortiguamiento crítico\n",
        "\n",
        "$\\zeta=1$\n",
        "\n",
        "La señal de salida $y(t)$ es calculada mediante la transformada inversa de Laplace de $Y(s)$ para los siguientes valores:  $L = 1$, $R = 2\\ \\ $, $C =1$."
      ]
    },
    {
      "cell_type": "code",
      "metadata": {
        "id": "0rrEjqqMVAyX",
        "colab_type": "code",
        "colab": {
          "base_uri": "https://localhost:8080/",
          "height": 38
        },
        "outputId": "52418d73-5e12-49ff-d84b-b36ab8d4fe1c"
      },
      "source": [
        "RLC = {R: 2, L: sym.Rational('1'), C: sym.Rational('1')}\n",
        "\n",
        "y = sym.inverse_laplace_transform(Y.subs(RLC).subs(X, 1), s, t)\n",
        "y"
      ],
      "execution_count": 14,
      "outputs": [
        {
          "output_type": "execute_result",
          "data": {
            "image/png": "[encoded data removed]",
            "text/latex": "$$t e^{- t}$$",
            "text/plain": [
              "   -t\n",
              "t⋅ℯ  "
            ]
          },
          "metadata": {
            "tags": []
          },
          "execution_count": 14
        }
      ]
    },
    {
      "cell_type": "code",
      "metadata": {
        "id": "5Opq1-fXVDZf",
        "colab_type": "code",
        "colab": {
          "base_uri": "https://localhost:8080/",
          "height": 393
        },
        "outputId": "d710aa37-f84f-4161-f4e4-c90d49c51c7d"
      },
      "source": [
        "sym.plot(y, (t, 0, 1.5), xlabel='$t$', ylabel='$y(t)$');"
      ],
      "execution_count": 15,
      "outputs": [
        {
          "output_type": "stream",
          "text": [
            "/usr/local/lib/python3.6/dist-packages/sympy/plotting/plot.py:890: MatplotlibDeprecationWarning: \n",
            "The set_smart_bounds function was deprecated in Matplotlib 3.2 and will be removed two minor releases later.\n",
            "  self.ax.spines['left'].set_smart_bounds(True)\n",
            "/usr/local/lib/python3.6/dist-packages/sympy/plotting/plot.py:891: MatplotlibDeprecationWarning: \n",
            "The set_smart_bounds function was deprecated in Matplotlib 3.2 and will be removed two minor releases later.\n",
            "  self.ax.spines['bottom'].set_smart_bounds(False)\n"
          ],
          "name": "stderr"
        },
        {
          "output_type": "display_data",
          "data": {
            "image/png": "[encoded data removed]",
            "text/plain": [
              "<Figure size 432x288 with 1 Axes>"
            ]
          },
          "metadata": {
            "tags": [],
            "needs_background": "light"
          }
        }
      ]
    },
    {
      "cell_type": "markdown",
      "metadata": {
        "id": "p5H8gUNzcDlu",
        "colab_type": "text"
      },
      "source": [
        "# RLC Paralelo:\n",
        "\n",
        "\\begin{equation}\n",
        "Y(s) = \\frac{1}{LC s^2 + \\frac{L}{R} s + 1} \\cdot X(s)\n",
        "\\end{equation}"
      ]
    },
    {
      "cell_type": "code",
      "metadata": {
        "id": "aF59_VQ3cqCt",
        "colab_type": "code",
        "colab": {
          "base_uri": "https://localhost:8080/",
          "height": 45
        },
        "outputId": "7429c429-6696-47f7-dba7-a5435f842ac2"
      },
      "source": [
        "%matplotlib inline\n",
        "import sympy as sym\n",
        "sym.init_printing()\n",
        "\n",
        "s = sym.symbols('s', complex=True)\n",
        "t, R, L, C = sym.symbols('t R L C', positive=True)\n",
        "X = sym.Function('X')(s)\n",
        "\n",
        "Y = 1/(L*C*s**2 + (R/C)*s + 1) * X\n",
        "Y"
      ],
      "execution_count": 52,
      "outputs": [
        {
          "output_type": "execute_result",
          "data": {
            "image/png": "[encoded data removed]",
            "text/latex": "$$\\frac{X{\\left (s \\right )}}{C L s^{2} + 1 + \\frac{R s}{C}}$$",
            "text/plain": [
              "      X(s)      \n",
              "────────────────\n",
              "     2       R⋅s\n",
              "C⋅L⋅s  + 1 + ───\n",
              "              C "
            ]
          },
          "metadata": {
            "tags": []
          },
          "execution_count": 52
        }
      ]
    },
    {
      "cell_type": "markdown",
      "metadata": {
        "id": "P7r1mPllgkCc",
        "colab_type": "text"
      },
      "source": [
        "## Subamortiguado \n",
        "$ 0< \\zeta < 1$"
      ]
    },
    {
      "cell_type": "code",
      "metadata": {
        "id": "B5xH7E4tcyYr",
        "colab_type": "code",
        "colab": {
          "base_uri": "https://localhost:8080/",
          "height": 47
        },
        "outputId": "ff6a0d66-9a09-45a8-d305-6468f601357b"
      },
      "source": [
        "RLC = {R: 1, L: sym.Rational('1'), C: sym.Rational('1')}\n",
        "\n",
        "y = sym.inverse_laplace_transform(Y.subs(RLC).subs(X, 1), s, t)\n",
        "y"
      ],
      "execution_count": 62,
      "outputs": [
        {
          "output_type": "execute_result",
          "data": {
            "image/png": "[encoded data removed]",
            "text/latex": "$$1.06666666666667 \\sqrt{3} e^{- \\frac{t}{2}} \\sin{\\left (\\frac{\\sqrt{3} t}{2} \\right )}$$",
            "text/plain": [
              "                     -t           \n",
              "                     ───          \n",
              "                      2     ⎛√3⋅t⎞\n",
              "1.06666666666667⋅√3⋅ℯ   ⋅sin⎜────⎟\n",
              "                            ⎝ 2  ⎠"
            ]
          },
          "metadata": {
            "tags": []
          },
          "execution_count": 62
        }
      ]
    },
    {
      "cell_type": "code",
      "metadata": {
        "id": "pc71pVpHc_U-",
        "colab_type": "code",
        "colab": {
          "base_uri": "https://localhost:8080/",
          "height": 393
        },
        "outputId": "56df8070-eaab-471f-d270-09bfab2a411b"
      },
      "source": [
        "sym.plot(y, (t, 0, 15), xlabel='$t$', ylabel='$y(t)$');"
      ],
      "execution_count": 63,
      "outputs": [
        {
          "output_type": "stream",
          "text": [
            "/usr/local/lib/python3.6/dist-packages/sympy/plotting/plot.py:890: MatplotlibDeprecationWarning: \n",
            "The set_smart_bounds function was deprecated in Matplotlib 3.2 and will be removed two minor releases later.\n",
            "  self.ax.spines['left'].set_smart_bounds(True)\n",
            "/usr/local/lib/python3.6/dist-packages/sympy/plotting/plot.py:891: MatplotlibDeprecationWarning: \n",
            "The set_smart_bounds function was deprecated in Matplotlib 3.2 and will be removed two minor releases later.\n",
            "  self.ax.spines['bottom'].set_smart_bounds(False)\n"
          ],
          "name": "stderr"
        },
        {
          "output_type": "display_data",
          "data": {
            "image/png": "[encoded data removed]",
            "text/plain": [
              "<Figure size 432x288 with 1 Axes>"
            ]
          },
          "metadata": {
            "tags": [],
            "needs_background": "light"
          }
        }
      ]
    },
    {
      "cell_type": "markdown",
      "metadata": {
        "id": "8nPeszCshJwS",
        "colab_type": "text"
      },
      "source": [
        "## Amortiguamiento crítico"
      ]
    },
    {
      "cell_type": "code",
      "metadata": {
        "id": "iB25iAA1dCcD",
        "colab_type": "code",
        "colab": {
          "base_uri": "https://localhost:8080/",
          "height": 47
        },
        "outputId": "99d29ba1-f90c-4973-85eb-cb776709eeb7"
      },
      "source": [
        "RLC = {R: 1, L: sym.Rational('.5'), C: sym.Rational('.4')}\n",
        "\n",
        "y = sym.inverse_laplace_transform(Y.subs(RLC).subs(X, 1), s, t)\n",
        "y"
      ],
      "execution_count": 64,
      "outputs": [
        {
          "output_type": "execute_result",
          "data": {
            "image/png": "[encoded data removed]",
            "text/latex": "$$\\frac{4 \\sqrt{545}}{109} \\left(e^{\\frac{\\sqrt{545} t}{2}} - 1\\right) e^{- \\frac{t}{4} \\left(\\sqrt{545} + 25\\right)}$$",
            "text/plain": [
              "       ⎛ √545⋅t    ⎞  -t⋅(√545 + 25) \n",
              "       ⎜ ──────    ⎟  ───────────────\n",
              "       ⎜   2       ⎟         4       \n",
              "4⋅√545⋅⎝ℯ       - 1⎠⋅ℯ               \n",
              "─────────────────────────────────────\n",
              "                 109                 "
            ]
          },
          "metadata": {
            "tags": []
          },
          "execution_count": 64
        }
      ]
    },
    {
      "cell_type": "code",
      "metadata": {
        "id": "BBw9eP7ddoQS",
        "colab_type": "code",
        "colab": {
          "base_uri": "https://localhost:8080/",
          "height": 393
        },
        "outputId": "f0793dc6-41d7-46f2-ea1e-2bbb5f834570"
      },
      "source": [
        "sym.plot(y, (t, 0, 1), xlabel='$t$', ylabel='$y(t)$');"
      ],
      "execution_count": 65,
      "outputs": [
        {
          "output_type": "stream",
          "text": [
            "/usr/local/lib/python3.6/dist-packages/sympy/plotting/plot.py:890: MatplotlibDeprecationWarning: \n",
            "The set_smart_bounds function was deprecated in Matplotlib 3.2 and will be removed two minor releases later.\n",
            "  self.ax.spines['left'].set_smart_bounds(True)\n",
            "/usr/local/lib/python3.6/dist-packages/sympy/plotting/plot.py:891: MatplotlibDeprecationWarning: \n",
            "The set_smart_bounds function was deprecated in Matplotlib 3.2 and will be removed two minor releases later.\n",
            "  self.ax.spines['bottom'].set_smart_bounds(False)\n"
          ],
          "name": "stderr"
        },
        {
          "output_type": "display_data",
          "data": {
            "image/png": "[encoded data removed]",
            "text/plain": [
              "<Figure size 432x288 with 1 Axes>"
            ]
          },
          "metadata": {
            "tags": [],
            "needs_background": "light"
          }
        }
      ]
    },
    {
      "cell_type": "markdown",
      "metadata": {
        "id": "pRILJhFchRrt",
        "colab_type": "text"
      },
      "source": [
        "### Sobreamortiguado"
      ]
    },
    {
      "cell_type": "code",
      "metadata": {
        "id": "b7PWd62ndruk",
        "colab_type": "code",
        "colab": {
          "base_uri": "https://localhost:8080/",
          "height": 41
        },
        "outputId": "99811e37-36eb-4543-f51b-6c3099a0d60e"
      },
      "source": [
        "RLC = {R: sym.Rational('.2'), L: sym.Rational('.4'), C: sym.Rational('.3')}\n",
        "\n",
        "y = sym.inverse_laplace_transform(Y.subs(RLC).subs(X, 1), s, t)\n",
        "y"
      ],
      "execution_count": 87,
      "outputs": [
        {
          "output_type": "execute_result",
          "data": {
            "image/png": "[encoded data removed]",
            "text/latex": "$$\\frac{15 \\sqrt{2}}{2} e^{- \\frac{25 t}{9}} \\sin{\\left (\\frac{5 t}{9} \\sqrt{2} \\right )}$$",
            "text/plain": [
              "       -25⋅t             \n",
              "       ──────            \n",
              "         9       ⎛5⋅√2⋅t⎞\n",
              "15⋅√2⋅ℯ      ⋅sin⎜──────⎟\n",
              "                 ⎝  9   ⎠\n",
              "─────────────────────────\n",
              "            2            "
            ]
          },
          "metadata": {
            "tags": []
          },
          "execution_count": 87
        }
      ]
    },
    {
      "cell_type": "code",
      "metadata": {
        "id": "BmMro55Il1dj",
        "colab_type": "code",
        "colab": {
          "base_uri": "https://localhost:8080/",
          "height": 393
        },
        "outputId": "f1068fe4-85a9-402d-9033-fa5179f21142"
      },
      "source": [
        "sym.plot(y, (t, 0, 0.2), xlabel='$t$', ylabel='$y(t)$');"
      ],
      "execution_count": 88,
      "outputs": [
        {
          "output_type": "stream",
          "text": [
            "/usr/local/lib/python3.6/dist-packages/sympy/plotting/plot.py:890: MatplotlibDeprecationWarning: \n",
            "The set_smart_bounds function was deprecated in Matplotlib 3.2 and will be removed two minor releases later.\n",
            "  self.ax.spines['left'].set_smart_bounds(True)\n",
            "/usr/local/lib/python3.6/dist-packages/sympy/plotting/plot.py:891: MatplotlibDeprecationWarning: \n",
            "The set_smart_bounds function was deprecated in Matplotlib 3.2 and will be removed two minor releases later.\n",
            "  self.ax.spines['bottom'].set_smart_bounds(False)\n"
          ],
          "name": "stderr"
        },
        {
          "output_type": "display_data",
          "data": {
            "image/png": "[encoded data removed]",
            "text/plain": [
              "<Figure size 432x288 with 1 Axes>"
            ]
          },
          "metadata": {
            "tags": [],
            "needs_background": "light"
          }
        }
      ]
    },
    {
      "cell_type": "markdown",
      "metadata": {
        "id": "7buZGBOYnqUy",
        "colab_type": "text"
      },
      "source": [
        "# 3.6 PDF"
      ]
    },
    {
      "cell_type": "markdown",
      "metadata": {
        "id": "vjTTPfBGnyc7",
        "colab_type": "text"
      },
      "source": [
        "#Transformada Z"
      ]
    },
    {
      "cell_type": "markdown",
      "metadata": {
        "id": "veaNJa1mn5mo",
        "colab_type": "text"
      },
      "source": [
        "## 1.\n",
        " Consulte en que consiste la transformada Z. Explique las se- ´\n",
        "mejanzas y diferencias entre la serie de Fourier, transformada de Fourier en tiempo continuo y discreto, transformada\n",
        "de Laplace y la transformada Z.\n",
        "\n",
        "\n"
      ]
    },
    {
      "cell_type": "markdown",
      "metadata": {
        "id": "y-XQ3Zl6oK1p",
        "colab_type": "text"
      },
      "source": [
        "### Solución\n",
        "En matemáticas y en el procesamiento de señales, la transformada Z convierte\n",
        "una señal real o compleja definida en el dominio del tiempo discreto en una representación en\n",
        "el dominio de la frecuencia compleja.\n",
        "\n",
        "El nombre de transformada Z procede de la variable del dominio, al igual que se podría llamar\n",
        "\"Transformada S\" a la Transformada de Laplace. Un nombre más adecuado para la TZ podría haber\n",
        "sido \"Transformada de Laurent\", ya que está basada en la serie de Laurent. La TZ es a las señales\n",
        "de tiempo discreto lo mismo que Laplace a las señales de tiempo continuo.\n",
        "\n",
        "\\begin{equation}\n",
        " X(z)= Z \\ [ x[n] ] =  \\sum_{n= -\\infty}^{\\infty} x[n] z^{-n}\n",
        "\\end{equation}\n",
        "\n",
        "La TZ es un ejemplo más de Transformada, como lo son la Transformada de Fourier para el caso de\n",
        "tiempo discreto y las Transformada de Fourier y Laplace para el caso del tiempo continuo. La\n",
        "importancia del modelo de la Transformada Z radica en que permite reducir Ecuaciones en\n",
        "Diferencias o ecuaciones recursivas con coeficientes constantes a Ecuaciones Algebraicas lineales\n"
      ]
    },
    {
      "cell_type": "markdown",
      "metadata": {
        "id": "njcUgt1_pxFE",
        "colab_type": "text"
      },
      "source": [
        "## 2. \n",
        "Encuentra la transformada Z para las siguientes senales:"
      ]
    },
    {
      "cell_type": "markdown",
      "metadata": {
        "id": "CDXuBDQnp1dv",
        "colab_type": "text"
      },
      "source": [
        "### i) $x[n]= -a^{n} u[-n-1] $"
      ]
    },
    {
      "cell_type": "markdown",
      "metadata": {
        "id": "QKxCBHOxqgmw",
        "colab_type": "text"
      },
      "source": [
        "### ii) $x[n]= a^{n} $\n",
        "$para 0 \\ \\leq n \\ \\leq \\ N-1 \\ y \\ \\ a>0$"
      ]
    },
    {
      "cell_type": "markdown",
      "metadata": {
        "id": "1t4FFSGVrNL6",
        "colab_type": "text"
      },
      "source": [
        "### iii) $x[n] = [5, 3, −2†, 0, 4, −3] $,\n",
        "donde n = 0 para $x[n]†.$\n"
      ]
    },
    {
      "cell_type": "markdown",
      "metadata": {
        "id": "6Hl98nX6r0jy",
        "colab_type": "text"
      },
      "source": [
        "## 3\n",
        "Consulte en que consisten los filtros de respuesta impulso finita (Finite impulse response - FIR), y los filtros de respuesta\n",
        "impulso infinita (infinite impulse response - IIR). Realice un\n",
        "paralelo entre los FIR, IIR y los sistemas con y sin realimentacion. "
      ]
    },
    {
      "cell_type": "markdown",
      "metadata": {
        "id": "tLE8AtaJsEj7",
        "colab_type": "text"
      },
      "source": [
        "## 4 \n",
        "Ecualizador de audio. Implemente en python un ecualizador\n",
        "de audio para archivos mp3 utilizando filtros IIR. El usuario podra ingresar la url del archivo y escoger las bandas y ganancias de ecualizacion, visualizar el espectro del audio original y filtrado, y descargar los audios en mp3."
      ]
    }
  ]
}