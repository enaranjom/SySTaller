{
  "nbformat": 4,
  "nbformat_minor": 0,
  "metadata": {
    "colab": {
      "name": "Taller3_EstebanNaranjoM.ipynb",
      "provenance": [],
      "authorship_tag": "ABX9TyPDmRQHN9Ze4NGLQp5n1LbC",
      "include_colab_link": true
    },
    "kernelspec": {
      "name": "python3",
      "display_name": "Python 3"
    }
  },
  "cells": [
    {
      "cell_type": "markdown",
      "metadata": {
        "id": "view-in-github",
        "colab_type": "text"
      },
      "source": [
        "<a href=\"https://colab.research.google.com/github/enaranjom/SySTalleres_EstebanN/blob/master/Taller3_EstebanNaranjoM.ipynb\" target=\"_parent\"><img src=\"https://colab.research.google.com/assets/colab-badge.svg\" alt=\"Open In Colab\"/></a>"
      ]
    },
    {
      "cell_type": "markdown",
      "metadata": {
        "id": "Mv9WpWspn7Ej",
        "colab_type": "text"
      },
      "source": [
        "# Esteban Naranjo Morales\n",
        "## Código: 817039\n",
        "## Señales y Sistemas/ Taller 3"
      ]
    },
    {
      "cell_type": "markdown",
      "metadata": {
        "id": "LGtF8uLTvjbr",
        "colab_type": "text"
      },
      "source": [
        "# 2. Modelado y simulación de sistemas en el tiempo\n",
        "\n",
        "Estudiar y realizar los ejercicios propuestos (si es el caso)\n",
        "\n"
      ]
    },
    {
      "cell_type": "markdown",
      "metadata": {
        "id": "Lws21z4lv6tn",
        "colab_type": "text"
      },
      "source": [
        "#### 2.1\n",
        "Respuesta en el tiempo de sistemas lineales e invariantes en el tiempo mediante ecuaciones diferenciales ordinarias: ver\n",
        "cuadernos Respuesta al impulso, Respuesta al escalon. \n",
        "\n",
        "**Ejercicio**\n",
        "## Respuesta al impulso\n",
        "* Compare la señal de salida obtenida al resolver la EDO con la obtenida mediante la convolución. Son iguales?\n",
        "\n",
        "La respuesta del sistema se calcula para la señal de entrada $x(t)=e^{-2t}\\cdot\\epsilon(t)$ cuando\n",
        "\n",
        "Primero, se define la EDO en `SymPy`\n",
        "\n",
        "\\begin{equation}\n",
        "\\frac{d}{dt} y(t)+ y(t) = x(t)\n",
        "\\end{equation}"
      ]
    },
    {
      "cell_type": "code",
      "metadata": {
        "id": "Sa_FcBqmyprO",
        "colab_type": "code",
        "colab": {
          "base_uri": "https://localhost:8080/",
          "height": 38
        },
        "outputId": "2c230710-ea47-4aa4-eefb-cbd796bebf5f"
      },
      "source": [
        "%matplotlib inline\n",
        "import sympy as sym\n",
        "sym.init_printing()\n",
        "\n",
        "t = sym.symbols('t', real=True)\n",
        "x = sym.Function('x')(t)\n",
        "y = sym.Function('y')(t)\n",
        "\n",
        "ode = sym.Eq(y + y.diff(t) , x)\n",
        "ode"
      ],
      "execution_count": 3,
      "outputs": [
        {
          "output_type": "execute_result",
          "data": {
            "image/png": "[encoded data removed]",
            "text/latex": "$$y{\\left (t \\right )} + \\frac{d}{d t} y{\\left (t \\right )} = x{\\left (t \\right )}$$",
            "text/plain": [
              "       d              \n",
              "y(t) + ──(y(t)) = x(t)\n",
              "       dt             "
            ]
          },
          "metadata": {
            "tags": []
          },
          "execution_count": 3
        }
      ]
    },
    {
      "cell_type": "markdown",
      "metadata": {
        "id": "W3flGdoIzkUZ",
        "colab_type": "text"
      },
      "source": [
        "La EDO se resuelve para la señal de entrada dada con el fin de calcular la señal de salida. La constante de integración se calcula de forma que la solución cumpla las condiciones iniciales."
      ]
    },
    {
      "cell_type": "code",
      "metadata": {
        "id": "TO0GzGpCzpPX",
        "colab_type": "code",
        "colab": {
          "base_uri": "https://localhost:8080/",
          "height": 38
        },
        "outputId": "86b4ba4e-3236-42af-feb4-68f0a5b7f151"
      },
      "source": [
        "solution = sym.dsolve(ode.subs(x, sym.exp(-2*t)*sym.Heaviside(t)))\n",
        "integration_constants = sym.solve( (solution.rhs.limit(t, 0, '-'), solution.rhs.diff(t).limit(t, 0, '-')), 'C1' )\n",
        "y1 = solution.subs(integration_constants)\n",
        "y1"
      ],
      "execution_count": 4,
      "outputs": [
        {
          "output_type": "execute_result",
          "data": {
            "image/png": "[encoded data removed]",
            "text/latex": "$$y{\\left (t \\right )} = \\left(1 - e^{- t}\\right) e^{- t} \\theta\\left(t\\right)$$",
            "text/plain": [
              "       ⎛     -t⎞  -t             \n",
              "y(t) = ⎝1 - ℯ  ⎠⋅ℯ  ⋅Heaviside(t)"
            ]
          },
          "metadata": {
            "tags": []
          },
          "execution_count": 4
        }
      ]
    },
    {
      "cell_type": "markdown",
      "metadata": {
        "id": "tzA9G7ubzw65",
        "colab_type": "text"
      },
      "source": [
        "Se grafica la solución de la EDO "
      ]
    },
    {
      "cell_type": "code",
      "metadata": {
        "id": "f5JDWbdRz1KY",
        "colab_type": "code",
        "colab": {
          "base_uri": "https://localhost:8080/",
          "height": 391
        },
        "outputId": "780e31d5-fd7f-4022-df9d-7e2ca8bd4995"
      },
      "source": [
        "sym.plot(y1.rhs, (t,-1,10), ylabel=r'$y(t)$');"
      ],
      "execution_count": 5,
      "outputs": [
        {
          "output_type": "stream",
          "text": [
            "/usr/local/lib/python3.6/dist-packages/sympy/plotting/plot.py:890: MatplotlibDeprecationWarning: \n",
            "The set_smart_bounds function was deprecated in Matplotlib 3.2 and will be removed two minor releases later.\n",
            "  self.ax.spines['left'].set_smart_bounds(True)\n",
            "/usr/local/lib/python3.6/dist-packages/sympy/plotting/plot.py:891: MatplotlibDeprecationWarning: \n",
            "The set_smart_bounds function was deprecated in Matplotlib 3.2 and will be removed two minor releases later.\n",
            "  self.ax.spines['bottom'].set_smart_bounds(False)\n"
          ],
          "name": "stderr"
        },
        {
          "output_type": "display_data",
          "data": {
            "image/png": "[encoded data removed]",
            "text/plain": [
              "<Figure size 432x288 with 1 Axes>"
            ]
          },
          "metadata": {
            "tags": [],
            "needs_background": "light"
          }
        }
      ]
    },
    {
      "cell_type": "markdown",
      "metadata": {
        "id": "mt2PI7VB0Pzr",
        "colab_type": "text"
      },
      "source": [
        "La respuesta de impulso $h(t)$ se calcula resolviendo la EDO para un impulso de Dirac como señal de entrada, $x(t)=\\delta(t)$"
      ]
    },
    {
      "cell_type": "code",
      "metadata": {
        "id": "DIEvXWxS0Smc",
        "colab_type": "code",
        "colab": {
          "base_uri": "https://localhost:8080/",
          "height": 38
        },
        "outputId": "afe3fff6-0055-4781-b974-2f47505003a4"
      },
      "source": [
        "h = sym.Function('h')(t)\n",
        "solution2 = sym.dsolve(ode.subs(x, sym.DiracDelta(t)).subs(y, h))\n",
        "integration_constants = sym.solve( (solution2.rhs.limit(t, 0, '-'), solution2.rhs.diff(t).limit(t, 0, '-')), 'C1' )\n",
        "h = solution2.subs(integration_constants)\n",
        "h"
      ],
      "execution_count": 6,
      "outputs": [
        {
          "output_type": "execute_result",
          "data": {
            "image/png": "[encoded data removed]",
            "text/latex": "$$h{\\left (t \\right )} = e^{- t} \\theta\\left(t\\right)$$",
            "text/plain": [
              "        -t             \n",
              "h(t) = ℯ  ⋅Heaviside(t)"
            ]
          },
          "metadata": {
            "tags": []
          },
          "execution_count": 6
        }
      ]
    },
    {
      "cell_type": "markdown",
      "metadata": {
        "id": "uJOoBgha2iOD",
        "colab_type": "text"
      },
      "source": [
        "Como alternativa a la solución explícita de la EDO, la respuesta del sistema se calcula evaluando la convolución $y(t)=x(t)*h(t)$. Dado que `SymPy` no puede manejar la función Heaviside de manera adecuada en las integrales, la integral de convolución se simplifica primero. Tanto la señal de entrada $x(t)$ como la respuesta de impulso $h(t)$ son señales causales. Por lo tanto, la integral de convolución resulta en\n",
        "\n",
        "\\begin{equation}\n",
        "y(t) = \\int_{0}^{t} x(\\tau) \\cdot h(t - \\tau) \\; d\\tau\n",
        "\\end{equation}\n",
        "\n",
        "Para $t\\geq0$. Observe que $y(t)=0$ para $t<0$."
      ]
    },
    {
      "cell_type": "code",
      "metadata": {
        "id": "IZXCO7SOyZHx",
        "colab_type": "code",
        "colab": {
          "base_uri": "https://localhost:8080/",
          "height": 38
        },
        "outputId": "c699c455-278f-453c-a635-59d74e84acef"
      },
      "source": [
        "tau = sym.symbols('tau', real=True)\n",
        "\n",
        "y2 = sym.integrate(sym.exp(-2*tau) * h.rhs.subs(sym.Heaviside(t), 1).subs(t, t-tau), (tau, 0, t))\n",
        "y2"
      ],
      "execution_count": 7,
      "outputs": [
        {
          "output_type": "execute_result",
          "data": {
            "image/png": "[encoded data removed]",
            "text/latex": "$$e^{- t} - e^{- 2 t}$$",
            "text/plain": [
              " -t    -2⋅t\n",
              "ℯ   - ℯ    "
            ]
          },
          "metadata": {
            "tags": []
          },
          "execution_count": 7
        }
      ]
    },
    {
      "cell_type": "markdown",
      "metadata": {
        "id": "ysDgd5nc2ofj",
        "colab_type": "text"
      },
      "source": [
        "Se grafica la señal de salida obtenida mediante el proceso de convolución"
      ]
    },
    {
      "cell_type": "code",
      "metadata": {
        "id": "ifjpchn3yiNy",
        "colab_type": "code",
        "colab": {
          "base_uri": "https://localhost:8080/",
          "height": 391
        },
        "outputId": "feb5bd99-e9ef-4a5f-8cc4-ff79c9ddb613"
      },
      "source": [
        "sym.plot(y2, (t,-1,10), ylabel=r'$y(t)$');"
      ],
      "execution_count": 9,
      "outputs": [
        {
          "output_type": "stream",
          "text": [
            "/usr/local/lib/python3.6/dist-packages/sympy/plotting/plot.py:890: MatplotlibDeprecationWarning: \n",
            "The set_smart_bounds function was deprecated in Matplotlib 3.2 and will be removed two minor releases later.\n",
            "  self.ax.spines['left'].set_smart_bounds(True)\n",
            "/usr/local/lib/python3.6/dist-packages/sympy/plotting/plot.py:891: MatplotlibDeprecationWarning: \n",
            "The set_smart_bounds function was deprecated in Matplotlib 3.2 and will be removed two minor releases later.\n",
            "  self.ax.spines['bottom'].set_smart_bounds(False)\n"
          ],
          "name": "stderr"
        },
        {
          "output_type": "display_data",
          "data": {
            "image/png": "[encoded data removed]",
            "text/plain": [
              "<Figure size 432x288 with 1 Axes>"
            ]
          },
          "metadata": {
            "tags": [],
            "needs_background": "light"
          }
        }
      ]
    },
    {
      "cell_type": "code",
      "metadata": {
        "id": "QGIh3NFe3O88",
        "colab_type": "code",
        "colab": {
          "base_uri": "https://localhost:8080/",
          "height": 391
        },
        "outputId": "1940969e-647d-4c1f-8497-cf9b46891787"
      },
      "source": [
        "sym.plot(y1.rhs, (t,-1,10), ylabel=r'$y(t)$');"
      ],
      "execution_count": 10,
      "outputs": [
        {
          "output_type": "stream",
          "text": [
            "/usr/local/lib/python3.6/dist-packages/sympy/plotting/plot.py:890: MatplotlibDeprecationWarning: \n",
            "The set_smart_bounds function was deprecated in Matplotlib 3.2 and will be removed two minor releases later.\n",
            "  self.ax.spines['left'].set_smart_bounds(True)\n",
            "/usr/local/lib/python3.6/dist-packages/sympy/plotting/plot.py:891: MatplotlibDeprecationWarning: \n",
            "The set_smart_bounds function was deprecated in Matplotlib 3.2 and will be removed two minor releases later.\n",
            "  self.ax.spines['bottom'].set_smart_bounds(False)\n"
          ],
          "name": "stderr"
        },
        {
          "output_type": "display_data",
          "data": {
            "image/png": "[encoded data removed]",
            "text/plain": [
              "<Figure size 432x288 with 1 Axes>"
            ]
          },
          "metadata": {
            "tags": [],
            "needs_background": "light"
          }
        }
      ]
    },
    {
      "cell_type": "markdown",
      "metadata": {
        "id": "lkqVnO0q230d",
        "colab_type": "text"
      },
      "source": [
        "Se puede observar que la señal de salida de la ecuación diferencial y la señal de salida de la convolución si son iguales"
      ]
    },
    {
      "cell_type": "markdown",
      "metadata": {
        "id": "X3LF6Juw5H6D",
        "colab_type": "text"
      },
      "source": [
        "* Compruebe la solución $h(t)$ de la EDO cuando $x(t)=\\delta(t)$ de manera manual. Tener en cuenta que $\\frac{d}{dt} \\epsilon(t) = \\delta(t)$.\n"
      ]
    },
    {
      "cell_type": "markdown",
      "metadata": {
        "id": "XtaJ3H9P5KVl",
        "colab_type": "text"
      },
      "source": [
        "* Comprobar la solución de la integral de convolución de manera manual. Tener en cuenta las funciones Heaviside.\n"
      ]
    },
    {
      "cell_type": "markdown",
      "metadata": {
        "id": "rLBfqvbg9pT7",
        "colab_type": "text"
      },
      "source": [
        "###2.2\n",
        " Relaciones entre respuesta al impulso, funcion de transferencia y autofunciones: ver cuadernos Autofunciones.\n"
      ]
    },
    {
      "cell_type": "markdown",
      "metadata": {
        "id": "coN3rQUHBxdn",
        "colab_type": "text"
      },
      "source": [
        "Se considera un SLTI cuya relación entrada/salida viene dada por la siguiente ecuación diferencial ordinaria (EDO) con coeficientes constantes\n",
        "\n",
        "\\begin{equation}\n",
        "a_0 y(t) + a_1 \\frac{d y(t)}{dt} + a_2 \\frac{d^2 y(t)}{dt^2} = x(t)\n",
        "\\end{equation}\n",
        "\n",
        "Con $a_i \\in \\mathbb{R} \\quad \\forall i$. En el resto, la señal de salida $y(t)$ del sistema se calcula mediante la solución explícita de la EDO para $x(t)=e^{st}$ como señal de entrada. Las constantes de integración se descartan para facilitar la ilustración."
      ]
    },
    {
      "cell_type": "code",
      "metadata": {
        "id": "QksTA18kBd3V",
        "colab_type": "code",
        "colab": {
          "base_uri": "https://localhost:8080/",
          "height": 42
        },
        "outputId": "c97cdfd8-7c8b-4831-869a-a5a07153435a"
      },
      "source": [
        "%matplotlib inline\n",
        "import sympy as sym\n",
        "sym.init_printing()\n",
        "\n",
        "t, s, a0, a1, a2 = sym.symbols('t s a:3')\n",
        "x = sym.exp(s * t)\n",
        "y = sym.Function('y')(t)\n",
        "\n",
        "ode = sym.Eq(a0*y + a1*y.diff(t) + a2*y.diff(t,2), x)\n",
        "solution = sym.dsolve(ode)\n",
        "solution.subs({'C1': 0, 'C2' : 0})"
      ],
      "execution_count": 11,
      "outputs": [
        {
          "output_type": "execute_result",
          "data": {
            "image/png": "[encoded data removed]",
            "text/latex": "$$y{\\left (t \\right )} = \\frac{e^{s t}}{a_{0} + a_{1} s + a_{2} s^{2}}$$",
            "text/plain": [
              "               s⋅t      \n",
              "              ℯ         \n",
              "y(t) = ─────────────────\n",
              "                       2\n",
              "       a₀ + a₁⋅s + a₂⋅s "
            ]
          },
          "metadata": {
            "tags": []
          },
          "execution_count": 11
        }
      ]
    },
    {
      "cell_type": "markdown",
      "metadata": {
        "id": "dTdPBGvzB2rY",
        "colab_type": "text"
      },
      "source": [
        "**Ejercicios**\n",
        "\n",
        "* Introduzca $x(t)=e^{s t} $ y $y(t)=\\lambda \\cdot e^{st}$ en la EDO y calcule manualmente el valor propio $\\lambda$. ¿Cómo se relaciona el resultado con el resultado anterior al resolver la EDO?\n",
        "* Puede generalizar sus resultados a una EDO de orden arbitrario?"
      ]
    },
    {
      "cell_type": "markdown",
      "metadata": {
        "id": "Lyy34o8bCPW5",
        "colab_type": "text"
      },
      "source": [
        "\\begin{equation}\n",
        "a_0 y(t) + a_1 \\frac{d y(t)}{dt} + a_2 \\frac{d^2 y(t)}{dt^2} = x(t)\n",
        "\\end{equation}\n",
        "\n",
        "si:  $x(t)=e^{s t} $ y $y(t)=\\lambda \\cdot e^{st}$"
      ]
    },
    {
      "cell_type": "code",
      "metadata": {
        "id": "3XC0myTXGImm",
        "colab_type": "code",
        "colab": {}
      },
      "source": [
        "x = sym.exp(s * t)\n",
        "y2 =sym.exp(s * t)\n",
        "ode2 = sym.Eq(a0*y2 + a1*y2.diff(t) + a2*y2.diff(t,2), x)\n",
        "solution = sym.dsolve(ode)\n",
        "solution.subs({'C1': 0, 'C2' : 0})"
      ],
      "execution_count": null,
      "outputs": []
    },
    {
      "cell_type": "markdown",
      "metadata": {
        "id": "MwvWvm2gHOfY",
        "colab_type": "text"
      },
      "source": [
        "#2.3\n",
        " Ejemplos de modelado de sistemas lineales e invariantes en\n",
        "el tiempo mediante ecuaciones diferenciales ordinarias: ver\n",
        "cuadernos Red eléctrica, Péndulo elástico\n",
        "\n",
        "### péndulo elástico\n",
        "\n",
        "**Ejercicio**\n",
        "\n",
        "* Cambie el coeficiente de amortiguamiento $c$ del péndulo elástico e indique cómo cambia la magnitud y la fase de la función de transferencia $H(j\\omega)$.\n",
        "\n",
        "* Qué relación hay entre la frecuencia de oscilación y las frecuencias de resonancia?\n"
      ]
    },
    {
      "cell_type": "markdown",
      "metadata": {
        "id": "9envKiPFIUPm",
        "colab_type": "text"
      },
      "source": [
        "**Ejercicio**\n",
        "\n",
        "* Calcule y grafique el desplazamiento para valores dados de $m_\\text{I}$ y $r$.\n",
        "\n",
        "* ¿Para qué frecuencias angulares $\\omega$ se tiene una mayor magnitud del desplazamiento? ¿Cómo es la relación de fase entre la fuerza externa $F_\\text{E}(t)$ y el desplazamiento $y(t)$ en estas frecuencias?\n",
        "\n",
        "* ¿Cómo deben elegirse las frecuencias de resonancia $\\omega_0$ del péndulo de resorte para obtener un buen aislamiento de vibraciones para una máquina que gira con frecuencia angular $\\omega$? ¿Cómo es la relación de fase entre la fuerza externa $F_\\text{E}(t) $ y el desplazamiento $y(t)$ a esta frecuencia?"
      ]
    },
    {
      "cell_type": "markdown",
      "metadata": {
        "id": "EECZICIgolIc",
        "colab_type": "text"
      },
      "source": [
        "# 3. Transformada de Laplace\n",
        "\n",
        "Para resolver los siguientes ejercicios puede apoyarse de los cuadernos del repositorio github del curso, seccion 4: Transformada de Laplace.\n",
        "\n",
        "1. Demuestre las siguientes propiedades (sin utilizar tablas de\n",
        "propiedades):\n",
        "\n",
        "#i) \n",
        "\\begin{equation}\n",
        "\\mathcal{L} \\ ({x(t−t_0)}) = e^{st_o} X(s)\n",
        "\\end{equation}\n",
        "\n",
        "\\begin{equation}\n",
        "= \\int_{0}^{\\infty} x(t-t_0) \\, e^{- s t} \\; dt\n",
        "\\end{equation}\n",
        "$t-t_0=t'\\    $    $ t=t'+t_0 $\n",
        "\n",
        "$dt=dt´$\n",
        "\\begin{equation}\n",
        "= \\int_{0}^{\\infty} x(t') \\, e^{- s (t'+t_0)}\\; dt'\n",
        "\\end{equation}\n",
        "\\begin{equation}\n",
        "= \\int_{0}^{\\infty} x(t') \\, e^{- st'+st_0}\\; dt' \\; = e^{-st_0} \\int_{0}^{\\infty} x(t') \\, e^{- st'} \\; dt'\n",
        "\\end{equation}\n",
        "$t'=t$\n",
        "\\begin{equation}\n",
        "= e^{-st_0} X(s)\n",
        "\\end{equation}\n",
        "\n",
        "\n",
        "\n",
        "\n"
      ]
    },
    {
      "cell_type": "markdown",
      "metadata": {
        "id": "g0YaqzB9uEQZ",
        "colab_type": "text"
      },
      "source": [
        "#ii) \n",
        "\\begin{equation}\n",
        "\\mathcal{L} \\ ({x(at)}) = \\frac{1}{|a|} X(\\frac{s}{a})\n",
        "\\end{equation}\n",
        "\\begin{equation}\n",
        "= \\int_{0}^{\\infty} x(at) \\, e^{- s t} \\; dt\n",
        "\\end{equation}\n",
        "$at=t'\\    $    $ \\; t=t'/a $\n",
        "\n",
        "$adt=dt´$\n",
        "\\begin{equation}\n",
        "= \\frac{1}{|a|} \\int_{0}^{\\infty} x(t') \\, e^{-s \\frac{ t'}{a}} \\; dt' \\;  \\;  \\;  \\; a>=0\n",
        "\\end{equation}\n",
        "\\begin{equation}\n",
        "= \\frac{1}{|a|} X(\\frac{s}{a})\n",
        "\\end{equation}\n"
      ]
    },
    {
      "cell_type": "markdown",
      "metadata": {
        "id": "oEF0N8_Xw9dz",
        "colab_type": "text"
      },
      "source": [
        "# iii) \n",
        "\\begin{equation}\n",
        "\\mathcal{L} (\\frac {d_xt}{t}) = s X(s)\n",
        "\\end{equation}\n",
        "\n",
        "\\begin{equation}\n",
        "= \\int_{0}^{\\infty} x'(t) \\, e^{- s t} \\; dt\n",
        "\\end{equation}\n",
        "\n",
        "$u=e^{-st}\\ $    $ \\;du=-s\\ e^{-st} dt$\n",
        "\n",
        "$dv=x'(t) \\ $    $ v=x(t)$ \n",
        "\n",
        "\\begin{equation}\n",
        "= e^{-st} x(t) \\Big|_{0}^{\\infty} - \\int_{0}^{\\infty} x(t) (-s\\ e^{-st}) \\; dt\n",
        "\\end{equation}\n",
        "\n",
        "\\begin{equation}\n",
        "= s\\int_{0}^{\\infty} x(t) \\ e^{-st} \\; dt + \\lim_{t-> \\infty} e^{-st} x(t) \\, \\ -\\ \\ x(0)\n",
        "\\end{equation}\n",
        "\n",
        "\\begin{equation}\n",
        "= s X(s)\n",
        "\\end{equation}\n",
        "\n",
        "\n"
      ]
    },
    {
      "cell_type": "markdown",
      "metadata": {
        "id": "nGQPwuB24cgk",
        "colab_type": "text"
      },
      "source": [
        "#iv)\n",
        "\\begin{equation}\n",
        "\\mathcal{L} \\ (x(t) *  y(t)) =  X(s) Y(s)\n",
        "\\end{equation}\n",
        "\n",
        "\\begin{equation}\n",
        "= \\int_{0}^{\\infty} x(t) *  y(t) \\, e^{- s t} \\; dt\n",
        "\\end{equation}\n",
        "\n",
        "\\begin{equation}\n",
        "= \\int_{0}^{\\infty} \\Big(\\int_{0}^{\\infty} x(\\tau)  y(t-\\tau) d\\tau \\Big)\\, e^{- s t} \\; dt\n",
        "\\end{equation}\n",
        "\n",
        "\\begin{equation}\n",
        "= \\int_{0}^{\\infty} \\int_{0}^{\\infty} x(\\tau)  y(t-\\tau)  \\, e^{- s t} \\; d\\tau dt\n",
        "\\end{equation}\n",
        "\n",
        "\\begin{equation}\n",
        "= \\int_{0}^{\\infty} x(\\tau) \\int_{0}^{\\infty}   y(t-\\tau)  \\, e^{- s t} \\; d\\tau dt\n",
        "\\end{equation}\n",
        "\n",
        "$ v=t- \\tau \\ \\ \\ \\ \\ t=v + \\tau \\\\ dt=dv  $\n",
        "\n",
        "\\begin{equation}\n",
        "= \\int_{0}^{\\infty} x(\\tau) \\int_{0}^{\\infty}   y(v)  \\, e^{- s(v + \\tau )} \\; dv \\ d\\tau \n",
        "\\end{equation}\n",
        "\n",
        "\\begin{equation}\n",
        "= \\int_{0}^{\\infty} x(\\tau) \\ e^{- s\\tau } \\int_{0}^{\\infty}   y(v)  \\, e^{- sv} \\; dv \\ d\\tau \\\\\n",
        "= \\int_{0}^{\\infty} x(\\tau) \\ e^{- s\\tau } \\ d\\tau \\int_{0}^{\\infty}   y(v)  \\, e^{- sv} \\; dv \\  \n",
        "\\end{equation}\n",
        "\n",
        "$ \\tau=t \\ \\ \\ \\ \\ \\ \\ v=t $\n",
        "\n",
        "\\begin{equation}\n",
        "\\mathcal{L} \\ (x(t)) \\mathcal{L} \\ (  y(t)) =  X(s) Y(s)\n",
        "\\end{equation}\n",
        "\n",
        "\n",
        "\n",
        "\n",
        "\n",
        "\n",
        "\n"
      ]
    }
  ]
}