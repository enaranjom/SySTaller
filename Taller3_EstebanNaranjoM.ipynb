{
  "nbformat": 4,
  "nbformat_minor": 0,
  "metadata": {
    "colab": {
      "name": "Taller3_EstebanNaranjoM.ipynb",
      "provenance": [],
      "authorship_tag": "ABX9TyNFTA1MH1ql1EW5Vf7o5ExF",
      "include_colab_link": true
    },
    "kernelspec": {
      "name": "python3",
      "display_name": "Python 3"
    }
  },
  "cells": [
    {
      "cell_type": "markdown",
      "metadata": {
        "id": "view-in-github",
        "colab_type": "text"
      },
      "source": [
        "<a href=\"https://colab.research.google.com/github/enaranjom/SySTalleres_EstebanN/blob/master/Taller3_EstebanNaranjoM.ipynb\" target=\"_parent\"><img src=\"https://colab.research.google.com/assets/colab-badge.svg\" alt=\"Open In Colab\"/></a>"
      ]
    },
    {
      "cell_type": "markdown",
      "metadata": {
        "id": "Mv9WpWspn7Ej",
        "colab_type": "text"
      },
      "source": [
        "# Esteban Naranjo Morales\n",
        "## Código: 817039\n",
        "## Señales y Sistemas/ Taller 3"
      ]
    },
    {
      "cell_type": "markdown",
      "metadata": {
        "id": "EECZICIgolIc",
        "colab_type": "text"
      },
      "source": [
        "# 3. Transformada de Laplace\n",
        "\n",
        "Para resolver los siguientes ejercicios puede apoyarse de los cuadernos del repositorio github del curso, seccion 4: Transformada de Laplace.\n",
        "\n",
        "1. Demuestre las siguientes propiedades (sin utilizar tablas de\n",
        "propiedades):\n",
        "\n",
        "#i) \n",
        "\\begin{equation}\n",
        "\\mathcal{L} \\ ({x(t−t_0)}) = e^{st_o} X(s)\n",
        "\\end{equation}\n",
        "\n",
        "\\begin{equation}\n",
        "= \\int_{0}^{\\infty} x(t-t_0) \\, e^{- s t} \\; dt\n",
        "\\end{equation}\n",
        "$t-t_0=t'\\    $    $ t=t'+t_0 $\n",
        "\n",
        "$dt=dt´$\n",
        "\\begin{equation}\n",
        "= \\int_{0}^{\\infty} x(t') \\, e^{- s (t'+t_0)}\\; dt'\n",
        "\\end{equation}\n",
        "\\begin{equation}\n",
        "= \\int_{0}^{\\infty} x(t') \\, e^{- st'+st_0}\\; dt' \\; = e^{-st_0} \\int_{0}^{\\infty} x(t') \\, e^{- st'} \\; dt'\n",
        "\\end{equation}\n",
        "$t'=t$\n",
        "\\begin{equation}\n",
        "= e^{-st_0} X(s)\n",
        "\\end{equation}\n",
        "\n",
        "\n",
        "\n",
        "\n"
      ]
    },
    {
      "cell_type": "markdown",
      "metadata": {
        "id": "g0YaqzB9uEQZ",
        "colab_type": "text"
      },
      "source": [
        "#ii) \n",
        "\\begin{equation}\n",
        "\\mathcal{L} \\ ({x(at)}) = \\frac{1}{|a|} X(\\frac{s}{a})\n",
        "\\end{equation}\n",
        "\\begin{equation}\n",
        "= \\int_{0}^{\\infty} x(at) \\, e^{- s t} \\; dt\n",
        "\\end{equation}\n",
        "$at=t'\\    $    $ \\; t=t'/a $\n",
        "\n",
        "$adt=dt´$\n",
        "\\begin{equation}\n",
        "= \\frac{1}{|a|} \\int_{0}^{\\infty} x(t') \\, e^{-s \\frac{ t'}{a}} \\; dt' \\;  \\;  \\;  \\; a>=0\n",
        "\\end{equation}\n",
        "\\begin{equation}\n",
        "= \\frac{1}{|a|} X(\\frac{s}{a})\n",
        "\\end{equation}\n"
      ]
    },
    {
      "cell_type": "markdown",
      "metadata": {
        "id": "oEF0N8_Xw9dz",
        "colab_type": "text"
      },
      "source": [
        "# iii) \n",
        "\\begin{equation}\n",
        "\\mathcal{L} (\\frac {d_xt}{t}) = s X(s)\n",
        "\\end{equation}\n",
        "\n",
        "\\begin{equation}\n",
        "= \\int_{0}^{\\infty} x'(t) \\, e^{- s t} \\; dt\n",
        "\\end{equation}\n",
        "\n",
        "$u=e^{-st}\\ $    $ \\;du=-s\\ e^{-st} dt$\n",
        "\n",
        "$dv=x'(t) \\ $    $ v=x(t)$ \n",
        "\n",
        "\\begin{equation}\n",
        "= e^{-st} x(t) \\Big|_{0}^{\\infty} - \\int_{0}^{\\infty} x(t) (-s\\ e^{-st}) \\; dt\n",
        "\\end{equation}\n",
        "\n",
        "\\begin{equation}\n",
        "= s\\int_{0}^{\\infty} x(t) \\ e^{-st} \\; dt + \\lim_{t-> \\infty} e^{-st} x(t) \\, \\ -\\ \\ x(0)\n",
        "\\end{equation}\n",
        "\n",
        "\\begin{equation}\n",
        "= s X(s)\n",
        "\\end{equation}\n",
        "\n",
        "\n"
      ]
    },
    {
      "cell_type": "markdown",
      "metadata": {
        "id": "nGQPwuB24cgk",
        "colab_type": "text"
      },
      "source": [
        "#iv)\n",
        "\\begin{equation}\n",
        "\\mathcal{L} \\ (x(t) *  y(t)) =  X(s) Y(s)\n",
        "\\end{equation}\n",
        "\n",
        "\\begin{equation}\n",
        "= \\int_{0}^{\\infty} x(t) *  y(t) \\, e^{- s t} \\; dt\n",
        "\\end{equation}\n",
        "\n",
        "\\begin{equation}\n",
        "= \\int_{0}^{\\infty} \\Big(\\int_{0}^{\\infty} x(\\tau)  y(t-\\tau) d\\tau \\Big)\\, e^{- s t} \\; dt\n",
        "\\end{equation}\n",
        "\n",
        "\\begin{equation}\n",
        "= \\int_{0}^{\\infty} \\int_{0}^{\\infty} x(\\tau)  y(t-\\tau)  \\, e^{- s t} \\; d\\tau dt\n",
        "\\end{equation}\n",
        "\n",
        "\\begin{equation}\n",
        "= \\int_{0}^{\\infty} x(\\tau) \\int_{0}^{\\infty}   y(t-\\tau)  \\, e^{- s t} \\; d\\tau dt\n",
        "\\end{equation}\n",
        "\n",
        "$ v=t- \\tau \\ \\ \\ \\ \\ t=v + \\tau \\\\ dt=dv  $\n",
        "\n",
        "\\begin{equation}\n",
        "= \\int_{0}^{\\infty} x(\\tau) \\int_{0}^{\\infty}   y(v)  \\, e^{- s(v + \\tau )} \\; dv \\ d\\tau \n",
        "\\end{equation}\n",
        "\n",
        "\\begin{equation}\n",
        "= \\int_{0}^{\\infty} x(\\tau) \\ e^{- s\\tau } \\int_{0}^{\\infty}   y(v)  \\, e^{- sv} \\; dv \\ d\\tau \\\\\n",
        "= \\int_{0}^{\\infty} x(\\tau) \\ e^{- s\\tau } \\ d\\tau \\int_{0}^{\\infty}   y(v)  \\, e^{- sv} \\; dv \\  \n",
        "\\end{equation}\n",
        "\n",
        "$ \\tau=t \\ \\ \\ \\ \\ \\ \\ v=t $\n",
        "\n",
        "\\begin{equation}\n",
        "\\mathcal{L} \\ (x(t)) \\mathcal{L} \\ (  y(t)) =  X(s) Y(s)\n",
        "\\end{equation}\n",
        "\n",
        "\n",
        "\n",
        "\n",
        "\n",
        "\n",
        "\n"
      ]
    }
  ]
}