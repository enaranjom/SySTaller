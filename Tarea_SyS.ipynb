{
  "nbformat": 4,
  "nbformat_minor": 0,
  "metadata": {
    "colab": {
      "name": "Tarea SyS",
      "provenance": [],
      "authorship_tag": "ABX9TyO9+bKRnwtmHX/GHFeMA59G",
      "include_colab_link": true
    },
    "kernelspec": {
      "name": "python3",
      "display_name": "Python 3"
    }
  },
  "cells": [
    {
      "cell_type": "markdown",
      "metadata": {
        "id": "view-in-github",
        "colab_type": "text"
      },
      "source": [
        "<a href=\"https://colab.research.google.com/github/enaranjom/SySTalleres_EstebanN/blob/master/Tarea_SyS.ipynb\" target=\"_parent\"><img src=\"https://colab.research.google.com/assets/colab-badge.svg\" alt=\"Open In Colab\"/></a>"
      ]
    },
    {
      "cell_type": "markdown",
      "metadata": {
        "id": "W-vkeDx4FHTA",
        "colab_type": "text"
      },
      "source": [
        "# Esteban Naranjo Morales\n",
        "## Código: 817039\n",
        "## Señales y Sistemas/ Tarea Simulacion amortiguamiento crítico, subamortiguamiento y sobreamoertiguamiento"
      ]
    },
    {
      "cell_type": "markdown",
      "metadata": {
        "id": "h2m7XSLXHLoQ",
        "colab_type": "text"
      },
      "source": [
        "\\begin{equation}\n",
        "Y(s) = \\frac{1}{LC s^2 + RC s + 1} \\cdot X(s)\n",
        "\\end{equation}"
      ]
    },
    {
      "cell_type": "code",
      "metadata": {
        "id": "DlkzdozmHGHZ",
        "colab_type": "code",
        "colab": {
          "base_uri": "https://localhost:8080/",
          "height": 41
        },
        "outputId": "62eb3508-e424-4cb7-9650-2fd0136db473"
      },
      "source": [
        "%matplotlib inline\n",
        "import sympy as sym\n",
        "sym.init_printing()\n",
        "\n",
        "s = sym.symbols('s', complex=True)\n",
        "t, R, L, C = sym.symbols('t R L C', positive=True)\n",
        "X = sym.Function('X')(s)\n",
        "\n",
        "Y = 1/(L*C*s**2 + R*C*s + 1) * X\n",
        "Y"
      ],
      "execution_count": 2,
      "outputs": [
        {
          "output_type": "execute_result",
          "data": {
            "image/png": "[encoded data removed]",
            "text/latex": "$$\\frac{X{\\left (s \\right )}}{C L s^{2} + C R s + 1}$$",
            "text/plain": [
              "       X(s)       \n",
              "──────────────────\n",
              "     2            \n",
              "C⋅L⋅s  + C⋅R⋅s + 1"
            ]
          },
          "metadata": {
            "tags": []
          },
          "execution_count": 2
        }
      ]
    },
    {
      "cell_type": "markdown",
      "metadata": {
        "id": "tr4ODF2yFrHB",
        "colab_type": "text"
      },
      "source": [
        "#1)  $x(t)=u(t)$\n",
        "##circuito RLC serie (entrada tension de alimentacion - salida tension en el capacitor)\n",
        "\n",
        "$\\zeta= \\frac{R}{2} \\sqrt{ \\frac{C}{L}} $\n",
        "\n",
        "\\begin{equation}\n",
        "Y(s) = \\frac{1}{LC s^2 + RC s + 1} \\cdot \\frac{1}{s}\n",
        "\\end{equation}\n",
        "\n",
        "### Subamortiguado \n",
        "$ 0< \\zeta < 1$\n",
        "\n",
        "La señal de salida $y(t)$ es calculada mediante la transformada inversa de Laplace de $Y(s)$ para los siguientes valores:  $L = 0.5$, $R = 1$, $C = 0.4$."
      ]
    },
    {
      "cell_type": "code",
      "metadata": {
        "id": "t9YjX2xoG6ii",
        "colab_type": "code",
        "colab": {
          "base_uri": "https://localhost:8080/",
          "height": 40
        },
        "outputId": "9a928cbe-6851-4e8f-8705-171dbe148579"
      },
      "source": [
        "RLC = {R: 1, L: sym.Rational('.5'), C: sym.Rational('.4')}\n",
        "\n",
        "y = sym.inverse_laplace_transform(Y.subs(RLC).subs(X, 1/s), s, t)\n",
        "y"
      ],
      "execution_count": 48,
      "outputs": [
        {
          "output_type": "execute_result",
          "data": {
            "image/png": "[encoded data removed]",
            "text/latex": "$$1 - \\frac{e^{- t}}{2} \\sin{\\left (2 t \\right )} - e^{- t} \\cos{\\left (2 t \\right )}$$",
            "text/plain": [
              "     -t                        \n",
              "    ℯ  ⋅sin(2⋅t)    -t         \n",
              "1 - ──────────── - ℯ  ⋅cos(2⋅t)\n",
              "         2                     "
            ]
          },
          "metadata": {
            "tags": []
          },
          "execution_count": 48
        }
      ]
    },
    {
      "cell_type": "markdown",
      "metadata": {
        "id": "1OwTrupGHbWZ",
        "colab_type": "text"
      },
      "source": [
        "El resultado se simplifica para facilitar la visualización."
      ]
    },
    {
      "cell_type": "code",
      "metadata": {
        "id": "k_nBrbZuHADQ",
        "colab_type": "code",
        "colab": {
          "base_uri": "https://localhost:8080/",
          "height": 38
        },
        "outputId": "b74b8b17-0f00-4072-9f79-c3932233ef2b"
      },
      "source": [
        "y = y.simplify()\n",
        "y"
      ],
      "execution_count": 49,
      "outputs": [
        {
          "output_type": "execute_result",
          "data": {
            "image/png": "[encoded data removed]",
            "text/latex": "$$\\left(e^{t} - \\frac{1}{2} \\sin{\\left (2 t \\right )} - \\cos{\\left (2 t \\right )}\\right) e^{- t}$$",
            "text/plain": [
              "⎛ t   sin(2⋅t)           ⎞  -t\n",
              "⎜ℯ  - ──────── - cos(2⋅t)⎟⋅ℯ  \n",
              "⎝        2               ⎠    "
            ]
          },
          "metadata": {
            "tags": []
          },
          "execution_count": 49
        }
      ]
    },
    {
      "cell_type": "code",
      "metadata": {
        "id": "kozy_ykaHgIu",
        "colab_type": "code",
        "colab": {
          "base_uri": "https://localhost:8080/",
          "height": 393
        },
        "outputId": "d2ae07fb-5644-4d22-c76d-947a31291297"
      },
      "source": [
        "sym.plot(y, (t, 0, 5), xlabel='$t \\ \\ $', ylabel='$y(t) \\ \\ \\  $');\n"
      ],
      "execution_count": 50,
      "outputs": [
        {
          "output_type": "stream",
          "text": [
            "/usr/local/lib/python3.6/dist-packages/sympy/plotting/plot.py:890: MatplotlibDeprecationWarning: \n",
            "The set_smart_bounds function was deprecated in Matplotlib 3.2 and will be removed two minor releases later.\n",
            "  self.ax.spines['left'].set_smart_bounds(True)\n",
            "/usr/local/lib/python3.6/dist-packages/sympy/plotting/plot.py:891: MatplotlibDeprecationWarning: \n",
            "The set_smart_bounds function was deprecated in Matplotlib 3.2 and will be removed two minor releases later.\n",
            "  self.ax.spines['bottom'].set_smart_bounds(False)\n"
          ],
          "name": "stderr"
        },
        {
          "output_type": "display_data",
          "data": {
            "image/png": "[encoded data removed]",
            "text/plain": [
              "<Figure size 432x288 with 1 Axes>"
            ]
          },
          "metadata": {
            "tags": [],
            "needs_background": "light"
          }
        }
      ]
    },
    {
      "cell_type": "markdown",
      "metadata": {
        "id": "6o2zjG1HL_EG",
        "colab_type": "text"
      },
      "source": [
        "## Sobreamortiguado\n",
        "$\\zeta>1$\n",
        "\n",
        "La señal de salida  y(t)  es calculada mediante la transformada inversa de Laplace de  Y(s)  para los siguientes valores:  L=0.5 ,  R=10 ,  C=0.4 ."
      ]
    },
    {
      "cell_type": "code",
      "metadata": {
        "id": "1imwR1VuMPGT",
        "colab_type": "code",
        "colab": {
          "base_uri": "https://localhost:8080/",
          "height": 52
        },
        "outputId": "0a80b548-8d61-419e-fa5f-6ab0527809ab"
      },
      "source": [
        "RLC = {R: 10, L: sym.Rational('.5'), C: sym.Rational('.4')}\n",
        "\n",
        "y = sym.inverse_laplace_transform(Y.subs(RLC).subs(X, 1/s), s, t)\n",
        "y"
      ],
      "execution_count": 25,
      "outputs": [
        {
          "output_type": "execute_result",
          "data": {
            "image/png": "[encoded data removed]",
            "text/latex": "$$\\frac{e^{- t \\left(\\sqrt{95} + 10\\right)}}{38 \\left(-10 + \\sqrt{95}\\right)^{2} \\left(\\sqrt{95} + 10\\right)^{2}} \\left(- 50 \\sqrt{95} e^{2 \\sqrt{95} t} - 475 e^{2 \\sqrt{95} t} + 950 e^{t \\left(\\sqrt{95} + 10\\right)} - 475 + 50 \\sqrt{95}\\right)$$",
            "text/plain": [
              "⎛          2⋅√95⋅t        2⋅√95⋅t        t⋅(√95 + 10)               ⎞  -t⋅(√95\n",
              "⎝- 50⋅√95⋅ℯ        - 475⋅ℯ        + 950⋅ℯ             - 475 + 50⋅√95⎠⋅ℯ       \n",
              "──────────────────────────────────────────────────────────────────────────────\n",
              "                                          2           2                       \n",
              "                            38⋅(-10 + √95) ⋅(√95 + 10)                        \n",
              "\n",
              " + 10)\n",
              "      \n",
              "──────\n",
              "      \n",
              "      "
            ]
          },
          "metadata": {
            "tags": []
          },
          "execution_count": 25
        }
      ]
    },
    {
      "cell_type": "code",
      "metadata": {
        "id": "j-tmpTA7MQZH",
        "colab_type": "code",
        "colab": {
          "base_uri": "https://localhost:8080/",
          "height": 393
        },
        "outputId": "0a209490-c20a-41d2-bea1-613d3314a590"
      },
      "source": [
        "sym.plot(y, (t, 0, 10), xlabel='$t$', ylabel='$y(t)$');"
      ],
      "execution_count": 27,
      "outputs": [
        {
          "output_type": "stream",
          "text": [
            "/usr/local/lib/python3.6/dist-packages/sympy/plotting/plot.py:890: MatplotlibDeprecationWarning: \n",
            "The set_smart_bounds function was deprecated in Matplotlib 3.2 and will be removed two minor releases later.\n",
            "  self.ax.spines['left'].set_smart_bounds(True)\n",
            "/usr/local/lib/python3.6/dist-packages/sympy/plotting/plot.py:891: MatplotlibDeprecationWarning: \n",
            "The set_smart_bounds function was deprecated in Matplotlib 3.2 and will be removed two minor releases later.\n",
            "  self.ax.spines['bottom'].set_smart_bounds(False)\n"
          ],
          "name": "stderr"
        },
        {
          "output_type": "display_data",
          "data": {
            "image/png": "[encoded data removed]",
            "text/plain": [
              "<Figure size 432x288 with 1 Axes>"
            ]
          },
          "metadata": {
            "tags": [],
            "needs_background": "light"
          }
        }
      ]
    },
    {
      "cell_type": "markdown",
      "metadata": {
        "id": "Ee8VU2RVMfZW",
        "colab_type": "text"
      },
      "source": [
        "##Amortiguamiento crítico\n",
        "\n",
        "$\\zeta=1$\n",
        "\n",
        "La señal de salida $y(t)$ es calculada mediante la transformada inversa de Laplace de $Y(s)$ para los siguientes valores:  $L = 0.5$, $R = 2.236067977\\ \\ $, $C = 0.4$."
      ]
    },
    {
      "cell_type": "code",
      "metadata": {
        "id": "mikiiGm8M7oh",
        "colab_type": "code",
        "colab": {
          "base_uri": "https://localhost:8080/",
          "height": 58
        },
        "outputId": "d3225d9e-2d51-446a-b4bc-a4ea757eb66f"
      },
      "source": [
        "RLC = {R: 2.236067977, L: sym.Rational('.5'), C: sym.Rational('.4')}\n",
        "\n",
        "y = sym.inverse_laplace_transform(Y.subs(RLC).subs(X, 1/s), s, t)\n",
        "y"
      ],
      "execution_count": 30,
      "outputs": [
        {
          "output_type": "execute_result",
          "data": {
            "image/png": "[encoded data removed]",
            "text/latex": "$$\\left(1.0 e^{2.236067977 t} + 1.82020932574262 \\cdot 10^{-18} i e^{2.236067977 t} - 23648.5098028835 \\sin{\\left (4.72771433726292 \\cdot 10^{-5} t \\right )} + 0.499999999999979 i \\sin{\\left (4.72771433726292 \\cdot 10^{-5} t \\right )} - 23648.5098028835 \\sin{\\left (4.72771433726332 \\cdot 10^{-5} t \\right )} - 0.500000000000022 i \\sin{\\left (4.72771433726332 \\cdot 10^{-5} t \\right )} - 0.499999999999979 \\cos{\\left (4.72771433726292 \\cdot 10^{-5} t \\right )} - 23648.5098028835 i \\cos{\\left (4.72771433726292 \\cdot 10^{-5} t \\right )} - 0.500000000000022 \\cos{\\left (4.72771433726332 \\cdot 10^{-5} t \\right )} + 23648.5098028835 i \\cos{\\left (4.72771433726332 \\cdot 10^{-5} t \\right )}\\right) e^{- 2.236067977 t}$$",
            "text/plain": [
              "⎛     2.236067977⋅t                           2.236067977⋅t                   \n",
              "⎝1.0⋅ℯ              + 1.82020932574262e-18⋅ⅈ⋅ℯ              - 23648.5098028835\n",
              "\n",
              "                                                                              \n",
              "⋅sin(4.72771433726292e-5⋅t) + 0.499999999999979⋅ⅈ⋅sin(4.72771433726292e-5⋅t) -\n",
              "\n",
              "                                                                              \n",
              " 23648.5098028835⋅sin(4.72771433726332e-5⋅t) - 0.500000000000022⋅ⅈ⋅sin(4.72771\n",
              "\n",
              "                                                                              \n",
              "433726332e-5⋅t) - 0.499999999999979⋅cos(4.72771433726292e-5⋅t) - 23648.5098028\n",
              "\n",
              "                                                                              \n",
              "835⋅ⅈ⋅cos(4.72771433726292e-5⋅t) - 0.500000000000022⋅cos(4.72771433726332e-5⋅t\n",
              "\n",
              "                                                 ⎞  -2.236067977⋅t\n",
              ") + 23648.5098028835⋅ⅈ⋅cos(4.72771433726332e-5⋅t)⎠⋅ℯ              "
            ]
          },
          "metadata": {
            "tags": []
          },
          "execution_count": 30
        }
      ]
    },
    {
      "cell_type": "code",
      "metadata": {
        "id": "alvFHPsNNC1x",
        "colab_type": "code",
        "colab": {
          "base_uri": "https://localhost:8080/",
          "height": 393
        },
        "outputId": "bdba30d0-2f5b-4ace-a6ea-313d25026f72"
      },
      "source": [
        "sym.plot(y, (t, 0,5), xlabel='$t$', ylabel='$y(t)$');"
      ],
      "execution_count": 32,
      "outputs": [
        {
          "output_type": "stream",
          "text": [
            "/usr/local/lib/python3.6/dist-packages/sympy/plotting/plot.py:890: MatplotlibDeprecationWarning: \n",
            "The set_smart_bounds function was deprecated in Matplotlib 3.2 and will be removed two minor releases later.\n",
            "  self.ax.spines['left'].set_smart_bounds(True)\n",
            "/usr/local/lib/python3.6/dist-packages/sympy/plotting/plot.py:891: MatplotlibDeprecationWarning: \n",
            "The set_smart_bounds function was deprecated in Matplotlib 3.2 and will be removed two minor releases later.\n",
            "  self.ax.spines['bottom'].set_smart_bounds(False)\n"
          ],
          "name": "stderr"
        },
        {
          "output_type": "display_data",
          "data": {
            "image/png": "[encoded data removed]",
            "text/plain": [
              "<Figure size 432x288 with 1 Axes>"
            ]
          },
          "metadata": {
            "tags": [],
            "needs_background": "light"
          }
        }
      ]
    },
    {
      "cell_type": "markdown",
      "metadata": {
        "id": "XpieQabSPfmD",
        "colab_type": "text"
      },
      "source": [
        "#2) x(t)= $\\delta(t)$\n",
        "$X(s)=1$\n",
        "\n",
        "\\begin{equation}\n",
        "Y(s) = \\frac{1}{LC s^2 + RC s + 1} \\cdot 1\n",
        "\\end{equation}\n",
        "\n",
        "### Subamortiguado \n",
        "$ 0< \\zeta < 1$\n",
        "\n",
        "La señal de salida $y(t)$ es calculada mediante la transformada inversa de Laplace de $Y(s)$ para los siguientes valores:  $L = 0.5$, $R = 1$, $C = 0.4$."
      ]
    },
    {
      "cell_type": "code",
      "metadata": {
        "id": "vrIDua-qP_iO",
        "colab_type": "code",
        "colab": {
          "base_uri": "https://localhost:8080/",
          "height": 47
        },
        "outputId": "d004128d-fdaf-49ec-891d-7b0a518f75dd"
      },
      "source": [
        "RLC = {R: sym.Rational('1.5') ,  L: sym.Rational('1'), C: sym.Rational('.1')}\n",
        "\n",
        "y = sym.inverse_laplace_transform(Y.subs(RLC).subs(X, 1), s, t)\n",
        "y"
      ],
      "execution_count": 152,
      "outputs": [
        {
          "output_type": "execute_result",
          "data": {
            "image/png": "[encoded data removed]",
            "text/latex": "$$\\frac{40 \\sqrt{151}}{151} e^{- \\frac{3 t}{4}} \\sin{\\left (\\frac{\\sqrt{151} t}{4} \\right )}$$",
            "text/plain": [
              "         -3⋅t             \n",
              "         ─────            \n",
              "           4      ⎛√151⋅t⎞\n",
              "40⋅√151⋅ℯ     ⋅sin⎜──────⎟\n",
              "                  ⎝  4   ⎠\n",
              "──────────────────────────\n",
              "           151            "
            ]
          },
          "metadata": {
            "tags": []
          },
          "execution_count": 152
        }
      ]
    },
    {
      "cell_type": "code",
      "metadata": {
        "id": "2N1Tcrs7Qkw_",
        "colab_type": "code",
        "colab": {
          "base_uri": "https://localhost:8080/",
          "height": 47
        },
        "outputId": "c762d3ba-3008-4db6-9abc-12dc61a7cf40"
      },
      "source": [
        "y = y.simplify()\n",
        "y"
      ],
      "execution_count": 153,
      "outputs": [
        {
          "output_type": "execute_result",
          "data": {
            "image/png": "[encoded data removed]",
            "text/latex": "$$\\frac{40 \\sqrt{151}}{151} e^{- \\frac{3 t}{4}} \\sin{\\left (\\frac{\\sqrt{151} t}{4} \\right )}$$",
            "text/plain": [
              "         -3⋅t             \n",
              "         ─────            \n",
              "           4      ⎛√151⋅t⎞\n",
              "40⋅√151⋅ℯ     ⋅sin⎜──────⎟\n",
              "                  ⎝  4   ⎠\n",
              "──────────────────────────\n",
              "           151            "
            ]
          },
          "metadata": {
            "tags": []
          },
          "execution_count": 153
        }
      ]
    },
    {
      "cell_type": "code",
      "metadata": {
        "id": "8Z3ppz1rQLgG",
        "colab_type": "code",
        "colab": {
          "base_uri": "https://localhost:8080/",
          "height": 406
        },
        "outputId": "eb39b327-748c-4850-a12a-dc49f2c377d7"
      },
      "source": [
        "sym.plot(y, (t,0,5))\n"
      ],
      "execution_count": 154,
      "outputs": [
        {
          "output_type": "stream",
          "text": [
            "/usr/local/lib/python3.6/dist-packages/sympy/plotting/plot.py:890: MatplotlibDeprecationWarning: \n",
            "The set_smart_bounds function was deprecated in Matplotlib 3.2 and will be removed two minor releases later.\n",
            "  self.ax.spines['left'].set_smart_bounds(True)\n",
            "/usr/local/lib/python3.6/dist-packages/sympy/plotting/plot.py:891: MatplotlibDeprecationWarning: \n",
            "The set_smart_bounds function was deprecated in Matplotlib 3.2 and will be removed two minor releases later.\n",
            "  self.ax.spines['bottom'].set_smart_bounds(False)\n"
          ],
          "name": "stderr"
        },
        {
          "output_type": "display_data",
          "data": {
            "image/png": "[encoded data removed]",
            "text/plain": [
              "<Figure size 432x288 with 1 Axes>"
            ]
          },
          "metadata": {
            "tags": [],
            "needs_background": "light"
          }
        },
        {
          "output_type": "execute_result",
          "data": {
            "text/plain": [
              "<sympy.plotting.plot.Plot at 0x7f702cd030b8>"
            ]
          },
          "metadata": {
            "tags": []
          },
          "execution_count": 154
        }
      ]
    },
    {
      "cell_type": "markdown",
      "metadata": {
        "id": "vV_1eZh4SdhO",
        "colab_type": "text"
      },
      "source": [
        "## Sobreamortiguado\n",
        "$\\zeta>1$\n",
        "\n",
        "La señal de salida  y(t)  es calculada mediante la transformada inversa de Laplace de  Y(s)  para los siguientes valores:  L=0.5 ,  R=10 ,  C=0.4 ."
      ]
    },
    {
      "cell_type": "code",
      "metadata": {
        "id": "C5qOqA3AQP45",
        "colab_type": "code",
        "colab": {
          "base_uri": "https://localhost:8080/",
          "height": 47
        },
        "outputId": "dd89e323-e14e-4129-f7ac-381c31855475"
      },
      "source": [
        "RLC = {R: 10, L: sym.Rational('.5'), C: sym.Rational('.4')}\n",
        "\n",
        "y = sym.inverse_laplace_transform(Y.subs(RLC).subs(X, 1), s, t)\n",
        "y"
      ],
      "execution_count": 94,
      "outputs": [
        {
          "output_type": "execute_result",
          "data": {
            "image/png": "[encoded data removed]",
            "text/latex": "$$\\frac{\\sqrt{95}}{38} \\left(e^{\\sqrt{95} t} - 1\\right) \\left(e^{\\sqrt{95} t} + 1\\right) e^{- t \\left(\\sqrt{95} + 10\\right)}$$",
            "text/plain": [
              "    ⎛ √95⋅t    ⎞ ⎛ √95⋅t    ⎞  -t⋅(√95 + 10)\n",
              "√95⋅⎝ℯ      - 1⎠⋅⎝ℯ      + 1⎠⋅ℯ             \n",
              "────────────────────────────────────────────\n",
              "                     38                     "
            ]
          },
          "metadata": {
            "tags": []
          },
          "execution_count": 94
        }
      ]
    },
    {
      "cell_type": "code",
      "metadata": {
        "id": "O9kdhXkjShuf",
        "colab_type": "code",
        "colab": {
          "base_uri": "https://localhost:8080/",
          "height": 47
        },
        "outputId": "b7174471-60e0-47a8-af35-ea3e6a59b5df"
      },
      "source": [
        "y = y.simplify()\n",
        "y"
      ],
      "execution_count": 95,
      "outputs": [
        {
          "output_type": "execute_result",
          "data": {
            "image/png": "[encoded data removed]",
            "text/latex": "$$\\frac{\\sqrt{95}}{38} \\left(e^{2 \\sqrt{95} t} - 1\\right) e^{- t \\left(\\sqrt{95} + 10\\right)}$$",
            "text/plain": [
              "    ⎛ 2⋅√95⋅t    ⎞  -t⋅(√95 + 10)\n",
              "√95⋅⎝ℯ        - 1⎠⋅ℯ             \n",
              "─────────────────────────────────\n",
              "                38               "
            ]
          },
          "metadata": {
            "tags": []
          },
          "execution_count": 95
        }
      ]
    },
    {
      "cell_type": "code",
      "metadata": {
        "id": "sWdoq8VbSkuL",
        "colab_type": "code",
        "colab": {
          "base_uri": "https://localhost:8080/",
          "height": 393
        },
        "outputId": "9e38d308-3740-4a8a-b655-dcea0d014539"
      },
      "source": [
        "sym.plot(y, (t, 0, 0.2), xlabel='$t$', ylabel='$y(t)$');"
      ],
      "execution_count": 100,
      "outputs": [
        {
          "output_type": "stream",
          "text": [
            "/usr/local/lib/python3.6/dist-packages/sympy/plotting/plot.py:890: MatplotlibDeprecationWarning: \n",
            "The set_smart_bounds function was deprecated in Matplotlib 3.2 and will be removed two minor releases later.\n",
            "  self.ax.spines['left'].set_smart_bounds(True)\n",
            "/usr/local/lib/python3.6/dist-packages/sympy/plotting/plot.py:891: MatplotlibDeprecationWarning: \n",
            "The set_smart_bounds function was deprecated in Matplotlib 3.2 and will be removed two minor releases later.\n",
            "  self.ax.spines['bottom'].set_smart_bounds(False)\n"
          ],
          "name": "stderr"
        },
        {
          "output_type": "display_data",
          "data": {
            "image/png": "[encoded data removed]",
            "text/plain": [
              "<Figure size 432x288 with 1 Axes>"
            ]
          },
          "metadata": {
            "tags": [],
            "needs_background": "light"
          }
        }
      ]
    },
    {
      "cell_type": "markdown",
      "metadata": {
        "id": "x5Ky74kLTCvf",
        "colab_type": "text"
      },
      "source": [
        "##Amortiguamiento crítico\n",
        "\n",
        "$\\zeta=1$\n",
        "\n",
        "La señal de salida $y(t)$ es calculada mediante la transformada inversa de Laplace de $Y(s)$ para los siguientes valores:  $L = 1$, $R = 2\\ \\ $, $C =1$."
      ]
    },
    {
      "cell_type": "code",
      "metadata": {
        "id": "ZK0ep13xSqSv",
        "colab_type": "code",
        "colab": {
          "base_uri": "https://localhost:8080/",
          "height": 38
        },
        "outputId": "fe7fc7ec-9861-4ca5-dc94-a10dd648b9f1"
      },
      "source": [
        "RLC = {R: 2, L: sym.Rational('1'), C: sym.Rational('1')}\n",
        "\n",
        "y = sym.inverse_laplace_transform(Y.subs(RLC).subs(X, 1), s, t)\n",
        "y"
      ],
      "execution_count": 138,
      "outputs": [
        {
          "output_type": "execute_result",
          "data": {
            "image/png": "[encoded data removed]",
            "text/latex": "$$t e^{- t}$$",
            "text/plain": [
              "   -t\n",
              "t⋅ℯ  "
            ]
          },
          "metadata": {
            "tags": []
          },
          "execution_count": 138
        }
      ]
    },
    {
      "cell_type": "code",
      "metadata": {
        "id": "8Q9plgEJTHX3",
        "colab_type": "code",
        "colab": {
          "base_uri": "https://localhost:8080/",
          "height": 38
        },
        "outputId": "c733370e-3792-49ca-fbed-66530bbd4f5d"
      },
      "source": [
        "y = y.simplify()\n",
        "y"
      ],
      "execution_count": 139,
      "outputs": [
        {
          "output_type": "execute_result",
          "data": {
            "image/png": "[encoded data removed]",
            "text/latex": "$$t e^{- t}$$",
            "text/plain": [
              "   -t\n",
              "t⋅ℯ  "
            ]
          },
          "metadata": {
            "tags": []
          },
          "execution_count": 139
        }
      ]
    },
    {
      "cell_type": "code",
      "metadata": {
        "id": "9S31bKiRTJ5q",
        "colab_type": "code",
        "colab": {
          "base_uri": "https://localhost:8080/",
          "height": 393
        },
        "outputId": "84896d02-8817-423b-94cb-2a0d2cfcd4f7"
      },
      "source": [
        "sym.plot(y, (t, 0, 1.5), xlabel='$t$', ylabel='$y(t)$');"
      ],
      "execution_count": 144,
      "outputs": [
        {
          "output_type": "stream",
          "text": [
            "/usr/local/lib/python3.6/dist-packages/sympy/plotting/plot.py:890: MatplotlibDeprecationWarning: \n",
            "The set_smart_bounds function was deprecated in Matplotlib 3.2 and will be removed two minor releases later.\n",
            "  self.ax.spines['left'].set_smart_bounds(True)\n",
            "/usr/local/lib/python3.6/dist-packages/sympy/plotting/plot.py:891: MatplotlibDeprecationWarning: \n",
            "The set_smart_bounds function was deprecated in Matplotlib 3.2 and will be removed two minor releases later.\n",
            "  self.ax.spines['bottom'].set_smart_bounds(False)\n"
          ],
          "name": "stderr"
        },
        {
          "output_type": "display_data",
          "data": {
            "image/png": "[encoded data removed]",
            "text/plain": [
              "<Figure size 432x288 with 1 Axes>"
            ]
          },
          "metadata": {
            "tags": [],
            "needs_background": "light"
          }
        }
      ]
    },
    {
      "cell_type": "code",
      "metadata": {
        "id": "hUyEHXTpTMXI",
        "colab_type": "code",
        "colab": {}
      },
      "source": [
        ""
      ],
      "execution_count": null,
      "outputs": []
    }
  ]
}